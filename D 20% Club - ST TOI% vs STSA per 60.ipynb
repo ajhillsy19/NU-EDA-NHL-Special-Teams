{
 "cells": [
  {
   "cell_type": "code",
   "execution_count": 1,
   "metadata": {},
   "outputs": [],
   "source": [
    "import pandas as pd\n",
    "import numpy as np\n",
    "import seaborn as sns\n",
    "import matplotlib as mpl\n",
    "import matplotlib.pyplot as plt\n",
    "%matplotlib inline\n",
    "import plotly.express as px\n",
    "\n",
    "from IPython.core.interactiveshell import InteractiveShell\n",
    "InteractiveShell.ast_node_interactivity = 'all'\n",
    "df = pd.read_csv('all_specialteams.csv')"
   ]
  },
  {
   "cell_type": "code",
   "execution_count": 2,
   "metadata": {},
   "outputs": [],
   "source": [
    "#Dropping players with less than 20% of SH TOI% and PP TOI%\n",
    "\n",
    "x = df[df['SH TOI%'] <= 20].index\n",
    "df.drop(x, inplace=True)\n",
    "x = df[df['PP TOI%'] <= 20].index\n",
    "df.drop(x, inplace=True)"
   ]
  },
  {
   "cell_type": "code",
   "execution_count": 3,
   "metadata": {},
   "outputs": [],
   "source": [
    "Ddf = df.loc[df['Pos'] == 'D']"
   ]
  },
  {
   "cell_type": "code",
   "execution_count": 5,
   "metadata": {},
   "outputs": [
    {
     "name": "stdout",
     "output_type": "stream",
     "text": [
      "midpoint -0.0 81.0\n"
     ]
    },
    {
     "data": {
      "application/vnd.plotly.v1+json": {
       "config": {
        "plotlyServerURL": "https://plot.ly"
       },
       "data": [
        {
         "customdata": [
          [
           42.3,
           44.7
          ],
          [
           46.4,
           69
          ],
          [
           41.1,
           48.9
          ],
          [
           41.7,
           53.8
          ],
          [
           48.4,
           64.1
          ],
          [
           46.1,
           50.1
          ],
          [
           36.8,
           65
          ],
          [
           27.3,
           41.1
          ],
          [
           44,
           33
          ],
          [
           47.2,
           43.5
          ],
          [
           34.1,
           51.5
          ],
          [
           48.1,
           56.1
          ],
          [
           30.2,
           63.5
          ],
          [
           55.3,
           58.2
          ],
          [
           62.8,
           21.3
          ],
          [
           50,
           51.9
          ],
          [
           32.8,
           60.4
          ],
          [
           52.7,
           54.3
          ],
          [
           31.8,
           21.6
          ],
          [
           50.3,
           26.5
          ],
          [
           34.1,
           51.3
          ],
          [
           32.8,
           31.3
          ],
          [
           25.3,
           26.4
          ],
          [
           27.3,
           56.8
          ],
          [
           36.5,
           57.8
          ],
          [
           32,
           51.8
          ],
          [
           42.2,
           42.9
          ],
          [
           50.1,
           57.8
          ],
          [
           49.7,
           66
          ],
          [
           57.1,
           59.8
          ],
          [
           48.6,
           65
          ],
          [
           43.3,
           66.2
          ],
          [
           36.8,
           35.8
          ],
          [
           34.9,
           63.3
          ],
          [
           35.4,
           71.7
          ],
          [
           55.9,
           38.2
          ],
          [
           29.9,
           76.6
          ],
          [
           29.5,
           43.1
          ],
          [
           36,
           37.5
          ],
          [
           52.6,
           52.2
          ],
          [
           34.5,
           23.9
          ],
          [
           39.4,
           23.2
          ],
          [
           23.6,
           42.8
          ],
          [
           34.8,
           31
          ],
          [
           39.6,
           36
          ],
          [
           47.8,
           21.4
          ],
          [
           49.6,
           33.1
          ],
          [
           35,
           47.1
          ],
          [
           43.2,
           38.4
          ],
          [
           25.3,
           38.1
          ],
          [
           38,
           36.6
          ],
          [
           34.1,
           40.4
          ],
          [
           40.4,
           26.3
          ],
          [
           30.6,
           48.2
          ],
          [
           52.7,
           25.9
          ],
          [
           49.8,
           29.8
          ],
          [
           39.8,
           48
          ],
          [
           34.1,
           43.3
          ],
          [
           41.5,
           37.7
          ],
          [
           47.2,
           41
          ],
          [
           42.8,
           46.3
          ],
          [
           42,
           22
          ],
          [
           34.9,
           23.7
          ],
          [
           43.3,
           36.1
          ],
          [
           44.1,
           49
          ],
          [
           47.3,
           22.2
          ],
          [
           26.8,
           29.7
          ],
          [
           21.5,
           36.9
          ],
          [
           30.7,
           20.9
          ],
          [
           26.4,
           32.4
          ],
          [
           35,
           39.8
          ],
          [
           52.8,
           22.7
          ],
          [
           51.3,
           27.3
          ],
          [
           58.2,
           36.9
          ],
          [
           41.1,
           25.9
          ],
          [
           39.3,
           24.8
          ],
          [
           32.1,
           37.9
          ],
          [
           33.4,
           25.7
          ],
          [
           34.8,
           47.3
          ],
          [
           58.4,
           21.4
          ],
          [
           23.9,
           52.7
          ],
          [
           29.3,
           37.4
          ],
          [
           24,
           37.9
          ],
          [
           28.1,
           22.3
          ],
          [
           23.3,
           23.3
          ]
         ],
         "hovertemplate": "<b>%{hovertext}</b><br><br>STSA/60=%{x}<br>ST TOI%=%{y}<br>GP=%{marker.size}<br>SH TOI%=%{customdata[0]}<br>PP TOI%=%{customdata[1]}<extra></extra>",
         "hovertext": [
          "Neal Pionk",
          "Kris Letang",
          "Oscar Klefbom",
          "Victor Hedman",
          "John Carlson",
          "Kimmo Timonen",
          "Brent Burns",
          "Morgan Rielly",
          "Matt Niskanen",
          "Jared Spurgeon",
          "Niklas Kronwall",
          "Rasmus Ristolainen",
          "Dustin Byfuglien",
          "Mark Giordano",
          "Zdeno Chara",
          "Alexander Edler",
          "James Wisniewski",
          "Alex Pietrangelo",
          "Ethan Bear",
          "Jack Johnson",
          "Justin Faulk",
          "Colton Parayko",
          "David Schlemko",
          "Zach Werenski",
          "Cam Fowler",
          "Sami Vatanen",
          "Brent Seabrook",
          "Roman Josi",
          "Drew Doughty",
          "Shea Weber",
          "Ryan Suter",
          "Andrei Markov",
          "Sami Salo",
          "P.K. Subban",
          "Oliver Ekman-Larsson",
          "Ryan McDonagh",
          "Erik Karlsson",
          "Aaron Ekblad",
          "Alec Martinez",
          "Duncan Keith",
          "Michael Stone",
          "Kris Russell",
          "Cody Franson",
          "Maxime Lajoie",
          "Andrej Sekera",
          "Johnny Boychuk",
          "Jacob Trouba",
          "Dennis Wideman",
          "Jeff Petry",
          "Ryan Pulock",
          "Hampus Lindholm",
          "Jake Muzzin",
          "Ryan Murray",
          "Christian Ehrhoff",
          "Esa Lindell",
          "Erik Johnson",
          "Dion Phaneuf",
          "Miro Heiskanen",
          "Tyler Myers",
          "Alex Goligoski",
          "Seth Jones",
          "Mattias Ekholm",
          "Jason Garrison",
          "TJ Brodie",
          "Filip Hronek",
          "Anton Stralman",
          "Ben Hutton",
          "John-Michael Liles",
          "Michael Del Zotto",
          "Charlie McAvoy",
          "Ryan Ellis",
          "Marc-Edouard Vlasic",
          "Francois Beauchemin",
          "Ivan Provorov",
          "Trevor Daley",
          "Jason Demers",
          "Toby Enstrom",
          "Kevin Bieksa",
          "Slava Voynov",
          "Jaccob Slavin",
          "Brian Campbell",
          "Andre Benoit",
          "Brandon Montour",
          "Tom Gilbert",
          "Raphael Diaz"
         ],
         "legendgroup": "",
         "marker": {
          "color": "#636efa",
          "opacity": 0.75,
          "size": [
           172,
           423,
           378,
           504,
           523,
           93,
           549,
           517,
           539,
           491,
           438,
           493,
           419,
           508,
           498,
           442,
           145,
           534,
           89,
           529,
           524,
           386,
           276,
           300,
           484,
           426,
           515,
           532,
           555,
           462,
           552,
           306,
           71,
           511,
           545,
           493,
           503,
           458,
           465,
           531,
           419,
           482,
           307,
           62,
           425,
           479,
           478,
           234,
           524,
           234,
           502,
           523,
           347,
           176,
           308,
           447,
           448,
           150,
           447,
           550,
           524,
           535,
           318,
           530,
           111,
           505,
           341,
           215,
           407,
           184,
           463,
           516,
           364,
           315,
           437,
           453,
           317,
           347,
           88,
           377,
           326,
           140,
           243,
           208,
           119
          ],
          "sizemode": "area",
          "sizeref": 5.55,
          "symbol": "circle"
         },
         "mode": "markers",
         "name": "",
         "orientation": "v",
         "showlegend": false,
         "type": "scatter",
         "x": [
          -0.69,
          2.7,
          1.2,
          2.63,
          2.07,
          4.09,
          3.01,
          -0.13,
          1.64,
          0.45,
          0.57,
          -0.47,
          0.69,
          0.91,
          0.94,
          -0.14,
          0.71,
          0.66,
          1.31,
          -0.12,
          0.71,
          2.13,
          -1.27,
          0.91,
          1.44,
          1.35,
          -0.59,
          0.29,
          0.3,
          -0.36,
          -0.03,
          0.82,
          -0.16,
          0.31,
          0.08,
          0.77,
          -0.99,
          -1.01,
          0.86,
          -0.73,
          -1.37,
          -0.76,
          -0.21,
          -1.65,
          -0.13,
          -0.52,
          -0.74,
          -0.15,
          -0.18,
          -1.45,
          0.1,
          0.65,
          0.41,
          0.6,
          -1.29,
          -1.35,
          -1.93,
          -0.41,
          -0.35,
          -0.94,
          -0.45,
          -0.26,
          -0.7,
          -1.32,
          -4.01,
          -0.54,
          -0.58,
          0.72,
          -2.38,
          1.42,
          0.02,
          -1.32,
          -2.46,
          -2.77,
          -1.68,
          0.5,
          -2.18,
          0.07,
          1.81,
          -1.59,
          -1.16,
          -2.95,
          -2.26,
          -4.35,
          0.37
         ],
         "xaxis": "x",
         "y": [
          87,
          115.4,
          90,
          95.5,
          112.5,
          96.2,
          101.8,
          68.4,
          77,
          90.7,
          85.6,
          104.2,
          93.7,
          113.5,
          84.1,
          101.9,
          93.2,
          107,
          53.4,
          76.8,
          85.4,
          64.1,
          51.7,
          84.1,
          94.3,
          83.8,
          85.1,
          107.9,
          115.7,
          116.9,
          113.6,
          109.5,
          72.6,
          98.2,
          107.1,
          94.1,
          106.5,
          72.6,
          73.5,
          104.8,
          58.4,
          62.6,
          66.4,
          65.8,
          75.6,
          69.2,
          82.7,
          82.1,
          81.6,
          63.4,
          74.6,
          74.5,
          66.7,
          78.8,
          78.6,
          79.6,
          87.8,
          77.4,
          79.2,
          88.2,
          89.1,
          64,
          58.6,
          79.4,
          93.1,
          69.5,
          56.5,
          58.4,
          51.6,
          58.8,
          74.8,
          75.5,
          78.6,
          95.1,
          67,
          64.1,
          70,
          59.1,
          82.1,
          79.8,
          76.6,
          66.7,
          61.9,
          50.4,
          46.6
         ],
         "yaxis": "y"
        }
       ],
       "layout": {
        "height": 800,
        "legend": {
         "itemsizing": "constant",
         "tracegroupgap": 0
        },
        "shapes": [
         {
          "type": "line",
          "x0": 0,
          "x1": 1,
          "xref": "x domain",
          "y0": 81,
          "y1": 81,
          "yref": "y"
         },
         {
          "type": "line",
          "x0": 0,
          "x1": 0,
          "xref": "x",
          "y0": 0,
          "y1": 1,
          "yref": "y domain"
         },
         {
          "line": {
           "color": "red",
           "dash": "dash"
          },
          "type": "line",
          "x0": 2.118,
          "x1": 2.118,
          "xref": "x",
          "y0": 0,
          "y1": 1,
          "yref": "y domain"
         }
        ],
        "template": {
         "data": {
          "bar": [
           {
            "error_x": {
             "color": "#2a3f5f"
            },
            "error_y": {
             "color": "#2a3f5f"
            },
            "marker": {
             "line": {
              "color": "#E5ECF6",
              "width": 0.5
             }
            },
            "type": "bar"
           }
          ],
          "barpolar": [
           {
            "marker": {
             "line": {
              "color": "#E5ECF6",
              "width": 0.5
             }
            },
            "type": "barpolar"
           }
          ],
          "carpet": [
           {
            "aaxis": {
             "endlinecolor": "#2a3f5f",
             "gridcolor": "white",
             "linecolor": "white",
             "minorgridcolor": "white",
             "startlinecolor": "#2a3f5f"
            },
            "baxis": {
             "endlinecolor": "#2a3f5f",
             "gridcolor": "white",
             "linecolor": "white",
             "minorgridcolor": "white",
             "startlinecolor": "#2a3f5f"
            },
            "type": "carpet"
           }
          ],
          "choropleth": [
           {
            "colorbar": {
             "outlinewidth": 0,
             "ticks": ""
            },
            "type": "choropleth"
           }
          ],
          "contour": [
           {
            "colorbar": {
             "outlinewidth": 0,
             "ticks": ""
            },
            "colorscale": [
             [
              0,
              "#0d0887"
             ],
             [
              0.1111111111111111,
              "#46039f"
             ],
             [
              0.2222222222222222,
              "#7201a8"
             ],
             [
              0.3333333333333333,
              "#9c179e"
             ],
             [
              0.4444444444444444,
              "#bd3786"
             ],
             [
              0.5555555555555556,
              "#d8576b"
             ],
             [
              0.6666666666666666,
              "#ed7953"
             ],
             [
              0.7777777777777778,
              "#fb9f3a"
             ],
             [
              0.8888888888888888,
              "#fdca26"
             ],
             [
              1,
              "#f0f921"
             ]
            ],
            "type": "contour"
           }
          ],
          "contourcarpet": [
           {
            "colorbar": {
             "outlinewidth": 0,
             "ticks": ""
            },
            "type": "contourcarpet"
           }
          ],
          "heatmap": [
           {
            "colorbar": {
             "outlinewidth": 0,
             "ticks": ""
            },
            "colorscale": [
             [
              0,
              "#0d0887"
             ],
             [
              0.1111111111111111,
              "#46039f"
             ],
             [
              0.2222222222222222,
              "#7201a8"
             ],
             [
              0.3333333333333333,
              "#9c179e"
             ],
             [
              0.4444444444444444,
              "#bd3786"
             ],
             [
              0.5555555555555556,
              "#d8576b"
             ],
             [
              0.6666666666666666,
              "#ed7953"
             ],
             [
              0.7777777777777778,
              "#fb9f3a"
             ],
             [
              0.8888888888888888,
              "#fdca26"
             ],
             [
              1,
              "#f0f921"
             ]
            ],
            "type": "heatmap"
           }
          ],
          "heatmapgl": [
           {
            "colorbar": {
             "outlinewidth": 0,
             "ticks": ""
            },
            "colorscale": [
             [
              0,
              "#0d0887"
             ],
             [
              0.1111111111111111,
              "#46039f"
             ],
             [
              0.2222222222222222,
              "#7201a8"
             ],
             [
              0.3333333333333333,
              "#9c179e"
             ],
             [
              0.4444444444444444,
              "#bd3786"
             ],
             [
              0.5555555555555556,
              "#d8576b"
             ],
             [
              0.6666666666666666,
              "#ed7953"
             ],
             [
              0.7777777777777778,
              "#fb9f3a"
             ],
             [
              0.8888888888888888,
              "#fdca26"
             ],
             [
              1,
              "#f0f921"
             ]
            ],
            "type": "heatmapgl"
           }
          ],
          "histogram": [
           {
            "marker": {
             "colorbar": {
              "outlinewidth": 0,
              "ticks": ""
             }
            },
            "type": "histogram"
           }
          ],
          "histogram2d": [
           {
            "colorbar": {
             "outlinewidth": 0,
             "ticks": ""
            },
            "colorscale": [
             [
              0,
              "#0d0887"
             ],
             [
              0.1111111111111111,
              "#46039f"
             ],
             [
              0.2222222222222222,
              "#7201a8"
             ],
             [
              0.3333333333333333,
              "#9c179e"
             ],
             [
              0.4444444444444444,
              "#bd3786"
             ],
             [
              0.5555555555555556,
              "#d8576b"
             ],
             [
              0.6666666666666666,
              "#ed7953"
             ],
             [
              0.7777777777777778,
              "#fb9f3a"
             ],
             [
              0.8888888888888888,
              "#fdca26"
             ],
             [
              1,
              "#f0f921"
             ]
            ],
            "type": "histogram2d"
           }
          ],
          "histogram2dcontour": [
           {
            "colorbar": {
             "outlinewidth": 0,
             "ticks": ""
            },
            "colorscale": [
             [
              0,
              "#0d0887"
             ],
             [
              0.1111111111111111,
              "#46039f"
             ],
             [
              0.2222222222222222,
              "#7201a8"
             ],
             [
              0.3333333333333333,
              "#9c179e"
             ],
             [
              0.4444444444444444,
              "#bd3786"
             ],
             [
              0.5555555555555556,
              "#d8576b"
             ],
             [
              0.6666666666666666,
              "#ed7953"
             ],
             [
              0.7777777777777778,
              "#fb9f3a"
             ],
             [
              0.8888888888888888,
              "#fdca26"
             ],
             [
              1,
              "#f0f921"
             ]
            ],
            "type": "histogram2dcontour"
           }
          ],
          "mesh3d": [
           {
            "colorbar": {
             "outlinewidth": 0,
             "ticks": ""
            },
            "type": "mesh3d"
           }
          ],
          "parcoords": [
           {
            "line": {
             "colorbar": {
              "outlinewidth": 0,
              "ticks": ""
             }
            },
            "type": "parcoords"
           }
          ],
          "pie": [
           {
            "automargin": true,
            "type": "pie"
           }
          ],
          "scatter": [
           {
            "marker": {
             "colorbar": {
              "outlinewidth": 0,
              "ticks": ""
             }
            },
            "type": "scatter"
           }
          ],
          "scatter3d": [
           {
            "line": {
             "colorbar": {
              "outlinewidth": 0,
              "ticks": ""
             }
            },
            "marker": {
             "colorbar": {
              "outlinewidth": 0,
              "ticks": ""
             }
            },
            "type": "scatter3d"
           }
          ],
          "scattercarpet": [
           {
            "marker": {
             "colorbar": {
              "outlinewidth": 0,
              "ticks": ""
             }
            },
            "type": "scattercarpet"
           }
          ],
          "scattergeo": [
           {
            "marker": {
             "colorbar": {
              "outlinewidth": 0,
              "ticks": ""
             }
            },
            "type": "scattergeo"
           }
          ],
          "scattergl": [
           {
            "marker": {
             "colorbar": {
              "outlinewidth": 0,
              "ticks": ""
             }
            },
            "type": "scattergl"
           }
          ],
          "scattermapbox": [
           {
            "marker": {
             "colorbar": {
              "outlinewidth": 0,
              "ticks": ""
             }
            },
            "type": "scattermapbox"
           }
          ],
          "scatterpolar": [
           {
            "marker": {
             "colorbar": {
              "outlinewidth": 0,
              "ticks": ""
             }
            },
            "type": "scatterpolar"
           }
          ],
          "scatterpolargl": [
           {
            "marker": {
             "colorbar": {
              "outlinewidth": 0,
              "ticks": ""
             }
            },
            "type": "scatterpolargl"
           }
          ],
          "scatterternary": [
           {
            "marker": {
             "colorbar": {
              "outlinewidth": 0,
              "ticks": ""
             }
            },
            "type": "scatterternary"
           }
          ],
          "surface": [
           {
            "colorbar": {
             "outlinewidth": 0,
             "ticks": ""
            },
            "colorscale": [
             [
              0,
              "#0d0887"
             ],
             [
              0.1111111111111111,
              "#46039f"
             ],
             [
              0.2222222222222222,
              "#7201a8"
             ],
             [
              0.3333333333333333,
              "#9c179e"
             ],
             [
              0.4444444444444444,
              "#bd3786"
             ],
             [
              0.5555555555555556,
              "#d8576b"
             ],
             [
              0.6666666666666666,
              "#ed7953"
             ],
             [
              0.7777777777777778,
              "#fb9f3a"
             ],
             [
              0.8888888888888888,
              "#fdca26"
             ],
             [
              1,
              "#f0f921"
             ]
            ],
            "type": "surface"
           }
          ],
          "table": [
           {
            "cells": {
             "fill": {
              "color": "#EBF0F8"
             },
             "line": {
              "color": "white"
             }
            },
            "header": {
             "fill": {
              "color": "#C8D4E3"
             },
             "line": {
              "color": "white"
             }
            },
            "type": "table"
           }
          ]
         },
         "layout": {
          "annotationdefaults": {
           "arrowcolor": "#2a3f5f",
           "arrowhead": 0,
           "arrowwidth": 1
          },
          "coloraxis": {
           "colorbar": {
            "outlinewidth": 0,
            "ticks": ""
           }
          },
          "colorscale": {
           "diverging": [
            [
             0,
             "#8e0152"
            ],
            [
             0.1,
             "#c51b7d"
            ],
            [
             0.2,
             "#de77ae"
            ],
            [
             0.3,
             "#f1b6da"
            ],
            [
             0.4,
             "#fde0ef"
            ],
            [
             0.5,
             "#f7f7f7"
            ],
            [
             0.6,
             "#e6f5d0"
            ],
            [
             0.7,
             "#b8e186"
            ],
            [
             0.8,
             "#7fbc41"
            ],
            [
             0.9,
             "#4d9221"
            ],
            [
             1,
             "#276419"
            ]
           ],
           "sequential": [
            [
             0,
             "#0d0887"
            ],
            [
             0.1111111111111111,
             "#46039f"
            ],
            [
             0.2222222222222222,
             "#7201a8"
            ],
            [
             0.3333333333333333,
             "#9c179e"
            ],
            [
             0.4444444444444444,
             "#bd3786"
            ],
            [
             0.5555555555555556,
             "#d8576b"
            ],
            [
             0.6666666666666666,
             "#ed7953"
            ],
            [
             0.7777777777777778,
             "#fb9f3a"
            ],
            [
             0.8888888888888888,
             "#fdca26"
            ],
            [
             1,
             "#f0f921"
            ]
           ],
           "sequentialminus": [
            [
             0,
             "#0d0887"
            ],
            [
             0.1111111111111111,
             "#46039f"
            ],
            [
             0.2222222222222222,
             "#7201a8"
            ],
            [
             0.3333333333333333,
             "#9c179e"
            ],
            [
             0.4444444444444444,
             "#bd3786"
            ],
            [
             0.5555555555555556,
             "#d8576b"
            ],
            [
             0.6666666666666666,
             "#ed7953"
            ],
            [
             0.7777777777777778,
             "#fb9f3a"
            ],
            [
             0.8888888888888888,
             "#fdca26"
            ],
            [
             1,
             "#f0f921"
            ]
           ]
          },
          "colorway": [
           "#636efa",
           "#EF553B",
           "#00cc96",
           "#ab63fa",
           "#FFA15A",
           "#19d3f3",
           "#FF6692",
           "#B6E880",
           "#FF97FF",
           "#FECB52"
          ],
          "font": {
           "color": "#2a3f5f"
          },
          "geo": {
           "bgcolor": "white",
           "lakecolor": "white",
           "landcolor": "#E5ECF6",
           "showlakes": true,
           "showland": true,
           "subunitcolor": "white"
          },
          "hoverlabel": {
           "align": "left"
          },
          "hovermode": "closest",
          "mapbox": {
           "style": "light"
          },
          "paper_bgcolor": "white",
          "plot_bgcolor": "#E5ECF6",
          "polar": {
           "angularaxis": {
            "gridcolor": "white",
            "linecolor": "white",
            "ticks": ""
           },
           "bgcolor": "#E5ECF6",
           "radialaxis": {
            "gridcolor": "white",
            "linecolor": "white",
            "ticks": ""
           }
          },
          "scene": {
           "xaxis": {
            "backgroundcolor": "#E5ECF6",
            "gridcolor": "white",
            "gridwidth": 2,
            "linecolor": "white",
            "showbackground": true,
            "ticks": "",
            "zerolinecolor": "white"
           },
           "yaxis": {
            "backgroundcolor": "#E5ECF6",
            "gridcolor": "white",
            "gridwidth": 2,
            "linecolor": "white",
            "showbackground": true,
            "ticks": "",
            "zerolinecolor": "white"
           },
           "zaxis": {
            "backgroundcolor": "#E5ECF6",
            "gridcolor": "white",
            "gridwidth": 2,
            "linecolor": "white",
            "showbackground": true,
            "ticks": "",
            "zerolinecolor": "white"
           }
          },
          "shapedefaults": {
           "line": {
            "color": "#2a3f5f"
           }
          },
          "ternary": {
           "aaxis": {
            "gridcolor": "white",
            "linecolor": "white",
            "ticks": ""
           },
           "baxis": {
            "gridcolor": "white",
            "linecolor": "white",
            "ticks": ""
           },
           "bgcolor": "#E5ECF6",
           "caxis": {
            "gridcolor": "white",
            "linecolor": "white",
            "ticks": ""
           }
          },
          "title": {
           "x": 0.05
          },
          "xaxis": {
           "automargin": true,
           "gridcolor": "white",
           "linecolor": "white",
           "ticks": "",
           "title": {
            "standoff": 15
           },
           "zerolinecolor": "white",
           "zerolinewidth": 2
          },
          "yaxis": {
           "automargin": true,
           "gridcolor": "white",
           "linecolor": "white",
           "ticks": "",
           "title": {
            "standoff": 15
           },
           "zerolinecolor": "white",
           "zerolinewidth": 2
          }
         }
        },
        "title": {
         "text": "D 20% Club: ST TOI% vs STSA/60"
        },
        "width": 800,
        "xaxis": {
         "anchor": "y",
         "domain": [
          0,
          1
         ],
         "title": {
          "text": "STSA/60"
         }
        },
        "yaxis": {
         "anchor": "x",
         "domain": [
          0,
          1
         ],
         "title": {
          "text": "ST TOI%"
         }
        }
       }
      },
      "text/html": [
       "<div>                            <div id=\"e5a6cc9d-cbca-4acf-bcbd-3e28fa475fef\" class=\"plotly-graph-div\" style=\"height:800px; width:800px;\"></div>            <script type=\"text/javascript\">                require([\"plotly\"], function(Plotly) {                    window.PLOTLYENV=window.PLOTLYENV || {};                                    if (document.getElementById(\"e5a6cc9d-cbca-4acf-bcbd-3e28fa475fef\")) {                    Plotly.newPlot(                        \"e5a6cc9d-cbca-4acf-bcbd-3e28fa475fef\",                        [{\"customdata\": [[42.3, 44.7], [46.4, 69.0], [41.1, 48.9], [41.7, 53.8], [48.4, 64.1], [46.1, 50.1], [36.8, 65.0], [27.3, 41.1], [44.0, 33.0], [47.2, 43.5], [34.1, 51.5], [48.1, 56.1], [30.2, 63.5], [55.3, 58.2], [62.8, 21.3], [50.0, 51.9], [32.8, 60.4], [52.7, 54.3], [31.8, 21.6], [50.3, 26.5], [34.1, 51.3], [32.8, 31.3], [25.3, 26.4], [27.3, 56.8], [36.5, 57.8], [32.0, 51.8], [42.2, 42.9], [50.1, 57.8], [49.7, 66.0], [57.1, 59.8], [48.6, 65.0], [43.3, 66.2], [36.8, 35.8], [34.9, 63.3], [35.4, 71.7], [55.9, 38.2], [29.9, 76.6], [29.5, 43.1], [36.0, 37.5], [52.6, 52.2], [34.5, 23.9], [39.4, 23.2], [23.6, 42.8], [34.8, 31.0], [39.6, 36.0], [47.8, 21.4], [49.6, 33.1], [35.0, 47.1], [43.2, 38.4], [25.3, 38.1], [38.0, 36.6], [34.1, 40.4], [40.4, 26.3], [30.6, 48.2], [52.7, 25.9], [49.8, 29.8], [39.8, 48.0], [34.1, 43.3], [41.5, 37.7], [47.2, 41.0], [42.8, 46.3], [42.0, 22.0], [34.9, 23.7], [43.3, 36.1], [44.1, 49.0], [47.3, 22.2], [26.8, 29.7], [21.5, 36.9], [30.7, 20.9], [26.4, 32.4], [35.0, 39.8], [52.8, 22.7], [51.3, 27.3], [58.2, 36.9], [41.1, 25.9], [39.3, 24.8], [32.1, 37.9], [33.4, 25.7], [34.8, 47.3], [58.4, 21.4], [23.9, 52.7], [29.3, 37.4], [24.0, 37.9], [28.1, 22.3], [23.3, 23.3]], \"hovertemplate\": \"<b>%{hovertext}</b><br><br>STSA/60=%{x}<br>ST TOI%=%{y}<br>GP=%{marker.size}<br>SH TOI%=%{customdata[0]}<br>PP TOI%=%{customdata[1]}<extra></extra>\", \"hovertext\": [\"Neal Pionk\", \"Kris Letang\", \"Oscar Klefbom\", \"Victor Hedman\", \"John Carlson\", \"Kimmo Timonen\", \"Brent Burns\", \"Morgan Rielly\", \"Matt Niskanen\", \"Jared Spurgeon\", \"Niklas Kronwall\", \"Rasmus Ristolainen\", \"Dustin Byfuglien\", \"Mark Giordano\", \"Zdeno Chara\", \"Alexander Edler\", \"James Wisniewski\", \"Alex Pietrangelo\", \"Ethan Bear\", \"Jack Johnson\", \"Justin Faulk\", \"Colton Parayko\", \"David Schlemko\", \"Zach Werenski\", \"Cam Fowler\", \"Sami Vatanen\", \"Brent Seabrook\", \"Roman Josi\", \"Drew Doughty\", \"Shea Weber\", \"Ryan Suter\", \"Andrei Markov\", \"Sami Salo\", \"P.K. Subban\", \"Oliver Ekman-Larsson\", \"Ryan McDonagh\", \"Erik Karlsson\", \"Aaron Ekblad\", \"Alec Martinez\", \"Duncan Keith\", \"Michael Stone\", \"Kris Russell\", \"Cody Franson\", \"Maxime Lajoie\", \"Andrej Sekera\", \"Johnny Boychuk\", \"Jacob Trouba\", \"Dennis Wideman\", \"Jeff Petry\", \"Ryan Pulock\", \"Hampus Lindholm\", \"Jake Muzzin\", \"Ryan Murray\", \"Christian Ehrhoff\", \"Esa Lindell\", \"Erik Johnson\", \"Dion Phaneuf\", \"Miro Heiskanen\", \"Tyler Myers\", \"Alex Goligoski\", \"Seth Jones\", \"Mattias Ekholm\", \"Jason Garrison\", \"TJ Brodie\", \"Filip Hronek\", \"Anton Stralman\", \"Ben Hutton\", \"John-Michael Liles\", \"Michael Del Zotto\", \"Charlie McAvoy\", \"Ryan Ellis\", \"Marc-Edouard Vlasic\", \"Francois Beauchemin\", \"Ivan Provorov\", \"Trevor Daley\", \"Jason Demers\", \"Toby Enstrom\", \"Kevin Bieksa\", \"Slava Voynov\", \"Jaccob Slavin\", \"Brian Campbell\", \"Andre Benoit\", \"Brandon Montour\", \"Tom Gilbert\", \"Raphael Diaz\"], \"legendgroup\": \"\", \"marker\": {\"color\": \"#636efa\", \"opacity\": 0.75, \"size\": [172, 423, 378, 504, 523, 93, 549, 517, 539, 491, 438, 493, 419, 508, 498, 442, 145, 534, 89, 529, 524, 386, 276, 300, 484, 426, 515, 532, 555, 462, 552, 306, 71, 511, 545, 493, 503, 458, 465, 531, 419, 482, 307, 62, 425, 479, 478, 234, 524, 234, 502, 523, 347, 176, 308, 447, 448, 150, 447, 550, 524, 535, 318, 530, 111, 505, 341, 215, 407, 184, 463, 516, 364, 315, 437, 453, 317, 347, 88, 377, 326, 140, 243, 208, 119], \"sizemode\": \"area\", \"sizeref\": 5.55, \"symbol\": \"circle\"}, \"mode\": \"markers\", \"name\": \"\", \"orientation\": \"v\", \"showlegend\": false, \"type\": \"scatter\", \"x\": [-0.69, 2.7, 1.2, 2.63, 2.07, 4.09, 3.01, -0.13, 1.64, 0.45, 0.57, -0.47, 0.69, 0.91, 0.94, -0.14, 0.71, 0.66, 1.31, -0.12, 0.71, 2.13, -1.27, 0.91, 1.44, 1.35, -0.59, 0.29, 0.3, -0.36, -0.03, 0.82, -0.16, 0.31, 0.08, 0.77, -0.99, -1.01, 0.86, -0.73, -1.37, -0.76, -0.21, -1.65, -0.13, -0.52, -0.74, -0.15, -0.18, -1.45, 0.1, 0.65, 0.41, 0.6, -1.29, -1.35, -1.93, -0.41, -0.35, -0.94, -0.45, -0.26, -0.7, -1.32, -4.01, -0.54, -0.58, 0.72, -2.38, 1.42, 0.02, -1.32, -2.46, -2.77, -1.68, 0.5, -2.18, 0.07, 1.81, -1.59, -1.16, -2.95, -2.26, -4.35, 0.37], \"xaxis\": \"x\", \"y\": [87.0, 115.4, 90.0, 95.5, 112.5, 96.2, 101.8, 68.4, 77.0, 90.7, 85.6, 104.2, 93.7, 113.5, 84.1, 101.9, 93.2, 107.0, 53.4, 76.8, 85.4, 64.1, 51.7, 84.1, 94.3, 83.8, 85.1, 107.9, 115.7, 116.9, 113.6, 109.5, 72.6, 98.2, 107.1, 94.1, 106.5, 72.6, 73.5, 104.8, 58.4, 62.6, 66.4, 65.8, 75.6, 69.2, 82.7, 82.1, 81.6, 63.4, 74.6, 74.5, 66.7, 78.8, 78.6, 79.6, 87.8, 77.4, 79.2, 88.2, 89.1, 64.0, 58.6, 79.4, 93.1, 69.5, 56.5, 58.4, 51.6, 58.8, 74.8, 75.5, 78.6, 95.1, 67.0, 64.1, 70.0, 59.1, 82.1, 79.8, 76.6, 66.7, 61.9, 50.4, 46.6], \"yaxis\": \"y\"}],                        {\"height\": 800, \"legend\": {\"itemsizing\": \"constant\", \"tracegroupgap\": 0}, \"shapes\": [{\"type\": \"line\", \"x0\": 0, \"x1\": 1, \"xref\": \"x domain\", \"y0\": 81.0, \"y1\": 81.0, \"yref\": \"y\"}, {\"type\": \"line\", \"x0\": -0.0, \"x1\": -0.0, \"xref\": \"x\", \"y0\": 0, \"y1\": 1, \"yref\": \"y domain\"}, {\"line\": {\"color\": \"red\", \"dash\": \"dash\"}, \"type\": \"line\", \"x0\": 2.118, \"x1\": 2.118, \"xref\": \"x\", \"y0\": 0, \"y1\": 1, \"yref\": \"y domain\"}], \"template\": {\"data\": {\"bar\": [{\"error_x\": {\"color\": \"#2a3f5f\"}, \"error_y\": {\"color\": \"#2a3f5f\"}, \"marker\": {\"line\": {\"color\": \"#E5ECF6\", \"width\": 0.5}}, \"type\": \"bar\"}], \"barpolar\": [{\"marker\": {\"line\": {\"color\": \"#E5ECF6\", \"width\": 0.5}}, \"type\": \"barpolar\"}], \"carpet\": [{\"aaxis\": {\"endlinecolor\": \"#2a3f5f\", \"gridcolor\": \"white\", \"linecolor\": \"white\", \"minorgridcolor\": \"white\", \"startlinecolor\": \"#2a3f5f\"}, \"baxis\": {\"endlinecolor\": \"#2a3f5f\", \"gridcolor\": \"white\", \"linecolor\": \"white\", \"minorgridcolor\": \"white\", \"startlinecolor\": \"#2a3f5f\"}, \"type\": \"carpet\"}], \"choropleth\": [{\"colorbar\": {\"outlinewidth\": 0, \"ticks\": \"\"}, \"type\": \"choropleth\"}], \"contour\": [{\"colorbar\": {\"outlinewidth\": 0, \"ticks\": \"\"}, \"colorscale\": [[0.0, \"#0d0887\"], [0.1111111111111111, \"#46039f\"], [0.2222222222222222, \"#7201a8\"], [0.3333333333333333, \"#9c179e\"], [0.4444444444444444, \"#bd3786\"], [0.5555555555555556, \"#d8576b\"], [0.6666666666666666, \"#ed7953\"], [0.7777777777777778, \"#fb9f3a\"], [0.8888888888888888, \"#fdca26\"], [1.0, \"#f0f921\"]], \"type\": \"contour\"}], \"contourcarpet\": [{\"colorbar\": {\"outlinewidth\": 0, \"ticks\": \"\"}, \"type\": \"contourcarpet\"}], \"heatmap\": [{\"colorbar\": {\"outlinewidth\": 0, \"ticks\": \"\"}, \"colorscale\": [[0.0, \"#0d0887\"], [0.1111111111111111, \"#46039f\"], [0.2222222222222222, \"#7201a8\"], [0.3333333333333333, \"#9c179e\"], [0.4444444444444444, \"#bd3786\"], [0.5555555555555556, \"#d8576b\"], [0.6666666666666666, \"#ed7953\"], [0.7777777777777778, \"#fb9f3a\"], [0.8888888888888888, \"#fdca26\"], [1.0, \"#f0f921\"]], \"type\": \"heatmap\"}], \"heatmapgl\": [{\"colorbar\": {\"outlinewidth\": 0, \"ticks\": \"\"}, \"colorscale\": [[0.0, \"#0d0887\"], [0.1111111111111111, \"#46039f\"], [0.2222222222222222, \"#7201a8\"], [0.3333333333333333, \"#9c179e\"], [0.4444444444444444, \"#bd3786\"], [0.5555555555555556, \"#d8576b\"], [0.6666666666666666, \"#ed7953\"], [0.7777777777777778, \"#fb9f3a\"], [0.8888888888888888, \"#fdca26\"], [1.0, \"#f0f921\"]], \"type\": \"heatmapgl\"}], \"histogram\": [{\"marker\": {\"colorbar\": {\"outlinewidth\": 0, \"ticks\": \"\"}}, \"type\": \"histogram\"}], \"histogram2d\": [{\"colorbar\": {\"outlinewidth\": 0, \"ticks\": \"\"}, \"colorscale\": [[0.0, \"#0d0887\"], [0.1111111111111111, \"#46039f\"], [0.2222222222222222, \"#7201a8\"], [0.3333333333333333, \"#9c179e\"], [0.4444444444444444, \"#bd3786\"], [0.5555555555555556, \"#d8576b\"], [0.6666666666666666, \"#ed7953\"], [0.7777777777777778, \"#fb9f3a\"], [0.8888888888888888, \"#fdca26\"], [1.0, \"#f0f921\"]], \"type\": \"histogram2d\"}], \"histogram2dcontour\": [{\"colorbar\": {\"outlinewidth\": 0, \"ticks\": \"\"}, \"colorscale\": [[0.0, \"#0d0887\"], [0.1111111111111111, \"#46039f\"], [0.2222222222222222, \"#7201a8\"], [0.3333333333333333, \"#9c179e\"], [0.4444444444444444, \"#bd3786\"], [0.5555555555555556, \"#d8576b\"], [0.6666666666666666, \"#ed7953\"], [0.7777777777777778, \"#fb9f3a\"], [0.8888888888888888, \"#fdca26\"], [1.0, \"#f0f921\"]], \"type\": \"histogram2dcontour\"}], \"mesh3d\": [{\"colorbar\": {\"outlinewidth\": 0, \"ticks\": \"\"}, \"type\": \"mesh3d\"}], \"parcoords\": [{\"line\": {\"colorbar\": {\"outlinewidth\": 0, \"ticks\": \"\"}}, \"type\": \"parcoords\"}], \"pie\": [{\"automargin\": true, \"type\": \"pie\"}], \"scatter\": [{\"marker\": {\"colorbar\": {\"outlinewidth\": 0, \"ticks\": \"\"}}, \"type\": \"scatter\"}], \"scatter3d\": [{\"line\": {\"colorbar\": {\"outlinewidth\": 0, \"ticks\": \"\"}}, \"marker\": {\"colorbar\": {\"outlinewidth\": 0, \"ticks\": \"\"}}, \"type\": \"scatter3d\"}], \"scattercarpet\": [{\"marker\": {\"colorbar\": {\"outlinewidth\": 0, \"ticks\": \"\"}}, \"type\": \"scattercarpet\"}], \"scattergeo\": [{\"marker\": {\"colorbar\": {\"outlinewidth\": 0, \"ticks\": \"\"}}, \"type\": \"scattergeo\"}], \"scattergl\": [{\"marker\": {\"colorbar\": {\"outlinewidth\": 0, \"ticks\": \"\"}}, \"type\": \"scattergl\"}], \"scattermapbox\": [{\"marker\": {\"colorbar\": {\"outlinewidth\": 0, \"ticks\": \"\"}}, \"type\": \"scattermapbox\"}], \"scatterpolar\": [{\"marker\": {\"colorbar\": {\"outlinewidth\": 0, \"ticks\": \"\"}}, \"type\": \"scatterpolar\"}], \"scatterpolargl\": [{\"marker\": {\"colorbar\": {\"outlinewidth\": 0, \"ticks\": \"\"}}, \"type\": \"scatterpolargl\"}], \"scatterternary\": [{\"marker\": {\"colorbar\": {\"outlinewidth\": 0, \"ticks\": \"\"}}, \"type\": \"scatterternary\"}], \"surface\": [{\"colorbar\": {\"outlinewidth\": 0, \"ticks\": \"\"}, \"colorscale\": [[0.0, \"#0d0887\"], [0.1111111111111111, \"#46039f\"], [0.2222222222222222, \"#7201a8\"], [0.3333333333333333, \"#9c179e\"], [0.4444444444444444, \"#bd3786\"], [0.5555555555555556, \"#d8576b\"], [0.6666666666666666, \"#ed7953\"], [0.7777777777777778, \"#fb9f3a\"], [0.8888888888888888, \"#fdca26\"], [1.0, \"#f0f921\"]], \"type\": \"surface\"}], \"table\": [{\"cells\": {\"fill\": {\"color\": \"#EBF0F8\"}, \"line\": {\"color\": \"white\"}}, \"header\": {\"fill\": {\"color\": \"#C8D4E3\"}, \"line\": {\"color\": \"white\"}}, \"type\": \"table\"}]}, \"layout\": {\"annotationdefaults\": {\"arrowcolor\": \"#2a3f5f\", \"arrowhead\": 0, \"arrowwidth\": 1}, \"coloraxis\": {\"colorbar\": {\"outlinewidth\": 0, \"ticks\": \"\"}}, \"colorscale\": {\"diverging\": [[0, \"#8e0152\"], [0.1, \"#c51b7d\"], [0.2, \"#de77ae\"], [0.3, \"#f1b6da\"], [0.4, \"#fde0ef\"], [0.5, \"#f7f7f7\"], [0.6, \"#e6f5d0\"], [0.7, \"#b8e186\"], [0.8, \"#7fbc41\"], [0.9, \"#4d9221\"], [1, \"#276419\"]], \"sequential\": [[0.0, \"#0d0887\"], [0.1111111111111111, \"#46039f\"], [0.2222222222222222, \"#7201a8\"], [0.3333333333333333, \"#9c179e\"], [0.4444444444444444, \"#bd3786\"], [0.5555555555555556, \"#d8576b\"], [0.6666666666666666, \"#ed7953\"], [0.7777777777777778, \"#fb9f3a\"], [0.8888888888888888, \"#fdca26\"], [1.0, \"#f0f921\"]], \"sequentialminus\": [[0.0, \"#0d0887\"], [0.1111111111111111, \"#46039f\"], [0.2222222222222222, \"#7201a8\"], [0.3333333333333333, \"#9c179e\"], [0.4444444444444444, \"#bd3786\"], [0.5555555555555556, \"#d8576b\"], [0.6666666666666666, \"#ed7953\"], [0.7777777777777778, \"#fb9f3a\"], [0.8888888888888888, \"#fdca26\"], [1.0, \"#f0f921\"]]}, \"colorway\": [\"#636efa\", \"#EF553B\", \"#00cc96\", \"#ab63fa\", \"#FFA15A\", \"#19d3f3\", \"#FF6692\", \"#B6E880\", \"#FF97FF\", \"#FECB52\"], \"font\": {\"color\": \"#2a3f5f\"}, \"geo\": {\"bgcolor\": \"white\", \"lakecolor\": \"white\", \"landcolor\": \"#E5ECF6\", \"showlakes\": true, \"showland\": true, \"subunitcolor\": \"white\"}, \"hoverlabel\": {\"align\": \"left\"}, \"hovermode\": \"closest\", \"mapbox\": {\"style\": \"light\"}, \"paper_bgcolor\": \"white\", \"plot_bgcolor\": \"#E5ECF6\", \"polar\": {\"angularaxis\": {\"gridcolor\": \"white\", \"linecolor\": \"white\", \"ticks\": \"\"}, \"bgcolor\": \"#E5ECF6\", \"radialaxis\": {\"gridcolor\": \"white\", \"linecolor\": \"white\", \"ticks\": \"\"}}, \"scene\": {\"xaxis\": {\"backgroundcolor\": \"#E5ECF6\", \"gridcolor\": \"white\", \"gridwidth\": 2, \"linecolor\": \"white\", \"showbackground\": true, \"ticks\": \"\", \"zerolinecolor\": \"white\"}, \"yaxis\": {\"backgroundcolor\": \"#E5ECF6\", \"gridcolor\": \"white\", \"gridwidth\": 2, \"linecolor\": \"white\", \"showbackground\": true, \"ticks\": \"\", \"zerolinecolor\": \"white\"}, \"zaxis\": {\"backgroundcolor\": \"#E5ECF6\", \"gridcolor\": \"white\", \"gridwidth\": 2, \"linecolor\": \"white\", \"showbackground\": true, \"ticks\": \"\", \"zerolinecolor\": \"white\"}}, \"shapedefaults\": {\"line\": {\"color\": \"#2a3f5f\"}}, \"ternary\": {\"aaxis\": {\"gridcolor\": \"white\", \"linecolor\": \"white\", \"ticks\": \"\"}, \"baxis\": {\"gridcolor\": \"white\", \"linecolor\": \"white\", \"ticks\": \"\"}, \"bgcolor\": \"#E5ECF6\", \"caxis\": {\"gridcolor\": \"white\", \"linecolor\": \"white\", \"ticks\": \"\"}}, \"title\": {\"x\": 0.05}, \"xaxis\": {\"automargin\": true, \"gridcolor\": \"white\", \"linecolor\": \"white\", \"ticks\": \"\", \"title\": {\"standoff\": 15}, \"zerolinecolor\": \"white\", \"zerolinewidth\": 2}, \"yaxis\": {\"automargin\": true, \"gridcolor\": \"white\", \"linecolor\": \"white\", \"ticks\": \"\", \"title\": {\"standoff\": 15}, \"zerolinecolor\": \"white\", \"zerolinewidth\": 2}}}, \"title\": {\"text\": \"D 20% Club: ST TOI% vs STSA/60\"}, \"width\": 800, \"xaxis\": {\"anchor\": \"y\", \"domain\": [0.0, 1.0], \"title\": {\"text\": \"STSA/60\"}}, \"yaxis\": {\"anchor\": \"x\", \"domain\": [0.0, 1.0], \"title\": {\"text\": \"ST TOI%\"}}},                        {\"responsive\": true}                    ).then(function(){\n",
       "                            \n",
       "var gd = document.getElementById('e5a6cc9d-cbca-4acf-bcbd-3e28fa475fef');\n",
       "var x = new MutationObserver(function (mutations, observer) {{\n",
       "        var display = window.getComputedStyle(gd).display;\n",
       "        if (!display || display === 'none') {{\n",
       "            console.log([gd, 'removed!']);\n",
       "            Plotly.purge(gd);\n",
       "            observer.disconnect();\n",
       "        }}\n",
       "}});\n",
       "\n",
       "// Listen for the removal of the full notebook cells\n",
       "var notebookContainer = gd.closest('#notebook-container');\n",
       "if (notebookContainer) {{\n",
       "    x.observe(notebookContainer, {childList: true});\n",
       "}}\n",
       "\n",
       "// Listen for the clearing of the current output cell\n",
       "var outputEl = gd.closest('.output');\n",
       "if (outputEl) {{\n",
       "    x.observe(outputEl, {childList: true});\n",
       "}}\n",
       "\n",
       "                        })                };                });            </script>        </div>"
      ]
     },
     "metadata": {},
     "output_type": "display_data"
    }
   ],
   "source": [
    "#Finding top special teams defensemen\n",
    "\n",
    "fig = px.scatter(Ddf, x=\"STSA/60\", y=\"ST TOI%\",hover_name=\"Player\", hover_data=['SH TOI%', 'PP TOI%'], \n",
    "                 title=\"D 20% Club: ST TOI% vs STSA/60\",\n",
    "                 width=800, height=800,size_max=10,size='GP',opacity=.75)\n",
    "\n",
    "x_mean = round(Ddf[\"STSA/60\"].mean(), 0)\n",
    "y_mean = round(Ddf[\"ST TOI%\"].mean(), 0)\n",
    "\n",
    "x_unicorn = np.percentile(Ddf[\"STSA/60\"], 95)\n",
    "y_unicorn = np.percentile(Ddf[\"ST TOI%\"], 95)\n",
    "\n",
    "print('midpoint',x_mean,y_mean)\n",
    "fig.add_hline(y=y_mean).add_vline(x=x_mean).add_vline(\n",
    "    x=x_unicorn, line_dash = 'dash', line_color = 'red')\n",
    "\n",
    "fig.write_html(\"D 20% Club - ST TOI% vs STSA per 60.html\")"
   ]
  },
  {
   "cell_type": "code",
   "execution_count": null,
   "metadata": {},
   "outputs": [],
   "source": []
  }
 ],
 "metadata": {
  "kernelspec": {
   "display_name": "Python 3",
   "language": "python",
   "name": "python3"
  },
  "language_info": {
   "codemirror_mode": {
    "name": "ipython",
    "version": 3
   },
   "file_extension": ".py",
   "mimetype": "text/x-python",
   "name": "python",
   "nbconvert_exporter": "python",
   "pygments_lexer": "ipython3",
   "version": "3.7.6"
  }
 },
 "nbformat": 4,
 "nbformat_minor": 4
}
