{
 "cells": [
  {
   "cell_type": "code",
   "execution_count": 1,
   "metadata": {},
   "outputs": [],
   "source": [
    "import pandas as pd\n",
    "import numpy as np\n",
    "import seaborn as sns\n",
    "import matplotlib as mpl\n",
    "import matplotlib.pyplot as plt\n",
    "%matplotlib inline\n",
    "import plotly.express as px\n",
    "\n",
    "from IPython.core.interactiveshell import InteractiveShell\n",
    "InteractiveShell.ast_node_interactivity = 'all'\n",
    "df = pd.read_csv('all_specialteams.csv')"
   ]
  },
  {
   "cell_type": "code",
   "execution_count": 3,
   "metadata": {},
   "outputs": [
    {
     "name": "stdout",
     "output_type": "stream",
     "text": [
      "midpoint 31.0 26.0\n"
     ]
    },
    {
     "data": {
      "application/vnd.plotly.v1+json": {
       "config": {
        "plotlyServerURL": "https://plot.ly"
       },
       "data": [
        {
         "customdata": [
          [
           "R"
          ],
          [
           "C"
          ],
          [
           "D"
          ],
          [
           "L"
          ],
          [
           "D"
          ],
          [
           "C"
          ],
          [
           "C"
          ],
          [
           "C"
          ],
          [
           "C"
          ],
          [
           "C"
          ],
          [
           "C"
          ],
          [
           "R"
          ],
          [
           "D"
          ],
          [
           "R"
          ],
          [
           "C"
          ],
          [
           "D"
          ],
          [
           "C"
          ],
          [
           "C"
          ],
          [
           "R"
          ],
          [
           "D"
          ],
          [
           "D"
          ],
          [
           "D"
          ],
          [
           "D"
          ],
          [
           "D"
          ],
          [
           "D"
          ],
          [
           "L"
          ],
          [
           "C"
          ],
          [
           "L"
          ],
          [
           "C"
          ],
          [
           "C"
          ],
          [
           "D"
          ],
          [
           "C"
          ],
          [
           "D"
          ],
          [
           "R"
          ],
          [
           "L"
          ],
          [
           "R"
          ],
          [
           "C"
          ],
          [
           "C"
          ],
          [
           "C"
          ],
          [
           "D"
          ],
          [
           "C"
          ],
          [
           "C"
          ],
          [
           "R"
          ],
          [
           "C"
          ],
          [
           "D"
          ],
          [
           "L"
          ],
          [
           "C"
          ],
          [
           "C"
          ],
          [
           "D"
          ],
          [
           "C"
          ],
          [
           "C"
          ],
          [
           "L"
          ],
          [
           "C"
          ],
          [
           "C"
          ],
          [
           "D"
          ],
          [
           "C"
          ],
          [
           "L"
          ],
          [
           "R"
          ],
          [
           "C"
          ],
          [
           "R"
          ],
          [
           "D"
          ],
          [
           "C"
          ],
          [
           "R"
          ],
          [
           "C"
          ],
          [
           "C"
          ],
          [
           "L"
          ],
          [
           "D"
          ],
          [
           "C"
          ],
          [
           "L"
          ],
          [
           "C"
          ],
          [
           "D"
          ],
          [
           "L"
          ],
          [
           "C"
          ],
          [
           "C"
          ],
          [
           "R"
          ],
          [
           "D"
          ],
          [
           "D"
          ],
          [
           "C"
          ],
          [
           "R"
          ],
          [
           "C"
          ],
          [
           "C"
          ],
          [
           "D"
          ],
          [
           "D"
          ],
          [
           "L"
          ],
          [
           "D"
          ],
          [
           "R"
          ],
          [
           "D"
          ],
          [
           "D"
          ],
          [
           "L"
          ],
          [
           "R"
          ],
          [
           "C"
          ],
          [
           "L"
          ],
          [
           "D"
          ],
          [
           "L"
          ],
          [
           "C"
          ],
          [
           "L"
          ],
          [
           "L"
          ],
          [
           "L"
          ],
          [
           "C"
          ],
          [
           "R"
          ],
          [
           "D"
          ],
          [
           "C"
          ],
          [
           "D"
          ],
          [
           "C"
          ],
          [
           "R"
          ],
          [
           "D"
          ],
          [
           "D"
          ],
          [
           "C"
          ],
          [
           "D"
          ],
          [
           "D"
          ],
          [
           "L"
          ],
          [
           "D"
          ],
          [
           "C"
          ],
          [
           "C"
          ],
          [
           "L"
          ],
          [
           "C"
          ],
          [
           "C"
          ],
          [
           "C"
          ],
          [
           "D"
          ],
          [
           "D"
          ],
          [
           "L"
          ],
          [
           "L"
          ],
          [
           "C"
          ],
          [
           "C"
          ],
          [
           "R"
          ],
          [
           "L"
          ],
          [
           "C"
          ],
          [
           "D"
          ],
          [
           "D"
          ],
          [
           "D"
          ],
          [
           "R"
          ],
          [
           "D"
          ],
          [
           "L"
          ],
          [
           "C"
          ],
          [
           "C"
          ],
          [
           "R"
          ],
          [
           "L"
          ],
          [
           "L"
          ],
          [
           "D"
          ],
          [
           "C"
          ],
          [
           "C"
          ],
          [
           "D"
          ],
          [
           "L"
          ],
          [
           "D"
          ],
          [
           "R"
          ],
          [
           "D"
          ],
          [
           "D"
          ],
          [
           "L"
          ],
          [
           "D"
          ],
          [
           "D"
          ],
          [
           "D"
          ],
          [
           "L"
          ],
          [
           "R"
          ],
          [
           "C"
          ],
          [
           "C"
          ],
          [
           "D"
          ],
          [
           "D"
          ],
          [
           "D"
          ],
          [
           "C"
          ],
          [
           "C"
          ],
          [
           "C"
          ],
          [
           "L"
          ],
          [
           "R"
          ],
          [
           "D"
          ],
          [
           "D"
          ],
          [
           "D"
          ],
          [
           "D"
          ],
          [
           "C"
          ],
          [
           "D"
          ],
          [
           "D"
          ],
          [
           "D"
          ],
          [
           "D"
          ],
          [
           "D"
          ],
          [
           "C"
          ],
          [
           "C"
          ],
          [
           "R"
          ],
          [
           "D"
          ],
          [
           "L"
          ],
          [
           "L"
          ],
          [
           "C"
          ],
          [
           "C"
          ],
          [
           "L"
          ],
          [
           "C"
          ],
          [
           "C"
          ],
          [
           "L"
          ],
          [
           "D"
          ],
          [
           "D"
          ],
          [
           "D"
          ],
          [
           "C"
          ],
          [
           "R"
          ],
          [
           "C"
          ],
          [
           "C"
          ],
          [
           "R"
          ],
          [
           "L"
          ],
          [
           "D"
          ],
          [
           "D"
          ],
          [
           "R"
          ],
          [
           "D"
          ],
          [
           "D"
          ],
          [
           "D"
          ],
          [
           "D"
          ],
          [
           "C"
          ],
          [
           "C"
          ],
          [
           "C"
          ],
          [
           "D"
          ],
          [
           "D"
          ],
          [
           "C"
          ],
          [
           "L"
          ],
          [
           "C"
          ],
          [
           "C"
          ],
          [
           "D"
          ],
          [
           "R"
          ],
          [
           "D"
          ],
          [
           "C"
          ],
          [
           "C"
          ],
          [
           "D"
          ],
          [
           "C"
          ],
          [
           "D"
          ],
          [
           "D"
          ],
          [
           "D"
          ],
          [
           "D"
          ],
          [
           "R"
          ],
          [
           "R"
          ],
          [
           "D"
          ],
          [
           "C"
          ],
          [
           "C"
          ],
          [
           "C"
          ],
          [
           "D"
          ],
          [
           "D"
          ],
          [
           "R"
          ],
          [
           "C"
          ],
          [
           "C"
          ],
          [
           "D"
          ],
          [
           "C"
          ],
          [
           "D"
          ],
          [
           "D"
          ],
          [
           "C"
          ],
          [
           "C"
          ],
          [
           "D"
          ],
          [
           "C"
          ],
          [
           "D"
          ],
          [
           "R"
          ],
          [
           "R"
          ],
          [
           "C"
          ],
          [
           "D"
          ],
          [
           "D"
          ],
          [
           "L"
          ],
          [
           "D"
          ],
          [
           "L"
          ],
          [
           "D"
          ],
          [
           "R"
          ],
          [
           "C"
          ],
          [
           "D"
          ],
          [
           "C"
          ],
          [
           "D"
          ],
          [
           "D"
          ],
          [
           "C"
          ],
          [
           "C"
          ],
          [
           "D"
          ],
          [
           "L"
          ],
          [
           "C"
          ],
          [
           "L"
          ],
          [
           "L"
          ],
          [
           "D"
          ],
          [
           "D"
          ],
          [
           "R"
          ],
          [
           "C"
          ],
          [
           "D"
          ],
          [
           "D"
          ],
          [
           "L"
          ],
          [
           "L"
          ],
          [
           "D"
          ],
          [
           "L"
          ],
          [
           "C"
          ],
          [
           "D"
          ],
          [
           "D"
          ],
          [
           "D"
          ],
          [
           "D"
          ],
          [
           "L"
          ],
          [
           "L"
          ],
          [
           "L"
          ],
          [
           "D"
          ],
          [
           "L"
          ],
          [
           "C"
          ],
          [
           "C"
          ],
          [
           "R"
          ],
          [
           "R"
          ],
          [
           "C"
          ],
          [
           "L"
          ],
          [
           "L"
          ],
          [
           "D"
          ],
          [
           "D"
          ],
          [
           "C"
          ],
          [
           "D"
          ],
          [
           "L"
          ],
          [
           "C"
          ],
          [
           "C"
          ],
          [
           "D"
          ],
          [
           "C"
          ],
          [
           "R"
          ],
          [
           "D"
          ],
          [
           "D"
          ],
          [
           "C"
          ],
          [
           "D"
          ],
          [
           "R"
          ],
          [
           "R"
          ],
          [
           "L"
          ],
          [
           "D"
          ],
          [
           "D"
          ],
          [
           "C"
          ],
          [
           "L"
          ],
          [
           "D"
          ],
          [
           "C"
          ],
          [
           "C"
          ],
          [
           "D"
          ],
          [
           "D"
          ],
          [
           "C"
          ],
          [
           "C"
          ],
          [
           "R"
          ],
          [
           "C"
          ],
          [
           "L"
          ],
          [
           "L"
          ],
          [
           "C"
          ],
          [
           "D"
          ],
          [
           "C"
          ],
          [
           "R"
          ],
          [
           "C"
          ],
          [
           "L"
          ],
          [
           "C"
          ],
          [
           "D"
          ],
          [
           "C"
          ],
          [
           "C"
          ],
          [
           "D"
          ],
          [
           "D"
          ],
          [
           "D"
          ],
          [
           "D"
          ],
          [
           "C"
          ],
          [
           "D"
          ],
          [
           "D"
          ],
          [
           "D"
          ],
          [
           "L"
          ],
          [
           "L"
          ],
          [
           "C"
          ],
          [
           "D"
          ],
          [
           "C"
          ],
          [
           "D"
          ],
          [
           "D"
          ],
          [
           "L"
          ],
          [
           "C"
          ],
          [
           "C"
          ],
          [
           "D"
          ],
          [
           "D"
          ],
          [
           "C"
          ],
          [
           "D"
          ],
          [
           "C"
          ],
          [
           "D"
          ],
          [
           "C"
          ],
          [
           "L"
          ],
          [
           "D"
          ],
          [
           "D"
          ],
          [
           "C"
          ],
          [
           "L"
          ],
          [
           "D"
          ],
          [
           "D"
          ],
          [
           "C"
          ],
          [
           "D"
          ],
          [
           "R"
          ],
          [
           "C"
          ],
          [
           "D"
          ],
          [
           "C"
          ],
          [
           "D"
          ],
          [
           "D"
          ],
          [
           "D"
          ],
          [
           "D"
          ],
          [
           "C"
          ],
          [
           "R"
          ],
          [
           "C"
          ],
          [
           "C"
          ],
          [
           "C"
          ],
          [
           "L"
          ],
          [
           "D"
          ],
          [
           "L"
          ],
          [
           "D"
          ],
          [
           "R"
          ],
          [
           "D"
          ],
          [
           "D"
          ],
          [
           "D"
          ],
          [
           "C"
          ],
          [
           "R"
          ],
          [
           "C"
          ],
          [
           "D"
          ],
          [
           "L"
          ],
          [
           "D"
          ],
          [
           "C"
          ],
          [
           "D"
          ],
          [
           "C"
          ],
          [
           "C"
          ],
          [
           "D"
          ],
          [
           "R"
          ],
          [
           "R"
          ],
          [
           "C"
          ],
          [
           "R"
          ],
          [
           "L"
          ],
          [
           "R"
          ],
          [
           "D"
          ],
          [
           "C"
          ],
          [
           "C"
          ],
          [
           "C"
          ],
          [
           "D"
          ],
          [
           "R"
          ],
          [
           "R"
          ],
          [
           "R"
          ],
          [
           "C"
          ],
          [
           "C"
          ],
          [
           "D"
          ],
          [
           "C"
          ],
          [
           "C"
          ],
          [
           "L"
          ],
          [
           "D"
          ],
          [
           "D"
          ],
          [
           "D"
          ],
          [
           "D"
          ],
          [
           "D"
          ],
          [
           "R"
          ],
          [
           "C"
          ],
          [
           "C"
          ],
          [
           "L"
          ],
          [
           "D"
          ],
          [
           "D"
          ],
          [
           "D"
          ],
          [
           "D"
          ],
          [
           "D"
          ],
          [
           "C"
          ],
          [
           "D"
          ],
          [
           "C"
          ],
          [
           "C"
          ],
          [
           "C"
          ],
          [
           "C"
          ],
          [
           "L"
          ],
          [
           "D"
          ],
          [
           "L"
          ],
          [
           "C"
          ],
          [
           "D"
          ],
          [
           "C"
          ],
          [
           "L"
          ],
          [
           "C"
          ],
          [
           "D"
          ],
          [
           "L"
          ],
          [
           "D"
          ],
          [
           "D"
          ],
          [
           "R"
          ],
          [
           "R"
          ],
          [
           "R"
          ],
          [
           "D"
          ],
          [
           "C"
          ],
          [
           "C"
          ],
          [
           "D"
          ],
          [
           "R"
          ],
          [
           "C"
          ],
          [
           "D"
          ],
          [
           "D"
          ],
          [
           "D"
          ],
          [
           "D"
          ],
          [
           "D"
          ],
          [
           "D"
          ],
          [
           "D"
          ],
          [
           "D"
          ],
          [
           "R"
          ],
          [
           "C"
          ],
          [
           "D"
          ],
          [
           "D"
          ],
          [
           "D"
          ],
          [
           "D"
          ],
          [
           "L"
          ],
          [
           "D"
          ],
          [
           "R"
          ],
          [
           "L"
          ],
          [
           "L"
          ],
          [
           "C"
          ],
          [
           "D"
          ],
          [
           "D"
          ],
          [
           "D"
          ],
          [
           "D"
          ],
          [
           "C"
          ],
          [
           "D"
          ],
          [
           "R"
          ],
          [
           "L"
          ],
          [
           "D"
          ],
          [
           "C"
          ],
          [
           "D"
          ],
          [
           "C"
          ],
          [
           "D"
          ],
          [
           "D"
          ],
          [
           "L"
          ],
          [
           "L"
          ],
          [
           "R"
          ],
          [
           "L"
          ],
          [
           "C"
          ],
          [
           "R"
          ],
          [
           "R"
          ]
         ],
         "hovertemplate": "<b>%{hovertext}</b><br><br>PP TOI%=%{x}<br>SH TOI%=%{y}<br>GP=%{marker.size}<br>Pos=%{customdata[0]}<extra></extra>",
         "hovertext": [
          "Mitchell Marner",
          "Brayden Point",
          "Joe Morrow",
          "Brad Marchand",
          "Taylor Fedun",
          "Patrice Bergeron",
          "Sidney Crosby",
          "Nicklas Backstrom",
          "Blake Coleman",
          "Anthony Cirelli",
          "Connor McDavid",
          "Patrick Eaves",
          "Neal Pionk",
          "T.J. Oshie",
          "Steven Stamkos",
          "Niklas Hjalmarsson",
          "John Tavares",
          "Claude Giroux",
          "Troy Brouwer",
          "Chad Ruhwedel",
          "John Klingberg",
          "Kris Letang",
          "Torey Krug",
          "Oscar Klefbom",
          "Nikita Zaitsev",
          "Ondrej Palat",
          "Joe Pavelski",
          "Jamie Benn",
          "Ryan O'Reilly",
          "Jason Spezza",
          "Kevin Shattenkirk",
          "Tyler Seguin",
          "Victor Hedman",
          "Bryan Rust",
          "Kyle Connor",
          "Wayne Simmonds",
          "Yanni Gourde",
          "Ryan Nugent-Hopkins",
          "Leon Draisaitl",
          "John Carlson",
          "Johan Larsson",
          "Brayden Schenn",
          "David Backes",
          "Marcus Johansson",
          "Kimmo Timonen",
          "Darren Helm",
          "Mark Letestu",
          "Tyler Bozak",
          "Nate Schmidt",
          "J.T. Miller",
          "Casey Cizikas",
          "Alexander Steen",
          "Logan Couture",
          "Jack Eichel",
          "Brent Burns",
          "Dave Bolland",
          "Erik Haula",
          "Blake Wheeler",
          "Patrick Marleau",
          "Alex Chiasson",
          "Mike Matheson",
          "Sean Monahan",
          "Kyle Palmieri",
          "Nathan MacKinnon",
          "Paul Stastny",
          "J.T. Compher",
          "Morgan Rielly",
          "Nic Dowd",
          "Chris Kunitz",
          "Jacob Josefson",
          "Matt Niskanen",
          "James van Riemsdyk",
          "Travis Zajac",
          "Tyler Johnson",
          "Leo Komarov",
          "Mikhail Sergachev",
          "Keith Yandle",
          "David Legwand",
          "Mark Stone",
          "Aleksander Barkov",
          "Mark Scheifele",
          "Jared Spurgeon",
          "Niklas Kronwall",
          "Taylor Hall",
          "Rasmus Ristolainen",
          "Vladimir Tarasenko",
          "Sean Walker",
          "Dustin Byfuglien",
          "Jaden Schwartz",
          "Josh Jooris",
          "Jonathan Toews",
          "Gabriel Landeskog",
          "Mark Giordano",
          "Teuvo Teravainen",
          "David Krejci",
          "Jonathan Huberdeau",
          "Jake Guentzel",
          "David Perron",
          "Ryan Johansen",
          "Mats Zuccarello",
          "Chris Phillips",
          "Sebastian Aho",
          "Mark Streit",
          "Mika Zibanejad",
          "Shane Doan",
          "Yannick Weber",
          "Zdeno Chara",
          "Elias Lindholm",
          "Alexander Edler",
          "James Wisniewski",
          "Filip Forsberg",
          "Matt Grzelcyk",
          "Tomas Hertl",
          "Colton Sissons",
          "Justin Abdelkader",
          "Antoine Vermette",
          "Mikko Koivu",
          "Anze Kopitar",
          "Andy Greene",
          "Fedor Tyutin",
          "Max Pacioretty",
          "Jordan Greenway",
          "Alexander Wennberg",
          "Jeff Carter",
          "Corey Perry",
          "Clarke MacArthur",
          "Ryan White",
          "Alex Pietrangelo",
          "Tyson Barrie",
          "Justin Schultz",
          "Radim Vrbata",
          "Mike Green",
          "Nick Foligno",
          "Mike Fisher",
          "Henrik Sedin",
          "Reilly Smith",
          "Alex Killorn",
          "Jason Zucker",
          "Henri Jokiharju",
          "Martin Hanzal",
          "Pavel Zacha",
          "Steven Kampfer",
          "Rickard Rakell",
          "Ethan Bear",
          "Ryan Callahan",
          "Jack Johnson",
          "Justin Faulk",
          "Loui Eriksson",
          "Paul Martin",
          "Colton Parayko",
          "David Schlemko",
          "Daniel Sedin",
          "Joel Ward",
          "Frans Nielsen",
          "Jordan Staal",
          "Zach Werenski",
          "Cam Fowler",
          "Sami Vatanen",
          "Riley Sheahan",
          "Bo Horvat",
          "Mikael Granlund",
          "Zach Parise",
          "Cam Atkinson",
          "Shea Theodore",
          "Brent Seabrook",
          "Darnell Nurse",
          "Roman Josi",
          "Kevin Hayes",
          "Drew Doughty",
          "Shea Weber",
          "Ryan Suter",
          "Jakob Chychrun",
          "Andrei Markov",
          "Bryan Little",
          "Vladislav Namestnikov",
          "Viktor Arvidsson",
          "Sami Salo",
          "Lauri Korpikoski",
          "Paul Byron",
          "Kyle Turris",
          "Sean Couturier",
          "Tanner Pearson",
          "Derek Stepan",
          "Derick Brassard",
          "Rick Nash",
          "Dougie Hamilton",
          "David Savard",
          "P.K. Subban",
          "Adam Henrique",
          "Jordan Eberle",
          "Eric Staal",
          "Nick Schmaltz",
          "Marian Hossa",
          "Andreas Athanasiou",
          "Josh Morrissey",
          "Oliver Ekman-Larsson",
          "Justin Williams",
          "Ryan McDonagh",
          "Erik Karlsson",
          "Nick Holden",
          "Jay Harrison",
          "Victor Rask",
          "Matt Cullen",
          "Brian Boyle",
          "Matt Dumba",
          "Jake Gardiner",
          "Jori Lehtera",
          "Mikkel Boedker",
          "Mattias Janmark",
          "Riley Nash",
          "Nick Leddy",
          "Dustin Brown",
          "Aaron Ekblad",
          "Carl Soderberg",
          "Patrik Elias",
          "Alec Martinez",
          "Ryan Getzlaf",
          "Duncan Keith",
          "Michael Stone",
          "Kris Russell",
          "Andrew MacDonald",
          "Tyler Toffoli",
          "Timo Meier",
          "Cody Franson",
          "Alexander Burmistrov",
          "Ryan Kesler",
          "Vincent Trocheck",
          "Gustav Forsling",
          "Maxime Lajoie",
          "Logan Shaw",
          "Artem Anisimov",
          "Tomas Plekanec",
          "Andrej Sekera",
          "William Karlsson",
          "Olli Maatta",
          "Dan Girardi",
          "Boyd Gordon",
          "Barclay Goodrow",
          "Johnny Boychuk",
          "Calle Jarnkrok",
          "Jonas Brodin",
          "Andrew Shaw",
          "Joel Armia",
          "Adam Lowry",
          "Jacob Trouba",
          "Damon Severson",
          "Milan Michalek",
          "Brady Skjei",
          "Matt Beleskey",
          "Dennis Wideman",
          "Josh Bailey",
          "Vernon Fiddler",
          "Jamie McBain",
          "Ryan Strome",
          "Jeff Petry",
          "Dan Boyle",
          "Lucas Wallmark",
          "Brooks Laich",
          "Colin Miller",
          "Evander Kane",
          "Chris Tierney",
          "Ryan Smyth",
          "Jussi Jokinen",
          "Ryan Pulock",
          "Hampus Lindholm",
          "Tom Wilson",
          "Gustav Nyquist",
          "Jake Muzzin",
          "Ryan Murray",
          "Teddy Purcell",
          "Benoit Pouliot",
          "Christopher Tanev",
          "Nick Ritchie",
          "Matt Duchene",
          "Christian Ehrhoff",
          "Jon Merrill",
          "Oscar Fantenberg",
          "Esa Lindell",
          "Alex Tanguay",
          "Anthony Beauvillier",
          "Michael Cammalleri",
          "Erik Johnson",
          "Alex Iafallo",
          "Devin Shore",
          "Evan Rodrigues",
          "David Moss",
          "Connor Brown",
          "Anton Lander",
          "Andrew Ladd",
          "Jordan Martinook",
          "Dion Phaneuf",
          "Rasmus Andersson",
          "Brett Howden",
          "Miro Heiskanen",
          "Artturi Lehkonen",
          "Derek Grant",
          "Charlie Coyle",
          "Matt Hunwick",
          "Valtteri Filppula",
          "Brian Gionta",
          "Tyler Myers",
          "Noah Hanifin",
          "Drake Caggiula",
          "Brett Pesce",
          "Lee Stempniak",
          "Jakob Silfverberg",
          "Jesper Bratt",
          "Alex Goligoski",
          "Seth Jones",
          "R.J. Umberger",
          "Matt Calvert",
          "Mattias Ekholm",
          "Colton Sceviour",
          "Dylan Larkin",
          "Jason Garrison",
          "TJ Brodie",
          "Curtis Lazar",
          "Markus Granlund",
          "Martin St. Louis",
          "Nick Bjugstad",
          "Oscar Lindberg",
          "Zach Hyman",
          "Phillip Danault",
          "Thomas Chabot",
          "Nico Hischier",
          "Jason Pominville",
          "Mikael Backlund",
          "Jimmy Vesey",
          "Shawn Horcoff",
          "Filip Hronek",
          "Adrian Kempe",
          "Trevor Lewis",
          "Marcus Pettersson",
          "Anton Stralman",
          "Matt Irwin",
          "Ben Hutton",
          "Brock Nelson",
          "Nikita Zadorov",
          "John-Michael Liles",
          "Brayden McNabb",
          "Antoine Roussel",
          "Jason Chimera",
          "Chandler Stephenson",
          "Patrick Wiercioch",
          "Boone Jenner",
          "Marco Scandella",
          "Michael Del Zotto",
          "Scott Wilson",
          "Tobias Rieder",
          "Nick Spaling",
          "Charlie McAvoy",
          "Nathan Beaulieu",
          "Derek Ryan",
          "Ryan Ellis",
          "Frank Vatrano",
          "Marc-Edouard Vlasic",
          "John Mitchell",
          "Anthony Duclair",
          "Francois Beauchemin",
          "Dylan DeMelo",
          "Mike Santorelli",
          "Mason Raymond",
          "Jay Bouwmeester",
          "Matt Carle",
          "Nick Bonino",
          "Ivan Provorov",
          "Drew Stafford",
          "Oskar Sundqvist",
          "Trevor Daley",
          "Tommy Wingels",
          "Jason Demers",
          "Toby Enstrom",
          "Jordan Oesterle",
          "Kevin Bieksa",
          "Radek Faksa",
          "Vinnie Hinostroza",
          "Eric Fehr",
          "Christian Dvorak",
          "Nathan Gerbe",
          "Brandon Saad",
          "Slava Voynov",
          "Oskar Lindblom",
          "Jaccob Slavin",
          "Kasperi Kapanen",
          "Matt Benning",
          "Travis Hamonic",
          "Dmitry Kulikov",
          "Joe Colborne",
          "Josh Anderson",
          "Brandon Dubinsky",
          "Dmitry Orlov",
          "Jiri Tlusty",
          "Radko Gudas",
          "Colin Greening",
          "John Moore",
          "Sam Bennett",
          "Jarret Stoll",
          "Brendan Smith",
          "Alexandre Burrows",
          "Scottie Upshall",
          "Patrik Berglund",
          "Richard Panik",
          "Matt Nieto",
          "Martin Erat",
          "Brian Campbell",
          "Jean-Gabriel Pageau",
          "Luke Kunin",
          "Rich Peverley",
          "Andre Benoit",
          "Matt Read",
          "Michael Frolik",
          "Mark Arcobello",
          "Peter Holland",
          "Lars Eller",
          "Trevor van Riemsdyk",
          "Vladimir Sobotka",
          "Jared McCann",
          "Blake Comeau",
          "Kevin Connauton",
          "Connor Carrick",
          "Calvin de Haan",
          "Ian Cole",
          "Cody Ceci",
          "Nikita Soshnikov",
          "Zack Smith",
          "Blake Lizotte",
          "Matt Martin",
          "Travis Sanheim",
          "Brandon Montour",
          "Jake McCabe",
          "Troy Stecher",
          "Jordie Benn",
          "Olli Jokinen",
          "Victor Mete",
          "Brian Flynn",
          "Zemgus Girgensons",
          "Brandon Sutter",
          "Nicholas Shore",
          "Jujhar Khaira",
          "Marc Staal",
          "Zach Sanford",
          "Austin Czarnik",
          "Nikita Nikitin",
          "Mike Richards",
          "Marcus Foligno",
          "Cody Eakin",
          "Justin Braun",
          "Brock McGinn",
          "Mark Barberio",
          "Zach Trotman",
          "Zack Kassian",
          "Ryan Hartman",
          "Jannik Hansen",
          "Danny DeKeyser",
          "Steve Ott",
          "Sergey Kalinin",
          "Brian Dumoulin",
          "Dale Weise",
          "Mikhail Grigorenko",
          "Zach Bogosian",
          "Andrej Meszaros",
          "Alexei Emelin",
          "Ron Hainsey",
          "Stephen Johns",
          "Brandon Manning",
          "Tom Gilbert",
          "Erik Gudbranson",
          "Valeri Nichushkin",
          "Dainius Zubrus",
          "Grant Clitsome",
          "Adam Larsson",
          "MacKenzie Weegar",
          "Raphael Diaz",
          "Tomas Fleischmann",
          "Dan Hamhuis",
          "Justin Fontaine",
          "Michael Raffl",
          "Chris Higgins",
          "Marcel Goc",
          "Marc Methot",
          "Thomas Hickey",
          "Kevin Gravel",
          "Connor Murphy",
          "Mark Jankowski",
          "Mark Pysyk",
          "Cal Clutterbuck",
          "Dwight King",
          "Simon Despres",
          "Andrew Copp",
          "Michal Rozsival",
          "Melker Karlsson",
          "Josh Gorges",
          "Dennis Seidenberg",
          "Shawn Matthias",
          "Carl Hagelin",
          "Devante Smith-Pelly",
          "Cody McLeod",
          "Andrew Cogliano",
          "Tomas Kopecky",
          "Daniel Cleary"
         ],
         "legendgroup": "",
         "marker": {
          "color": "#636efa",
          "opacity": 0.75,
          "size": [
           300,
           295,
           162,
           533,
           127,
           510,
           514,
           543,
           246,
           168,
           351,
           219,
           172,
           511,
           430,
           474,
           523,
           556,
           484,
           163,
           425,
           423,
           520,
           378,
           281,
           482,
           551,
           551,
           539,
           512,
           478,
           538,
           504,
           308,
           249,
           542,
           254,
           502,
           422,
           523,
           392,
           548,
           456,
           465,
           93,
           448,
           385,
           495,
           396,
           478,
           474,
           481,
           483,
           354,
           549,
           101,
           405,
           559,
           558,
           512,
           299,
           541,
           491,
           525,
           478,
           223,
           517,
           251,
           441,
           224,
           539,
           497,
           520,
           520,
           415,
           228,
           563,
           242,
           445,
           479,
           508,
           491,
           438,
           456,
           493,
           469,
           109,
           419,
           468,
           213,
           535,
           515,
           508,
           428,
           487,
           488,
           243,
           510,
           553,
           509,
           106,
           310,
           295,
           497,
           294,
           382,
           498,
           525,
           442,
           145,
           453,
           197,
           453,
           322,
           482,
           376,
           492,
           551,
           538,
           266,
           517,
           154,
           415,
           476,
           471,
           149,
           224,
           534,
           512,
           434,
           345,
           447,
           512,
           292,
           390,
           537,
           547,
           445,
           107,
           282,
           266,
           150,
           443,
           89,
           352,
           529,
           524,
           469,
           286,
           386,
           276,
           400,
           373,
           529,
           482,
           300,
           484,
           426,
           511,
           446,
           513,
           465,
           509,
           264,
           515,
           350,
           532,
           450,
           555,
           462,
           552,
           234,
           306,
           439,
           425,
           335,
           71,
           273,
           414,
           492,
           524,
           457,
           527,
           530,
           342,
           510,
           522,
           511,
           548,
           529,
           550,
           249,
           291,
           303,
           288,
           545,
           509,
           493,
           503,
           489,
           123,
           405,
           443,
           496,
           411,
           532,
           307,
           453,
           297,
           504,
           544,
           542,
           458,
           546,
           150,
           465,
           497,
           531,
           419,
           482,
           354,
           515,
           263,
           307,
           154,
           423,
           427,
           122,
           62,
           215,
           473,
           403,
           425,
           410,
           427,
           439,
           220,
           276,
           479,
           459,
           510,
           445,
           295,
           408,
           478,
           430,
           198,
           314,
           268,
           234,
           536,
           297,
           142,
           491,
           524,
           214,
           167,
           210,
           301,
           452,
           436,
           72,
           372,
           234,
           502,
           522,
           530,
           523,
           347,
           251,
           334,
           422,
           294,
           527,
           176,
           356,
           124,
           308,
           166,
           286,
           300,
           447,
           227,
           288,
           199,
           139,
           324,
           148,
           418,
           374,
           448,
           160,
           136,
           150,
           291,
           259,
           533,
           244,
           535,
           331,
           447,
           389,
           222,
           350,
           347,
           510,
           185,
           550,
           524,
           180,
           451,
           535,
           452,
           389,
           318,
           530,
           284,
           335,
           155,
           428,
           252,
           302,
           339,
           205,
           209,
           472,
           520,
           304,
           212,
           111,
           256,
           471,
           175,
           505,
           321,
           341,
           548,
           356,
           215,
           441,
           480,
           397,
           209,
           218,
           489,
           491,
           407,
           193,
           434,
           211,
           184,
           364,
           302,
           463,
           274,
           516,
           279,
           353,
           364,
           269,
           198,
           172,
           476,
           211,
           514,
           315,
           398,
           201,
           437,
           368,
           453,
           317,
           209,
           347,
           351,
           246,
           346,
           246,
           238,
           540,
           88,
           134,
           377,
           202,
           248,
           454,
           445,
           279,
           267,
           401,
           451,
           170,
           457,
           133,
           433,
           364,
           231,
           430,
           344,
           345,
           359,
           444,
           472,
           149,
           326,
           426,
           131,
           62,
           140,
           328,
           501,
           138,
           241,
           545,
           364,
           228,
           310,
           491,
           314,
           230,
           406,
           474,
           496,
           87,
           462,
           66,
           491,
           200,
           243,
           340,
           286,
           488,
           144,
           171,
           249,
           489,
           393,
           299,
           218,
           504,
           157,
           121,
           119,
           174,
           504,
           508,
           534,
           308,
           270,
           91,
           442,
           314,
           308,
           430,
           234,
           121,
           347,
           395,
           192,
           347,
           112,
           351,
           541,
           167,
           245,
           208,
           414,
           288,
           206,
           56,
           445,
           172,
           119,
           222,
           472,
           197,
           470,
           188,
           148,
           302,
           410,
           109,
           444,
           208,
           398,
           478,
           285,
           142,
           356,
           180,
           396,
           289,
           278,
           298,
           492,
           339,
           380,
           554,
           113,
           69
          ],
          "sizemode": "area",
          "sizeref": 5.63,
          "symbol": "circle"
         },
         "mode": "markers",
         "name": "",
         "orientation": "v",
         "showlegend": false,
         "type": "scatter",
         "x": [
          56.2,
          55.2,
          9.3,
          45.2,
          11.2,
          59.2,
          71.9,
          68,
          7.4,
          10.7,
          69.5,
          39.1,
          44.7,
          59.7,
          64.6,
          2.1,
          66.1,
          64.7,
          39.4,
          7.5,
          62.5,
          69,
          66.3,
          48.9,
          14.7,
          39.6,
          63,
          60,
          59.4,
          52.7,
          56,
          63.4,
          53.8,
          16.1,
          59.4,
          59.2,
          25.8,
          56.3,
          63.6,
          64.1,
          8.2,
          56.5,
          43.3,
          54.9,
          50.1,
          10.7,
          31.8,
          50.1,
          17,
          40.4,
          2.1,
          50.8,
          60.1,
          67.8,
          65,
          19.9,
          17.4,
          60.1,
          54.1,
          34.8,
          12.9,
          56.9,
          48.2,
          58.1,
          50.5,
          40.9,
          41.1,
          9.1,
          35.8,
          19.2,
          33,
          55.1,
          42.2,
          42.9,
          18.9,
          33.5,
          69.1,
          32.4,
          53.1,
          56.3,
          55.1,
          43.5,
          51.5,
          57.5,
          56.1,
          55.6,
          12.8,
          63.5,
          49,
          5,
          59,
          56.2,
          58.2,
          48.1,
          50.9,
          54.2,
          42.2,
          48.8,
          54.2,
          52.9,
          17.4,
          55,
          51.4,
          53.2,
          47.2,
          14.6,
          21.3,
          53.3,
          51.9,
          60.4,
          51.8,
          28.8,
          40.9,
          15.4,
          35,
          41.4,
          53.8,
          59.1,
          13.1,
          10.2,
          55.4,
          9.7,
          45.2,
          53,
          56.6,
          48.3,
          8.2,
          54.3,
          59.6,
          52.3,
          51.6,
          50.6,
          46.7,
          45.7,
          62,
          43.9,
          41,
          28.4,
          9.5,
          47.1,
          30.6,
          7.6,
          46.8,
          21.6,
          32.5,
          26.5,
          51.3,
          38.6,
          18.7,
          31.3,
          26.4,
          62.3,
          28.4,
          44.7,
          40.5,
          56.8,
          57.8,
          51.8,
          19.2,
          45.5,
          47.9,
          58,
          49.8,
          56.4,
          42.9,
          17.6,
          57.8,
          28.7,
          66,
          59.8,
          65,
          35.2,
          66.2,
          45.2,
          35.2,
          38.8,
          35.8,
          13.6,
          13.2,
          49.4,
          41.4,
          30.5,
          49.8,
          49,
          47.5,
          47,
          15.3,
          63.3,
          48.9,
          51.5,
          52.7,
          42.4,
          41.5,
          33.2,
          19.8,
          71.7,
          42.4,
          38.2,
          76.6,
          16,
          14.4,
          40.7,
          11.7,
          20.5,
          44.8,
          44.1,
          28.9,
          41.9,
          16.8,
          11.2,
          52.7,
          39.9,
          43.1,
          35.2,
          50,
          37.5,
          61.2,
          52.2,
          23.9,
          23.2,
          18.4,
          39.9,
          31.3,
          42.8,
          18.1,
          50.1,
          46.6,
          14.3,
          31,
          6,
          39.7,
          31.1,
          36,
          30.8,
          15.7,
          12,
          6.2,
          5.8,
          21.4,
          16,
          15.3,
          46.1,
          27.8,
          11.7,
          33.1,
          39.5,
          41.1,
          15.5,
          25.7,
          47.1,
          44.1,
          5.2,
          38.9,
          43,
          38.4,
          56.7,
          21.4,
          10.6,
          38.7,
          45.7,
          16.1,
          44.9,
          41.2,
          38.1,
          36.6,
          9.3,
          52.2,
          40.4,
          26.3,
          49,
          29.4,
          8.4,
          20.6,
          51,
          48.2,
          10.8,
          11.2,
          25.9,
          45.5,
          26,
          48.9,
          29.8,
          33.4,
          31.7,
          23,
          8.5,
          23.7,
          21.9,
          45.5,
          4.1,
          48,
          25.2,
          16.7,
          43.3,
          18.3,
          9.2,
          35.7,
          4,
          40.8,
          34,
          37.7,
          35.2,
          17.9,
          9.6,
          30.8,
          31.5,
          39.1,
          41,
          46.3,
          26.7,
          8.3,
          22,
          9.8,
          46.8,
          23.7,
          36.1,
          5.5,
          21.4,
          59.8,
          35.3,
          7.7,
          7.6,
          16.3,
          56.1,
          47.4,
          43,
          34.2,
          27.7,
          19.4,
          49,
          32.8,
          5.4,
          18.2,
          22.2,
          11.8,
          29.7,
          42,
          7.7,
          36.9,
          6.5,
          8.7,
          11.2,
          5.5,
          30.3,
          31.3,
          9.8,
          20.9,
          6.9,
          20.2,
          9.8,
          32.4,
          18.2,
          34.3,
          39.8,
          25.8,
          22.7,
          13.9,
          38.7,
          27.3,
          14.4,
          13,
          34.7,
          14.1,
          15.1,
          32.3,
          36.9,
          36.6,
          6.3,
          25.9,
          13.6,
          24.8,
          37.9,
          26.6,
          25.7,
          14,
          14.8,
          5.3,
          38.6,
          26.7,
          35.8,
          47.3,
          27.5,
          21.4,
          18.7,
          11.9,
          12.2,
          19.6,
          27.8,
          20.1,
          30.7,
          17.9,
          29.1,
          3.3,
          14.8,
          18.2,
          26.6,
          15.8,
          5.2,
          31.5,
          8.9,
          24,
          23.8,
          6.5,
          28.1,
          52.7,
          15.7,
          17.3,
          32.5,
          37.4,
          21.9,
          14.5,
          21,
          23.2,
          18.8,
          5.8,
          20.7,
          20.2,
          10.7,
          14.1,
          9.1,
          7.5,
          3.6,
          14.3,
          13,
          16.2,
          21.9,
          2.2,
          15.5,
          37.9,
          7.7,
          19.3,
          7.1,
          22.6,
          11.1,
          5.2,
          9.3,
          26.4,
          4.9,
          5.7,
          2.3,
          9.4,
          27.2,
          20.1,
          30.7,
          7.5,
          22.2,
          7.2,
          3.8,
          10.3,
          13.7,
          6.4,
          7.2,
          8.5,
          14.1,
          13.5,
          18.8,
          7.7,
          9.5,
          27.9,
          18.2,
          25.7,
          3.6,
          5.1,
          8,
          3.9,
          22.3,
          7.3,
          20.2,
          5.4,
          17.9,
          3.5,
          6.4,
          23.3,
          27.3,
          19.6,
          9.4,
          6.8,
          29.1,
          10,
          3.9,
          5.8,
          11.8,
          5.3,
          7.7,
          5.3,
          10.2,
          7.7,
          9.4,
          5.3,
          8.1,
          5,
          5.1,
          4,
          4.9,
          2.2,
          11.1,
          2.8,
          2.1,
          12.5,
          20.4
         ],
         "xaxis": "x",
         "y": [
          17.9,
          12.2,
          9,
          32,
          12,
          36.6,
          7.2,
          14.7,
          43.8,
          47.8,
          14.3,
          6.8,
          42.3,
          18.4,
          9.5,
          60.7,
          9.8,
          18.8,
          33.1,
          19.4,
          8.9,
          46.4,
          6.1,
          41.1,
          52.7,
          24.8,
          18,
          20.7,
          38,
          3.7,
          14.1,
          9.5,
          41.7,
          25.1,
          10.7,
          6.8,
          25.9,
          31.1,
          13.3,
          48.4,
          30.7,
          4.2,
          20.4,
          2.4,
          46.1,
          34.1,
          42,
          13.1,
          24.3,
          7.4,
          44.6,
          34.9,
          29.1,
          9.8,
          36.8,
          32.8,
          26,
          22.1,
          16.2,
          16.7,
          43.8,
          8.5,
          7.8,
          8.2,
          20.9,
          33.5,
          27.3,
          22.7,
          7,
          26.7,
          44,
          7,
          44.2,
          22.9,
          41.5,
          8,
          14.1,
          27.9,
          22.4,
          26.7,
          11.1,
          47.2,
          34.1,
          3.6,
          48.1,
          4.3,
          18.1,
          30.2,
          17.1,
          29.5,
          33.8,
          14.9,
          55.3,
          13.2,
          10.1,
          3.4,
          5.8,
          5.7,
          16.7,
          11.3,
          49.3,
          16.3,
          11.1,
          22.9,
          6.5,
          6.8,
          62.8,
          26.7,
          50,
          32.8,
          16.9,
          12.4,
          18.1,
          34.6,
          23.9,
          23.1,
          31.7,
          37.9,
          66,
          44.4,
          18.9,
          8.2,
          23.4,
          28.2,
          2.6,
          15.6,
          15.7,
          52.7,
          4.6,
          8.1,
          3.5,
          6.4,
          18,
          33.5,
          9.4,
          25.1,
          23,
          10.1,
          22.4,
          24,
          27.4,
          17.6,
          3.8,
          31.8,
          22.8,
          50.3,
          34.1,
          30.7,
          44.6,
          32.8,
          25.3,
          8.5,
          29.5,
          38.5,
          37.6,
          27.3,
          36.5,
          32,
          30.7,
          24.3,
          19,
          17.2,
          24.8,
          7.5,
          42.2,
          39.3,
          50.1,
          26.6,
          49.7,
          57.1,
          48.6,
          16.9,
          43.3,
          28.2,
          12.8,
          17.6,
          36.8,
          32.6,
          34.4,
          12.4,
          43.6,
          15.9,
          33.1,
          2.2,
          24.9,
          15.3,
          44.2,
          34.9,
          32.2,
          2.7,
          13.6,
          10.4,
          32.8,
          5.8,
          33.9,
          35.4,
          6.8,
          55.9,
          29.9,
          38.2,
          21.9,
          5.1,
          31.1,
          29.1,
          17.9,
          5.8,
          13.1,
          5,
          23.9,
          26.9,
          11.8,
          24.6,
          29.5,
          23.5,
          31.5,
          36,
          24.6,
          52.6,
          34.5,
          39.4,
          43.7,
          17.4,
          9.5,
          23.6,
          26.2,
          42.7,
          25.5,
          25.7,
          34.8,
          20,
          27.4,
          39.5,
          39.6,
          33.3,
          34.7,
          51.6,
          47.5,
          28.3,
          47.8,
          35,
          43.6,
          4.4,
          25.3,
          34.6,
          49.6,
          18.1,
          26.9,
          31.2,
          5.2,
          35,
          9.9,
          40.3,
          9.6,
          14.9,
          43.2,
          12.7,
          17.8,
          39.2,
          10,
          24.3,
          34.9,
          28.9,
          24.4,
          25.3,
          38,
          24.8,
          2,
          34.1,
          40.4,
          10.5,
          19.2,
          56.5,
          3.9,
          5.9,
          30.6,
          23.7,
          19.6,
          52.7,
          18.4,
          8,
          8.9,
          49.8,
          14.5,
          15.8,
          22.7,
          32.4,
          42.4,
          33.9,
          26.9,
          37.2,
          39.8,
          10.7,
          29.5,
          34.1,
          33.9,
          31.5,
          11.8,
          42.1,
          29.7,
          28.4,
          41.5,
          16,
          14.1,
          49.6,
          16.7,
          31.1,
          9.1,
          47.2,
          42.8,
          15,
          36.1,
          42,
          36.2,
          17.7,
          34.9,
          43.3,
          17.6,
          34,
          12.7,
          3.9,
          7.7,
          52.2,
          35.6,
          7,
          13,
          3.7,
          37.5,
          12.3,
          22.6,
          44.1,
          10.4,
          27.7,
          20.1,
          47.3,
          11.8,
          26.8,
          17.9,
          29.2,
          21.5,
          39.4,
          25.4,
          22.6,
          25.9,
          11.1,
          18.3,
          44.2,
          30.7,
          9.5,
          31.7,
          34.3,
          26.4,
          14.2,
          25.1,
          35,
          6.9,
          52.8,
          24.6,
          3.7,
          51.3,
          24.5,
          12,
          14.4,
          53.1,
          35.5,
          40.2,
          58.2,
          10.6,
          29.1,
          41.1,
          24.5,
          39.3,
          32.1,
          18.2,
          33.4,
          33,
          6,
          31.1,
          16.2,
          23.2,
          23.5,
          34.8,
          18,
          58.4,
          32.6,
          16.5,
          53,
          38.9,
          9,
          19.2,
          36.7,
          15.5,
          11.8,
          42.2,
          11.4,
          27.2,
          9,
          34.5,
          25.9,
          26.4,
          26.3,
          21.4,
          8,
          34,
          12.9,
          23.9,
          41.5,
          27.9,
          22.5,
          29.3,
          33.6,
          28.3,
          15.4,
          12.5,
          33.1,
          26.8,
          32.2,
          11.2,
          31.5,
          14.1,
          8.1,
          41.6,
          38.3,
          51.5,
          17.7,
          29.9,
          23.8,
          4.9,
          20.3,
          24,
          39,
          17.8,
          42.6,
          15.2,
          11.8,
          34.4,
          36.1,
          46,
          23.6,
          25.3,
          48.1,
          9.3,
          10.8,
          19.8,
          26.1,
          21.2,
          33.5,
          48.4,
          35,
          17.6,
          20.8,
          13.4,
          9.4,
          23.9,
          47.1,
          34.3,
          15.7,
          39.1,
          7.1,
          12.5,
          39.5,
          14.6,
          38.9,
          62.5,
          34.8,
          28.8,
          28.1,
          46.1,
          4,
          29.2,
          23.2,
          45,
          24,
          23.3,
          22,
          46,
          11.2,
          16.5,
          33.4,
          42.9,
          40.9,
          41.6,
          15.9,
          36.5,
          33.2,
          35.8,
          40.1,
          22.4,
          19.6,
          30,
          14.8,
          28.9,
          52.7,
          45.1,
          25.3,
          41.1,
          18.4,
          14.1,
          29.6,
          41.4,
          19.9
         ],
         "yaxis": "y"
        }
       ],
       "layout": {
        "height": 800,
        "legend": {
         "itemsizing": "constant",
         "tracegroupgap": 0
        },
        "shapes": [
         {
          "type": "line",
          "x0": 0,
          "x1": 1,
          "xref": "x domain",
          "y0": 26,
          "y1": 26,
          "yref": "y"
         },
         {
          "type": "line",
          "x0": 31,
          "x1": 31,
          "xref": "x",
          "y0": 0,
          "y1": 1,
          "yref": "y domain"
         },
         {
          "line": {
           "color": "red",
           "dash": "dash"
          },
          "type": "line",
          "x0": 0,
          "x1": 1,
          "xref": "x domain",
          "y0": 49.80999999999999,
          "y1": 49.80999999999999,
          "yref": "y"
         },
         {
          "line": {
           "color": "red",
           "dash": "dash"
          },
          "type": "line",
          "x0": 61.23999999999997,
          "x1": 61.23999999999997,
          "xref": "x",
          "y0": 0,
          "y1": 1,
          "yref": "y domain"
         }
        ],
        "template": {
         "data": {
          "bar": [
           {
            "error_x": {
             "color": "#2a3f5f"
            },
            "error_y": {
             "color": "#2a3f5f"
            },
            "marker": {
             "line": {
              "color": "#E5ECF6",
              "width": 0.5
             }
            },
            "type": "bar"
           }
          ],
          "barpolar": [
           {
            "marker": {
             "line": {
              "color": "#E5ECF6",
              "width": 0.5
             }
            },
            "type": "barpolar"
           }
          ],
          "carpet": [
           {
            "aaxis": {
             "endlinecolor": "#2a3f5f",
             "gridcolor": "white",
             "linecolor": "white",
             "minorgridcolor": "white",
             "startlinecolor": "#2a3f5f"
            },
            "baxis": {
             "endlinecolor": "#2a3f5f",
             "gridcolor": "white",
             "linecolor": "white",
             "minorgridcolor": "white",
             "startlinecolor": "#2a3f5f"
            },
            "type": "carpet"
           }
          ],
          "choropleth": [
           {
            "colorbar": {
             "outlinewidth": 0,
             "ticks": ""
            },
            "type": "choropleth"
           }
          ],
          "contour": [
           {
            "colorbar": {
             "outlinewidth": 0,
             "ticks": ""
            },
            "colorscale": [
             [
              0,
              "#0d0887"
             ],
             [
              0.1111111111111111,
              "#46039f"
             ],
             [
              0.2222222222222222,
              "#7201a8"
             ],
             [
              0.3333333333333333,
              "#9c179e"
             ],
             [
              0.4444444444444444,
              "#bd3786"
             ],
             [
              0.5555555555555556,
              "#d8576b"
             ],
             [
              0.6666666666666666,
              "#ed7953"
             ],
             [
              0.7777777777777778,
              "#fb9f3a"
             ],
             [
              0.8888888888888888,
              "#fdca26"
             ],
             [
              1,
              "#f0f921"
             ]
            ],
            "type": "contour"
           }
          ],
          "contourcarpet": [
           {
            "colorbar": {
             "outlinewidth": 0,
             "ticks": ""
            },
            "type": "contourcarpet"
           }
          ],
          "heatmap": [
           {
            "colorbar": {
             "outlinewidth": 0,
             "ticks": ""
            },
            "colorscale": [
             [
              0,
              "#0d0887"
             ],
             [
              0.1111111111111111,
              "#46039f"
             ],
             [
              0.2222222222222222,
              "#7201a8"
             ],
             [
              0.3333333333333333,
              "#9c179e"
             ],
             [
              0.4444444444444444,
              "#bd3786"
             ],
             [
              0.5555555555555556,
              "#d8576b"
             ],
             [
              0.6666666666666666,
              "#ed7953"
             ],
             [
              0.7777777777777778,
              "#fb9f3a"
             ],
             [
              0.8888888888888888,
              "#fdca26"
             ],
             [
              1,
              "#f0f921"
             ]
            ],
            "type": "heatmap"
           }
          ],
          "heatmapgl": [
           {
            "colorbar": {
             "outlinewidth": 0,
             "ticks": ""
            },
            "colorscale": [
             [
              0,
              "#0d0887"
             ],
             [
              0.1111111111111111,
              "#46039f"
             ],
             [
              0.2222222222222222,
              "#7201a8"
             ],
             [
              0.3333333333333333,
              "#9c179e"
             ],
             [
              0.4444444444444444,
              "#bd3786"
             ],
             [
              0.5555555555555556,
              "#d8576b"
             ],
             [
              0.6666666666666666,
              "#ed7953"
             ],
             [
              0.7777777777777778,
              "#fb9f3a"
             ],
             [
              0.8888888888888888,
              "#fdca26"
             ],
             [
              1,
              "#f0f921"
             ]
            ],
            "type": "heatmapgl"
           }
          ],
          "histogram": [
           {
            "marker": {
             "colorbar": {
              "outlinewidth": 0,
              "ticks": ""
             }
            },
            "type": "histogram"
           }
          ],
          "histogram2d": [
           {
            "colorbar": {
             "outlinewidth": 0,
             "ticks": ""
            },
            "colorscale": [
             [
              0,
              "#0d0887"
             ],
             [
              0.1111111111111111,
              "#46039f"
             ],
             [
              0.2222222222222222,
              "#7201a8"
             ],
             [
              0.3333333333333333,
              "#9c179e"
             ],
             [
              0.4444444444444444,
              "#bd3786"
             ],
             [
              0.5555555555555556,
              "#d8576b"
             ],
             [
              0.6666666666666666,
              "#ed7953"
             ],
             [
              0.7777777777777778,
              "#fb9f3a"
             ],
             [
              0.8888888888888888,
              "#fdca26"
             ],
             [
              1,
              "#f0f921"
             ]
            ],
            "type": "histogram2d"
           }
          ],
          "histogram2dcontour": [
           {
            "colorbar": {
             "outlinewidth": 0,
             "ticks": ""
            },
            "colorscale": [
             [
              0,
              "#0d0887"
             ],
             [
              0.1111111111111111,
              "#46039f"
             ],
             [
              0.2222222222222222,
              "#7201a8"
             ],
             [
              0.3333333333333333,
              "#9c179e"
             ],
             [
              0.4444444444444444,
              "#bd3786"
             ],
             [
              0.5555555555555556,
              "#d8576b"
             ],
             [
              0.6666666666666666,
              "#ed7953"
             ],
             [
              0.7777777777777778,
              "#fb9f3a"
             ],
             [
              0.8888888888888888,
              "#fdca26"
             ],
             [
              1,
              "#f0f921"
             ]
            ],
            "type": "histogram2dcontour"
           }
          ],
          "mesh3d": [
           {
            "colorbar": {
             "outlinewidth": 0,
             "ticks": ""
            },
            "type": "mesh3d"
           }
          ],
          "parcoords": [
           {
            "line": {
             "colorbar": {
              "outlinewidth": 0,
              "ticks": ""
             }
            },
            "type": "parcoords"
           }
          ],
          "pie": [
           {
            "automargin": true,
            "type": "pie"
           }
          ],
          "scatter": [
           {
            "marker": {
             "colorbar": {
              "outlinewidth": 0,
              "ticks": ""
             }
            },
            "type": "scatter"
           }
          ],
          "scatter3d": [
           {
            "line": {
             "colorbar": {
              "outlinewidth": 0,
              "ticks": ""
             }
            },
            "marker": {
             "colorbar": {
              "outlinewidth": 0,
              "ticks": ""
             }
            },
            "type": "scatter3d"
           }
          ],
          "scattercarpet": [
           {
            "marker": {
             "colorbar": {
              "outlinewidth": 0,
              "ticks": ""
             }
            },
            "type": "scattercarpet"
           }
          ],
          "scattergeo": [
           {
            "marker": {
             "colorbar": {
              "outlinewidth": 0,
              "ticks": ""
             }
            },
            "type": "scattergeo"
           }
          ],
          "scattergl": [
           {
            "marker": {
             "colorbar": {
              "outlinewidth": 0,
              "ticks": ""
             }
            },
            "type": "scattergl"
           }
          ],
          "scattermapbox": [
           {
            "marker": {
             "colorbar": {
              "outlinewidth": 0,
              "ticks": ""
             }
            },
            "type": "scattermapbox"
           }
          ],
          "scatterpolar": [
           {
            "marker": {
             "colorbar": {
              "outlinewidth": 0,
              "ticks": ""
             }
            },
            "type": "scatterpolar"
           }
          ],
          "scatterpolargl": [
           {
            "marker": {
             "colorbar": {
              "outlinewidth": 0,
              "ticks": ""
             }
            },
            "type": "scatterpolargl"
           }
          ],
          "scatterternary": [
           {
            "marker": {
             "colorbar": {
              "outlinewidth": 0,
              "ticks": ""
             }
            },
            "type": "scatterternary"
           }
          ],
          "surface": [
           {
            "colorbar": {
             "outlinewidth": 0,
             "ticks": ""
            },
            "colorscale": [
             [
              0,
              "#0d0887"
             ],
             [
              0.1111111111111111,
              "#46039f"
             ],
             [
              0.2222222222222222,
              "#7201a8"
             ],
             [
              0.3333333333333333,
              "#9c179e"
             ],
             [
              0.4444444444444444,
              "#bd3786"
             ],
             [
              0.5555555555555556,
              "#d8576b"
             ],
             [
              0.6666666666666666,
              "#ed7953"
             ],
             [
              0.7777777777777778,
              "#fb9f3a"
             ],
             [
              0.8888888888888888,
              "#fdca26"
             ],
             [
              1,
              "#f0f921"
             ]
            ],
            "type": "surface"
           }
          ],
          "table": [
           {
            "cells": {
             "fill": {
              "color": "#EBF0F8"
             },
             "line": {
              "color": "white"
             }
            },
            "header": {
             "fill": {
              "color": "#C8D4E3"
             },
             "line": {
              "color": "white"
             }
            },
            "type": "table"
           }
          ]
         },
         "layout": {
          "annotationdefaults": {
           "arrowcolor": "#2a3f5f",
           "arrowhead": 0,
           "arrowwidth": 1
          },
          "coloraxis": {
           "colorbar": {
            "outlinewidth": 0,
            "ticks": ""
           }
          },
          "colorscale": {
           "diverging": [
            [
             0,
             "#8e0152"
            ],
            [
             0.1,
             "#c51b7d"
            ],
            [
             0.2,
             "#de77ae"
            ],
            [
             0.3,
             "#f1b6da"
            ],
            [
             0.4,
             "#fde0ef"
            ],
            [
             0.5,
             "#f7f7f7"
            ],
            [
             0.6,
             "#e6f5d0"
            ],
            [
             0.7,
             "#b8e186"
            ],
            [
             0.8,
             "#7fbc41"
            ],
            [
             0.9,
             "#4d9221"
            ],
            [
             1,
             "#276419"
            ]
           ],
           "sequential": [
            [
             0,
             "#0d0887"
            ],
            [
             0.1111111111111111,
             "#46039f"
            ],
            [
             0.2222222222222222,
             "#7201a8"
            ],
            [
             0.3333333333333333,
             "#9c179e"
            ],
            [
             0.4444444444444444,
             "#bd3786"
            ],
            [
             0.5555555555555556,
             "#d8576b"
            ],
            [
             0.6666666666666666,
             "#ed7953"
            ],
            [
             0.7777777777777778,
             "#fb9f3a"
            ],
            [
             0.8888888888888888,
             "#fdca26"
            ],
            [
             1,
             "#f0f921"
            ]
           ],
           "sequentialminus": [
            [
             0,
             "#0d0887"
            ],
            [
             0.1111111111111111,
             "#46039f"
            ],
            [
             0.2222222222222222,
             "#7201a8"
            ],
            [
             0.3333333333333333,
             "#9c179e"
            ],
            [
             0.4444444444444444,
             "#bd3786"
            ],
            [
             0.5555555555555556,
             "#d8576b"
            ],
            [
             0.6666666666666666,
             "#ed7953"
            ],
            [
             0.7777777777777778,
             "#fb9f3a"
            ],
            [
             0.8888888888888888,
             "#fdca26"
            ],
            [
             1,
             "#f0f921"
            ]
           ]
          },
          "colorway": [
           "#636efa",
           "#EF553B",
           "#00cc96",
           "#ab63fa",
           "#FFA15A",
           "#19d3f3",
           "#FF6692",
           "#B6E880",
           "#FF97FF",
           "#FECB52"
          ],
          "font": {
           "color": "#2a3f5f"
          },
          "geo": {
           "bgcolor": "white",
           "lakecolor": "white",
           "landcolor": "#E5ECF6",
           "showlakes": true,
           "showland": true,
           "subunitcolor": "white"
          },
          "hoverlabel": {
           "align": "left"
          },
          "hovermode": "closest",
          "mapbox": {
           "style": "light"
          },
          "paper_bgcolor": "white",
          "plot_bgcolor": "#E5ECF6",
          "polar": {
           "angularaxis": {
            "gridcolor": "white",
            "linecolor": "white",
            "ticks": ""
           },
           "bgcolor": "#E5ECF6",
           "radialaxis": {
            "gridcolor": "white",
            "linecolor": "white",
            "ticks": ""
           }
          },
          "scene": {
           "xaxis": {
            "backgroundcolor": "#E5ECF6",
            "gridcolor": "white",
            "gridwidth": 2,
            "linecolor": "white",
            "showbackground": true,
            "ticks": "",
            "zerolinecolor": "white"
           },
           "yaxis": {
            "backgroundcolor": "#E5ECF6",
            "gridcolor": "white",
            "gridwidth": 2,
            "linecolor": "white",
            "showbackground": true,
            "ticks": "",
            "zerolinecolor": "white"
           },
           "zaxis": {
            "backgroundcolor": "#E5ECF6",
            "gridcolor": "white",
            "gridwidth": 2,
            "linecolor": "white",
            "showbackground": true,
            "ticks": "",
            "zerolinecolor": "white"
           }
          },
          "shapedefaults": {
           "line": {
            "color": "#2a3f5f"
           }
          },
          "ternary": {
           "aaxis": {
            "gridcolor": "white",
            "linecolor": "white",
            "ticks": ""
           },
           "baxis": {
            "gridcolor": "white",
            "linecolor": "white",
            "ticks": ""
           },
           "bgcolor": "#E5ECF6",
           "caxis": {
            "gridcolor": "white",
            "linecolor": "white",
            "ticks": ""
           }
          },
          "title": {
           "x": 0.05
          },
          "xaxis": {
           "automargin": true,
           "gridcolor": "white",
           "linecolor": "white",
           "ticks": "",
           "title": {
            "standoff": 15
           },
           "zerolinecolor": "white",
           "zerolinewidth": 2
          },
          "yaxis": {
           "automargin": true,
           "gridcolor": "white",
           "linecolor": "white",
           "ticks": "",
           "title": {
            "standoff": 15
           },
           "zerolinecolor": "white",
           "zerolinewidth": 2
          }
         }
        },
        "title": {
         "text": "SH TOI% vs PP TOI%"
        },
        "width": 800,
        "xaxis": {
         "anchor": "y",
         "domain": [
          0,
          1
         ],
         "title": {
          "text": "PP TOI%"
         }
        },
        "yaxis": {
         "anchor": "x",
         "domain": [
          0,
          1
         ],
         "title": {
          "text": "SH TOI%"
         }
        }
       }
      },
      "text/html": [
       "<div>                            <div id=\"f98efa65-c66e-4bfb-86d8-b1a4cef045fd\" class=\"plotly-graph-div\" style=\"height:800px; width:800px;\"></div>            <script type=\"text/javascript\">                require([\"plotly\"], function(Plotly) {                    window.PLOTLYENV=window.PLOTLYENV || {};                                    if (document.getElementById(\"f98efa65-c66e-4bfb-86d8-b1a4cef045fd\")) {                    Plotly.newPlot(                        \"f98efa65-c66e-4bfb-86d8-b1a4cef045fd\",                        [{\"customdata\": [[\"R\"], [\"C\"], [\"D\"], [\"L\"], [\"D\"], [\"C\"], [\"C\"], [\"C\"], [\"C\"], [\"C\"], [\"C\"], [\"R\"], [\"D\"], [\"R\"], [\"C\"], [\"D\"], [\"C\"], [\"C\"], [\"R\"], [\"D\"], [\"D\"], [\"D\"], [\"D\"], [\"D\"], [\"D\"], [\"L\"], [\"C\"], [\"L\"], [\"C\"], [\"C\"], [\"D\"], [\"C\"], [\"D\"], [\"R\"], [\"L\"], [\"R\"], [\"C\"], [\"C\"], [\"C\"], [\"D\"], [\"C\"], [\"C\"], [\"R\"], [\"C\"], [\"D\"], [\"L\"], [\"C\"], [\"C\"], [\"D\"], [\"C\"], [\"C\"], [\"L\"], [\"C\"], [\"C\"], [\"D\"], [\"C\"], [\"L\"], [\"R\"], [\"C\"], [\"R\"], [\"D\"], [\"C\"], [\"R\"], [\"C\"], [\"C\"], [\"L\"], [\"D\"], [\"C\"], [\"L\"], [\"C\"], [\"D\"], [\"L\"], [\"C\"], [\"C\"], [\"R\"], [\"D\"], [\"D\"], [\"C\"], [\"R\"], [\"C\"], [\"C\"], [\"D\"], [\"D\"], [\"L\"], [\"D\"], [\"R\"], [\"D\"], [\"D\"], [\"L\"], [\"R\"], [\"C\"], [\"L\"], [\"D\"], [\"L\"], [\"C\"], [\"L\"], [\"L\"], [\"L\"], [\"C\"], [\"R\"], [\"D\"], [\"C\"], [\"D\"], [\"C\"], [\"R\"], [\"D\"], [\"D\"], [\"C\"], [\"D\"], [\"D\"], [\"L\"], [\"D\"], [\"C\"], [\"C\"], [\"L\"], [\"C\"], [\"C\"], [\"C\"], [\"D\"], [\"D\"], [\"L\"], [\"L\"], [\"C\"], [\"C\"], [\"R\"], [\"L\"], [\"C\"], [\"D\"], [\"D\"], [\"D\"], [\"R\"], [\"D\"], [\"L\"], [\"C\"], [\"C\"], [\"R\"], [\"L\"], [\"L\"], [\"D\"], [\"C\"], [\"C\"], [\"D\"], [\"L\"], [\"D\"], [\"R\"], [\"D\"], [\"D\"], [\"L\"], [\"D\"], [\"D\"], [\"D\"], [\"L\"], [\"R\"], [\"C\"], [\"C\"], [\"D\"], [\"D\"], [\"D\"], [\"C\"], [\"C\"], [\"C\"], [\"L\"], [\"R\"], [\"D\"], [\"D\"], [\"D\"], [\"D\"], [\"C\"], [\"D\"], [\"D\"], [\"D\"], [\"D\"], [\"D\"], [\"C\"], [\"C\"], [\"R\"], [\"D\"], [\"L\"], [\"L\"], [\"C\"], [\"C\"], [\"L\"], [\"C\"], [\"C\"], [\"L\"], [\"D\"], [\"D\"], [\"D\"], [\"C\"], [\"R\"], [\"C\"], [\"C\"], [\"R\"], [\"L\"], [\"D\"], [\"D\"], [\"R\"], [\"D\"], [\"D\"], [\"D\"], [\"D\"], [\"C\"], [\"C\"], [\"C\"], [\"D\"], [\"D\"], [\"C\"], [\"L\"], [\"C\"], [\"C\"], [\"D\"], [\"R\"], [\"D\"], [\"C\"], [\"C\"], [\"D\"], [\"C\"], [\"D\"], [\"D\"], [\"D\"], [\"D\"], [\"R\"], [\"R\"], [\"D\"], [\"C\"], [\"C\"], [\"C\"], [\"D\"], [\"D\"], [\"R\"], [\"C\"], [\"C\"], [\"D\"], [\"C\"], [\"D\"], [\"D\"], [\"C\"], [\"C\"], [\"D\"], [\"C\"], [\"D\"], [\"R\"], [\"R\"], [\"C\"], [\"D\"], [\"D\"], [\"L\"], [\"D\"], [\"L\"], [\"D\"], [\"R\"], [\"C\"], [\"D\"], [\"C\"], [\"D\"], [\"D\"], [\"C\"], [\"C\"], [\"D\"], [\"L\"], [\"C\"], [\"L\"], [\"L\"], [\"D\"], [\"D\"], [\"R\"], [\"C\"], [\"D\"], [\"D\"], [\"L\"], [\"L\"], [\"D\"], [\"L\"], [\"C\"], [\"D\"], [\"D\"], [\"D\"], [\"D\"], [\"L\"], [\"L\"], [\"L\"], [\"D\"], [\"L\"], [\"C\"], [\"C\"], [\"R\"], [\"R\"], [\"C\"], [\"L\"], [\"L\"], [\"D\"], [\"D\"], [\"C\"], [\"D\"], [\"L\"], [\"C\"], [\"C\"], [\"D\"], [\"C\"], [\"R\"], [\"D\"], [\"D\"], [\"C\"], [\"D\"], [\"R\"], [\"R\"], [\"L\"], [\"D\"], [\"D\"], [\"C\"], [\"L\"], [\"D\"], [\"C\"], [\"C\"], [\"D\"], [\"D\"], [\"C\"], [\"C\"], [\"R\"], [\"C\"], [\"L\"], [\"L\"], [\"C\"], [\"D\"], [\"C\"], [\"R\"], [\"C\"], [\"L\"], [\"C\"], [\"D\"], [\"C\"], [\"C\"], [\"D\"], [\"D\"], [\"D\"], [\"D\"], [\"C\"], [\"D\"], [\"D\"], [\"D\"], [\"L\"], [\"L\"], [\"C\"], [\"D\"], [\"C\"], [\"D\"], [\"D\"], [\"L\"], [\"C\"], [\"C\"], [\"D\"], [\"D\"], [\"C\"], [\"D\"], [\"C\"], [\"D\"], [\"C\"], [\"L\"], [\"D\"], [\"D\"], [\"C\"], [\"L\"], [\"D\"], [\"D\"], [\"C\"], [\"D\"], [\"R\"], [\"C\"], [\"D\"], [\"C\"], [\"D\"], [\"D\"], [\"D\"], [\"D\"], [\"C\"], [\"R\"], [\"C\"], [\"C\"], [\"C\"], [\"L\"], [\"D\"], [\"L\"], [\"D\"], [\"R\"], [\"D\"], [\"D\"], [\"D\"], [\"C\"], [\"R\"], [\"C\"], [\"D\"], [\"L\"], [\"D\"], [\"C\"], [\"D\"], [\"C\"], [\"C\"], [\"D\"], [\"R\"], [\"R\"], [\"C\"], [\"R\"], [\"L\"], [\"R\"], [\"D\"], [\"C\"], [\"C\"], [\"C\"], [\"D\"], [\"R\"], [\"R\"], [\"R\"], [\"C\"], [\"C\"], [\"D\"], [\"C\"], [\"C\"], [\"L\"], [\"D\"], [\"D\"], [\"D\"], [\"D\"], [\"D\"], [\"R\"], [\"C\"], [\"C\"], [\"L\"], [\"D\"], [\"D\"], [\"D\"], [\"D\"], [\"D\"], [\"C\"], [\"D\"], [\"C\"], [\"C\"], [\"C\"], [\"C\"], [\"L\"], [\"D\"], [\"L\"], [\"C\"], [\"D\"], [\"C\"], [\"L\"], [\"C\"], [\"D\"], [\"L\"], [\"D\"], [\"D\"], [\"R\"], [\"R\"], [\"R\"], [\"D\"], [\"C\"], [\"C\"], [\"D\"], [\"R\"], [\"C\"], [\"D\"], [\"D\"], [\"D\"], [\"D\"], [\"D\"], [\"D\"], [\"D\"], [\"D\"], [\"R\"], [\"C\"], [\"D\"], [\"D\"], [\"D\"], [\"D\"], [\"L\"], [\"D\"], [\"R\"], [\"L\"], [\"L\"], [\"C\"], [\"D\"], [\"D\"], [\"D\"], [\"D\"], [\"C\"], [\"D\"], [\"R\"], [\"L\"], [\"D\"], [\"C\"], [\"D\"], [\"C\"], [\"D\"], [\"D\"], [\"L\"], [\"L\"], [\"R\"], [\"L\"], [\"C\"], [\"R\"], [\"R\"]], \"hovertemplate\": \"<b>%{hovertext}</b><br><br>PP TOI%=%{x}<br>SH TOI%=%{y}<br>GP=%{marker.size}<br>Pos=%{customdata[0]}<extra></extra>\", \"hovertext\": [\"Mitchell Marner\", \"Brayden Point\", \"Joe Morrow\", \"Brad Marchand\", \"Taylor Fedun\", \"Patrice Bergeron\", \"Sidney Crosby\", \"Nicklas Backstrom\", \"Blake Coleman\", \"Anthony Cirelli\", \"Connor McDavid\", \"Patrick Eaves\", \"Neal Pionk\", \"T.J. Oshie\", \"Steven Stamkos\", \"Niklas Hjalmarsson\", \"John Tavares\", \"Claude Giroux\", \"Troy Brouwer\", \"Chad Ruhwedel\", \"John Klingberg\", \"Kris Letang\", \"Torey Krug\", \"Oscar Klefbom\", \"Nikita Zaitsev\", \"Ondrej Palat\", \"Joe Pavelski\", \"Jamie Benn\", \"Ryan O'Reilly\", \"Jason Spezza\", \"Kevin Shattenkirk\", \"Tyler Seguin\", \"Victor Hedman\", \"Bryan Rust\", \"Kyle Connor\", \"Wayne Simmonds\", \"Yanni Gourde\", \"Ryan Nugent-Hopkins\", \"Leon Draisaitl\", \"John Carlson\", \"Johan Larsson\", \"Brayden Schenn\", \"David Backes\", \"Marcus Johansson\", \"Kimmo Timonen\", \"Darren Helm\", \"Mark Letestu\", \"Tyler Bozak\", \"Nate Schmidt\", \"J.T. Miller\", \"Casey Cizikas\", \"Alexander Steen\", \"Logan Couture\", \"Jack Eichel\", \"Brent Burns\", \"Dave Bolland\", \"Erik Haula\", \"Blake Wheeler\", \"Patrick Marleau\", \"Alex Chiasson\", \"Mike Matheson\", \"Sean Monahan\", \"Kyle Palmieri\", \"Nathan MacKinnon\", \"Paul Stastny\", \"J.T. Compher\", \"Morgan Rielly\", \"Nic Dowd\", \"Chris Kunitz\", \"Jacob Josefson\", \"Matt Niskanen\", \"James van Riemsdyk\", \"Travis Zajac\", \"Tyler Johnson\", \"Leo Komarov\", \"Mikhail Sergachev\", \"Keith Yandle\", \"David Legwand\", \"Mark Stone\", \"Aleksander Barkov\", \"Mark Scheifele\", \"Jared Spurgeon\", \"Niklas Kronwall\", \"Taylor Hall\", \"Rasmus Ristolainen\", \"Vladimir Tarasenko\", \"Sean Walker\", \"Dustin Byfuglien\", \"Jaden Schwartz\", \"Josh Jooris\", \"Jonathan Toews\", \"Gabriel Landeskog\", \"Mark Giordano\", \"Teuvo Teravainen\", \"David Krejci\", \"Jonathan Huberdeau\", \"Jake Guentzel\", \"David Perron\", \"Ryan Johansen\", \"Mats Zuccarello\", \"Chris Phillips\", \"Sebastian Aho\", \"Mark Streit\", \"Mika Zibanejad\", \"Shane Doan\", \"Yannick Weber\", \"Zdeno Chara\", \"Elias Lindholm\", \"Alexander Edler\", \"James Wisniewski\", \"Filip Forsberg\", \"Matt Grzelcyk\", \"Tomas Hertl\", \"Colton Sissons\", \"Justin Abdelkader\", \"Antoine Vermette\", \"Mikko Koivu\", \"Anze Kopitar\", \"Andy Greene\", \"Fedor Tyutin\", \"Max Pacioretty\", \"Jordan Greenway\", \"Alexander Wennberg\", \"Jeff Carter\", \"Corey Perry\", \"Clarke MacArthur\", \"Ryan White\", \"Alex Pietrangelo\", \"Tyson Barrie\", \"Justin Schultz\", \"Radim Vrbata\", \"Mike Green\", \"Nick Foligno\", \"Mike Fisher\", \"Henrik Sedin\", \"Reilly Smith\", \"Alex Killorn\", \"Jason Zucker\", \"Henri Jokiharju\", \"Martin Hanzal\", \"Pavel Zacha\", \"Steven Kampfer\", \"Rickard Rakell\", \"Ethan Bear\", \"Ryan Callahan\", \"Jack Johnson\", \"Justin Faulk\", \"Loui Eriksson\", \"Paul Martin\", \"Colton Parayko\", \"David Schlemko\", \"Daniel Sedin\", \"Joel Ward\", \"Frans Nielsen\", \"Jordan Staal\", \"Zach Werenski\", \"Cam Fowler\", \"Sami Vatanen\", \"Riley Sheahan\", \"Bo Horvat\", \"Mikael Granlund\", \"Zach Parise\", \"Cam Atkinson\", \"Shea Theodore\", \"Brent Seabrook\", \"Darnell Nurse\", \"Roman Josi\", \"Kevin Hayes\", \"Drew Doughty\", \"Shea Weber\", \"Ryan Suter\", \"Jakob Chychrun\", \"Andrei Markov\", \"Bryan Little\", \"Vladislav Namestnikov\", \"Viktor Arvidsson\", \"Sami Salo\", \"Lauri Korpikoski\", \"Paul Byron\", \"Kyle Turris\", \"Sean Couturier\", \"Tanner Pearson\", \"Derek Stepan\", \"Derick Brassard\", \"Rick Nash\", \"Dougie Hamilton\", \"David Savard\", \"P.K. Subban\", \"Adam Henrique\", \"Jordan Eberle\", \"Eric Staal\", \"Nick Schmaltz\", \"Marian Hossa\", \"Andreas Athanasiou\", \"Josh Morrissey\", \"Oliver Ekman-Larsson\", \"Justin Williams\", \"Ryan McDonagh\", \"Erik Karlsson\", \"Nick Holden\", \"Jay Harrison\", \"Victor Rask\", \"Matt Cullen\", \"Brian Boyle\", \"Matt Dumba\", \"Jake Gardiner\", \"Jori Lehtera\", \"Mikkel Boedker\", \"Mattias Janmark\", \"Riley Nash\", \"Nick Leddy\", \"Dustin Brown\", \"Aaron Ekblad\", \"Carl Soderberg\", \"Patrik Elias\", \"Alec Martinez\", \"Ryan Getzlaf\", \"Duncan Keith\", \"Michael Stone\", \"Kris Russell\", \"Andrew MacDonald\", \"Tyler Toffoli\", \"Timo Meier\", \"Cody Franson\", \"Alexander Burmistrov\", \"Ryan Kesler\", \"Vincent Trocheck\", \"Gustav Forsling\", \"Maxime Lajoie\", \"Logan Shaw\", \"Artem Anisimov\", \"Tomas Plekanec\", \"Andrej Sekera\", \"William Karlsson\", \"Olli Maatta\", \"Dan Girardi\", \"Boyd Gordon\", \"Barclay Goodrow\", \"Johnny Boychuk\", \"Calle Jarnkrok\", \"Jonas Brodin\", \"Andrew Shaw\", \"Joel Armia\", \"Adam Lowry\", \"Jacob Trouba\", \"Damon Severson\", \"Milan Michalek\", \"Brady Skjei\", \"Matt Beleskey\", \"Dennis Wideman\", \"Josh Bailey\", \"Vernon Fiddler\", \"Jamie McBain\", \"Ryan Strome\", \"Jeff Petry\", \"Dan Boyle\", \"Lucas Wallmark\", \"Brooks Laich\", \"Colin Miller\", \"Evander Kane\", \"Chris Tierney\", \"Ryan Smyth\", \"Jussi Jokinen\", \"Ryan Pulock\", \"Hampus Lindholm\", \"Tom Wilson\", \"Gustav Nyquist\", \"Jake Muzzin\", \"Ryan Murray\", \"Teddy Purcell\", \"Benoit Pouliot\", \"Christopher Tanev\", \"Nick Ritchie\", \"Matt Duchene\", \"Christian Ehrhoff\", \"Jon Merrill\", \"Oscar Fantenberg\", \"Esa Lindell\", \"Alex Tanguay\", \"Anthony Beauvillier\", \"Michael Cammalleri\", \"Erik Johnson\", \"Alex Iafallo\", \"Devin Shore\", \"Evan Rodrigues\", \"David Moss\", \"Connor Brown\", \"Anton Lander\", \"Andrew Ladd\", \"Jordan Martinook\", \"Dion Phaneuf\", \"Rasmus Andersson\", \"Brett Howden\", \"Miro Heiskanen\", \"Artturi Lehkonen\", \"Derek Grant\", \"Charlie Coyle\", \"Matt Hunwick\", \"Valtteri Filppula\", \"Brian Gionta\", \"Tyler Myers\", \"Noah Hanifin\", \"Drake Caggiula\", \"Brett Pesce\", \"Lee Stempniak\", \"Jakob Silfverberg\", \"Jesper Bratt\", \"Alex Goligoski\", \"Seth Jones\", \"R.J. Umberger\", \"Matt Calvert\", \"Mattias Ekholm\", \"Colton Sceviour\", \"Dylan Larkin\", \"Jason Garrison\", \"TJ Brodie\", \"Curtis Lazar\", \"Markus Granlund\", \"Martin St. Louis\", \"Nick Bjugstad\", \"Oscar Lindberg\", \"Zach Hyman\", \"Phillip Danault\", \"Thomas Chabot\", \"Nico Hischier\", \"Jason Pominville\", \"Mikael Backlund\", \"Jimmy Vesey\", \"Shawn Horcoff\", \"Filip Hronek\", \"Adrian Kempe\", \"Trevor Lewis\", \"Marcus Pettersson\", \"Anton Stralman\", \"Matt Irwin\", \"Ben Hutton\", \"Brock Nelson\", \"Nikita Zadorov\", \"John-Michael Liles\", \"Brayden McNabb\", \"Antoine Roussel\", \"Jason Chimera\", \"Chandler Stephenson\", \"Patrick Wiercioch\", \"Boone Jenner\", \"Marco Scandella\", \"Michael Del Zotto\", \"Scott Wilson\", \"Tobias Rieder\", \"Nick Spaling\", \"Charlie McAvoy\", \"Nathan Beaulieu\", \"Derek Ryan\", \"Ryan Ellis\", \"Frank Vatrano\", \"Marc-Edouard Vlasic\", \"John Mitchell\", \"Anthony Duclair\", \"Francois Beauchemin\", \"Dylan DeMelo\", \"Mike Santorelli\", \"Mason Raymond\", \"Jay Bouwmeester\", \"Matt Carle\", \"Nick Bonino\", \"Ivan Provorov\", \"Drew Stafford\", \"Oskar Sundqvist\", \"Trevor Daley\", \"Tommy Wingels\", \"Jason Demers\", \"Toby Enstrom\", \"Jordan Oesterle\", \"Kevin Bieksa\", \"Radek Faksa\", \"Vinnie Hinostroza\", \"Eric Fehr\", \"Christian Dvorak\", \"Nathan Gerbe\", \"Brandon Saad\", \"Slava Voynov\", \"Oskar Lindblom\", \"Jaccob Slavin\", \"Kasperi Kapanen\", \"Matt Benning\", \"Travis Hamonic\", \"Dmitry Kulikov\", \"Joe Colborne\", \"Josh Anderson\", \"Brandon Dubinsky\", \"Dmitry Orlov\", \"Jiri Tlusty\", \"Radko Gudas\", \"Colin Greening\", \"John Moore\", \"Sam Bennett\", \"Jarret Stoll\", \"Brendan Smith\", \"Alexandre Burrows\", \"Scottie Upshall\", \"Patrik Berglund\", \"Richard Panik\", \"Matt Nieto\", \"Martin Erat\", \"Brian Campbell\", \"Jean-Gabriel Pageau\", \"Luke Kunin\", \"Rich Peverley\", \"Andre Benoit\", \"Matt Read\", \"Michael Frolik\", \"Mark Arcobello\", \"Peter Holland\", \"Lars Eller\", \"Trevor van Riemsdyk\", \"Vladimir Sobotka\", \"Jared McCann\", \"Blake Comeau\", \"Kevin Connauton\", \"Connor Carrick\", \"Calvin de Haan\", \"Ian Cole\", \"Cody Ceci\", \"Nikita Soshnikov\", \"Zack Smith\", \"Blake Lizotte\", \"Matt Martin\", \"Travis Sanheim\", \"Brandon Montour\", \"Jake McCabe\", \"Troy Stecher\", \"Jordie Benn\", \"Olli Jokinen\", \"Victor Mete\", \"Brian Flynn\", \"Zemgus Girgensons\", \"Brandon Sutter\", \"Nicholas Shore\", \"Jujhar Khaira\", \"Marc Staal\", \"Zach Sanford\", \"Austin Czarnik\", \"Nikita Nikitin\", \"Mike Richards\", \"Marcus Foligno\", \"Cody Eakin\", \"Justin Braun\", \"Brock McGinn\", \"Mark Barberio\", \"Zach Trotman\", \"Zack Kassian\", \"Ryan Hartman\", \"Jannik Hansen\", \"Danny DeKeyser\", \"Steve Ott\", \"Sergey Kalinin\", \"Brian Dumoulin\", \"Dale Weise\", \"Mikhail Grigorenko\", \"Zach Bogosian\", \"Andrej Meszaros\", \"Alexei Emelin\", \"Ron Hainsey\", \"Stephen Johns\", \"Brandon Manning\", \"Tom Gilbert\", \"Erik Gudbranson\", \"Valeri Nichushkin\", \"Dainius Zubrus\", \"Grant Clitsome\", \"Adam Larsson\", \"MacKenzie Weegar\", \"Raphael Diaz\", \"Tomas Fleischmann\", \"Dan Hamhuis\", \"Justin Fontaine\", \"Michael Raffl\", \"Chris Higgins\", \"Marcel Goc\", \"Marc Methot\", \"Thomas Hickey\", \"Kevin Gravel\", \"Connor Murphy\", \"Mark Jankowski\", \"Mark Pysyk\", \"Cal Clutterbuck\", \"Dwight King\", \"Simon Despres\", \"Andrew Copp\", \"Michal Rozsival\", \"Melker Karlsson\", \"Josh Gorges\", \"Dennis Seidenberg\", \"Shawn Matthias\", \"Carl Hagelin\", \"Devante Smith-Pelly\", \"Cody McLeod\", \"Andrew Cogliano\", \"Tomas Kopecky\", \"Daniel Cleary\"], \"legendgroup\": \"\", \"marker\": {\"color\": \"#636efa\", \"opacity\": 0.75, \"size\": [300, 295, 162, 533, 127, 510, 514, 543, 246, 168, 351, 219, 172, 511, 430, 474, 523, 556, 484, 163, 425, 423, 520, 378, 281, 482, 551, 551, 539, 512, 478, 538, 504, 308, 249, 542, 254, 502, 422, 523, 392, 548, 456, 465, 93, 448, 385, 495, 396, 478, 474, 481, 483, 354, 549, 101, 405, 559, 558, 512, 299, 541, 491, 525, 478, 223, 517, 251, 441, 224, 539, 497, 520, 520, 415, 228, 563, 242, 445, 479, 508, 491, 438, 456, 493, 469, 109, 419, 468, 213, 535, 515, 508, 428, 487, 488, 243, 510, 553, 509, 106, 310, 295, 497, 294, 382, 498, 525, 442, 145, 453, 197, 453, 322, 482, 376, 492, 551, 538, 266, 517, 154, 415, 476, 471, 149, 224, 534, 512, 434, 345, 447, 512, 292, 390, 537, 547, 445, 107, 282, 266, 150, 443, 89, 352, 529, 524, 469, 286, 386, 276, 400, 373, 529, 482, 300, 484, 426, 511, 446, 513, 465, 509, 264, 515, 350, 532, 450, 555, 462, 552, 234, 306, 439, 425, 335, 71, 273, 414, 492, 524, 457, 527, 530, 342, 510, 522, 511, 548, 529, 550, 249, 291, 303, 288, 545, 509, 493, 503, 489, 123, 405, 443, 496, 411, 532, 307, 453, 297, 504, 544, 542, 458, 546, 150, 465, 497, 531, 419, 482, 354, 515, 263, 307, 154, 423, 427, 122, 62, 215, 473, 403, 425, 410, 427, 439, 220, 276, 479, 459, 510, 445, 295, 408, 478, 430, 198, 314, 268, 234, 536, 297, 142, 491, 524, 214, 167, 210, 301, 452, 436, 72, 372, 234, 502, 522, 530, 523, 347, 251, 334, 422, 294, 527, 176, 356, 124, 308, 166, 286, 300, 447, 227, 288, 199, 139, 324, 148, 418, 374, 448, 160, 136, 150, 291, 259, 533, 244, 535, 331, 447, 389, 222, 350, 347, 510, 185, 550, 524, 180, 451, 535, 452, 389, 318, 530, 284, 335, 155, 428, 252, 302, 339, 205, 209, 472, 520, 304, 212, 111, 256, 471, 175, 505, 321, 341, 548, 356, 215, 441, 480, 397, 209, 218, 489, 491, 407, 193, 434, 211, 184, 364, 302, 463, 274, 516, 279, 353, 364, 269, 198, 172, 476, 211, 514, 315, 398, 201, 437, 368, 453, 317, 209, 347, 351, 246, 346, 246, 238, 540, 88, 134, 377, 202, 248, 454, 445, 279, 267, 401, 451, 170, 457, 133, 433, 364, 231, 430, 344, 345, 359, 444, 472, 149, 326, 426, 131, 62, 140, 328, 501, 138, 241, 545, 364, 228, 310, 491, 314, 230, 406, 474, 496, 87, 462, 66, 491, 200, 243, 340, 286, 488, 144, 171, 249, 489, 393, 299, 218, 504, 157, 121, 119, 174, 504, 508, 534, 308, 270, 91, 442, 314, 308, 430, 234, 121, 347, 395, 192, 347, 112, 351, 541, 167, 245, 208, 414, 288, 206, 56, 445, 172, 119, 222, 472, 197, 470, 188, 148, 302, 410, 109, 444, 208, 398, 478, 285, 142, 356, 180, 396, 289, 278, 298, 492, 339, 380, 554, 113, 69], \"sizemode\": \"area\", \"sizeref\": 5.63, \"symbol\": \"circle\"}, \"mode\": \"markers\", \"name\": \"\", \"orientation\": \"v\", \"showlegend\": false, \"type\": \"scatter\", \"x\": [56.2, 55.2, 9.3, 45.2, 11.2, 59.2, 71.9, 68.0, 7.4, 10.7, 69.5, 39.1, 44.7, 59.7, 64.6, 2.1, 66.1, 64.7, 39.4, 7.5, 62.5, 69.0, 66.3, 48.9, 14.7, 39.6, 63.0, 60.0, 59.4, 52.7, 56.0, 63.4, 53.8, 16.1, 59.4, 59.2, 25.8, 56.3, 63.6, 64.1, 8.2, 56.5, 43.3, 54.9, 50.1, 10.7, 31.8, 50.1, 17.0, 40.4, 2.1, 50.8, 60.1, 67.8, 65.0, 19.9, 17.4, 60.1, 54.1, 34.8, 12.9, 56.9, 48.2, 58.1, 50.5, 40.9, 41.1, 9.1, 35.8, 19.2, 33.0, 55.1, 42.2, 42.9, 18.9, 33.5, 69.1, 32.4, 53.1, 56.3, 55.1, 43.5, 51.5, 57.5, 56.1, 55.6, 12.8, 63.5, 49.0, 5.0, 59.0, 56.2, 58.2, 48.1, 50.9, 54.2, 42.2, 48.8, 54.2, 52.9, 17.4, 55.0, 51.4, 53.2, 47.2, 14.6, 21.3, 53.3, 51.9, 60.4, 51.8, 28.8, 40.9, 15.4, 35.0, 41.4, 53.8, 59.1, 13.1, 10.2, 55.4, 9.7, 45.2, 53.0, 56.6, 48.3, 8.2, 54.3, 59.6, 52.3, 51.6, 50.6, 46.7, 45.7, 62.0, 43.9, 41.0, 28.4, 9.5, 47.1, 30.6, 7.6, 46.8, 21.6, 32.5, 26.5, 51.3, 38.6, 18.7, 31.3, 26.4, 62.3, 28.4, 44.7, 40.5, 56.8, 57.8, 51.8, 19.2, 45.5, 47.9, 58.0, 49.8, 56.4, 42.9, 17.6, 57.8, 28.7, 66.0, 59.8, 65.0, 35.2, 66.2, 45.2, 35.2, 38.8, 35.8, 13.6, 13.2, 49.4, 41.4, 30.5, 49.8, 49.0, 47.5, 47.0, 15.3, 63.3, 48.9, 51.5, 52.7, 42.4, 41.5, 33.2, 19.8, 71.7, 42.4, 38.2, 76.6, 16.0, 14.4, 40.7, 11.7, 20.5, 44.8, 44.1, 28.9, 41.9, 16.8, 11.2, 52.7, 39.9, 43.1, 35.2, 50.0, 37.5, 61.2, 52.2, 23.9, 23.2, 18.4, 39.9, 31.3, 42.8, 18.1, 50.1, 46.6, 14.3, 31.0, 6.0, 39.7, 31.1, 36.0, 30.8, 15.7, 12.0, 6.2, 5.8, 21.4, 16.0, 15.3, 46.1, 27.8, 11.7, 33.1, 39.5, 41.1, 15.5, 25.7, 47.1, 44.1, 5.2, 38.9, 43.0, 38.4, 56.7, 21.4, 10.6, 38.7, 45.7, 16.1, 44.9, 41.2, 38.1, 36.6, 9.3, 52.2, 40.4, 26.3, 49.0, 29.4, 8.4, 20.6, 51.0, 48.2, 10.8, 11.2, 25.9, 45.5, 26.0, 48.9, 29.8, 33.4, 31.7, 23.0, 8.5, 23.7, 21.9, 45.5, 4.1, 48.0, 25.2, 16.7, 43.3, 18.3, 9.2, 35.7, 4.0, 40.8, 34.0, 37.7, 35.2, 17.9, 9.6, 30.8, 31.5, 39.1, 41.0, 46.3, 26.7, 8.3, 22.0, 9.8, 46.8, 23.7, 36.1, 5.5, 21.4, 59.8, 35.3, 7.7, 7.6, 16.3, 56.1, 47.4, 43.0, 34.2, 27.7, 19.4, 49.0, 32.8, 5.4, 18.2, 22.2, 11.8, 29.7, 42.0, 7.7, 36.9, 6.5, 8.7, 11.2, 5.5, 30.3, 31.3, 9.8, 20.9, 6.9, 20.2, 9.8, 32.4, 18.2, 34.3, 39.8, 25.8, 22.7, 13.9, 38.7, 27.3, 14.4, 13.0, 34.7, 14.1, 15.1, 32.3, 36.9, 36.6, 6.3, 25.9, 13.6, 24.8, 37.9, 26.6, 25.7, 14.0, 14.8, 5.3, 38.6, 26.7, 35.8, 47.3, 27.5, 21.4, 18.7, 11.9, 12.2, 19.6, 27.8, 20.1, 30.7, 17.9, 29.1, 3.3, 14.8, 18.2, 26.6, 15.8, 5.2, 31.5, 8.9, 24.0, 23.8, 6.5, 28.1, 52.7, 15.7, 17.3, 32.5, 37.4, 21.9, 14.5, 21.0, 23.2, 18.8, 5.8, 20.7, 20.2, 10.7, 14.1, 9.1, 7.5, 3.6, 14.3, 13.0, 16.2, 21.9, 2.2, 15.5, 37.9, 7.7, 19.3, 7.1, 22.6, 11.1, 5.2, 9.3, 26.4, 4.9, 5.7, 2.3, 9.4, 27.2, 20.1, 30.7, 7.5, 22.2, 7.2, 3.8, 10.3, 13.7, 6.4, 7.2, 8.5, 14.1, 13.5, 18.8, 7.7, 9.5, 27.9, 18.2, 25.7, 3.6, 5.1, 8.0, 3.9, 22.3, 7.3, 20.2, 5.4, 17.9, 3.5, 6.4, 23.3, 27.3, 19.6, 9.4, 6.8, 29.1, 10.0, 3.9, 5.8, 11.8, 5.3, 7.7, 5.3, 10.2, 7.7, 9.4, 5.3, 8.1, 5.0, 5.1, 4.0, 4.9, 2.2, 11.1, 2.8, 2.1, 12.5, 20.4], \"xaxis\": \"x\", \"y\": [17.9, 12.2, 9.0, 32.0, 12.0, 36.6, 7.2, 14.7, 43.8, 47.8, 14.3, 6.8, 42.3, 18.4, 9.5, 60.7, 9.8, 18.8, 33.1, 19.4, 8.9, 46.4, 6.1, 41.1, 52.7, 24.8, 18.0, 20.7, 38.0, 3.7, 14.1, 9.5, 41.7, 25.1, 10.7, 6.8, 25.9, 31.1, 13.3, 48.4, 30.7, 4.2, 20.4, 2.4, 46.1, 34.1, 42.0, 13.1, 24.3, 7.4, 44.6, 34.9, 29.1, 9.8, 36.8, 32.8, 26.0, 22.1, 16.2, 16.7, 43.8, 8.5, 7.8, 8.2, 20.9, 33.5, 27.3, 22.7, 7.0, 26.7, 44.0, 7.0, 44.2, 22.9, 41.5, 8.0, 14.1, 27.9, 22.4, 26.7, 11.1, 47.2, 34.1, 3.6, 48.1, 4.3, 18.1, 30.2, 17.1, 29.5, 33.8, 14.9, 55.3, 13.2, 10.1, 3.4, 5.8, 5.7, 16.7, 11.3, 49.3, 16.3, 11.1, 22.9, 6.5, 6.8, 62.8, 26.7, 50.0, 32.8, 16.9, 12.4, 18.1, 34.6, 23.9, 23.1, 31.7, 37.9, 66.0, 44.4, 18.9, 8.2, 23.4, 28.2, 2.6, 15.6, 15.7, 52.7, 4.6, 8.1, 3.5, 6.4, 18.0, 33.5, 9.4, 25.1, 23.0, 10.1, 22.4, 24.0, 27.4, 17.6, 3.8, 31.8, 22.8, 50.3, 34.1, 30.7, 44.6, 32.8, 25.3, 8.5, 29.5, 38.5, 37.6, 27.3, 36.5, 32.0, 30.7, 24.3, 19.0, 17.2, 24.8, 7.5, 42.2, 39.3, 50.1, 26.6, 49.7, 57.1, 48.6, 16.9, 43.3, 28.2, 12.8, 17.6, 36.8, 32.6, 34.4, 12.4, 43.6, 15.9, 33.1, 2.2, 24.9, 15.3, 44.2, 34.9, 32.2, 2.7, 13.6, 10.4, 32.8, 5.8, 33.9, 35.4, 6.8, 55.9, 29.9, 38.2, 21.9, 5.1, 31.1, 29.1, 17.9, 5.8, 13.1, 5.0, 23.9, 26.9, 11.8, 24.6, 29.5, 23.5, 31.5, 36.0, 24.6, 52.6, 34.5, 39.4, 43.7, 17.4, 9.5, 23.6, 26.2, 42.7, 25.5, 25.7, 34.8, 20.0, 27.4, 39.5, 39.6, 33.3, 34.7, 51.6, 47.5, 28.3, 47.8, 35.0, 43.6, 4.4, 25.3, 34.6, 49.6, 18.1, 26.9, 31.2, 5.2, 35.0, 9.9, 40.3, 9.6, 14.9, 43.2, 12.7, 17.8, 39.2, 10.0, 24.3, 34.9, 28.9, 24.4, 25.3, 38.0, 24.8, 2.0, 34.1, 40.4, 10.5, 19.2, 56.5, 3.9, 5.9, 30.6, 23.7, 19.6, 52.7, 18.4, 8.0, 8.9, 49.8, 14.5, 15.8, 22.7, 32.4, 42.4, 33.9, 26.9, 37.2, 39.8, 10.7, 29.5, 34.1, 33.9, 31.5, 11.8, 42.1, 29.7, 28.4, 41.5, 16.0, 14.1, 49.6, 16.7, 31.1, 9.1, 47.2, 42.8, 15.0, 36.1, 42.0, 36.2, 17.7, 34.9, 43.3, 17.6, 34.0, 12.7, 3.9, 7.7, 52.2, 35.6, 7.0, 13.0, 3.7, 37.5, 12.3, 22.6, 44.1, 10.4, 27.7, 20.1, 47.3, 11.8, 26.8, 17.9, 29.2, 21.5, 39.4, 25.4, 22.6, 25.9, 11.1, 18.3, 44.2, 30.7, 9.5, 31.7, 34.3, 26.4, 14.2, 25.1, 35.0, 6.9, 52.8, 24.6, 3.7, 51.3, 24.5, 12.0, 14.4, 53.1, 35.5, 40.2, 58.2, 10.6, 29.1, 41.1, 24.5, 39.3, 32.1, 18.2, 33.4, 33.0, 6.0, 31.1, 16.2, 23.2, 23.5, 34.8, 18.0, 58.4, 32.6, 16.5, 53.0, 38.9, 9.0, 19.2, 36.7, 15.5, 11.8, 42.2, 11.4, 27.2, 9.0, 34.5, 25.9, 26.4, 26.3, 21.4, 8.0, 34.0, 12.9, 23.9, 41.5, 27.9, 22.5, 29.3, 33.6, 28.3, 15.4, 12.5, 33.1, 26.8, 32.2, 11.2, 31.5, 14.1, 8.1, 41.6, 38.3, 51.5, 17.7, 29.9, 23.8, 4.9, 20.3, 24.0, 39.0, 17.8, 42.6, 15.2, 11.8, 34.4, 36.1, 46.0, 23.6, 25.3, 48.1, 9.3, 10.8, 19.8, 26.1, 21.2, 33.5, 48.4, 35.0, 17.6, 20.8, 13.4, 9.4, 23.9, 47.1, 34.3, 15.7, 39.1, 7.1, 12.5, 39.5, 14.6, 38.9, 62.5, 34.8, 28.8, 28.1, 46.1, 4.0, 29.2, 23.2, 45.0, 24.0, 23.3, 22.0, 46.0, 11.2, 16.5, 33.4, 42.9, 40.9, 41.6, 15.9, 36.5, 33.2, 35.8, 40.1, 22.4, 19.6, 30.0, 14.8, 28.9, 52.7, 45.1, 25.3, 41.1, 18.4, 14.1, 29.6, 41.4, 19.9], \"yaxis\": \"y\"}],                        {\"height\": 800, \"legend\": {\"itemsizing\": \"constant\", \"tracegroupgap\": 0}, \"shapes\": [{\"type\": \"line\", \"x0\": 0, \"x1\": 1, \"xref\": \"x domain\", \"y0\": 26.0, \"y1\": 26.0, \"yref\": \"y\"}, {\"type\": \"line\", \"x0\": 31.0, \"x1\": 31.0, \"xref\": \"x\", \"y0\": 0, \"y1\": 1, \"yref\": \"y domain\"}, {\"line\": {\"color\": \"red\", \"dash\": \"dash\"}, \"type\": \"line\", \"x0\": 0, \"x1\": 1, \"xref\": \"x domain\", \"y0\": 49.80999999999999, \"y1\": 49.80999999999999, \"yref\": \"y\"}, {\"line\": {\"color\": \"red\", \"dash\": \"dash\"}, \"type\": \"line\", \"x0\": 61.23999999999997, \"x1\": 61.23999999999997, \"xref\": \"x\", \"y0\": 0, \"y1\": 1, \"yref\": \"y domain\"}], \"template\": {\"data\": {\"bar\": [{\"error_x\": {\"color\": \"#2a3f5f\"}, \"error_y\": {\"color\": \"#2a3f5f\"}, \"marker\": {\"line\": {\"color\": \"#E5ECF6\", \"width\": 0.5}}, \"type\": \"bar\"}], \"barpolar\": [{\"marker\": {\"line\": {\"color\": \"#E5ECF6\", \"width\": 0.5}}, \"type\": \"barpolar\"}], \"carpet\": [{\"aaxis\": {\"endlinecolor\": \"#2a3f5f\", \"gridcolor\": \"white\", \"linecolor\": \"white\", \"minorgridcolor\": \"white\", \"startlinecolor\": \"#2a3f5f\"}, \"baxis\": {\"endlinecolor\": \"#2a3f5f\", \"gridcolor\": \"white\", \"linecolor\": \"white\", \"minorgridcolor\": \"white\", \"startlinecolor\": \"#2a3f5f\"}, \"type\": \"carpet\"}], \"choropleth\": [{\"colorbar\": {\"outlinewidth\": 0, \"ticks\": \"\"}, \"type\": \"choropleth\"}], \"contour\": [{\"colorbar\": {\"outlinewidth\": 0, \"ticks\": \"\"}, \"colorscale\": [[0.0, \"#0d0887\"], [0.1111111111111111, \"#46039f\"], [0.2222222222222222, \"#7201a8\"], [0.3333333333333333, \"#9c179e\"], [0.4444444444444444, \"#bd3786\"], [0.5555555555555556, \"#d8576b\"], [0.6666666666666666, \"#ed7953\"], [0.7777777777777778, \"#fb9f3a\"], [0.8888888888888888, \"#fdca26\"], [1.0, \"#f0f921\"]], \"type\": \"contour\"}], \"contourcarpet\": [{\"colorbar\": {\"outlinewidth\": 0, \"ticks\": \"\"}, \"type\": \"contourcarpet\"}], \"heatmap\": [{\"colorbar\": {\"outlinewidth\": 0, \"ticks\": \"\"}, \"colorscale\": [[0.0, \"#0d0887\"], [0.1111111111111111, \"#46039f\"], [0.2222222222222222, \"#7201a8\"], [0.3333333333333333, \"#9c179e\"], [0.4444444444444444, \"#bd3786\"], [0.5555555555555556, \"#d8576b\"], [0.6666666666666666, \"#ed7953\"], [0.7777777777777778, \"#fb9f3a\"], [0.8888888888888888, \"#fdca26\"], [1.0, \"#f0f921\"]], \"type\": \"heatmap\"}], \"heatmapgl\": [{\"colorbar\": {\"outlinewidth\": 0, \"ticks\": \"\"}, \"colorscale\": [[0.0, \"#0d0887\"], [0.1111111111111111, \"#46039f\"], [0.2222222222222222, \"#7201a8\"], [0.3333333333333333, \"#9c179e\"], [0.4444444444444444, \"#bd3786\"], [0.5555555555555556, \"#d8576b\"], [0.6666666666666666, \"#ed7953\"], [0.7777777777777778, \"#fb9f3a\"], [0.8888888888888888, \"#fdca26\"], [1.0, \"#f0f921\"]], \"type\": \"heatmapgl\"}], \"histogram\": [{\"marker\": {\"colorbar\": {\"outlinewidth\": 0, \"ticks\": \"\"}}, \"type\": \"histogram\"}], \"histogram2d\": [{\"colorbar\": {\"outlinewidth\": 0, \"ticks\": \"\"}, \"colorscale\": [[0.0, \"#0d0887\"], [0.1111111111111111, \"#46039f\"], [0.2222222222222222, \"#7201a8\"], [0.3333333333333333, \"#9c179e\"], [0.4444444444444444, \"#bd3786\"], [0.5555555555555556, \"#d8576b\"], [0.6666666666666666, \"#ed7953\"], [0.7777777777777778, \"#fb9f3a\"], [0.8888888888888888, \"#fdca26\"], [1.0, \"#f0f921\"]], \"type\": \"histogram2d\"}], \"histogram2dcontour\": [{\"colorbar\": {\"outlinewidth\": 0, \"ticks\": \"\"}, \"colorscale\": [[0.0, \"#0d0887\"], [0.1111111111111111, \"#46039f\"], [0.2222222222222222, \"#7201a8\"], [0.3333333333333333, \"#9c179e\"], [0.4444444444444444, \"#bd3786\"], [0.5555555555555556, \"#d8576b\"], [0.6666666666666666, \"#ed7953\"], [0.7777777777777778, \"#fb9f3a\"], [0.8888888888888888, \"#fdca26\"], [1.0, \"#f0f921\"]], \"type\": \"histogram2dcontour\"}], \"mesh3d\": [{\"colorbar\": {\"outlinewidth\": 0, \"ticks\": \"\"}, \"type\": \"mesh3d\"}], \"parcoords\": [{\"line\": {\"colorbar\": {\"outlinewidth\": 0, \"ticks\": \"\"}}, \"type\": \"parcoords\"}], \"pie\": [{\"automargin\": true, \"type\": \"pie\"}], \"scatter\": [{\"marker\": {\"colorbar\": {\"outlinewidth\": 0, \"ticks\": \"\"}}, \"type\": \"scatter\"}], \"scatter3d\": [{\"line\": {\"colorbar\": {\"outlinewidth\": 0, \"ticks\": \"\"}}, \"marker\": {\"colorbar\": {\"outlinewidth\": 0, \"ticks\": \"\"}}, \"type\": \"scatter3d\"}], \"scattercarpet\": [{\"marker\": {\"colorbar\": {\"outlinewidth\": 0, \"ticks\": \"\"}}, \"type\": \"scattercarpet\"}], \"scattergeo\": [{\"marker\": {\"colorbar\": {\"outlinewidth\": 0, \"ticks\": \"\"}}, \"type\": \"scattergeo\"}], \"scattergl\": [{\"marker\": {\"colorbar\": {\"outlinewidth\": 0, \"ticks\": \"\"}}, \"type\": \"scattergl\"}], \"scattermapbox\": [{\"marker\": {\"colorbar\": {\"outlinewidth\": 0, \"ticks\": \"\"}}, \"type\": \"scattermapbox\"}], \"scatterpolar\": [{\"marker\": {\"colorbar\": {\"outlinewidth\": 0, \"ticks\": \"\"}}, \"type\": \"scatterpolar\"}], \"scatterpolargl\": [{\"marker\": {\"colorbar\": {\"outlinewidth\": 0, \"ticks\": \"\"}}, \"type\": \"scatterpolargl\"}], \"scatterternary\": [{\"marker\": {\"colorbar\": {\"outlinewidth\": 0, \"ticks\": \"\"}}, \"type\": \"scatterternary\"}], \"surface\": [{\"colorbar\": {\"outlinewidth\": 0, \"ticks\": \"\"}, \"colorscale\": [[0.0, \"#0d0887\"], [0.1111111111111111, \"#46039f\"], [0.2222222222222222, \"#7201a8\"], [0.3333333333333333, \"#9c179e\"], [0.4444444444444444, \"#bd3786\"], [0.5555555555555556, \"#d8576b\"], [0.6666666666666666, \"#ed7953\"], [0.7777777777777778, \"#fb9f3a\"], [0.8888888888888888, \"#fdca26\"], [1.0, \"#f0f921\"]], \"type\": \"surface\"}], \"table\": [{\"cells\": {\"fill\": {\"color\": \"#EBF0F8\"}, \"line\": {\"color\": \"white\"}}, \"header\": {\"fill\": {\"color\": \"#C8D4E3\"}, \"line\": {\"color\": \"white\"}}, \"type\": \"table\"}]}, \"layout\": {\"annotationdefaults\": {\"arrowcolor\": \"#2a3f5f\", \"arrowhead\": 0, \"arrowwidth\": 1}, \"coloraxis\": {\"colorbar\": {\"outlinewidth\": 0, \"ticks\": \"\"}}, \"colorscale\": {\"diverging\": [[0, \"#8e0152\"], [0.1, \"#c51b7d\"], [0.2, \"#de77ae\"], [0.3, \"#f1b6da\"], [0.4, \"#fde0ef\"], [0.5, \"#f7f7f7\"], [0.6, \"#e6f5d0\"], [0.7, \"#b8e186\"], [0.8, \"#7fbc41\"], [0.9, \"#4d9221\"], [1, \"#276419\"]], \"sequential\": [[0.0, \"#0d0887\"], [0.1111111111111111, \"#46039f\"], [0.2222222222222222, \"#7201a8\"], [0.3333333333333333, \"#9c179e\"], [0.4444444444444444, \"#bd3786\"], [0.5555555555555556, \"#d8576b\"], [0.6666666666666666, \"#ed7953\"], [0.7777777777777778, \"#fb9f3a\"], [0.8888888888888888, \"#fdca26\"], [1.0, \"#f0f921\"]], \"sequentialminus\": [[0.0, \"#0d0887\"], [0.1111111111111111, \"#46039f\"], [0.2222222222222222, \"#7201a8\"], [0.3333333333333333, \"#9c179e\"], [0.4444444444444444, \"#bd3786\"], [0.5555555555555556, \"#d8576b\"], [0.6666666666666666, \"#ed7953\"], [0.7777777777777778, \"#fb9f3a\"], [0.8888888888888888, \"#fdca26\"], [1.0, \"#f0f921\"]]}, \"colorway\": [\"#636efa\", \"#EF553B\", \"#00cc96\", \"#ab63fa\", \"#FFA15A\", \"#19d3f3\", \"#FF6692\", \"#B6E880\", \"#FF97FF\", \"#FECB52\"], \"font\": {\"color\": \"#2a3f5f\"}, \"geo\": {\"bgcolor\": \"white\", \"lakecolor\": \"white\", \"landcolor\": \"#E5ECF6\", \"showlakes\": true, \"showland\": true, \"subunitcolor\": \"white\"}, \"hoverlabel\": {\"align\": \"left\"}, \"hovermode\": \"closest\", \"mapbox\": {\"style\": \"light\"}, \"paper_bgcolor\": \"white\", \"plot_bgcolor\": \"#E5ECF6\", \"polar\": {\"angularaxis\": {\"gridcolor\": \"white\", \"linecolor\": \"white\", \"ticks\": \"\"}, \"bgcolor\": \"#E5ECF6\", \"radialaxis\": {\"gridcolor\": \"white\", \"linecolor\": \"white\", \"ticks\": \"\"}}, \"scene\": {\"xaxis\": {\"backgroundcolor\": \"#E5ECF6\", \"gridcolor\": \"white\", \"gridwidth\": 2, \"linecolor\": \"white\", \"showbackground\": true, \"ticks\": \"\", \"zerolinecolor\": \"white\"}, \"yaxis\": {\"backgroundcolor\": \"#E5ECF6\", \"gridcolor\": \"white\", \"gridwidth\": 2, \"linecolor\": \"white\", \"showbackground\": true, \"ticks\": \"\", \"zerolinecolor\": \"white\"}, \"zaxis\": {\"backgroundcolor\": \"#E5ECF6\", \"gridcolor\": \"white\", \"gridwidth\": 2, \"linecolor\": \"white\", \"showbackground\": true, \"ticks\": \"\", \"zerolinecolor\": \"white\"}}, \"shapedefaults\": {\"line\": {\"color\": \"#2a3f5f\"}}, \"ternary\": {\"aaxis\": {\"gridcolor\": \"white\", \"linecolor\": \"white\", \"ticks\": \"\"}, \"baxis\": {\"gridcolor\": \"white\", \"linecolor\": \"white\", \"ticks\": \"\"}, \"bgcolor\": \"#E5ECF6\", \"caxis\": {\"gridcolor\": \"white\", \"linecolor\": \"white\", \"ticks\": \"\"}}, \"title\": {\"x\": 0.05}, \"xaxis\": {\"automargin\": true, \"gridcolor\": \"white\", \"linecolor\": \"white\", \"ticks\": \"\", \"title\": {\"standoff\": 15}, \"zerolinecolor\": \"white\", \"zerolinewidth\": 2}, \"yaxis\": {\"automargin\": true, \"gridcolor\": \"white\", \"linecolor\": \"white\", \"ticks\": \"\", \"title\": {\"standoff\": 15}, \"zerolinecolor\": \"white\", \"zerolinewidth\": 2}}}, \"title\": {\"text\": \"SH TOI% vs PP TOI%\"}, \"width\": 800, \"xaxis\": {\"anchor\": \"y\", \"domain\": [0.0, 1.0], \"title\": {\"text\": \"PP TOI%\"}}, \"yaxis\": {\"anchor\": \"x\", \"domain\": [0.0, 1.0], \"title\": {\"text\": \"SH TOI%\"}}},                        {\"responsive\": true}                    ).then(function(){\n",
       "                            \n",
       "var gd = document.getElementById('f98efa65-c66e-4bfb-86d8-b1a4cef045fd');\n",
       "var x = new MutationObserver(function (mutations, observer) {{\n",
       "        var display = window.getComputedStyle(gd).display;\n",
       "        if (!display || display === 'none') {{\n",
       "            console.log([gd, 'removed!']);\n",
       "            Plotly.purge(gd);\n",
       "            observer.disconnect();\n",
       "        }}\n",
       "}});\n",
       "\n",
       "// Listen for the removal of the full notebook cells\n",
       "var notebookContainer = gd.closest('#notebook-container');\n",
       "if (notebookContainer) {{\n",
       "    x.observe(notebookContainer, {childList: true});\n",
       "}}\n",
       "\n",
       "// Listen for the clearing of the current output cell\n",
       "var outputEl = gd.closest('.output');\n",
       "if (outputEl) {{\n",
       "    x.observe(outputEl, {childList: true});\n",
       "}}\n",
       "\n",
       "                        })                };                });            </script>        </div>"
      ]
     },
     "metadata": {},
     "output_type": "display_data"
    }
   ],
   "source": [
    "#Finding players who play the greatest percentage of their team's special team's time. \n",
    "\n",
    "fig = px.scatter(df, x=\"PP TOI%\", y=\"SH TOI%\", hover_name=\"Player\", hover_data=['Pos'], title=\"SH TOI% vs PP TOI%\",\n",
    "                 width=800, height=800,size_max=10,size='GP',opacity=.75)      \n",
    "\n",
    "#Moving the origin to the mean of each variable. \n",
    "x_mean = round(df[\"PP TOI%\"].mean(), 0)\n",
    "y_mean = round(df[\"SH TOI%\"].mean(), 0)\n",
    "\n",
    "#Adding a unicorn line for each variable. \n",
    "x_unicorn = np.percentile(df[\"PP TOI%\"], 95)\n",
    "y_unicorn = np.percentile(df[\"SH TOI%\"], 95)\n",
    "\n",
    "#Adding the mean and unicorn lines to the graph.\n",
    "print('midpoint',x_mean,y_mean)\n",
    "fig.add_hline(y=y_mean).add_vline(x=x_mean).add_hline(\n",
    "    y=y_unicorn, line_dash = 'dash', line_color = 'red').add_vline(\n",
    "    x=x_unicorn, line_dash = 'dash', line_color = 'red')\n",
    "\n",
    "fig.write_html(\"SH TOI% vs PP TOI%.html\")"
   ]
  },
  {
   "cell_type": "code",
   "execution_count": null,
   "metadata": {},
   "outputs": [],
   "source": []
  }
 ],
 "metadata": {
  "kernelspec": {
   "display_name": "Python 3",
   "language": "python",
   "name": "python3"
  },
  "language_info": {
   "codemirror_mode": {
    "name": "ipython",
    "version": 3
   },
   "file_extension": ".py",
   "mimetype": "text/x-python",
   "name": "python",
   "nbconvert_exporter": "python",
   "pygments_lexer": "ipython3",
   "version": "3.7.6"
  }
 },
 "nbformat": 4,
 "nbformat_minor": 4
}
