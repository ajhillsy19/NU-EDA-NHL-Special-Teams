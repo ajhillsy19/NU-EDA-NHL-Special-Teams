{
 "cells": [
  {
   "cell_type": "code",
   "execution_count": 2,
   "metadata": {},
   "outputs": [],
   "source": [
    "import pandas as pd\n",
    "import numpy as np\n",
    "import seaborn as sns\n",
    "import matplotlib as mpl\n",
    "import matplotlib.pyplot as plt\n",
    "%matplotlib inline\n",
    "import plotly.express as px\n",
    "\n",
    "from IPython.core.interactiveshell import InteractiveShell\n",
    "InteractiveShell.ast_node_interactivity = 'all'\n",
    "df = pd.read_csv('all_specialteams.csv')"
   ]
  },
  {
   "cell_type": "code",
   "execution_count": 4,
   "metadata": {},
   "outputs": [
    {
     "name": "stdout",
     "output_type": "stream",
     "text": [
      "midpoint 7.0 499.0\n"
     ]
    },
    {
     "data": {
      "application/vnd.plotly.v1+json": {
       "config": {
        "plotlyServerURL": "https://plot.ly"
       },
       "data": [
        {
         "customdata": [
          [
           "R"
          ],
          [
           "C"
          ],
          [
           "D"
          ],
          [
           "L"
          ],
          [
           "D"
          ],
          [
           "C"
          ],
          [
           "C"
          ],
          [
           "C"
          ],
          [
           "C"
          ],
          [
           "C"
          ],
          [
           "C"
          ],
          [
           "R"
          ],
          [
           "D"
          ],
          [
           "R"
          ],
          [
           "C"
          ],
          [
           "D"
          ],
          [
           "C"
          ],
          [
           "C"
          ],
          [
           "R"
          ],
          [
           "D"
          ],
          [
           "D"
          ],
          [
           "D"
          ],
          [
           "D"
          ],
          [
           "D"
          ],
          [
           "D"
          ],
          [
           "L"
          ],
          [
           "C"
          ],
          [
           "L"
          ],
          [
           "C"
          ],
          [
           "C"
          ],
          [
           "D"
          ],
          [
           "C"
          ],
          [
           "D"
          ],
          [
           "R"
          ],
          [
           "L"
          ],
          [
           "R"
          ],
          [
           "C"
          ],
          [
           "C"
          ],
          [
           "C"
          ],
          [
           "D"
          ],
          [
           "C"
          ],
          [
           "C"
          ],
          [
           "R"
          ],
          [
           "C"
          ],
          [
           "D"
          ],
          [
           "L"
          ],
          [
           "C"
          ],
          [
           "C"
          ],
          [
           "D"
          ],
          [
           "C"
          ],
          [
           "C"
          ],
          [
           "L"
          ],
          [
           "C"
          ],
          [
           "C"
          ],
          [
           "D"
          ],
          [
           "C"
          ],
          [
           "L"
          ],
          [
           "R"
          ],
          [
           "C"
          ],
          [
           "R"
          ],
          [
           "D"
          ],
          [
           "C"
          ],
          [
           "R"
          ],
          [
           "C"
          ],
          [
           "C"
          ],
          [
           "L"
          ],
          [
           "D"
          ],
          [
           "C"
          ],
          [
           "L"
          ],
          [
           "C"
          ],
          [
           "D"
          ],
          [
           "L"
          ],
          [
           "C"
          ],
          [
           "C"
          ],
          [
           "R"
          ],
          [
           "D"
          ],
          [
           "D"
          ],
          [
           "C"
          ],
          [
           "R"
          ],
          [
           "C"
          ],
          [
           "C"
          ],
          [
           "D"
          ],
          [
           "D"
          ],
          [
           "L"
          ],
          [
           "D"
          ],
          [
           "R"
          ],
          [
           "D"
          ],
          [
           "D"
          ],
          [
           "L"
          ],
          [
           "R"
          ],
          [
           "C"
          ],
          [
           "L"
          ],
          [
           "D"
          ],
          [
           "L"
          ],
          [
           "C"
          ],
          [
           "L"
          ],
          [
           "L"
          ],
          [
           "L"
          ],
          [
           "C"
          ],
          [
           "R"
          ],
          [
           "D"
          ],
          [
           "C"
          ],
          [
           "D"
          ],
          [
           "C"
          ],
          [
           "R"
          ],
          [
           "D"
          ],
          [
           "D"
          ],
          [
           "C"
          ],
          [
           "D"
          ],
          [
           "D"
          ],
          [
           "L"
          ],
          [
           "D"
          ],
          [
           "C"
          ],
          [
           "C"
          ],
          [
           "L"
          ],
          [
           "C"
          ],
          [
           "C"
          ],
          [
           "C"
          ],
          [
           "D"
          ],
          [
           "D"
          ],
          [
           "L"
          ],
          [
           "L"
          ],
          [
           "C"
          ],
          [
           "C"
          ],
          [
           "R"
          ],
          [
           "L"
          ],
          [
           "C"
          ],
          [
           "D"
          ],
          [
           "D"
          ],
          [
           "D"
          ],
          [
           "R"
          ],
          [
           "D"
          ],
          [
           "L"
          ],
          [
           "C"
          ],
          [
           "C"
          ],
          [
           "R"
          ],
          [
           "L"
          ],
          [
           "L"
          ],
          [
           "D"
          ],
          [
           "C"
          ],
          [
           "C"
          ],
          [
           "D"
          ],
          [
           "L"
          ],
          [
           "D"
          ],
          [
           "R"
          ],
          [
           "D"
          ],
          [
           "D"
          ],
          [
           "L"
          ],
          [
           "D"
          ],
          [
           "D"
          ],
          [
           "D"
          ],
          [
           "L"
          ],
          [
           "R"
          ],
          [
           "C"
          ],
          [
           "C"
          ],
          [
           "D"
          ],
          [
           "D"
          ],
          [
           "D"
          ],
          [
           "C"
          ],
          [
           "C"
          ],
          [
           "C"
          ],
          [
           "L"
          ],
          [
           "R"
          ],
          [
           "D"
          ],
          [
           "D"
          ],
          [
           "D"
          ],
          [
           "D"
          ],
          [
           "C"
          ],
          [
           "D"
          ],
          [
           "D"
          ],
          [
           "D"
          ],
          [
           "D"
          ],
          [
           "D"
          ],
          [
           "C"
          ],
          [
           "C"
          ],
          [
           "R"
          ],
          [
           "D"
          ],
          [
           "L"
          ],
          [
           "L"
          ],
          [
           "C"
          ],
          [
           "C"
          ],
          [
           "L"
          ],
          [
           "C"
          ],
          [
           "C"
          ],
          [
           "L"
          ],
          [
           "D"
          ],
          [
           "D"
          ],
          [
           "D"
          ],
          [
           "C"
          ],
          [
           "R"
          ],
          [
           "C"
          ],
          [
           "C"
          ],
          [
           "R"
          ],
          [
           "L"
          ],
          [
           "D"
          ],
          [
           "D"
          ],
          [
           "R"
          ],
          [
           "D"
          ],
          [
           "D"
          ],
          [
           "D"
          ],
          [
           "D"
          ],
          [
           "C"
          ],
          [
           "C"
          ],
          [
           "C"
          ],
          [
           "D"
          ],
          [
           "D"
          ],
          [
           "C"
          ],
          [
           "L"
          ],
          [
           "C"
          ],
          [
           "C"
          ],
          [
           "D"
          ],
          [
           "R"
          ],
          [
           "D"
          ],
          [
           "C"
          ],
          [
           "C"
          ],
          [
           "D"
          ],
          [
           "C"
          ],
          [
           "D"
          ],
          [
           "D"
          ],
          [
           "D"
          ],
          [
           "D"
          ],
          [
           "R"
          ],
          [
           "R"
          ],
          [
           "D"
          ],
          [
           "C"
          ],
          [
           "C"
          ],
          [
           "C"
          ],
          [
           "D"
          ],
          [
           "D"
          ],
          [
           "R"
          ],
          [
           "C"
          ],
          [
           "C"
          ],
          [
           "D"
          ],
          [
           "C"
          ],
          [
           "D"
          ],
          [
           "D"
          ],
          [
           "C"
          ],
          [
           "C"
          ],
          [
           "D"
          ],
          [
           "C"
          ],
          [
           "D"
          ],
          [
           "R"
          ],
          [
           "R"
          ],
          [
           "C"
          ],
          [
           "D"
          ],
          [
           "D"
          ],
          [
           "L"
          ],
          [
           "D"
          ],
          [
           "L"
          ],
          [
           "D"
          ],
          [
           "R"
          ],
          [
           "C"
          ],
          [
           "D"
          ],
          [
           "C"
          ],
          [
           "D"
          ],
          [
           "D"
          ],
          [
           "C"
          ],
          [
           "C"
          ],
          [
           "D"
          ],
          [
           "L"
          ],
          [
           "C"
          ],
          [
           "L"
          ],
          [
           "L"
          ],
          [
           "D"
          ],
          [
           "D"
          ],
          [
           "R"
          ],
          [
           "C"
          ],
          [
           "D"
          ],
          [
           "D"
          ],
          [
           "L"
          ],
          [
           "L"
          ],
          [
           "D"
          ],
          [
           "L"
          ],
          [
           "C"
          ],
          [
           "D"
          ],
          [
           "D"
          ],
          [
           "D"
          ],
          [
           "D"
          ],
          [
           "L"
          ],
          [
           "L"
          ],
          [
           "L"
          ],
          [
           "D"
          ],
          [
           "L"
          ],
          [
           "C"
          ],
          [
           "C"
          ],
          [
           "R"
          ],
          [
           "R"
          ],
          [
           "C"
          ],
          [
           "L"
          ],
          [
           "L"
          ],
          [
           "D"
          ],
          [
           "D"
          ],
          [
           "C"
          ],
          [
           "D"
          ],
          [
           "L"
          ],
          [
           "C"
          ],
          [
           "C"
          ],
          [
           "D"
          ],
          [
           "C"
          ],
          [
           "R"
          ],
          [
           "D"
          ],
          [
           "D"
          ],
          [
           "C"
          ],
          [
           "D"
          ],
          [
           "R"
          ],
          [
           "R"
          ],
          [
           "L"
          ],
          [
           "D"
          ],
          [
           "D"
          ],
          [
           "C"
          ],
          [
           "L"
          ],
          [
           "D"
          ],
          [
           "C"
          ],
          [
           "C"
          ],
          [
           "D"
          ],
          [
           "D"
          ],
          [
           "C"
          ],
          [
           "C"
          ],
          [
           "R"
          ],
          [
           "C"
          ],
          [
           "L"
          ],
          [
           "L"
          ],
          [
           "C"
          ],
          [
           "D"
          ],
          [
           "C"
          ],
          [
           "R"
          ],
          [
           "C"
          ],
          [
           "L"
          ],
          [
           "C"
          ],
          [
           "D"
          ],
          [
           "C"
          ],
          [
           "C"
          ],
          [
           "D"
          ],
          [
           "D"
          ],
          [
           "D"
          ],
          [
           "D"
          ],
          [
           "C"
          ],
          [
           "D"
          ],
          [
           "D"
          ],
          [
           "D"
          ],
          [
           "L"
          ],
          [
           "L"
          ],
          [
           "C"
          ],
          [
           "D"
          ],
          [
           "C"
          ],
          [
           "D"
          ],
          [
           "D"
          ],
          [
           "L"
          ],
          [
           "C"
          ],
          [
           "C"
          ],
          [
           "D"
          ],
          [
           "D"
          ],
          [
           "C"
          ],
          [
           "D"
          ],
          [
           "C"
          ],
          [
           "D"
          ],
          [
           "C"
          ],
          [
           "L"
          ],
          [
           "D"
          ],
          [
           "D"
          ],
          [
           "C"
          ],
          [
           "L"
          ],
          [
           "D"
          ],
          [
           "D"
          ],
          [
           "C"
          ],
          [
           "D"
          ],
          [
           "R"
          ],
          [
           "C"
          ],
          [
           "D"
          ],
          [
           "C"
          ],
          [
           "D"
          ],
          [
           "D"
          ],
          [
           "D"
          ],
          [
           "D"
          ],
          [
           "C"
          ],
          [
           "R"
          ],
          [
           "C"
          ],
          [
           "C"
          ],
          [
           "C"
          ],
          [
           "L"
          ],
          [
           "D"
          ],
          [
           "L"
          ],
          [
           "D"
          ],
          [
           "R"
          ],
          [
           "D"
          ],
          [
           "D"
          ],
          [
           "D"
          ],
          [
           "C"
          ],
          [
           "R"
          ],
          [
           "C"
          ],
          [
           "D"
          ],
          [
           "L"
          ],
          [
           "D"
          ],
          [
           "C"
          ],
          [
           "D"
          ],
          [
           "C"
          ],
          [
           "C"
          ],
          [
           "D"
          ],
          [
           "R"
          ],
          [
           "R"
          ],
          [
           "C"
          ],
          [
           "R"
          ],
          [
           "L"
          ],
          [
           "R"
          ],
          [
           "D"
          ],
          [
           "C"
          ],
          [
           "C"
          ],
          [
           "C"
          ],
          [
           "D"
          ],
          [
           "R"
          ],
          [
           "R"
          ],
          [
           "R"
          ],
          [
           "C"
          ],
          [
           "C"
          ],
          [
           "D"
          ],
          [
           "C"
          ],
          [
           "C"
          ],
          [
           "L"
          ],
          [
           "D"
          ],
          [
           "D"
          ],
          [
           "D"
          ],
          [
           "D"
          ],
          [
           "D"
          ],
          [
           "R"
          ],
          [
           "C"
          ],
          [
           "C"
          ],
          [
           "L"
          ],
          [
           "D"
          ],
          [
           "D"
          ],
          [
           "D"
          ],
          [
           "D"
          ],
          [
           "D"
          ],
          [
           "C"
          ],
          [
           "D"
          ],
          [
           "C"
          ],
          [
           "C"
          ],
          [
           "C"
          ],
          [
           "C"
          ],
          [
           "L"
          ],
          [
           "D"
          ],
          [
           "L"
          ],
          [
           "C"
          ],
          [
           "D"
          ],
          [
           "C"
          ],
          [
           "L"
          ],
          [
           "C"
          ],
          [
           "D"
          ],
          [
           "L"
          ],
          [
           "D"
          ],
          [
           "D"
          ],
          [
           "R"
          ],
          [
           "R"
          ],
          [
           "R"
          ],
          [
           "D"
          ],
          [
           "C"
          ],
          [
           "C"
          ],
          [
           "D"
          ],
          [
           "R"
          ],
          [
           "C"
          ],
          [
           "D"
          ],
          [
           "D"
          ],
          [
           "D"
          ],
          [
           "D"
          ],
          [
           "D"
          ],
          [
           "D"
          ],
          [
           "D"
          ],
          [
           "D"
          ],
          [
           "R"
          ],
          [
           "C"
          ],
          [
           "D"
          ],
          [
           "D"
          ],
          [
           "D"
          ],
          [
           "D"
          ],
          [
           "L"
          ],
          [
           "D"
          ],
          [
           "R"
          ],
          [
           "L"
          ],
          [
           "L"
          ],
          [
           "C"
          ],
          [
           "D"
          ],
          [
           "D"
          ],
          [
           "D"
          ],
          [
           "D"
          ],
          [
           "C"
          ],
          [
           "D"
          ],
          [
           "R"
          ],
          [
           "L"
          ],
          [
           "D"
          ],
          [
           "C"
          ],
          [
           "D"
          ],
          [
           "C"
          ],
          [
           "D"
          ],
          [
           "D"
          ],
          [
           "L"
          ],
          [
           "L"
          ],
          [
           "R"
          ],
          [
           "L"
          ],
          [
           "C"
          ],
          [
           "R"
          ],
          [
           "R"
          ]
         ],
         "hovertemplate": "<b>%{hovertext}</b><br><br>PP GA/60=%{x}<br>SH_TOI=%{y}<br>GP=%{marker.size}<br>Pos=%{customdata[0]}<extra></extra>",
         "hovertext": [
          "Mitchell Marner",
          "Brayden Point",
          "Joe Morrow",
          "Brad Marchand",
          "Taylor Fedun",
          "Patrice Bergeron",
          "Sidney Crosby",
          "Nicklas Backstrom",
          "Blake Coleman",
          "Anthony Cirelli",
          "Connor McDavid",
          "Patrick Eaves",
          "Neal Pionk",
          "T.J. Oshie",
          "Steven Stamkos",
          "Niklas Hjalmarsson",
          "John Tavares",
          "Claude Giroux",
          "Troy Brouwer",
          "Chad Ruhwedel",
          "John Klingberg",
          "Kris Letang",
          "Torey Krug",
          "Oscar Klefbom",
          "Nikita Zaitsev",
          "Ondrej Palat",
          "Joe Pavelski",
          "Jamie Benn",
          "Ryan O'Reilly",
          "Jason Spezza",
          "Kevin Shattenkirk",
          "Tyler Seguin",
          "Victor Hedman",
          "Bryan Rust",
          "Kyle Connor",
          "Wayne Simmonds",
          "Yanni Gourde",
          "Ryan Nugent-Hopkins",
          "Leon Draisaitl",
          "John Carlson",
          "Johan Larsson",
          "Brayden Schenn",
          "David Backes",
          "Marcus Johansson",
          "Kimmo Timonen",
          "Darren Helm",
          "Mark Letestu",
          "Tyler Bozak",
          "Nate Schmidt",
          "J.T. Miller",
          "Casey Cizikas",
          "Alexander Steen",
          "Logan Couture",
          "Jack Eichel",
          "Brent Burns",
          "Dave Bolland",
          "Erik Haula",
          "Blake Wheeler",
          "Patrick Marleau",
          "Alex Chiasson",
          "Mike Matheson",
          "Sean Monahan",
          "Kyle Palmieri",
          "Nathan MacKinnon",
          "Paul Stastny",
          "J.T. Compher",
          "Morgan Rielly",
          "Nic Dowd",
          "Chris Kunitz",
          "Jacob Josefson",
          "Matt Niskanen",
          "James van Riemsdyk",
          "Travis Zajac",
          "Tyler Johnson",
          "Leo Komarov",
          "Mikhail Sergachev",
          "Keith Yandle",
          "David Legwand",
          "Mark Stone",
          "Aleksander Barkov",
          "Mark Scheifele",
          "Jared Spurgeon",
          "Niklas Kronwall",
          "Taylor Hall",
          "Rasmus Ristolainen",
          "Vladimir Tarasenko",
          "Sean Walker",
          "Dustin Byfuglien",
          "Jaden Schwartz",
          "Josh Jooris",
          "Jonathan Toews",
          "Gabriel Landeskog",
          "Mark Giordano",
          "Teuvo Teravainen",
          "David Krejci",
          "Jonathan Huberdeau",
          "Jake Guentzel",
          "David Perron",
          "Ryan Johansen",
          "Mats Zuccarello",
          "Chris Phillips",
          "Sebastian Aho",
          "Mark Streit",
          "Mika Zibanejad",
          "Shane Doan",
          "Yannick Weber",
          "Zdeno Chara",
          "Elias Lindholm",
          "Alexander Edler",
          "James Wisniewski",
          "Filip Forsberg",
          "Matt Grzelcyk",
          "Tomas Hertl",
          "Colton Sissons",
          "Justin Abdelkader",
          "Antoine Vermette",
          "Mikko Koivu",
          "Anze Kopitar",
          "Andy Greene",
          "Fedor Tyutin",
          "Max Pacioretty",
          "Jordan Greenway",
          "Alexander Wennberg",
          "Jeff Carter",
          "Corey Perry",
          "Clarke MacArthur",
          "Ryan White",
          "Alex Pietrangelo",
          "Tyson Barrie",
          "Justin Schultz",
          "Radim Vrbata",
          "Mike Green",
          "Nick Foligno",
          "Mike Fisher",
          "Henrik Sedin",
          "Reilly Smith",
          "Alex Killorn",
          "Jason Zucker",
          "Henri Jokiharju",
          "Martin Hanzal",
          "Pavel Zacha",
          "Steven Kampfer",
          "Rickard Rakell",
          "Ethan Bear",
          "Ryan Callahan",
          "Jack Johnson",
          "Justin Faulk",
          "Loui Eriksson",
          "Paul Martin",
          "Colton Parayko",
          "David Schlemko",
          "Daniel Sedin",
          "Joel Ward",
          "Frans Nielsen",
          "Jordan Staal",
          "Zach Werenski",
          "Cam Fowler",
          "Sami Vatanen",
          "Riley Sheahan",
          "Bo Horvat",
          "Mikael Granlund",
          "Zach Parise",
          "Cam Atkinson",
          "Shea Theodore",
          "Brent Seabrook",
          "Darnell Nurse",
          "Roman Josi",
          "Kevin Hayes",
          "Drew Doughty",
          "Shea Weber",
          "Ryan Suter",
          "Jakob Chychrun",
          "Andrei Markov",
          "Bryan Little",
          "Vladislav Namestnikov",
          "Viktor Arvidsson",
          "Sami Salo",
          "Lauri Korpikoski",
          "Paul Byron",
          "Kyle Turris",
          "Sean Couturier",
          "Tanner Pearson",
          "Derek Stepan",
          "Derick Brassard",
          "Rick Nash",
          "Dougie Hamilton",
          "David Savard",
          "P.K. Subban",
          "Adam Henrique",
          "Jordan Eberle",
          "Eric Staal",
          "Nick Schmaltz",
          "Marian Hossa",
          "Andreas Athanasiou",
          "Josh Morrissey",
          "Oliver Ekman-Larsson",
          "Justin Williams",
          "Ryan McDonagh",
          "Erik Karlsson",
          "Nick Holden",
          "Jay Harrison",
          "Victor Rask",
          "Matt Cullen",
          "Brian Boyle",
          "Matt Dumba",
          "Jake Gardiner",
          "Jori Lehtera",
          "Mikkel Boedker",
          "Mattias Janmark",
          "Riley Nash",
          "Nick Leddy",
          "Dustin Brown",
          "Aaron Ekblad",
          "Carl Soderberg",
          "Patrik Elias",
          "Alec Martinez",
          "Ryan Getzlaf",
          "Duncan Keith",
          "Michael Stone",
          "Kris Russell",
          "Andrew MacDonald",
          "Tyler Toffoli",
          "Timo Meier",
          "Cody Franson",
          "Alexander Burmistrov",
          "Ryan Kesler",
          "Vincent Trocheck",
          "Gustav Forsling",
          "Maxime Lajoie",
          "Logan Shaw",
          "Artem Anisimov",
          "Tomas Plekanec",
          "Andrej Sekera",
          "William Karlsson",
          "Olli Maatta",
          "Dan Girardi",
          "Boyd Gordon",
          "Barclay Goodrow",
          "Johnny Boychuk",
          "Calle Jarnkrok",
          "Jonas Brodin",
          "Andrew Shaw",
          "Joel Armia",
          "Adam Lowry",
          "Jacob Trouba",
          "Damon Severson",
          "Milan Michalek",
          "Brady Skjei",
          "Matt Beleskey",
          "Dennis Wideman",
          "Josh Bailey",
          "Vernon Fiddler",
          "Jamie McBain",
          "Ryan Strome",
          "Jeff Petry",
          "Dan Boyle",
          "Lucas Wallmark",
          "Brooks Laich",
          "Colin Miller",
          "Evander Kane",
          "Chris Tierney",
          "Ryan Smyth",
          "Jussi Jokinen",
          "Ryan Pulock",
          "Hampus Lindholm",
          "Tom Wilson",
          "Gustav Nyquist",
          "Jake Muzzin",
          "Ryan Murray",
          "Teddy Purcell",
          "Benoit Pouliot",
          "Christopher Tanev",
          "Nick Ritchie",
          "Matt Duchene",
          "Christian Ehrhoff",
          "Jon Merrill",
          "Oscar Fantenberg",
          "Esa Lindell",
          "Alex Tanguay",
          "Anthony Beauvillier",
          "Michael Cammalleri",
          "Erik Johnson",
          "Alex Iafallo",
          "Devin Shore",
          "Evan Rodrigues",
          "David Moss",
          "Connor Brown",
          "Anton Lander",
          "Andrew Ladd",
          "Jordan Martinook",
          "Dion Phaneuf",
          "Rasmus Andersson",
          "Brett Howden",
          "Miro Heiskanen",
          "Artturi Lehkonen",
          "Derek Grant",
          "Charlie Coyle",
          "Matt Hunwick",
          "Valtteri Filppula",
          "Brian Gionta",
          "Tyler Myers",
          "Noah Hanifin",
          "Drake Caggiula",
          "Brett Pesce",
          "Lee Stempniak",
          "Jakob Silfverberg",
          "Jesper Bratt",
          "Alex Goligoski",
          "Seth Jones",
          "R.J. Umberger",
          "Matt Calvert",
          "Mattias Ekholm",
          "Colton Sceviour",
          "Dylan Larkin",
          "Jason Garrison",
          "TJ Brodie",
          "Curtis Lazar",
          "Markus Granlund",
          "Martin St. Louis",
          "Nick Bjugstad",
          "Oscar Lindberg",
          "Zach Hyman",
          "Phillip Danault",
          "Thomas Chabot",
          "Nico Hischier",
          "Jason Pominville",
          "Mikael Backlund",
          "Jimmy Vesey",
          "Shawn Horcoff",
          "Filip Hronek",
          "Adrian Kempe",
          "Trevor Lewis",
          "Marcus Pettersson",
          "Anton Stralman",
          "Matt Irwin",
          "Ben Hutton",
          "Brock Nelson",
          "Nikita Zadorov",
          "John-Michael Liles",
          "Brayden McNabb",
          "Antoine Roussel",
          "Jason Chimera",
          "Chandler Stephenson",
          "Patrick Wiercioch",
          "Boone Jenner",
          "Marco Scandella",
          "Michael Del Zotto",
          "Scott Wilson",
          "Tobias Rieder",
          "Nick Spaling",
          "Charlie McAvoy",
          "Nathan Beaulieu",
          "Derek Ryan",
          "Ryan Ellis",
          "Frank Vatrano",
          "Marc-Edouard Vlasic",
          "John Mitchell",
          "Anthony Duclair",
          "Francois Beauchemin",
          "Dylan DeMelo",
          "Mike Santorelli",
          "Mason Raymond",
          "Jay Bouwmeester",
          "Matt Carle",
          "Nick Bonino",
          "Ivan Provorov",
          "Drew Stafford",
          "Oskar Sundqvist",
          "Trevor Daley",
          "Tommy Wingels",
          "Jason Demers",
          "Toby Enstrom",
          "Jordan Oesterle",
          "Kevin Bieksa",
          "Radek Faksa",
          "Vinnie Hinostroza",
          "Eric Fehr",
          "Christian Dvorak",
          "Nathan Gerbe",
          "Brandon Saad",
          "Slava Voynov",
          "Oskar Lindblom",
          "Jaccob Slavin",
          "Kasperi Kapanen",
          "Matt Benning",
          "Travis Hamonic",
          "Dmitry Kulikov",
          "Joe Colborne",
          "Josh Anderson",
          "Brandon Dubinsky",
          "Dmitry Orlov",
          "Jiri Tlusty",
          "Radko Gudas",
          "Colin Greening",
          "John Moore",
          "Sam Bennett",
          "Jarret Stoll",
          "Brendan Smith",
          "Alexandre Burrows",
          "Scottie Upshall",
          "Patrik Berglund",
          "Richard Panik",
          "Matt Nieto",
          "Martin Erat",
          "Brian Campbell",
          "Jean-Gabriel Pageau",
          "Luke Kunin",
          "Rich Peverley",
          "Andre Benoit",
          "Matt Read",
          "Michael Frolik",
          "Mark Arcobello",
          "Peter Holland",
          "Lars Eller",
          "Trevor van Riemsdyk",
          "Vladimir Sobotka",
          "Jared McCann",
          "Blake Comeau",
          "Kevin Connauton",
          "Connor Carrick",
          "Calvin de Haan",
          "Ian Cole",
          "Cody Ceci",
          "Nikita Soshnikov",
          "Zack Smith",
          "Blake Lizotte",
          "Matt Martin",
          "Travis Sanheim",
          "Brandon Montour",
          "Jake McCabe",
          "Troy Stecher",
          "Jordie Benn",
          "Olli Jokinen",
          "Victor Mete",
          "Brian Flynn",
          "Zemgus Girgensons",
          "Brandon Sutter",
          "Nicholas Shore",
          "Jujhar Khaira",
          "Marc Staal",
          "Zach Sanford",
          "Austin Czarnik",
          "Nikita Nikitin",
          "Mike Richards",
          "Marcus Foligno",
          "Cody Eakin",
          "Justin Braun",
          "Brock McGinn",
          "Mark Barberio",
          "Zach Trotman",
          "Zack Kassian",
          "Ryan Hartman",
          "Jannik Hansen",
          "Danny DeKeyser",
          "Steve Ott",
          "Sergey Kalinin",
          "Brian Dumoulin",
          "Dale Weise",
          "Mikhail Grigorenko",
          "Zach Bogosian",
          "Andrej Meszaros",
          "Alexei Emelin",
          "Ron Hainsey",
          "Stephen Johns",
          "Brandon Manning",
          "Tom Gilbert",
          "Erik Gudbranson",
          "Valeri Nichushkin",
          "Dainius Zubrus",
          "Grant Clitsome",
          "Adam Larsson",
          "MacKenzie Weegar",
          "Raphael Diaz",
          "Tomas Fleischmann",
          "Dan Hamhuis",
          "Justin Fontaine",
          "Michael Raffl",
          "Chris Higgins",
          "Marcel Goc",
          "Marc Methot",
          "Thomas Hickey",
          "Kevin Gravel",
          "Connor Murphy",
          "Mark Jankowski",
          "Mark Pysyk",
          "Cal Clutterbuck",
          "Dwight King",
          "Simon Despres",
          "Andrew Copp",
          "Michal Rozsival",
          "Melker Karlsson",
          "Josh Gorges",
          "Dennis Seidenberg",
          "Shawn Matthias",
          "Carl Hagelin",
          "Devante Smith-Pelly",
          "Cody McLeod",
          "Andrew Cogliano",
          "Tomas Kopecky",
          "Daniel Cleary"
         ],
         "legendgroup": "",
         "marker": {
          "color": "#636efa",
          "opacity": 0.75,
          "size": [
           300,
           295,
           162,
           533,
           127,
           510,
           514,
           543,
           246,
           168,
           351,
           219,
           172,
           511,
           430,
           474,
           523,
           556,
           484,
           163,
           425,
           423,
           520,
           378,
           281,
           482,
           551,
           551,
           539,
           512,
           478,
           538,
           504,
           308,
           249,
           542,
           254,
           502,
           422,
           523,
           392,
           548,
           456,
           465,
           93,
           448,
           385,
           495,
           396,
           478,
           474,
           481,
           483,
           354,
           549,
           101,
           405,
           559,
           558,
           512,
           299,
           541,
           491,
           525,
           478,
           223,
           517,
           251,
           441,
           224,
           539,
           497,
           520,
           520,
           415,
           228,
           563,
           242,
           445,
           479,
           508,
           491,
           438,
           456,
           493,
           469,
           109,
           419,
           468,
           213,
           535,
           515,
           508,
           428,
           487,
           488,
           243,
           510,
           553,
           509,
           106,
           310,
           295,
           497,
           294,
           382,
           498,
           525,
           442,
           145,
           453,
           197,
           453,
           322,
           482,
           376,
           492,
           551,
           538,
           266,
           517,
           154,
           415,
           476,
           471,
           149,
           224,
           534,
           512,
           434,
           345,
           447,
           512,
           292,
           390,
           537,
           547,
           445,
           107,
           282,
           266,
           150,
           443,
           89,
           352,
           529,
           524,
           469,
           286,
           386,
           276,
           400,
           373,
           529,
           482,
           300,
           484,
           426,
           511,
           446,
           513,
           465,
           509,
           264,
           515,
           350,
           532,
           450,
           555,
           462,
           552,
           234,
           306,
           439,
           425,
           335,
           71,
           273,
           414,
           492,
           524,
           457,
           527,
           530,
           342,
           510,
           522,
           511,
           548,
           529,
           550,
           249,
           291,
           303,
           288,
           545,
           509,
           493,
           503,
           489,
           123,
           405,
           443,
           496,
           411,
           532,
           307,
           453,
           297,
           504,
           544,
           542,
           458,
           546,
           150,
           465,
           497,
           531,
           419,
           482,
           354,
           515,
           263,
           307,
           154,
           423,
           427,
           122,
           62,
           215,
           473,
           403,
           425,
           410,
           427,
           439,
           220,
           276,
           479,
           459,
           510,
           445,
           295,
           408,
           478,
           430,
           198,
           314,
           268,
           234,
           536,
           297,
           142,
           491,
           524,
           214,
           167,
           210,
           301,
           452,
           436,
           72,
           372,
           234,
           502,
           522,
           530,
           523,
           347,
           251,
           334,
           422,
           294,
           527,
           176,
           356,
           124,
           308,
           166,
           286,
           300,
           447,
           227,
           288,
           199,
           139,
           324,
           148,
           418,
           374,
           448,
           160,
           136,
           150,
           291,
           259,
           533,
           244,
           535,
           331,
           447,
           389,
           222,
           350,
           347,
           510,
           185,
           550,
           524,
           180,
           451,
           535,
           452,
           389,
           318,
           530,
           284,
           335,
           155,
           428,
           252,
           302,
           339,
           205,
           209,
           472,
           520,
           304,
           212,
           111,
           256,
           471,
           175,
           505,
           321,
           341,
           548,
           356,
           215,
           441,
           480,
           397,
           209,
           218,
           489,
           491,
           407,
           193,
           434,
           211,
           184,
           364,
           302,
           463,
           274,
           516,
           279,
           353,
           364,
           269,
           198,
           172,
           476,
           211,
           514,
           315,
           398,
           201,
           437,
           368,
           453,
           317,
           209,
           347,
           351,
           246,
           346,
           246,
           238,
           540,
           88,
           134,
           377,
           202,
           248,
           454,
           445,
           279,
           267,
           401,
           451,
           170,
           457,
           133,
           433,
           364,
           231,
           430,
           344,
           345,
           359,
           444,
           472,
           149,
           326,
           426,
           131,
           62,
           140,
           328,
           501,
           138,
           241,
           545,
           364,
           228,
           310,
           491,
           314,
           230,
           406,
           474,
           496,
           87,
           462,
           66,
           491,
           200,
           243,
           340,
           286,
           488,
           144,
           171,
           249,
           489,
           393,
           299,
           218,
           504,
           157,
           121,
           119,
           174,
           504,
           508,
           534,
           308,
           270,
           91,
           442,
           314,
           308,
           430,
           234,
           121,
           347,
           395,
           192,
           347,
           112,
           351,
           541,
           167,
           245,
           208,
           414,
           288,
           206,
           56,
           445,
           172,
           119,
           222,
           472,
           197,
           470,
           188,
           148,
           302,
           410,
           109,
           444,
           208,
           398,
           478,
           285,
           142,
           356,
           180,
           396,
           289,
           278,
           298,
           492,
           339,
           380,
           554,
           113,
           69
          ],
          "sizemode": "area",
          "sizeref": 5.63,
          "symbol": "circle"
         },
         "mode": "markers",
         "name": "",
         "orientation": "v",
         "showlegend": false,
         "type": "scatter",
         "x": [
          6.83,
          8.97,
          8.44,
          5.81,
          4.85,
          5.91,
          6.08,
          7.02,
          6.94,
          6.82,
          7.81,
          3.07,
          10.07,
          5.94,
          4.09,
          6.8,
          9.18,
          7.13,
          6.79,
          8.46,
          7.16,
          6.56,
          5.46,
          7.73,
          7.14,
          6.24,
          6.7,
          7.82,
          7.03,
          9.81,
          5.11,
          8.35,
          6.45,
          6.14,
          8.26,
          6.15,
          5.38,
          8.27,
          8.3,
          6.51,
          8.62,
          3.93,
          5.95,
          6.04,
          4.34,
          8.11,
          7.23,
          7.43,
          7.32,
          9.77,
          7.15,
          6.29,
          6.73,
          4.93,
          5.68,
          8.39,
          4.98,
          7.54,
          8.88,
          7.79,
          6.52,
          6.55,
          5.77,
          8.6,
          6.67,
          7.99,
          8.08,
          6.09,
          5.24,
          8.25,
          6.44,
          3.39,
          6.28,
          6.52,
          5.67,
          6.67,
          7.71,
          6.4,
          6.47,
          5.73,
          9.74,
          7.56,
          7.21,
          4.79,
          8.25,
          2.25,
          6.08,
          7.46,
          4.75,
          7.43,
          8.14,
          7.88,
          7.45,
          5.83,
          4.4,
          7.65,
          4.38,
          3.56,
          6.89,
          6.79,
          6.3,
          5.11,
          6.48,
          7.73,
          8.9,
          8.15,
          6.73,
          6.76,
          7.51,
          6.6,
          5.16,
          4.48,
          6.16,
          7.98,
          5.86,
          8.58,
          8.1,
          7.34,
          6.39,
          7.2,
          7.01,
          5.86,
          6.9,
          7.21,
          6.74,
          7.41,
          8.39,
          6.73,
          7.39,
          4.45,
          3.79,
          4.82,
          5.9,
          7.13,
          5.63,
          6.53,
          6.31,
          5.35,
          10.2,
          7.22,
          4.95,
          6.27,
          7.74,
          5.74,
          7.92,
          7.33,
          6.62,
          5.49,
          6.61,
          5.14,
          8.26,
          5.77,
          5.74,
          8.39,
          7.33,
          6.2,
          5.99,
          5.82,
          6.77,
          8.31,
          7.34,
          6.52,
          5.91,
          7.14,
          7.68,
          7.69,
          6.96,
          6.92,
          6.92,
          7.47,
          7.33,
          5.84,
          6.3,
          7.62,
          6.18,
          6.15,
          7.01,
          7.75,
          6.23,
          6.24,
          7.57,
          7.23,
          7.23,
          6.39,
          6.62,
          6.48,
          6.18,
          6.65,
          6.05,
          5.19,
          5.74,
          6.1,
          7.89,
          10.37,
          7.5,
          6.93,
          4.77,
          6.54,
          7.98,
          6.63,
          6.61,
          6.94,
          7.42,
          7.54,
          6.42,
          5.91,
          7.4,
          7.54,
          7.2,
          6.59,
          7.17,
          6.31,
          7.77,
          6.02,
          6.05,
          5.88,
          6.59,
          7.44,
          7.97,
          7.48,
          7.79,
          7.19,
          4.97,
          6.7,
          7.26,
          6.98,
          7.13,
          8.63,
          8.11,
          5.96,
          8.2,
          7,
          6.92,
          6.46,
          6.06,
          6.69,
          7.97,
          5.99,
          7.29,
          6.22,
          6.48,
          9.64,
          7.32,
          6.73,
          7.52,
          7.41,
          6.42,
          6.58,
          4.61,
          6.61,
          6.87,
          7.64,
          7.98,
          7.07,
          6.74,
          4.28,
          5.7,
          5.78,
          5.93,
          4.49,
          6.78,
          2.95,
          6.33,
          7.65,
          6.33,
          6.38,
          7.84,
          5.84,
          5.92,
          8.02,
          6.3,
          7.26,
          6.36,
          8.13,
          6.1,
          5.89,
          8.18,
          7.74,
          5.08,
          8.85,
          7.04,
          7.66,
          8.19,
          6.4,
          7.71,
          7.38,
          7.33,
          6.64,
          8.28,
          7.51,
          8.24,
          4.39,
          8.06,
          6.59,
          7.73,
          7.79,
          6.92,
          7.07,
          6.75,
          5.88,
          6.71,
          6,
          9.82,
          6.46,
          5.4,
          6.01,
          6.72,
          7.06,
          6.58,
          6.26,
          7.09,
          6.51,
          7.14,
          7.51,
          6.75,
          7.61,
          7.76,
          8.04,
          5.87,
          14.36,
          6.45,
          6.76,
          7.96,
          5.25,
          4.66,
          5.85,
          6.86,
          9.67,
          5.67,
          9.94,
          4.65,
          6.35,
          6.73,
          6.23,
          8.05,
          6.48,
          7.15,
          7.24,
          5.11,
          7.72,
          6.56,
          6.3,
          6.22,
          4.84,
          7.79,
          7.35,
          8.03,
          8.74,
          7.35,
          5.9,
          4.47,
          5.47,
          6.19,
          5.93,
          5.94,
          6.98,
          6.68,
          10.07,
          8.06,
          6.52,
          4.64,
          5.59,
          6.05,
          6.64,
          6.9,
          8.05,
          8.52,
          5.79,
          7.3,
          6.62,
          5,
          7.42,
          5.92,
          5.14,
          7,
          4.59,
          6.71,
          9.88,
          5.09,
          6.38,
          3.59,
          10.36,
          7.13,
          7.6,
          7.63,
          7.41,
          7.82,
          10.23,
          4.7,
          7.28,
          6.35,
          2.5,
          7.36,
          6.55,
          6.41,
          6.76,
          8.34,
          7.36,
          6.95,
          7.42,
          5.31,
          8.1,
          7.28,
          5.48,
          6.4,
          7.73,
          9.89,
          4.25,
          8.23,
          6.8,
          6.16,
          6.81,
          8.25,
          5.78,
          6.56,
          7.2,
          5.82,
          6.84,
          7.23,
          6.27,
          7.34,
          7.15,
          7.08,
          2.44,
          6.62,
          7.51,
          8.44,
          8.37,
          7.13,
          7.56,
          5.13,
          8.29,
          7.87,
          5.36,
          6.15,
          8.7,
          5.92,
          4.72,
          4.6,
          6.89,
          1.76,
          1.83,
          5.37,
          5.4,
          5.67,
          8.17,
          7.53,
          5.94,
          3.6,
          3.64,
          7.71,
          7.73,
          6.61,
          7.92,
          5.99,
          6.94,
          6.82,
          8.39,
          5.28,
          5.48,
          6.67,
          7.78,
          6.87,
          6.65,
          8.23,
          7.86,
          8.83,
          3.17,
          4.2,
          4.67,
          6.35,
          5.95,
          3.25,
          8.57,
          7.21,
          4.41,
          5.33,
          6.04,
          6.76,
          7.12,
          7.16,
          4.65,
          7.41,
          5.4,
          6.8,
          6.89,
          4.96,
          3.32,
          6.51,
          6.77,
          5.8,
          6.74,
          5.44,
          6.6,
          5.37,
          6.06,
          4.86,
          5.39,
          3.83,
          4.83
         ],
         "xaxis": "x",
         "y": [
          254.58,
          193.9,
          78.17,
          897.97,
          74.28,
          975.13,
          187.4,
          444.57,
          579.12,
          439.93,
          245.72,
          78.08,
          339.52,
          524.85,
          219.93,
          1313.85,
          235.23,
          546.73,
          865.38,
          163.13,
          192.63,
          997.42,
          164.92,
          745.08,
          722.77,
          644.6,
          457.02,
          582.87,
          998.83,
          97.85,
          375.75,
          258.7,
          1125.25,
          381.08,
          130.77,
          195.05,
          357.15,
          769.07,
          274.77,
          1410.88,
          556.72,
          122.03,
          494.08,
          59.57,
          262.67,
          805.98,
          854.82,
          330.95,
          491.53,
          178.02,
          998.23,
          868.2,
          650.87,
          158.12,
          940.72,
          171.58,
          494.27,
          668.22,
          418.97,
          446.6,
          607.28,
          219.77,
          207.8,
          230.15,
          521.6,
          390.43,
          712.93,
          315.18,
          160.17,
          320.17,
          1267.22,
          177.18,
          1241.75,
          643.72,
          847.17,
          98.95,
          389.1,
          337.43,
          491.87,
          617.33,
          301.9,
          1095.55,
          790.48,
          87.75,
          1127.85,
          106.62,
          88.82,
          724.17,
          416.5,
          274.68,
          839.9,
          403.55,
          1385.42,
          257.43,
          258.85,
          78.43,
          68.43,
          151.78,
          504.92,
          282.85,
          323.87,
          234.83,
          185.27,
          597.42,
          107.88,
          139.83,
          1658.17,
          603.4,
          1158.58,
          272.77,
          395.42,
          120.62,
          379.95,
          571.52,
          613.83,
          496.73,
          755.72,
          1079.68,
          1916.2,
          683.48,
          504.92,
          61.43,
          469.67,
          690.37,
          71.23,
          137.57,
          193.17,
          1453.12,
          121.8,
          175.42,
          63.4,
          149.23,
          457.88,
          488.05,
          191.88,
          688.72,
          675.53,
          213.2,
          105.92,
          382.4,
          387.5,
          133.92,
          93.02,
          135.8,
          416.63,
          1358.4,
          779.17,
          742.75,
          626.33,
          642.15,
          355.83,
          176.67,
          554.1,
          994.48,
          794.25,
          348.2,
          992.47,
          752.95,
          797.53,
          548.92,
          473.87,
          368.27,
          639.13,
          100.82,
          992.52,
          678.98,
          1345.25,
          581.27,
          1440.27,
          1301.47,
          1293.6,
          185.02,
          704.55,
          701.22,
          291.38,
          302.35,
          145.48,
          480.22,
          693.53,
          326.85,
          1189.58,
          381.88,
          813.33,
          56.35,
          416.72,
          407.53,
          1145.08,
          956.67,
          962.65,
          69.35,
          344.7,
          118.1,
          433.55,
          86.8,
          495.95,
          995.23,
          176.25,
          1385.68,
          789.25,
          931.5,
          136.17,
          86.48,
          687.45,
          731.82,
          355.28,
          162.52,
          210.8,
          111.43,
          366.77,
          618.98,
          292.95,
          693.95,
          656.35,
          677.47,
          258.05,
          857.37,
          682.53,
          1283,
          782.87,
          866.82,
          754.85,
          458.7,
          120.7,
          358.18,
          223.02,
          1022.2,
          538.68,
          152.9,
          103.6,
          231.37,
          636.78,
          839.42,
          814.65,
          687.3,
          742.43,
          1130.3,
          572.13,
          370.42,
          1061.85,
          809.75,
          1074.07,
          93.32,
          393.63,
          766.53,
          1323.93,
          420.98,
          308.38,
          510.77,
          78.15,
          372.43,
          244.67,
          604.97,
          75.15,
          364.8,
          1156.73,
          126.1,
          147.27,
          467.37,
          151.8,
          561.48,
          699.33,
          121.95,
          464.17,
          258.87,
          1062.02,
          714.18,
          53.57,
          935.55,
          709.55,
          134.7,
          304.78,
          1273.22,
          66.08,
          154.97,
          315,
          437.88,
          124.68,
          829.67,
          165.37,
          101.65,
          144.8,
          1206.6,
          161.12,
          234.2,
          202.4,
          252.15,
          662.83,
          243.93,
          616.3,
          726.65,
          917.13,
          81.95,
          223.43,
          254.75,
          488.97,
          439.15,
          303.48,
          534.73,
          800.3,
          489.47,
          1018.95,
          269.8,
          152.73,
          789.1,
          277.78,
          888.35,
          89.28,
          1266.65,
          1038.77,
          153.47,
          863.3,
          1134.17,
          781.02,
          351.3,
          595.18,
          1111.03,
          247.43,
          537.58,
          102.15,
          83.57,
          93.03,
          728.18,
          603.05,
          68.53,
          141.55,
          82.12,
          962.15,
          179.95,
          253.97,
          241.57,
          128.98,
          680,
          169.48,
          1214.4,
          186.35,
          453.85,
          453.17,
          555.45,
          199.52,
          885.58,
          631.03,
          466.33,
          279.83,
          136.33,
          439.08,
          1020.68,
          657.77,
          89.25,
          710.17,
          386.75,
          241.67,
          252.47,
          329.4,
          798.68,
          90.85,
          1264.32,
          359.25,
          65.53,
          1012.82,
          294.63,
          129.28,
          118.17,
          1339.42,
          406.92,
          1087.1,
          871.67,
          232.45,
          269.42,
          903.53,
          417.22,
          851.18,
          590.55,
          172.38,
          677.47,
          600.05,
          65.38,
          572.2,
          188.2,
          223.85,
          611.6,
          183.63,
          110.07,
          1009.45,
          292.07,
          196.5,
          1182.7,
          867,
          117.28,
          229.62,
          741.62,
          387.43,
          96.02,
          986.92,
          91.63,
          608.73,
          168.57,
          417.28,
          611.03,
          457.67,
          476.88,
          417.7,
          177.72,
          790.73,
          109.42,
          384.17,
          877.57,
          175.93,
          70.57,
          211.47,
          608.83,
          769.2,
          114.52,
          159.97,
          996.62,
          439.12,
          366.5,
          164.93,
          824.97,
          240.57,
          95.65,
          817.42,
          948.32,
          1270.37,
          73.87,
          706.75,
          71.9,
          113.75,
          193.53,
          302.88,
          619.22,
          257.3,
          1056.72,
          121.92,
          100.7,
          468.52,
          848.05,
          941.85,
          368.43,
          273.87,
          1211.27,
          68.35,
          65.72,
          122.87,
          255.78,
          539.83,
          836.77,
          1179.15,
          495.15,
          250.2,
          98.88,
          303.45,
          139.77,
          381,
          1060.65,
          421.05,
          103.73,
          686.22,
          142.98,
          124.97,
          722.22,
          98.9,
          733.1,
          1528.97,
          306.67,
          350.05,
          305.2,
          971.32,
          56.7,
          328.63,
          77.12,
          1020.88,
          181.57,
          129.2,
          252.02,
          1140.07,
          108.9,
          405.03,
          347.52,
          337.12,
          665.6,
          820.85,
          90.28,
          842.53,
          344.18,
          687.83,
          905.9,
          338.92,
          162.72,
          552.67,
          124,
          537.78,
          774.68,
          639.13,
          409.07,
          1038.95,
          336.67,
          283.75,
          912.32,
          234.77,
          87
         ],
         "yaxis": "y"
        }
       ],
       "layout": {
        "height": 800,
        "legend": {
         "itemsizing": "constant",
         "tracegroupgap": 0
        },
        "shapes": [
         {
          "type": "line",
          "x0": 0,
          "x1": 1,
          "xref": "x domain",
          "y0": 499,
          "y1": 499,
          "yref": "y"
         },
         {
          "type": "line",
          "x0": 7,
          "x1": 7,
          "xref": "x",
          "y0": 0,
          "y1": 1,
          "yref": "y domain"
         },
         {
          "line": {
           "color": "red",
           "dash": "dash"
          },
          "type": "line",
          "x0": 0,
          "x1": 1,
          "xref": "x domain",
          "y0": 1190.4309999999991,
          "y1": 1190.4309999999991,
          "yref": "y"
         },
         {
          "line": {
           "color": "red",
           "dash": "dash"
          },
          "type": "line",
          "x0": 4.399500000000001,
          "x1": 4.399500000000001,
          "xref": "x",
          "y0": 0,
          "y1": 1,
          "yref": "y domain"
         }
        ],
        "template": {
         "data": {
          "bar": [
           {
            "error_x": {
             "color": "#2a3f5f"
            },
            "error_y": {
             "color": "#2a3f5f"
            },
            "marker": {
             "line": {
              "color": "#E5ECF6",
              "width": 0.5
             }
            },
            "type": "bar"
           }
          ],
          "barpolar": [
           {
            "marker": {
             "line": {
              "color": "#E5ECF6",
              "width": 0.5
             }
            },
            "type": "barpolar"
           }
          ],
          "carpet": [
           {
            "aaxis": {
             "endlinecolor": "#2a3f5f",
             "gridcolor": "white",
             "linecolor": "white",
             "minorgridcolor": "white",
             "startlinecolor": "#2a3f5f"
            },
            "baxis": {
             "endlinecolor": "#2a3f5f",
             "gridcolor": "white",
             "linecolor": "white",
             "minorgridcolor": "white",
             "startlinecolor": "#2a3f5f"
            },
            "type": "carpet"
           }
          ],
          "choropleth": [
           {
            "colorbar": {
             "outlinewidth": 0,
             "ticks": ""
            },
            "type": "choropleth"
           }
          ],
          "contour": [
           {
            "colorbar": {
             "outlinewidth": 0,
             "ticks": ""
            },
            "colorscale": [
             [
              0,
              "#0d0887"
             ],
             [
              0.1111111111111111,
              "#46039f"
             ],
             [
              0.2222222222222222,
              "#7201a8"
             ],
             [
              0.3333333333333333,
              "#9c179e"
             ],
             [
              0.4444444444444444,
              "#bd3786"
             ],
             [
              0.5555555555555556,
              "#d8576b"
             ],
             [
              0.6666666666666666,
              "#ed7953"
             ],
             [
              0.7777777777777778,
              "#fb9f3a"
             ],
             [
              0.8888888888888888,
              "#fdca26"
             ],
             [
              1,
              "#f0f921"
             ]
            ],
            "type": "contour"
           }
          ],
          "contourcarpet": [
           {
            "colorbar": {
             "outlinewidth": 0,
             "ticks": ""
            },
            "type": "contourcarpet"
           }
          ],
          "heatmap": [
           {
            "colorbar": {
             "outlinewidth": 0,
             "ticks": ""
            },
            "colorscale": [
             [
              0,
              "#0d0887"
             ],
             [
              0.1111111111111111,
              "#46039f"
             ],
             [
              0.2222222222222222,
              "#7201a8"
             ],
             [
              0.3333333333333333,
              "#9c179e"
             ],
             [
              0.4444444444444444,
              "#bd3786"
             ],
             [
              0.5555555555555556,
              "#d8576b"
             ],
             [
              0.6666666666666666,
              "#ed7953"
             ],
             [
              0.7777777777777778,
              "#fb9f3a"
             ],
             [
              0.8888888888888888,
              "#fdca26"
             ],
             [
              1,
              "#f0f921"
             ]
            ],
            "type": "heatmap"
           }
          ],
          "heatmapgl": [
           {
            "colorbar": {
             "outlinewidth": 0,
             "ticks": ""
            },
            "colorscale": [
             [
              0,
              "#0d0887"
             ],
             [
              0.1111111111111111,
              "#46039f"
             ],
             [
              0.2222222222222222,
              "#7201a8"
             ],
             [
              0.3333333333333333,
              "#9c179e"
             ],
             [
              0.4444444444444444,
              "#bd3786"
             ],
             [
              0.5555555555555556,
              "#d8576b"
             ],
             [
              0.6666666666666666,
              "#ed7953"
             ],
             [
              0.7777777777777778,
              "#fb9f3a"
             ],
             [
              0.8888888888888888,
              "#fdca26"
             ],
             [
              1,
              "#f0f921"
             ]
            ],
            "type": "heatmapgl"
           }
          ],
          "histogram": [
           {
            "marker": {
             "colorbar": {
              "outlinewidth": 0,
              "ticks": ""
             }
            },
            "type": "histogram"
           }
          ],
          "histogram2d": [
           {
            "colorbar": {
             "outlinewidth": 0,
             "ticks": ""
            },
            "colorscale": [
             [
              0,
              "#0d0887"
             ],
             [
              0.1111111111111111,
              "#46039f"
             ],
             [
              0.2222222222222222,
              "#7201a8"
             ],
             [
              0.3333333333333333,
              "#9c179e"
             ],
             [
              0.4444444444444444,
              "#bd3786"
             ],
             [
              0.5555555555555556,
              "#d8576b"
             ],
             [
              0.6666666666666666,
              "#ed7953"
             ],
             [
              0.7777777777777778,
              "#fb9f3a"
             ],
             [
              0.8888888888888888,
              "#fdca26"
             ],
             [
              1,
              "#f0f921"
             ]
            ],
            "type": "histogram2d"
           }
          ],
          "histogram2dcontour": [
           {
            "colorbar": {
             "outlinewidth": 0,
             "ticks": ""
            },
            "colorscale": [
             [
              0,
              "#0d0887"
             ],
             [
              0.1111111111111111,
              "#46039f"
             ],
             [
              0.2222222222222222,
              "#7201a8"
             ],
             [
              0.3333333333333333,
              "#9c179e"
             ],
             [
              0.4444444444444444,
              "#bd3786"
             ],
             [
              0.5555555555555556,
              "#d8576b"
             ],
             [
              0.6666666666666666,
              "#ed7953"
             ],
             [
              0.7777777777777778,
              "#fb9f3a"
             ],
             [
              0.8888888888888888,
              "#fdca26"
             ],
             [
              1,
              "#f0f921"
             ]
            ],
            "type": "histogram2dcontour"
           }
          ],
          "mesh3d": [
           {
            "colorbar": {
             "outlinewidth": 0,
             "ticks": ""
            },
            "type": "mesh3d"
           }
          ],
          "parcoords": [
           {
            "line": {
             "colorbar": {
              "outlinewidth": 0,
              "ticks": ""
             }
            },
            "type": "parcoords"
           }
          ],
          "pie": [
           {
            "automargin": true,
            "type": "pie"
           }
          ],
          "scatter": [
           {
            "marker": {
             "colorbar": {
              "outlinewidth": 0,
              "ticks": ""
             }
            },
            "type": "scatter"
           }
          ],
          "scatter3d": [
           {
            "line": {
             "colorbar": {
              "outlinewidth": 0,
              "ticks": ""
             }
            },
            "marker": {
             "colorbar": {
              "outlinewidth": 0,
              "ticks": ""
             }
            },
            "type": "scatter3d"
           }
          ],
          "scattercarpet": [
           {
            "marker": {
             "colorbar": {
              "outlinewidth": 0,
              "ticks": ""
             }
            },
            "type": "scattercarpet"
           }
          ],
          "scattergeo": [
           {
            "marker": {
             "colorbar": {
              "outlinewidth": 0,
              "ticks": ""
             }
            },
            "type": "scattergeo"
           }
          ],
          "scattergl": [
           {
            "marker": {
             "colorbar": {
              "outlinewidth": 0,
              "ticks": ""
             }
            },
            "type": "scattergl"
           }
          ],
          "scattermapbox": [
           {
            "marker": {
             "colorbar": {
              "outlinewidth": 0,
              "ticks": ""
             }
            },
            "type": "scattermapbox"
           }
          ],
          "scatterpolar": [
           {
            "marker": {
             "colorbar": {
              "outlinewidth": 0,
              "ticks": ""
             }
            },
            "type": "scatterpolar"
           }
          ],
          "scatterpolargl": [
           {
            "marker": {
             "colorbar": {
              "outlinewidth": 0,
              "ticks": ""
             }
            },
            "type": "scatterpolargl"
           }
          ],
          "scatterternary": [
           {
            "marker": {
             "colorbar": {
              "outlinewidth": 0,
              "ticks": ""
             }
            },
            "type": "scatterternary"
           }
          ],
          "surface": [
           {
            "colorbar": {
             "outlinewidth": 0,
             "ticks": ""
            },
            "colorscale": [
             [
              0,
              "#0d0887"
             ],
             [
              0.1111111111111111,
              "#46039f"
             ],
             [
              0.2222222222222222,
              "#7201a8"
             ],
             [
              0.3333333333333333,
              "#9c179e"
             ],
             [
              0.4444444444444444,
              "#bd3786"
             ],
             [
              0.5555555555555556,
              "#d8576b"
             ],
             [
              0.6666666666666666,
              "#ed7953"
             ],
             [
              0.7777777777777778,
              "#fb9f3a"
             ],
             [
              0.8888888888888888,
              "#fdca26"
             ],
             [
              1,
              "#f0f921"
             ]
            ],
            "type": "surface"
           }
          ],
          "table": [
           {
            "cells": {
             "fill": {
              "color": "#EBF0F8"
             },
             "line": {
              "color": "white"
             }
            },
            "header": {
             "fill": {
              "color": "#C8D4E3"
             },
             "line": {
              "color": "white"
             }
            },
            "type": "table"
           }
          ]
         },
         "layout": {
          "annotationdefaults": {
           "arrowcolor": "#2a3f5f",
           "arrowhead": 0,
           "arrowwidth": 1
          },
          "coloraxis": {
           "colorbar": {
            "outlinewidth": 0,
            "ticks": ""
           }
          },
          "colorscale": {
           "diverging": [
            [
             0,
             "#8e0152"
            ],
            [
             0.1,
             "#c51b7d"
            ],
            [
             0.2,
             "#de77ae"
            ],
            [
             0.3,
             "#f1b6da"
            ],
            [
             0.4,
             "#fde0ef"
            ],
            [
             0.5,
             "#f7f7f7"
            ],
            [
             0.6,
             "#e6f5d0"
            ],
            [
             0.7,
             "#b8e186"
            ],
            [
             0.8,
             "#7fbc41"
            ],
            [
             0.9,
             "#4d9221"
            ],
            [
             1,
             "#276419"
            ]
           ],
           "sequential": [
            [
             0,
             "#0d0887"
            ],
            [
             0.1111111111111111,
             "#46039f"
            ],
            [
             0.2222222222222222,
             "#7201a8"
            ],
            [
             0.3333333333333333,
             "#9c179e"
            ],
            [
             0.4444444444444444,
             "#bd3786"
            ],
            [
             0.5555555555555556,
             "#d8576b"
            ],
            [
             0.6666666666666666,
             "#ed7953"
            ],
            [
             0.7777777777777778,
             "#fb9f3a"
            ],
            [
             0.8888888888888888,
             "#fdca26"
            ],
            [
             1,
             "#f0f921"
            ]
           ],
           "sequentialminus": [
            [
             0,
             "#0d0887"
            ],
            [
             0.1111111111111111,
             "#46039f"
            ],
            [
             0.2222222222222222,
             "#7201a8"
            ],
            [
             0.3333333333333333,
             "#9c179e"
            ],
            [
             0.4444444444444444,
             "#bd3786"
            ],
            [
             0.5555555555555556,
             "#d8576b"
            ],
            [
             0.6666666666666666,
             "#ed7953"
            ],
            [
             0.7777777777777778,
             "#fb9f3a"
            ],
            [
             0.8888888888888888,
             "#fdca26"
            ],
            [
             1,
             "#f0f921"
            ]
           ]
          },
          "colorway": [
           "#636efa",
           "#EF553B",
           "#00cc96",
           "#ab63fa",
           "#FFA15A",
           "#19d3f3",
           "#FF6692",
           "#B6E880",
           "#FF97FF",
           "#FECB52"
          ],
          "font": {
           "color": "#2a3f5f"
          },
          "geo": {
           "bgcolor": "white",
           "lakecolor": "white",
           "landcolor": "#E5ECF6",
           "showlakes": true,
           "showland": true,
           "subunitcolor": "white"
          },
          "hoverlabel": {
           "align": "left"
          },
          "hovermode": "closest",
          "mapbox": {
           "style": "light"
          },
          "paper_bgcolor": "white",
          "plot_bgcolor": "#E5ECF6",
          "polar": {
           "angularaxis": {
            "gridcolor": "white",
            "linecolor": "white",
            "ticks": ""
           },
           "bgcolor": "#E5ECF6",
           "radialaxis": {
            "gridcolor": "white",
            "linecolor": "white",
            "ticks": ""
           }
          },
          "scene": {
           "xaxis": {
            "backgroundcolor": "#E5ECF6",
            "gridcolor": "white",
            "gridwidth": 2,
            "linecolor": "white",
            "showbackground": true,
            "ticks": "",
            "zerolinecolor": "white"
           },
           "yaxis": {
            "backgroundcolor": "#E5ECF6",
            "gridcolor": "white",
            "gridwidth": 2,
            "linecolor": "white",
            "showbackground": true,
            "ticks": "",
            "zerolinecolor": "white"
           },
           "zaxis": {
            "backgroundcolor": "#E5ECF6",
            "gridcolor": "white",
            "gridwidth": 2,
            "linecolor": "white",
            "showbackground": true,
            "ticks": "",
            "zerolinecolor": "white"
           }
          },
          "shapedefaults": {
           "line": {
            "color": "#2a3f5f"
           }
          },
          "ternary": {
           "aaxis": {
            "gridcolor": "white",
            "linecolor": "white",
            "ticks": ""
           },
           "baxis": {
            "gridcolor": "white",
            "linecolor": "white",
            "ticks": ""
           },
           "bgcolor": "#E5ECF6",
           "caxis": {
            "gridcolor": "white",
            "linecolor": "white",
            "ticks": ""
           }
          },
          "title": {
           "x": 0.05
          },
          "xaxis": {
           "automargin": true,
           "gridcolor": "white",
           "linecolor": "white",
           "ticks": "",
           "title": {
            "standoff": 15
           },
           "zerolinecolor": "white",
           "zerolinewidth": 2
          },
          "yaxis": {
           "automargin": true,
           "gridcolor": "white",
           "linecolor": "white",
           "ticks": "",
           "title": {
            "standoff": 15
           },
           "zerolinecolor": "white",
           "zerolinewidth": 2
          }
         }
        },
        "title": {
         "text": "SH TOI vs PP GA/60"
        },
        "width": 800,
        "xaxis": {
         "anchor": "y",
         "autorange": "reversed",
         "domain": [
          0,
          1
         ],
         "title": {
          "text": "PP GA/60"
         }
        },
        "yaxis": {
         "anchor": "x",
         "domain": [
          0,
          1
         ],
         "title": {
          "text": "SH_TOI"
         }
        }
       }
      },
      "text/html": [
       "<div>                            <div id=\"93b247e3-5a76-4107-aae7-449ffb2c068a\" class=\"plotly-graph-div\" style=\"height:800px; width:800px;\"></div>            <script type=\"text/javascript\">                require([\"plotly\"], function(Plotly) {                    window.PLOTLYENV=window.PLOTLYENV || {};                                    if (document.getElementById(\"93b247e3-5a76-4107-aae7-449ffb2c068a\")) {                    Plotly.newPlot(                        \"93b247e3-5a76-4107-aae7-449ffb2c068a\",                        [{\"customdata\": [[\"R\"], [\"C\"], [\"D\"], [\"L\"], [\"D\"], [\"C\"], [\"C\"], [\"C\"], [\"C\"], [\"C\"], [\"C\"], [\"R\"], [\"D\"], [\"R\"], [\"C\"], [\"D\"], [\"C\"], [\"C\"], [\"R\"], [\"D\"], [\"D\"], [\"D\"], [\"D\"], [\"D\"], [\"D\"], [\"L\"], [\"C\"], [\"L\"], [\"C\"], [\"C\"], [\"D\"], [\"C\"], [\"D\"], [\"R\"], [\"L\"], [\"R\"], [\"C\"], [\"C\"], [\"C\"], [\"D\"], [\"C\"], [\"C\"], [\"R\"], [\"C\"], [\"D\"], [\"L\"], [\"C\"], [\"C\"], [\"D\"], [\"C\"], [\"C\"], [\"L\"], [\"C\"], [\"C\"], [\"D\"], [\"C\"], [\"L\"], [\"R\"], [\"C\"], [\"R\"], [\"D\"], [\"C\"], [\"R\"], [\"C\"], [\"C\"], [\"L\"], [\"D\"], [\"C\"], [\"L\"], [\"C\"], [\"D\"], [\"L\"], [\"C\"], [\"C\"], [\"R\"], [\"D\"], [\"D\"], [\"C\"], [\"R\"], [\"C\"], [\"C\"], [\"D\"], [\"D\"], [\"L\"], [\"D\"], [\"R\"], [\"D\"], [\"D\"], [\"L\"], [\"R\"], [\"C\"], [\"L\"], [\"D\"], [\"L\"], [\"C\"], [\"L\"], [\"L\"], [\"L\"], [\"C\"], [\"R\"], [\"D\"], [\"C\"], [\"D\"], [\"C\"], [\"R\"], [\"D\"], [\"D\"], [\"C\"], [\"D\"], [\"D\"], [\"L\"], [\"D\"], [\"C\"], [\"C\"], [\"L\"], [\"C\"], [\"C\"], [\"C\"], [\"D\"], [\"D\"], [\"L\"], [\"L\"], [\"C\"], [\"C\"], [\"R\"], [\"L\"], [\"C\"], [\"D\"], [\"D\"], [\"D\"], [\"R\"], [\"D\"], [\"L\"], [\"C\"], [\"C\"], [\"R\"], [\"L\"], [\"L\"], [\"D\"], [\"C\"], [\"C\"], [\"D\"], [\"L\"], [\"D\"], [\"R\"], [\"D\"], [\"D\"], [\"L\"], [\"D\"], [\"D\"], [\"D\"], [\"L\"], [\"R\"], [\"C\"], [\"C\"], [\"D\"], [\"D\"], [\"D\"], [\"C\"], [\"C\"], [\"C\"], [\"L\"], [\"R\"], [\"D\"], [\"D\"], [\"D\"], [\"D\"], [\"C\"], [\"D\"], [\"D\"], [\"D\"], [\"D\"], [\"D\"], [\"C\"], [\"C\"], [\"R\"], [\"D\"], [\"L\"], [\"L\"], [\"C\"], [\"C\"], [\"L\"], [\"C\"], [\"C\"], [\"L\"], [\"D\"], [\"D\"], [\"D\"], [\"C\"], [\"R\"], [\"C\"], [\"C\"], [\"R\"], [\"L\"], [\"D\"], [\"D\"], [\"R\"], [\"D\"], [\"D\"], [\"D\"], [\"D\"], [\"C\"], [\"C\"], [\"C\"], [\"D\"], [\"D\"], [\"C\"], [\"L\"], [\"C\"], [\"C\"], [\"D\"], [\"R\"], [\"D\"], [\"C\"], [\"C\"], [\"D\"], [\"C\"], [\"D\"], [\"D\"], [\"D\"], [\"D\"], [\"R\"], [\"R\"], [\"D\"], [\"C\"], [\"C\"], [\"C\"], [\"D\"], [\"D\"], [\"R\"], [\"C\"], [\"C\"], [\"D\"], [\"C\"], [\"D\"], [\"D\"], [\"C\"], [\"C\"], [\"D\"], [\"C\"], [\"D\"], [\"R\"], [\"R\"], [\"C\"], [\"D\"], [\"D\"], [\"L\"], [\"D\"], [\"L\"], [\"D\"], [\"R\"], [\"C\"], [\"D\"], [\"C\"], [\"D\"], [\"D\"], [\"C\"], [\"C\"], [\"D\"], [\"L\"], [\"C\"], [\"L\"], [\"L\"], [\"D\"], [\"D\"], [\"R\"], [\"C\"], [\"D\"], [\"D\"], [\"L\"], [\"L\"], [\"D\"], [\"L\"], [\"C\"], [\"D\"], [\"D\"], [\"D\"], [\"D\"], [\"L\"], [\"L\"], [\"L\"], [\"D\"], [\"L\"], [\"C\"], [\"C\"], [\"R\"], [\"R\"], [\"C\"], [\"L\"], [\"L\"], [\"D\"], [\"D\"], [\"C\"], [\"D\"], [\"L\"], [\"C\"], [\"C\"], [\"D\"], [\"C\"], [\"R\"], [\"D\"], [\"D\"], [\"C\"], [\"D\"], [\"R\"], [\"R\"], [\"L\"], [\"D\"], [\"D\"], [\"C\"], [\"L\"], [\"D\"], [\"C\"], [\"C\"], [\"D\"], [\"D\"], [\"C\"], [\"C\"], [\"R\"], [\"C\"], [\"L\"], [\"L\"], [\"C\"], [\"D\"], [\"C\"], [\"R\"], [\"C\"], [\"L\"], [\"C\"], [\"D\"], [\"C\"], [\"C\"], [\"D\"], [\"D\"], [\"D\"], [\"D\"], [\"C\"], [\"D\"], [\"D\"], [\"D\"], [\"L\"], [\"L\"], [\"C\"], [\"D\"], [\"C\"], [\"D\"], [\"D\"], [\"L\"], [\"C\"], [\"C\"], [\"D\"], [\"D\"], [\"C\"], [\"D\"], [\"C\"], [\"D\"], [\"C\"], [\"L\"], [\"D\"], [\"D\"], [\"C\"], [\"L\"], [\"D\"], [\"D\"], [\"C\"], [\"D\"], [\"R\"], [\"C\"], [\"D\"], [\"C\"], [\"D\"], [\"D\"], [\"D\"], [\"D\"], [\"C\"], [\"R\"], [\"C\"], [\"C\"], [\"C\"], [\"L\"], [\"D\"], [\"L\"], [\"D\"], [\"R\"], [\"D\"], [\"D\"], [\"D\"], [\"C\"], [\"R\"], [\"C\"], [\"D\"], [\"L\"], [\"D\"], [\"C\"], [\"D\"], [\"C\"], [\"C\"], [\"D\"], [\"R\"], [\"R\"], [\"C\"], [\"R\"], [\"L\"], [\"R\"], [\"D\"], [\"C\"], [\"C\"], [\"C\"], [\"D\"], [\"R\"], [\"R\"], [\"R\"], [\"C\"], [\"C\"], [\"D\"], [\"C\"], [\"C\"], [\"L\"], [\"D\"], [\"D\"], [\"D\"], [\"D\"], [\"D\"], [\"R\"], [\"C\"], [\"C\"], [\"L\"], [\"D\"], [\"D\"], [\"D\"], [\"D\"], [\"D\"], [\"C\"], [\"D\"], [\"C\"], [\"C\"], [\"C\"], [\"C\"], [\"L\"], [\"D\"], [\"L\"], [\"C\"], [\"D\"], [\"C\"], [\"L\"], [\"C\"], [\"D\"], [\"L\"], [\"D\"], [\"D\"], [\"R\"], [\"R\"], [\"R\"], [\"D\"], [\"C\"], [\"C\"], [\"D\"], [\"R\"], [\"C\"], [\"D\"], [\"D\"], [\"D\"], [\"D\"], [\"D\"], [\"D\"], [\"D\"], [\"D\"], [\"R\"], [\"C\"], [\"D\"], [\"D\"], [\"D\"], [\"D\"], [\"L\"], [\"D\"], [\"R\"], [\"L\"], [\"L\"], [\"C\"], [\"D\"], [\"D\"], [\"D\"], [\"D\"], [\"C\"], [\"D\"], [\"R\"], [\"L\"], [\"D\"], [\"C\"], [\"D\"], [\"C\"], [\"D\"], [\"D\"], [\"L\"], [\"L\"], [\"R\"], [\"L\"], [\"C\"], [\"R\"], [\"R\"]], \"hovertemplate\": \"<b>%{hovertext}</b><br><br>PP GA/60=%{x}<br>SH_TOI=%{y}<br>GP=%{marker.size}<br>Pos=%{customdata[0]}<extra></extra>\", \"hovertext\": [\"Mitchell Marner\", \"Brayden Point\", \"Joe Morrow\", \"Brad Marchand\", \"Taylor Fedun\", \"Patrice Bergeron\", \"Sidney Crosby\", \"Nicklas Backstrom\", \"Blake Coleman\", \"Anthony Cirelli\", \"Connor McDavid\", \"Patrick Eaves\", \"Neal Pionk\", \"T.J. Oshie\", \"Steven Stamkos\", \"Niklas Hjalmarsson\", \"John Tavares\", \"Claude Giroux\", \"Troy Brouwer\", \"Chad Ruhwedel\", \"John Klingberg\", \"Kris Letang\", \"Torey Krug\", \"Oscar Klefbom\", \"Nikita Zaitsev\", \"Ondrej Palat\", \"Joe Pavelski\", \"Jamie Benn\", \"Ryan O'Reilly\", \"Jason Spezza\", \"Kevin Shattenkirk\", \"Tyler Seguin\", \"Victor Hedman\", \"Bryan Rust\", \"Kyle Connor\", \"Wayne Simmonds\", \"Yanni Gourde\", \"Ryan Nugent-Hopkins\", \"Leon Draisaitl\", \"John Carlson\", \"Johan Larsson\", \"Brayden Schenn\", \"David Backes\", \"Marcus Johansson\", \"Kimmo Timonen\", \"Darren Helm\", \"Mark Letestu\", \"Tyler Bozak\", \"Nate Schmidt\", \"J.T. Miller\", \"Casey Cizikas\", \"Alexander Steen\", \"Logan Couture\", \"Jack Eichel\", \"Brent Burns\", \"Dave Bolland\", \"Erik Haula\", \"Blake Wheeler\", \"Patrick Marleau\", \"Alex Chiasson\", \"Mike Matheson\", \"Sean Monahan\", \"Kyle Palmieri\", \"Nathan MacKinnon\", \"Paul Stastny\", \"J.T. Compher\", \"Morgan Rielly\", \"Nic Dowd\", \"Chris Kunitz\", \"Jacob Josefson\", \"Matt Niskanen\", \"James van Riemsdyk\", \"Travis Zajac\", \"Tyler Johnson\", \"Leo Komarov\", \"Mikhail Sergachev\", \"Keith Yandle\", \"David Legwand\", \"Mark Stone\", \"Aleksander Barkov\", \"Mark Scheifele\", \"Jared Spurgeon\", \"Niklas Kronwall\", \"Taylor Hall\", \"Rasmus Ristolainen\", \"Vladimir Tarasenko\", \"Sean Walker\", \"Dustin Byfuglien\", \"Jaden Schwartz\", \"Josh Jooris\", \"Jonathan Toews\", \"Gabriel Landeskog\", \"Mark Giordano\", \"Teuvo Teravainen\", \"David Krejci\", \"Jonathan Huberdeau\", \"Jake Guentzel\", \"David Perron\", \"Ryan Johansen\", \"Mats Zuccarello\", \"Chris Phillips\", \"Sebastian Aho\", \"Mark Streit\", \"Mika Zibanejad\", \"Shane Doan\", \"Yannick Weber\", \"Zdeno Chara\", \"Elias Lindholm\", \"Alexander Edler\", \"James Wisniewski\", \"Filip Forsberg\", \"Matt Grzelcyk\", \"Tomas Hertl\", \"Colton Sissons\", \"Justin Abdelkader\", \"Antoine Vermette\", \"Mikko Koivu\", \"Anze Kopitar\", \"Andy Greene\", \"Fedor Tyutin\", \"Max Pacioretty\", \"Jordan Greenway\", \"Alexander Wennberg\", \"Jeff Carter\", \"Corey Perry\", \"Clarke MacArthur\", \"Ryan White\", \"Alex Pietrangelo\", \"Tyson Barrie\", \"Justin Schultz\", \"Radim Vrbata\", \"Mike Green\", \"Nick Foligno\", \"Mike Fisher\", \"Henrik Sedin\", \"Reilly Smith\", \"Alex Killorn\", \"Jason Zucker\", \"Henri Jokiharju\", \"Martin Hanzal\", \"Pavel Zacha\", \"Steven Kampfer\", \"Rickard Rakell\", \"Ethan Bear\", \"Ryan Callahan\", \"Jack Johnson\", \"Justin Faulk\", \"Loui Eriksson\", \"Paul Martin\", \"Colton Parayko\", \"David Schlemko\", \"Daniel Sedin\", \"Joel Ward\", \"Frans Nielsen\", \"Jordan Staal\", \"Zach Werenski\", \"Cam Fowler\", \"Sami Vatanen\", \"Riley Sheahan\", \"Bo Horvat\", \"Mikael Granlund\", \"Zach Parise\", \"Cam Atkinson\", \"Shea Theodore\", \"Brent Seabrook\", \"Darnell Nurse\", \"Roman Josi\", \"Kevin Hayes\", \"Drew Doughty\", \"Shea Weber\", \"Ryan Suter\", \"Jakob Chychrun\", \"Andrei Markov\", \"Bryan Little\", \"Vladislav Namestnikov\", \"Viktor Arvidsson\", \"Sami Salo\", \"Lauri Korpikoski\", \"Paul Byron\", \"Kyle Turris\", \"Sean Couturier\", \"Tanner Pearson\", \"Derek Stepan\", \"Derick Brassard\", \"Rick Nash\", \"Dougie Hamilton\", \"David Savard\", \"P.K. Subban\", \"Adam Henrique\", \"Jordan Eberle\", \"Eric Staal\", \"Nick Schmaltz\", \"Marian Hossa\", \"Andreas Athanasiou\", \"Josh Morrissey\", \"Oliver Ekman-Larsson\", \"Justin Williams\", \"Ryan McDonagh\", \"Erik Karlsson\", \"Nick Holden\", \"Jay Harrison\", \"Victor Rask\", \"Matt Cullen\", \"Brian Boyle\", \"Matt Dumba\", \"Jake Gardiner\", \"Jori Lehtera\", \"Mikkel Boedker\", \"Mattias Janmark\", \"Riley Nash\", \"Nick Leddy\", \"Dustin Brown\", \"Aaron Ekblad\", \"Carl Soderberg\", \"Patrik Elias\", \"Alec Martinez\", \"Ryan Getzlaf\", \"Duncan Keith\", \"Michael Stone\", \"Kris Russell\", \"Andrew MacDonald\", \"Tyler Toffoli\", \"Timo Meier\", \"Cody Franson\", \"Alexander Burmistrov\", \"Ryan Kesler\", \"Vincent Trocheck\", \"Gustav Forsling\", \"Maxime Lajoie\", \"Logan Shaw\", \"Artem Anisimov\", \"Tomas Plekanec\", \"Andrej Sekera\", \"William Karlsson\", \"Olli Maatta\", \"Dan Girardi\", \"Boyd Gordon\", \"Barclay Goodrow\", \"Johnny Boychuk\", \"Calle Jarnkrok\", \"Jonas Brodin\", \"Andrew Shaw\", \"Joel Armia\", \"Adam Lowry\", \"Jacob Trouba\", \"Damon Severson\", \"Milan Michalek\", \"Brady Skjei\", \"Matt Beleskey\", \"Dennis Wideman\", \"Josh Bailey\", \"Vernon Fiddler\", \"Jamie McBain\", \"Ryan Strome\", \"Jeff Petry\", \"Dan Boyle\", \"Lucas Wallmark\", \"Brooks Laich\", \"Colin Miller\", \"Evander Kane\", \"Chris Tierney\", \"Ryan Smyth\", \"Jussi Jokinen\", \"Ryan Pulock\", \"Hampus Lindholm\", \"Tom Wilson\", \"Gustav Nyquist\", \"Jake Muzzin\", \"Ryan Murray\", \"Teddy Purcell\", \"Benoit Pouliot\", \"Christopher Tanev\", \"Nick Ritchie\", \"Matt Duchene\", \"Christian Ehrhoff\", \"Jon Merrill\", \"Oscar Fantenberg\", \"Esa Lindell\", \"Alex Tanguay\", \"Anthony Beauvillier\", \"Michael Cammalleri\", \"Erik Johnson\", \"Alex Iafallo\", \"Devin Shore\", \"Evan Rodrigues\", \"David Moss\", \"Connor Brown\", \"Anton Lander\", \"Andrew Ladd\", \"Jordan Martinook\", \"Dion Phaneuf\", \"Rasmus Andersson\", \"Brett Howden\", \"Miro Heiskanen\", \"Artturi Lehkonen\", \"Derek Grant\", \"Charlie Coyle\", \"Matt Hunwick\", \"Valtteri Filppula\", \"Brian Gionta\", \"Tyler Myers\", \"Noah Hanifin\", \"Drake Caggiula\", \"Brett Pesce\", \"Lee Stempniak\", \"Jakob Silfverberg\", \"Jesper Bratt\", \"Alex Goligoski\", \"Seth Jones\", \"R.J. Umberger\", \"Matt Calvert\", \"Mattias Ekholm\", \"Colton Sceviour\", \"Dylan Larkin\", \"Jason Garrison\", \"TJ Brodie\", \"Curtis Lazar\", \"Markus Granlund\", \"Martin St. Louis\", \"Nick Bjugstad\", \"Oscar Lindberg\", \"Zach Hyman\", \"Phillip Danault\", \"Thomas Chabot\", \"Nico Hischier\", \"Jason Pominville\", \"Mikael Backlund\", \"Jimmy Vesey\", \"Shawn Horcoff\", \"Filip Hronek\", \"Adrian Kempe\", \"Trevor Lewis\", \"Marcus Pettersson\", \"Anton Stralman\", \"Matt Irwin\", \"Ben Hutton\", \"Brock Nelson\", \"Nikita Zadorov\", \"John-Michael Liles\", \"Brayden McNabb\", \"Antoine Roussel\", \"Jason Chimera\", \"Chandler Stephenson\", \"Patrick Wiercioch\", \"Boone Jenner\", \"Marco Scandella\", \"Michael Del Zotto\", \"Scott Wilson\", \"Tobias Rieder\", \"Nick Spaling\", \"Charlie McAvoy\", \"Nathan Beaulieu\", \"Derek Ryan\", \"Ryan Ellis\", \"Frank Vatrano\", \"Marc-Edouard Vlasic\", \"John Mitchell\", \"Anthony Duclair\", \"Francois Beauchemin\", \"Dylan DeMelo\", \"Mike Santorelli\", \"Mason Raymond\", \"Jay Bouwmeester\", \"Matt Carle\", \"Nick Bonino\", \"Ivan Provorov\", \"Drew Stafford\", \"Oskar Sundqvist\", \"Trevor Daley\", \"Tommy Wingels\", \"Jason Demers\", \"Toby Enstrom\", \"Jordan Oesterle\", \"Kevin Bieksa\", \"Radek Faksa\", \"Vinnie Hinostroza\", \"Eric Fehr\", \"Christian Dvorak\", \"Nathan Gerbe\", \"Brandon Saad\", \"Slava Voynov\", \"Oskar Lindblom\", \"Jaccob Slavin\", \"Kasperi Kapanen\", \"Matt Benning\", \"Travis Hamonic\", \"Dmitry Kulikov\", \"Joe Colborne\", \"Josh Anderson\", \"Brandon Dubinsky\", \"Dmitry Orlov\", \"Jiri Tlusty\", \"Radko Gudas\", \"Colin Greening\", \"John Moore\", \"Sam Bennett\", \"Jarret Stoll\", \"Brendan Smith\", \"Alexandre Burrows\", \"Scottie Upshall\", \"Patrik Berglund\", \"Richard Panik\", \"Matt Nieto\", \"Martin Erat\", \"Brian Campbell\", \"Jean-Gabriel Pageau\", \"Luke Kunin\", \"Rich Peverley\", \"Andre Benoit\", \"Matt Read\", \"Michael Frolik\", \"Mark Arcobello\", \"Peter Holland\", \"Lars Eller\", \"Trevor van Riemsdyk\", \"Vladimir Sobotka\", \"Jared McCann\", \"Blake Comeau\", \"Kevin Connauton\", \"Connor Carrick\", \"Calvin de Haan\", \"Ian Cole\", \"Cody Ceci\", \"Nikita Soshnikov\", \"Zack Smith\", \"Blake Lizotte\", \"Matt Martin\", \"Travis Sanheim\", \"Brandon Montour\", \"Jake McCabe\", \"Troy Stecher\", \"Jordie Benn\", \"Olli Jokinen\", \"Victor Mete\", \"Brian Flynn\", \"Zemgus Girgensons\", \"Brandon Sutter\", \"Nicholas Shore\", \"Jujhar Khaira\", \"Marc Staal\", \"Zach Sanford\", \"Austin Czarnik\", \"Nikita Nikitin\", \"Mike Richards\", \"Marcus Foligno\", \"Cody Eakin\", \"Justin Braun\", \"Brock McGinn\", \"Mark Barberio\", \"Zach Trotman\", \"Zack Kassian\", \"Ryan Hartman\", \"Jannik Hansen\", \"Danny DeKeyser\", \"Steve Ott\", \"Sergey Kalinin\", \"Brian Dumoulin\", \"Dale Weise\", \"Mikhail Grigorenko\", \"Zach Bogosian\", \"Andrej Meszaros\", \"Alexei Emelin\", \"Ron Hainsey\", \"Stephen Johns\", \"Brandon Manning\", \"Tom Gilbert\", \"Erik Gudbranson\", \"Valeri Nichushkin\", \"Dainius Zubrus\", \"Grant Clitsome\", \"Adam Larsson\", \"MacKenzie Weegar\", \"Raphael Diaz\", \"Tomas Fleischmann\", \"Dan Hamhuis\", \"Justin Fontaine\", \"Michael Raffl\", \"Chris Higgins\", \"Marcel Goc\", \"Marc Methot\", \"Thomas Hickey\", \"Kevin Gravel\", \"Connor Murphy\", \"Mark Jankowski\", \"Mark Pysyk\", \"Cal Clutterbuck\", \"Dwight King\", \"Simon Despres\", \"Andrew Copp\", \"Michal Rozsival\", \"Melker Karlsson\", \"Josh Gorges\", \"Dennis Seidenberg\", \"Shawn Matthias\", \"Carl Hagelin\", \"Devante Smith-Pelly\", \"Cody McLeod\", \"Andrew Cogliano\", \"Tomas Kopecky\", \"Daniel Cleary\"], \"legendgroup\": \"\", \"marker\": {\"color\": \"#636efa\", \"opacity\": 0.75, \"size\": [300, 295, 162, 533, 127, 510, 514, 543, 246, 168, 351, 219, 172, 511, 430, 474, 523, 556, 484, 163, 425, 423, 520, 378, 281, 482, 551, 551, 539, 512, 478, 538, 504, 308, 249, 542, 254, 502, 422, 523, 392, 548, 456, 465, 93, 448, 385, 495, 396, 478, 474, 481, 483, 354, 549, 101, 405, 559, 558, 512, 299, 541, 491, 525, 478, 223, 517, 251, 441, 224, 539, 497, 520, 520, 415, 228, 563, 242, 445, 479, 508, 491, 438, 456, 493, 469, 109, 419, 468, 213, 535, 515, 508, 428, 487, 488, 243, 510, 553, 509, 106, 310, 295, 497, 294, 382, 498, 525, 442, 145, 453, 197, 453, 322, 482, 376, 492, 551, 538, 266, 517, 154, 415, 476, 471, 149, 224, 534, 512, 434, 345, 447, 512, 292, 390, 537, 547, 445, 107, 282, 266, 150, 443, 89, 352, 529, 524, 469, 286, 386, 276, 400, 373, 529, 482, 300, 484, 426, 511, 446, 513, 465, 509, 264, 515, 350, 532, 450, 555, 462, 552, 234, 306, 439, 425, 335, 71, 273, 414, 492, 524, 457, 527, 530, 342, 510, 522, 511, 548, 529, 550, 249, 291, 303, 288, 545, 509, 493, 503, 489, 123, 405, 443, 496, 411, 532, 307, 453, 297, 504, 544, 542, 458, 546, 150, 465, 497, 531, 419, 482, 354, 515, 263, 307, 154, 423, 427, 122, 62, 215, 473, 403, 425, 410, 427, 439, 220, 276, 479, 459, 510, 445, 295, 408, 478, 430, 198, 314, 268, 234, 536, 297, 142, 491, 524, 214, 167, 210, 301, 452, 436, 72, 372, 234, 502, 522, 530, 523, 347, 251, 334, 422, 294, 527, 176, 356, 124, 308, 166, 286, 300, 447, 227, 288, 199, 139, 324, 148, 418, 374, 448, 160, 136, 150, 291, 259, 533, 244, 535, 331, 447, 389, 222, 350, 347, 510, 185, 550, 524, 180, 451, 535, 452, 389, 318, 530, 284, 335, 155, 428, 252, 302, 339, 205, 209, 472, 520, 304, 212, 111, 256, 471, 175, 505, 321, 341, 548, 356, 215, 441, 480, 397, 209, 218, 489, 491, 407, 193, 434, 211, 184, 364, 302, 463, 274, 516, 279, 353, 364, 269, 198, 172, 476, 211, 514, 315, 398, 201, 437, 368, 453, 317, 209, 347, 351, 246, 346, 246, 238, 540, 88, 134, 377, 202, 248, 454, 445, 279, 267, 401, 451, 170, 457, 133, 433, 364, 231, 430, 344, 345, 359, 444, 472, 149, 326, 426, 131, 62, 140, 328, 501, 138, 241, 545, 364, 228, 310, 491, 314, 230, 406, 474, 496, 87, 462, 66, 491, 200, 243, 340, 286, 488, 144, 171, 249, 489, 393, 299, 218, 504, 157, 121, 119, 174, 504, 508, 534, 308, 270, 91, 442, 314, 308, 430, 234, 121, 347, 395, 192, 347, 112, 351, 541, 167, 245, 208, 414, 288, 206, 56, 445, 172, 119, 222, 472, 197, 470, 188, 148, 302, 410, 109, 444, 208, 398, 478, 285, 142, 356, 180, 396, 289, 278, 298, 492, 339, 380, 554, 113, 69], \"sizemode\": \"area\", \"sizeref\": 5.63, \"symbol\": \"circle\"}, \"mode\": \"markers\", \"name\": \"\", \"orientation\": \"v\", \"showlegend\": false, \"type\": \"scatter\", \"x\": [6.83, 8.97, 8.44, 5.81, 4.85, 5.91, 6.08, 7.02, 6.94, 6.82, 7.81, 3.07, 10.07, 5.94, 4.09, 6.8, 9.18, 7.13, 6.79, 8.46, 7.16, 6.56, 5.46, 7.73, 7.14, 6.24, 6.7, 7.82, 7.03, 9.81, 5.11, 8.35, 6.45, 6.14, 8.26, 6.15, 5.38, 8.27, 8.3, 6.51, 8.62, 3.93, 5.95, 6.04, 4.34, 8.11, 7.23, 7.43, 7.32, 9.77, 7.15, 6.29, 6.73, 4.93, 5.68, 8.39, 4.98, 7.54, 8.88, 7.79, 6.52, 6.55, 5.77, 8.6, 6.67, 7.99, 8.08, 6.09, 5.24, 8.25, 6.44, 3.39, 6.28, 6.52, 5.67, 6.67, 7.71, 6.4, 6.47, 5.73, 9.74, 7.56, 7.21, 4.79, 8.25, 2.25, 6.08, 7.46, 4.75, 7.43, 8.14, 7.88, 7.45, 5.83, 4.4, 7.65, 4.38, 3.56, 6.89, 6.79, 6.3, 5.11, 6.48, 7.73, 8.9, 8.15, 6.73, 6.76, 7.51, 6.6, 5.16, 4.48, 6.16, 7.98, 5.86, 8.58, 8.1, 7.34, 6.39, 7.2, 7.01, 5.86, 6.9, 7.21, 6.74, 7.41, 8.39, 6.73, 7.39, 4.45, 3.79, 4.82, 5.9, 7.13, 5.63, 6.53, 6.31, 5.35, 10.2, 7.22, 4.95, 6.27, 7.74, 5.74, 7.92, 7.33, 6.62, 5.49, 6.61, 5.14, 8.26, 5.77, 5.74, 8.39, 7.33, 6.2, 5.99, 5.82, 6.77, 8.31, 7.34, 6.52, 5.91, 7.14, 7.68, 7.69, 6.96, 6.92, 6.92, 7.47, 7.33, 5.84, 6.3, 7.62, 6.18, 6.15, 7.01, 7.75, 6.23, 6.24, 7.57, 7.23, 7.23, 6.39, 6.62, 6.48, 6.18, 6.65, 6.05, 5.19, 5.74, 6.1, 7.89, 10.37, 7.5, 6.93, 4.77, 6.54, 7.98, 6.63, 6.61, 6.94, 7.42, 7.54, 6.42, 5.91, 7.4, 7.54, 7.2, 6.59, 7.17, 6.31, 7.77, 6.02, 6.05, 5.88, 6.59, 7.44, 7.97, 7.48, 7.79, 7.19, 4.97, 6.7, 7.26, 6.98, 7.13, 8.63, 8.11, 5.96, 8.2, 7.0, 6.92, 6.46, 6.06, 6.69, 7.97, 5.99, 7.29, 6.22, 6.48, 9.64, 7.32, 6.73, 7.52, 7.41, 6.42, 6.58, 4.61, 6.61, 6.87, 7.64, 7.98, 7.07, 6.74, 4.28, 5.7, 5.78, 5.93, 4.49, 6.78, 2.95, 6.33, 7.65, 6.33, 6.38, 7.84, 5.84, 5.92, 8.02, 6.3, 7.26, 6.36, 8.13, 6.1, 5.89, 8.18, 7.74, 5.08, 8.85, 7.04, 7.66, 8.19, 6.4, 7.71, 7.38, 7.33, 6.64, 8.28, 7.51, 8.24, 4.39, 8.06, 6.59, 7.73, 7.79, 6.92, 7.07, 6.75, 5.88, 6.71, 6.0, 9.82, 6.46, 5.4, 6.01, 6.72, 7.06, 6.58, 6.26, 7.09, 6.51, 7.14, 7.51, 6.75, 7.61, 7.76, 8.04, 5.87, 14.36, 6.45, 6.76, 7.96, 5.25, 4.66, 5.85, 6.86, 9.67, 5.67, 9.94, 4.65, 6.35, 6.73, 6.23, 8.05, 6.48, 7.15, 7.24, 5.11, 7.72, 6.56, 6.3, 6.22, 4.84, 7.79, 7.35, 8.03, 8.74, 7.35, 5.9, 4.47, 5.47, 6.19, 5.93, 5.94, 6.98, 6.68, 10.07, 8.06, 6.52, 4.64, 5.59, 6.05, 6.64, 6.9, 8.05, 8.52, 5.79, 7.3, 6.62, 5.0, 7.42, 5.92, 5.14, 7.0, 4.59, 6.71, 9.88, 5.09, 6.38, 3.59, 10.36, 7.13, 7.6, 7.63, 7.41, 7.82, 10.23, 4.7, 7.28, 6.35, 2.5, 7.36, 6.55, 6.41, 6.76, 8.34, 7.36, 6.95, 7.42, 5.31, 8.1, 7.28, 5.48, 6.4, 7.73, 9.89, 4.25, 8.23, 6.8, 6.16, 6.81, 8.25, 5.78, 6.56, 7.2, 5.82, 6.84, 7.23, 6.27, 7.34, 7.15, 7.08, 2.44, 6.62, 7.51, 8.44, 8.37, 7.13, 7.56, 5.13, 8.29, 7.87, 5.36, 6.15, 8.7, 5.92, 4.72, 4.6, 6.89, 1.76, 1.83, 5.37, 5.4, 5.67, 8.17, 7.53, 5.94, 3.6, 3.64, 7.71, 7.73, 6.61, 7.92, 5.99, 6.94, 6.82, 8.39, 5.28, 5.48, 6.67, 7.78, 6.87, 6.65, 8.23, 7.86, 8.83, 3.17, 4.2, 4.67, 6.35, 5.95, 3.25, 8.57, 7.21, 4.41, 5.33, 6.04, 6.76, 7.12, 7.16, 4.65, 7.41, 5.4, 6.8, 6.89, 4.96, 3.32, 6.51, 6.77, 5.8, 6.74, 5.44, 6.6, 5.37, 6.06, 4.86, 5.39, 3.83, 4.83], \"xaxis\": \"x\", \"y\": [254.58, 193.9, 78.17, 897.97, 74.28, 975.13, 187.4, 444.57, 579.12, 439.93, 245.72, 78.08, 339.52, 524.85, 219.93, 1313.85, 235.23, 546.73, 865.38, 163.13, 192.63, 997.42, 164.92, 745.08, 722.77, 644.6, 457.02, 582.87, 998.83, 97.85, 375.75, 258.7, 1125.25, 381.08, 130.77, 195.05, 357.15, 769.07, 274.77, 1410.88, 556.72, 122.03, 494.08, 59.57, 262.67, 805.98, 854.82, 330.95, 491.53, 178.02, 998.23, 868.2, 650.87, 158.12, 940.72, 171.58, 494.27, 668.22, 418.97, 446.6, 607.28, 219.77, 207.8, 230.15, 521.6, 390.43, 712.93, 315.18, 160.17, 320.17, 1267.22, 177.18, 1241.75, 643.72, 847.17, 98.95, 389.1, 337.43, 491.87, 617.33, 301.9, 1095.55, 790.48, 87.75, 1127.85, 106.62, 88.82, 724.17, 416.5, 274.68, 839.9, 403.55, 1385.42, 257.43, 258.85, 78.43, 68.43, 151.78, 504.92, 282.85, 323.87, 234.83, 185.27, 597.42, 107.88, 139.83, 1658.17, 603.4, 1158.58, 272.77, 395.42, 120.62, 379.95, 571.52, 613.83, 496.73, 755.72, 1079.68, 1916.2, 683.48, 504.92, 61.43, 469.67, 690.37, 71.23, 137.57, 193.17, 1453.12, 121.8, 175.42, 63.4, 149.23, 457.88, 488.05, 191.88, 688.72, 675.53, 213.2, 105.92, 382.4, 387.5, 133.92, 93.02, 135.8, 416.63, 1358.4, 779.17, 742.75, 626.33, 642.15, 355.83, 176.67, 554.1, 994.48, 794.25, 348.2, 992.47, 752.95, 797.53, 548.92, 473.87, 368.27, 639.13, 100.82, 992.52, 678.98, 1345.25, 581.27, 1440.27, 1301.47, 1293.6, 185.02, 704.55, 701.22, 291.38, 302.35, 145.48, 480.22, 693.53, 326.85, 1189.58, 381.88, 813.33, 56.35, 416.72, 407.53, 1145.08, 956.67, 962.65, 69.35, 344.7, 118.1, 433.55, 86.8, 495.95, 995.23, 176.25, 1385.68, 789.25, 931.5, 136.17, 86.48, 687.45, 731.82, 355.28, 162.52, 210.8, 111.43, 366.77, 618.98, 292.95, 693.95, 656.35, 677.47, 258.05, 857.37, 682.53, 1283.0, 782.87, 866.82, 754.85, 458.7, 120.7, 358.18, 223.02, 1022.2, 538.68, 152.9, 103.6, 231.37, 636.78, 839.42, 814.65, 687.3, 742.43, 1130.3, 572.13, 370.42, 1061.85, 809.75, 1074.07, 93.32, 393.63, 766.53, 1323.93, 420.98, 308.38, 510.77, 78.15, 372.43, 244.67, 604.97, 75.15, 364.8, 1156.73, 126.1, 147.27, 467.37, 151.8, 561.48, 699.33, 121.95, 464.17, 258.87, 1062.02, 714.18, 53.57, 935.55, 709.55, 134.7, 304.78, 1273.22, 66.08, 154.97, 315.0, 437.88, 124.68, 829.67, 165.37, 101.65, 144.8, 1206.6, 161.12, 234.2, 202.4, 252.15, 662.83, 243.93, 616.3, 726.65, 917.13, 81.95, 223.43, 254.75, 488.97, 439.15, 303.48, 534.73, 800.3, 489.47, 1018.95, 269.8, 152.73, 789.1, 277.78, 888.35, 89.28, 1266.65, 1038.77, 153.47, 863.3, 1134.17, 781.02, 351.3, 595.18, 1111.03, 247.43, 537.58, 102.15, 83.57, 93.03, 728.18, 603.05, 68.53, 141.55, 82.12, 962.15, 179.95, 253.97, 241.57, 128.98, 680.0, 169.48, 1214.4, 186.35, 453.85, 453.17, 555.45, 199.52, 885.58, 631.03, 466.33, 279.83, 136.33, 439.08, 1020.68, 657.77, 89.25, 710.17, 386.75, 241.67, 252.47, 329.4, 798.68, 90.85, 1264.32, 359.25, 65.53, 1012.82, 294.63, 129.28, 118.17, 1339.42, 406.92, 1087.1, 871.67, 232.45, 269.42, 903.53, 417.22, 851.18, 590.55, 172.38, 677.47, 600.05, 65.38, 572.2, 188.2, 223.85, 611.6, 183.63, 110.07, 1009.45, 292.07, 196.5, 1182.7, 867.0, 117.28, 229.62, 741.62, 387.43, 96.02, 986.92, 91.63, 608.73, 168.57, 417.28, 611.03, 457.67, 476.88, 417.7, 177.72, 790.73, 109.42, 384.17, 877.57, 175.93, 70.57, 211.47, 608.83, 769.2, 114.52, 159.97, 996.62, 439.12, 366.5, 164.93, 824.97, 240.57, 95.65, 817.42, 948.32, 1270.37, 73.87, 706.75, 71.9, 113.75, 193.53, 302.88, 619.22, 257.3, 1056.72, 121.92, 100.7, 468.52, 848.05, 941.85, 368.43, 273.87, 1211.27, 68.35, 65.72, 122.87, 255.78, 539.83, 836.77, 1179.15, 495.15, 250.2, 98.88, 303.45, 139.77, 381.0, 1060.65, 421.05, 103.73, 686.22, 142.98, 124.97, 722.22, 98.9, 733.1, 1528.97, 306.67, 350.05, 305.2, 971.32, 56.7, 328.63, 77.12, 1020.88, 181.57, 129.2, 252.02, 1140.07, 108.9, 405.03, 347.52, 337.12, 665.6, 820.85, 90.28, 842.53, 344.18, 687.83, 905.9, 338.92, 162.72, 552.67, 124.0, 537.78, 774.68, 639.13, 409.07, 1038.95, 336.67, 283.75, 912.32, 234.77, 87.0], \"yaxis\": \"y\"}],                        {\"height\": 800, \"legend\": {\"itemsizing\": \"constant\", \"tracegroupgap\": 0}, \"shapes\": [{\"type\": \"line\", \"x0\": 0, \"x1\": 1, \"xref\": \"x domain\", \"y0\": 499.0, \"y1\": 499.0, \"yref\": \"y\"}, {\"type\": \"line\", \"x0\": 7.0, \"x1\": 7.0, \"xref\": \"x\", \"y0\": 0, \"y1\": 1, \"yref\": \"y domain\"}, {\"line\": {\"color\": \"red\", \"dash\": \"dash\"}, \"type\": \"line\", \"x0\": 0, \"x1\": 1, \"xref\": \"x domain\", \"y0\": 1190.4309999999991, \"y1\": 1190.4309999999991, \"yref\": \"y\"}, {\"line\": {\"color\": \"red\", \"dash\": \"dash\"}, \"type\": \"line\", \"x0\": 4.399500000000001, \"x1\": 4.399500000000001, \"xref\": \"x\", \"y0\": 0, \"y1\": 1, \"yref\": \"y domain\"}], \"template\": {\"data\": {\"bar\": [{\"error_x\": {\"color\": \"#2a3f5f\"}, \"error_y\": {\"color\": \"#2a3f5f\"}, \"marker\": {\"line\": {\"color\": \"#E5ECF6\", \"width\": 0.5}}, \"type\": \"bar\"}], \"barpolar\": [{\"marker\": {\"line\": {\"color\": \"#E5ECF6\", \"width\": 0.5}}, \"type\": \"barpolar\"}], \"carpet\": [{\"aaxis\": {\"endlinecolor\": \"#2a3f5f\", \"gridcolor\": \"white\", \"linecolor\": \"white\", \"minorgridcolor\": \"white\", \"startlinecolor\": \"#2a3f5f\"}, \"baxis\": {\"endlinecolor\": \"#2a3f5f\", \"gridcolor\": \"white\", \"linecolor\": \"white\", \"minorgridcolor\": \"white\", \"startlinecolor\": \"#2a3f5f\"}, \"type\": \"carpet\"}], \"choropleth\": [{\"colorbar\": {\"outlinewidth\": 0, \"ticks\": \"\"}, \"type\": \"choropleth\"}], \"contour\": [{\"colorbar\": {\"outlinewidth\": 0, \"ticks\": \"\"}, \"colorscale\": [[0.0, \"#0d0887\"], [0.1111111111111111, \"#46039f\"], [0.2222222222222222, \"#7201a8\"], [0.3333333333333333, \"#9c179e\"], [0.4444444444444444, \"#bd3786\"], [0.5555555555555556, \"#d8576b\"], [0.6666666666666666, \"#ed7953\"], [0.7777777777777778, \"#fb9f3a\"], [0.8888888888888888, \"#fdca26\"], [1.0, \"#f0f921\"]], \"type\": \"contour\"}], \"contourcarpet\": [{\"colorbar\": {\"outlinewidth\": 0, \"ticks\": \"\"}, \"type\": \"contourcarpet\"}], \"heatmap\": [{\"colorbar\": {\"outlinewidth\": 0, \"ticks\": \"\"}, \"colorscale\": [[0.0, \"#0d0887\"], [0.1111111111111111, \"#46039f\"], [0.2222222222222222, \"#7201a8\"], [0.3333333333333333, \"#9c179e\"], [0.4444444444444444, \"#bd3786\"], [0.5555555555555556, \"#d8576b\"], [0.6666666666666666, \"#ed7953\"], [0.7777777777777778, \"#fb9f3a\"], [0.8888888888888888, \"#fdca26\"], [1.0, \"#f0f921\"]], \"type\": \"heatmap\"}], \"heatmapgl\": [{\"colorbar\": {\"outlinewidth\": 0, \"ticks\": \"\"}, \"colorscale\": [[0.0, \"#0d0887\"], [0.1111111111111111, \"#46039f\"], [0.2222222222222222, \"#7201a8\"], [0.3333333333333333, \"#9c179e\"], [0.4444444444444444, \"#bd3786\"], [0.5555555555555556, \"#d8576b\"], [0.6666666666666666, \"#ed7953\"], [0.7777777777777778, \"#fb9f3a\"], [0.8888888888888888, \"#fdca26\"], [1.0, \"#f0f921\"]], \"type\": \"heatmapgl\"}], \"histogram\": [{\"marker\": {\"colorbar\": {\"outlinewidth\": 0, \"ticks\": \"\"}}, \"type\": \"histogram\"}], \"histogram2d\": [{\"colorbar\": {\"outlinewidth\": 0, \"ticks\": \"\"}, \"colorscale\": [[0.0, \"#0d0887\"], [0.1111111111111111, \"#46039f\"], [0.2222222222222222, \"#7201a8\"], [0.3333333333333333, \"#9c179e\"], [0.4444444444444444, \"#bd3786\"], [0.5555555555555556, \"#d8576b\"], [0.6666666666666666, \"#ed7953\"], [0.7777777777777778, \"#fb9f3a\"], [0.8888888888888888, \"#fdca26\"], [1.0, \"#f0f921\"]], \"type\": \"histogram2d\"}], \"histogram2dcontour\": [{\"colorbar\": {\"outlinewidth\": 0, \"ticks\": \"\"}, \"colorscale\": [[0.0, \"#0d0887\"], [0.1111111111111111, \"#46039f\"], [0.2222222222222222, \"#7201a8\"], [0.3333333333333333, \"#9c179e\"], [0.4444444444444444, \"#bd3786\"], [0.5555555555555556, \"#d8576b\"], [0.6666666666666666, \"#ed7953\"], [0.7777777777777778, \"#fb9f3a\"], [0.8888888888888888, \"#fdca26\"], [1.0, \"#f0f921\"]], \"type\": \"histogram2dcontour\"}], \"mesh3d\": [{\"colorbar\": {\"outlinewidth\": 0, \"ticks\": \"\"}, \"type\": \"mesh3d\"}], \"parcoords\": [{\"line\": {\"colorbar\": {\"outlinewidth\": 0, \"ticks\": \"\"}}, \"type\": \"parcoords\"}], \"pie\": [{\"automargin\": true, \"type\": \"pie\"}], \"scatter\": [{\"marker\": {\"colorbar\": {\"outlinewidth\": 0, \"ticks\": \"\"}}, \"type\": \"scatter\"}], \"scatter3d\": [{\"line\": {\"colorbar\": {\"outlinewidth\": 0, \"ticks\": \"\"}}, \"marker\": {\"colorbar\": {\"outlinewidth\": 0, \"ticks\": \"\"}}, \"type\": \"scatter3d\"}], \"scattercarpet\": [{\"marker\": {\"colorbar\": {\"outlinewidth\": 0, \"ticks\": \"\"}}, \"type\": \"scattercarpet\"}], \"scattergeo\": [{\"marker\": {\"colorbar\": {\"outlinewidth\": 0, \"ticks\": \"\"}}, \"type\": \"scattergeo\"}], \"scattergl\": [{\"marker\": {\"colorbar\": {\"outlinewidth\": 0, \"ticks\": \"\"}}, \"type\": \"scattergl\"}], \"scattermapbox\": [{\"marker\": {\"colorbar\": {\"outlinewidth\": 0, \"ticks\": \"\"}}, \"type\": \"scattermapbox\"}], \"scatterpolar\": [{\"marker\": {\"colorbar\": {\"outlinewidth\": 0, \"ticks\": \"\"}}, \"type\": \"scatterpolar\"}], \"scatterpolargl\": [{\"marker\": {\"colorbar\": {\"outlinewidth\": 0, \"ticks\": \"\"}}, \"type\": \"scatterpolargl\"}], \"scatterternary\": [{\"marker\": {\"colorbar\": {\"outlinewidth\": 0, \"ticks\": \"\"}}, \"type\": \"scatterternary\"}], \"surface\": [{\"colorbar\": {\"outlinewidth\": 0, \"ticks\": \"\"}, \"colorscale\": [[0.0, \"#0d0887\"], [0.1111111111111111, \"#46039f\"], [0.2222222222222222, \"#7201a8\"], [0.3333333333333333, \"#9c179e\"], [0.4444444444444444, \"#bd3786\"], [0.5555555555555556, \"#d8576b\"], [0.6666666666666666, \"#ed7953\"], [0.7777777777777778, \"#fb9f3a\"], [0.8888888888888888, \"#fdca26\"], [1.0, \"#f0f921\"]], \"type\": \"surface\"}], \"table\": [{\"cells\": {\"fill\": {\"color\": \"#EBF0F8\"}, \"line\": {\"color\": \"white\"}}, \"header\": {\"fill\": {\"color\": \"#C8D4E3\"}, \"line\": {\"color\": \"white\"}}, \"type\": \"table\"}]}, \"layout\": {\"annotationdefaults\": {\"arrowcolor\": \"#2a3f5f\", \"arrowhead\": 0, \"arrowwidth\": 1}, \"coloraxis\": {\"colorbar\": {\"outlinewidth\": 0, \"ticks\": \"\"}}, \"colorscale\": {\"diverging\": [[0, \"#8e0152\"], [0.1, \"#c51b7d\"], [0.2, \"#de77ae\"], [0.3, \"#f1b6da\"], [0.4, \"#fde0ef\"], [0.5, \"#f7f7f7\"], [0.6, \"#e6f5d0\"], [0.7, \"#b8e186\"], [0.8, \"#7fbc41\"], [0.9, \"#4d9221\"], [1, \"#276419\"]], \"sequential\": [[0.0, \"#0d0887\"], [0.1111111111111111, \"#46039f\"], [0.2222222222222222, \"#7201a8\"], [0.3333333333333333, \"#9c179e\"], [0.4444444444444444, \"#bd3786\"], [0.5555555555555556, \"#d8576b\"], [0.6666666666666666, \"#ed7953\"], [0.7777777777777778, \"#fb9f3a\"], [0.8888888888888888, \"#fdca26\"], [1.0, \"#f0f921\"]], \"sequentialminus\": [[0.0, \"#0d0887\"], [0.1111111111111111, \"#46039f\"], [0.2222222222222222, \"#7201a8\"], [0.3333333333333333, \"#9c179e\"], [0.4444444444444444, \"#bd3786\"], [0.5555555555555556, \"#d8576b\"], [0.6666666666666666, \"#ed7953\"], [0.7777777777777778, \"#fb9f3a\"], [0.8888888888888888, \"#fdca26\"], [1.0, \"#f0f921\"]]}, \"colorway\": [\"#636efa\", \"#EF553B\", \"#00cc96\", \"#ab63fa\", \"#FFA15A\", \"#19d3f3\", \"#FF6692\", \"#B6E880\", \"#FF97FF\", \"#FECB52\"], \"font\": {\"color\": \"#2a3f5f\"}, \"geo\": {\"bgcolor\": \"white\", \"lakecolor\": \"white\", \"landcolor\": \"#E5ECF6\", \"showlakes\": true, \"showland\": true, \"subunitcolor\": \"white\"}, \"hoverlabel\": {\"align\": \"left\"}, \"hovermode\": \"closest\", \"mapbox\": {\"style\": \"light\"}, \"paper_bgcolor\": \"white\", \"plot_bgcolor\": \"#E5ECF6\", \"polar\": {\"angularaxis\": {\"gridcolor\": \"white\", \"linecolor\": \"white\", \"ticks\": \"\"}, \"bgcolor\": \"#E5ECF6\", \"radialaxis\": {\"gridcolor\": \"white\", \"linecolor\": \"white\", \"ticks\": \"\"}}, \"scene\": {\"xaxis\": {\"backgroundcolor\": \"#E5ECF6\", \"gridcolor\": \"white\", \"gridwidth\": 2, \"linecolor\": \"white\", \"showbackground\": true, \"ticks\": \"\", \"zerolinecolor\": \"white\"}, \"yaxis\": {\"backgroundcolor\": \"#E5ECF6\", \"gridcolor\": \"white\", \"gridwidth\": 2, \"linecolor\": \"white\", \"showbackground\": true, \"ticks\": \"\", \"zerolinecolor\": \"white\"}, \"zaxis\": {\"backgroundcolor\": \"#E5ECF6\", \"gridcolor\": \"white\", \"gridwidth\": 2, \"linecolor\": \"white\", \"showbackground\": true, \"ticks\": \"\", \"zerolinecolor\": \"white\"}}, \"shapedefaults\": {\"line\": {\"color\": \"#2a3f5f\"}}, \"ternary\": {\"aaxis\": {\"gridcolor\": \"white\", \"linecolor\": \"white\", \"ticks\": \"\"}, \"baxis\": {\"gridcolor\": \"white\", \"linecolor\": \"white\", \"ticks\": \"\"}, \"bgcolor\": \"#E5ECF6\", \"caxis\": {\"gridcolor\": \"white\", \"linecolor\": \"white\", \"ticks\": \"\"}}, \"title\": {\"x\": 0.05}, \"xaxis\": {\"automargin\": true, \"gridcolor\": \"white\", \"linecolor\": \"white\", \"ticks\": \"\", \"title\": {\"standoff\": 15}, \"zerolinecolor\": \"white\", \"zerolinewidth\": 2}, \"yaxis\": {\"automargin\": true, \"gridcolor\": \"white\", \"linecolor\": \"white\", \"ticks\": \"\", \"title\": {\"standoff\": 15}, \"zerolinecolor\": \"white\", \"zerolinewidth\": 2}}}, \"title\": {\"text\": \"SH TOI vs PP GA/60\"}, \"width\": 800, \"xaxis\": {\"anchor\": \"y\", \"autorange\": \"reversed\", \"domain\": [0.0, 1.0], \"title\": {\"text\": \"PP GA/60\"}}, \"yaxis\": {\"anchor\": \"x\", \"domain\": [0.0, 1.0], \"title\": {\"text\": \"SH_TOI\"}}},                        {\"responsive\": true}                    ).then(function(){\n",
       "                            \n",
       "var gd = document.getElementById('93b247e3-5a76-4107-aae7-449ffb2c068a');\n",
       "var x = new MutationObserver(function (mutations, observer) {{\n",
       "        var display = window.getComputedStyle(gd).display;\n",
       "        if (!display || display === 'none') {{\n",
       "            console.log([gd, 'removed!']);\n",
       "            Plotly.purge(gd);\n",
       "            observer.disconnect();\n",
       "        }}\n",
       "}});\n",
       "\n",
       "// Listen for the removal of the full notebook cells\n",
       "var notebookContainer = gd.closest('#notebook-container');\n",
       "if (notebookContainer) {{\n",
       "    x.observe(notebookContainer, {childList: true});\n",
       "}}\n",
       "\n",
       "// Listen for the clearing of the current output cell\n",
       "var outputEl = gd.closest('.output');\n",
       "if (outputEl) {{\n",
       "    x.observe(outputEl, {childList: true});\n",
       "}}\n",
       "\n",
       "                        })                };                });            </script>        </div>"
      ]
     },
     "metadata": {},
     "output_type": "display_data"
    }
   ],
   "source": [
    "#Finding the top penalty kill players from the remaining players of our data set.\n",
    "\n",
    "fig = px.scatter(df, x=\"PP GA/60\", y=\"SH_TOI\",hover_name=\"Player\", hover_data=['Pos'], title=\"SH TOI vs PP GA/60\",\n",
    "                 width=800, height=800,size_max=10,size='GP',opacity=.75) \n",
    "\n",
    "x_mean = round(df[\"PP GA/60\"].mean(), 0)\n",
    "y_mean = round(df[\"SH_TOI\"].mean(), 0)\n",
    "\n",
    "x_unicorn = np.percentile(df[\"PP GA/60\"], 5)\n",
    "y_unicorn = np.percentile(df[\"SH_TOI\"], 95)\n",
    "\n",
    "#Reverse x-axes, as you WANT a low score. And we want to keep the top right quadrant the best quadrant to be in. \n",
    "print('midpoint',x_mean,y_mean)\n",
    "fig.add_hline(y=y_mean).add_vline(x=x_mean).add_hline(\n",
    "    y=y_unicorn, line_dash = 'dash', line_color = 'red').add_vline(\n",
    "    x=x_unicorn, line_dash = 'dash', line_color = 'red').update_xaxes(autorange=\"reversed\")\n",
    "\n",
    "fig.write_html(\"SH TOI vs PP GA per 60.html\")"
   ]
  },
  {
   "cell_type": "code",
   "execution_count": null,
   "metadata": {},
   "outputs": [],
   "source": []
  }
 ],
 "metadata": {
  "kernelspec": {
   "display_name": "Python 3",
   "language": "python",
   "name": "python3"
  },
  "language_info": {
   "codemirror_mode": {
    "name": "ipython",
    "version": 3
   },
   "file_extension": ".py",
   "mimetype": "text/x-python",
   "name": "python",
   "nbconvert_exporter": "python",
   "pygments_lexer": "ipython3",
   "version": "3.7.6"
  }
 },
 "nbformat": 4,
 "nbformat_minor": 4
}
