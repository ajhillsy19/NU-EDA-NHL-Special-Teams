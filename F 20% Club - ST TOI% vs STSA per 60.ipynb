{
 "cells": [
  {
   "cell_type": "code",
   "execution_count": 1,
   "metadata": {},
   "outputs": [],
   "source": [
    "import pandas as pd\n",
    "import numpy as np\n",
    "import seaborn as sns\n",
    "import matplotlib as mpl\n",
    "import matplotlib.pyplot as plt\n",
    "%matplotlib inline\n",
    "import plotly.express as px\n",
    "\n",
    "from IPython.core.interactiveshell import InteractiveShell\n",
    "InteractiveShell.ast_node_interactivity = 'all'\n",
    "df = pd.read_csv('all_specialteams.csv')"
   ]
  },
  {
   "cell_type": "code",
   "execution_count": 2,
   "metadata": {},
   "outputs": [],
   "source": [
    "#Dropping players with less than 20% of SH TOI% and PP TOI%\n",
    "\n",
    "x = df[df['SH TOI%'] <= 20].index\n",
    "df.drop(x, inplace=True)\n",
    "x = df[df['PP TOI%'] <= 20].index\n",
    "df.drop(x, inplace=True)"
   ]
  },
  {
   "cell_type": "code",
   "execution_count": 3,
   "metadata": {},
   "outputs": [],
   "source": [
    "#Creating a forward only group\n",
    "Fdf = df.loc[df['Pos'] != 'D']"
   ]
  },
  {
   "cell_type": "code",
   "execution_count": 5,
   "metadata": {},
   "outputs": [
    {
     "name": "stdout",
     "output_type": "stream",
     "text": [
      "midpoint 1.0 69.0\n"
     ]
    },
    {
     "data": {
      "application/vnd.plotly.v1+json": {
       "config": {
        "plotlyServerURL": "https://plot.ly"
       },
       "data": [
        {
         "customdata": [
          [
           32,
           45.2
          ],
          [
           36.6,
           59.2
          ],
          [
           33.1,
           39.4
          ],
          [
           24.8,
           39.6
          ],
          [
           20.7,
           60
          ],
          [
           38,
           59.4
          ],
          [
           25.9,
           25.8
          ],
          [
           31.1,
           56.3
          ],
          [
           20.4,
           43.3
          ],
          [
           42,
           31.8
          ],
          [
           34.9,
           50.8
          ],
          [
           29.1,
           60.1
          ],
          [
           22.1,
           60.1
          ],
          [
           20.9,
           50.5
          ],
          [
           33.5,
           40.9
          ],
          [
           44.2,
           42.2
          ],
          [
           22.9,
           42.9
          ],
          [
           27.9,
           32.4
          ],
          [
           22.4,
           53.1
          ],
          [
           26.7,
           56.3
          ],
          [
           33.8,
           59
          ],
          [
           22.9,
           53.2
          ],
          [
           26.7,
           53.3
          ],
          [
           23.9,
           35
          ],
          [
           23.1,
           41.4
          ],
          [
           31.7,
           53.8
          ],
          [
           37.9,
           59.1
          ],
          [
           23.4,
           45.2
          ],
          [
           28.2,
           53
          ],
          [
           33.5,
           45.7
          ],
          [
           25.1,
           43.9
          ],
          [
           23,
           41
          ],
          [
           24,
           47.1
          ],
          [
           27.4,
           30.6
          ],
          [
           22.8,
           32.5
          ],
          [
           30.7,
           38.6
          ],
          [
           29.5,
           28.4
          ],
          [
           38.5,
           44.7
          ],
          [
           37.6,
           40.5
          ],
          [
           24.3,
           45.5
          ],
          [
           24.8,
           49.8
          ],
          [
           26.6,
           28.7
          ],
          [
           28.2,
           45.2
          ],
          [
           43.6,
           41.4
          ],
          [
           33.1,
           49.8
          ],
          [
           24.9,
           47.5
          ],
          [
           32.2,
           48.9
          ],
          [
           32.8,
           41.5
          ],
          [
           29.1,
           20.5
          ],
          [
           24.6,
           39.9
          ],
          [
           23.5,
           35.2
          ],
          [
           31.5,
           50
          ],
          [
           24.6,
           61.2
          ],
          [
           42.7,
           50.1
          ],
          [
           25.5,
           46.6
          ],
          [
           27.4,
           39.7
          ],
          [
           39.5,
           31.1
          ],
          [
           33.3,
           30.8
          ],
          [
           25.3,
           27.8
          ],
          [
           26.9,
           41.1
          ],
          [
           24.3,
           45.7
          ],
          [
           28.9,
           44.9
          ],
          [
           24.4,
           41.2
          ],
          [
           22.7,
           23
          ],
          [
           42.4,
           23.7
          ],
          [
           33.9,
           21.9
          ],
          [
           26.9,
           45.5
          ],
          [
           29.7,
           40.8
          ],
          [
           28.4,
           34
          ],
          [
           31.1,
           31.5
          ],
          [
           34,
           21.4
          ],
          [
           37.5,
           34.2
          ],
          [
           31.7,
           20.2
          ],
          [
           25.1,
           34.3
          ],
          [
           40.2,
           32.3
          ],
          [
           23.2,
           26.7
          ],
          [
           23.5,
           35.8
          ],
          [
           36.7,
           30.7
          ],
          [
           26.4,
           31.5
          ],
          [
           21.4,
           24
          ],
          [
           22.5,
           32.5
          ],
          [
           33.6,
           21.9
          ],
          [
           32.2,
           20.7
          ],
          [
           23.8,
           21.9
          ],
          [
           46,
           26.4
          ],
          [
           26.1,
           30.7
          ],
          [
           33.5,
           22.2
          ],
          [
           22,
           27.3
          ],
          [
           33.4,
           29.1
          ]
         ],
         "hovertemplate": "<b>%{hovertext}</b><br><br>STSA/60=%{x}<br>ST TOI%=%{y}<br>GP=%{marker.size}<br>SH TOI%=%{customdata[0]}<br>PP TOI%=%{customdata[1]}<extra></extra>",
         "hovertext": [
          "Brad Marchand",
          "Patrice Bergeron",
          "Troy Brouwer",
          "Ondrej Palat",
          "Jamie Benn",
          "Ryan O'Reilly",
          "Yanni Gourde",
          "Ryan Nugent-Hopkins",
          "David Backes",
          "Mark Letestu",
          "Alexander Steen",
          "Logan Couture",
          "Blake Wheeler",
          "Paul Stastny",
          "J.T. Compher",
          "Travis Zajac",
          "Tyler Johnson",
          "David Legwand",
          "Mark Stone",
          "Aleksander Barkov",
          "Jonathan Toews",
          "Mika Zibanejad",
          "Elias Lindholm",
          "Justin Abdelkader",
          "Antoine Vermette",
          "Mikko Koivu",
          "Anze Kopitar",
          "Alexander Wennberg",
          "Jeff Carter",
          "Mike Fisher",
          "Reilly Smith",
          "Alex Killorn",
          "Martin Hanzal",
          "Pavel Zacha",
          "Ryan Callahan",
          "Loui Eriksson",
          "Joel Ward",
          "Frans Nielsen",
          "Jordan Staal",
          "Bo Horvat",
          "Cam Atkinson",
          "Kevin Hayes",
          "Bryan Little",
          "Sean Couturier",
          "Derek Stepan",
          "Rick Nash",
          "Adam Henrique",
          "Marian Hossa",
          "Brian Boyle",
          "Dustin Brown",
          "Carl Soderberg",
          "Patrik Elias",
          "Ryan Getzlaf",
          "Ryan Kesler",
          "Vincent Trocheck",
          "Artem Anisimov",
          "Tomas Plekanec",
          "William Karlsson",
          "Joel Armia",
          "Milan Michalek",
          "Evander Kane",
          "Ryan Smyth",
          "Jussi Jokinen",
          "Evan Rodrigues",
          "Connor Brown",
          "Anton Lander",
          "Andrew Ladd",
          "Valtteri Filppula",
          "Brian Gionta",
          "Jakob Silfverberg",
          "Markus Granlund",
          "Mikael Backlund",
          "Tobias Rieder",
          "Derek Ryan",
          "Nick Bonino",
          "Nathan Gerbe",
          "Brandon Saad",
          "Brandon Dubinsky",
          "Alexandre Burrows",
          "Patrik Berglund",
          "Rich Peverley",
          "Matt Read",
          "Vladimir Sobotka",
          "Blake Lizotte",
          "Brandon Sutter",
          "Mike Richards",
          "Cody Eakin",
          "Tomas Fleischmann",
          "Chris Higgins"
         ],
         "legendgroup": "",
         "marker": {
          "color": "#636efa",
          "opacity": 0.75,
          "size": [
           533,
           510,
           484,
           482,
           551,
           539,
           254,
           502,
           456,
           385,
           481,
           483,
           559,
           478,
           223,
           520,
           520,
           242,
           445,
           479,
           535,
           497,
           525,
           482,
           376,
           492,
           551,
           415,
           476,
           292,
           537,
           547,
           282,
           266,
           352,
           469,
           373,
           529,
           482,
           446,
           509,
           450,
           439,
           524,
           527,
           342,
           548,
           291,
           496,
           542,
           546,
           150,
           497,
           423,
           427,
           473,
           403,
           410,
           295,
           198,
           452,
           72,
           372,
           199,
           324,
           148,
           418,
           535,
           331,
           510,
           335,
           520,
           434,
           302,
           514,
           238,
           540,
           401,
           344,
           359,
           62,
           328,
           228,
           66,
           393,
           174,
           508,
           222,
           188
          ],
          "sizemode": "area",
          "sizeref": 5.59,
          "symbol": "circle"
         },
         "mode": "markers",
         "name": "",
         "orientation": "v",
         "showlegend": false,
         "type": "scatter",
         "x": [
          6.38,
          5.49,
          2.49,
          3.46,
          2.44,
          2.34,
          4.44,
          0.74,
          2.5,
          1.81,
          2.27,
          2.64,
          2.16,
          1.8,
          1.11,
          2.22,
          2.12,
          2.08,
          2.26,
          2.88,
          0.66,
          0.63,
          1.57,
          1.62,
          -0.69,
          -0.1,
          0.44,
          0.84,
          0.76,
          0.24,
          1.61,
          1.32,
          0.17,
          3.35,
          -0.29,
          2.16,
          1.87,
          -0.46,
          0.3,
          -0.61,
          2.13,
          1.72,
          0.01,
          -0.24,
          0.9,
          1.75,
          1.71,
          0.23,
          -0.16,
          0.7,
          1.06,
          2.36,
          0.64,
          -0.22,
          0.33,
          -0.7,
          0.07,
          1.26,
          1,
          0.07,
          3.24,
          3.26,
          0.25,
          -0.79,
          -0.6,
          -0.63,
          -1.39,
          -0.47,
          0.5,
          0.75,
          -1.63,
          0.15,
          -1.24,
          0.46,
          -1.47,
          0.53,
          -0.5,
          -1.52,
          -1.64,
          -0.28,
          2.17,
          -1.52,
          -2.1,
          -0.51,
          -0.77,
          -0.78,
          -3.04,
          -4.99,
          -2.7
         ],
         "xaxis": "x",
         "y": [
          77.2,
          95.8,
          72.5,
          64.4,
          80.7,
          97.4,
          51.7,
          87.4,
          63.7,
          73.8,
          85.7,
          89.2,
          82.2,
          71.4,
          74.4,
          86.4,
          65.8,
          60.3,
          75.5,
          83,
          92.8,
          76.1,
          80,
          58.9,
          64.5,
          85.5,
          97,
          68.6,
          81.2,
          79.2,
          69,
          64,
          71.1,
          58,
          55.3,
          69.3,
          57.9,
          83.2,
          78.1,
          69.8,
          74.6,
          55.3,
          73.4,
          85,
          82.9,
          72.4,
          81.1,
          74.3,
          49.6,
          64.5,
          58.7,
          81.5,
          85.8,
          92.8,
          72.1,
          67.1,
          70.6,
          64.1,
          53.1,
          68,
          70,
          73.8,
          65.6,
          45.7,
          66.1,
          55.8,
          72.4,
          70.5,
          62.4,
          62.6,
          55.4,
          71.7,
          51.9,
          59.4,
          72.5,
          49.9,
          59.3,
          67.4,
          57.9,
          45.4,
          55,
          55.5,
          52.9,
          45.7,
          72.4,
          56.8,
          55.7,
          49.3,
          62.5
         ],
         "yaxis": "y"
        }
       ],
       "layout": {
        "height": 800,
        "legend": {
         "itemsizing": "constant",
         "tracegroupgap": 0
        },
        "shapes": [
         {
          "type": "line",
          "x0": 0,
          "x1": 1,
          "xref": "x domain",
          "y0": 69,
          "y1": 69,
          "yref": "y"
         },
         {
          "type": "line",
          "x0": 1,
          "x1": 1,
          "xref": "x",
          "y0": 0,
          "y1": 1,
          "yref": "y domain"
         },
         {
          "line": {
           "color": "red",
           "dash": "dash"
          },
          "type": "line",
          "x0": 3.3139999999999996,
          "x1": 3.3139999999999996,
          "xref": "x",
          "y0": 0,
          "y1": 1,
          "yref": "y domain"
         }
        ],
        "template": {
         "data": {
          "bar": [
           {
            "error_x": {
             "color": "#2a3f5f"
            },
            "error_y": {
             "color": "#2a3f5f"
            },
            "marker": {
             "line": {
              "color": "#E5ECF6",
              "width": 0.5
             }
            },
            "type": "bar"
           }
          ],
          "barpolar": [
           {
            "marker": {
             "line": {
              "color": "#E5ECF6",
              "width": 0.5
             }
            },
            "type": "barpolar"
           }
          ],
          "carpet": [
           {
            "aaxis": {
             "endlinecolor": "#2a3f5f",
             "gridcolor": "white",
             "linecolor": "white",
             "minorgridcolor": "white",
             "startlinecolor": "#2a3f5f"
            },
            "baxis": {
             "endlinecolor": "#2a3f5f",
             "gridcolor": "white",
             "linecolor": "white",
             "minorgridcolor": "white",
             "startlinecolor": "#2a3f5f"
            },
            "type": "carpet"
           }
          ],
          "choropleth": [
           {
            "colorbar": {
             "outlinewidth": 0,
             "ticks": ""
            },
            "type": "choropleth"
           }
          ],
          "contour": [
           {
            "colorbar": {
             "outlinewidth": 0,
             "ticks": ""
            },
            "colorscale": [
             [
              0,
              "#0d0887"
             ],
             [
              0.1111111111111111,
              "#46039f"
             ],
             [
              0.2222222222222222,
              "#7201a8"
             ],
             [
              0.3333333333333333,
              "#9c179e"
             ],
             [
              0.4444444444444444,
              "#bd3786"
             ],
             [
              0.5555555555555556,
              "#d8576b"
             ],
             [
              0.6666666666666666,
              "#ed7953"
             ],
             [
              0.7777777777777778,
              "#fb9f3a"
             ],
             [
              0.8888888888888888,
              "#fdca26"
             ],
             [
              1,
              "#f0f921"
             ]
            ],
            "type": "contour"
           }
          ],
          "contourcarpet": [
           {
            "colorbar": {
             "outlinewidth": 0,
             "ticks": ""
            },
            "type": "contourcarpet"
           }
          ],
          "heatmap": [
           {
            "colorbar": {
             "outlinewidth": 0,
             "ticks": ""
            },
            "colorscale": [
             [
              0,
              "#0d0887"
             ],
             [
              0.1111111111111111,
              "#46039f"
             ],
             [
              0.2222222222222222,
              "#7201a8"
             ],
             [
              0.3333333333333333,
              "#9c179e"
             ],
             [
              0.4444444444444444,
              "#bd3786"
             ],
             [
              0.5555555555555556,
              "#d8576b"
             ],
             [
              0.6666666666666666,
              "#ed7953"
             ],
             [
              0.7777777777777778,
              "#fb9f3a"
             ],
             [
              0.8888888888888888,
              "#fdca26"
             ],
             [
              1,
              "#f0f921"
             ]
            ],
            "type": "heatmap"
           }
          ],
          "heatmapgl": [
           {
            "colorbar": {
             "outlinewidth": 0,
             "ticks": ""
            },
            "colorscale": [
             [
              0,
              "#0d0887"
             ],
             [
              0.1111111111111111,
              "#46039f"
             ],
             [
              0.2222222222222222,
              "#7201a8"
             ],
             [
              0.3333333333333333,
              "#9c179e"
             ],
             [
              0.4444444444444444,
              "#bd3786"
             ],
             [
              0.5555555555555556,
              "#d8576b"
             ],
             [
              0.6666666666666666,
              "#ed7953"
             ],
             [
              0.7777777777777778,
              "#fb9f3a"
             ],
             [
              0.8888888888888888,
              "#fdca26"
             ],
             [
              1,
              "#f0f921"
             ]
            ],
            "type": "heatmapgl"
           }
          ],
          "histogram": [
           {
            "marker": {
             "colorbar": {
              "outlinewidth": 0,
              "ticks": ""
             }
            },
            "type": "histogram"
           }
          ],
          "histogram2d": [
           {
            "colorbar": {
             "outlinewidth": 0,
             "ticks": ""
            },
            "colorscale": [
             [
              0,
              "#0d0887"
             ],
             [
              0.1111111111111111,
              "#46039f"
             ],
             [
              0.2222222222222222,
              "#7201a8"
             ],
             [
              0.3333333333333333,
              "#9c179e"
             ],
             [
              0.4444444444444444,
              "#bd3786"
             ],
             [
              0.5555555555555556,
              "#d8576b"
             ],
             [
              0.6666666666666666,
              "#ed7953"
             ],
             [
              0.7777777777777778,
              "#fb9f3a"
             ],
             [
              0.8888888888888888,
              "#fdca26"
             ],
             [
              1,
              "#f0f921"
             ]
            ],
            "type": "histogram2d"
           }
          ],
          "histogram2dcontour": [
           {
            "colorbar": {
             "outlinewidth": 0,
             "ticks": ""
            },
            "colorscale": [
             [
              0,
              "#0d0887"
             ],
             [
              0.1111111111111111,
              "#46039f"
             ],
             [
              0.2222222222222222,
              "#7201a8"
             ],
             [
              0.3333333333333333,
              "#9c179e"
             ],
             [
              0.4444444444444444,
              "#bd3786"
             ],
             [
              0.5555555555555556,
              "#d8576b"
             ],
             [
              0.6666666666666666,
              "#ed7953"
             ],
             [
              0.7777777777777778,
              "#fb9f3a"
             ],
             [
              0.8888888888888888,
              "#fdca26"
             ],
             [
              1,
              "#f0f921"
             ]
            ],
            "type": "histogram2dcontour"
           }
          ],
          "mesh3d": [
           {
            "colorbar": {
             "outlinewidth": 0,
             "ticks": ""
            },
            "type": "mesh3d"
           }
          ],
          "parcoords": [
           {
            "line": {
             "colorbar": {
              "outlinewidth": 0,
              "ticks": ""
             }
            },
            "type": "parcoords"
           }
          ],
          "pie": [
           {
            "automargin": true,
            "type": "pie"
           }
          ],
          "scatter": [
           {
            "marker": {
             "colorbar": {
              "outlinewidth": 0,
              "ticks": ""
             }
            },
            "type": "scatter"
           }
          ],
          "scatter3d": [
           {
            "line": {
             "colorbar": {
              "outlinewidth": 0,
              "ticks": ""
             }
            },
            "marker": {
             "colorbar": {
              "outlinewidth": 0,
              "ticks": ""
             }
            },
            "type": "scatter3d"
           }
          ],
          "scattercarpet": [
           {
            "marker": {
             "colorbar": {
              "outlinewidth": 0,
              "ticks": ""
             }
            },
            "type": "scattercarpet"
           }
          ],
          "scattergeo": [
           {
            "marker": {
             "colorbar": {
              "outlinewidth": 0,
              "ticks": ""
             }
            },
            "type": "scattergeo"
           }
          ],
          "scattergl": [
           {
            "marker": {
             "colorbar": {
              "outlinewidth": 0,
              "ticks": ""
             }
            },
            "type": "scattergl"
           }
          ],
          "scattermapbox": [
           {
            "marker": {
             "colorbar": {
              "outlinewidth": 0,
              "ticks": ""
             }
            },
            "type": "scattermapbox"
           }
          ],
          "scatterpolar": [
           {
            "marker": {
             "colorbar": {
              "outlinewidth": 0,
              "ticks": ""
             }
            },
            "type": "scatterpolar"
           }
          ],
          "scatterpolargl": [
           {
            "marker": {
             "colorbar": {
              "outlinewidth": 0,
              "ticks": ""
             }
            },
            "type": "scatterpolargl"
           }
          ],
          "scatterternary": [
           {
            "marker": {
             "colorbar": {
              "outlinewidth": 0,
              "ticks": ""
             }
            },
            "type": "scatterternary"
           }
          ],
          "surface": [
           {
            "colorbar": {
             "outlinewidth": 0,
             "ticks": ""
            },
            "colorscale": [
             [
              0,
              "#0d0887"
             ],
             [
              0.1111111111111111,
              "#46039f"
             ],
             [
              0.2222222222222222,
              "#7201a8"
             ],
             [
              0.3333333333333333,
              "#9c179e"
             ],
             [
              0.4444444444444444,
              "#bd3786"
             ],
             [
              0.5555555555555556,
              "#d8576b"
             ],
             [
              0.6666666666666666,
              "#ed7953"
             ],
             [
              0.7777777777777778,
              "#fb9f3a"
             ],
             [
              0.8888888888888888,
              "#fdca26"
             ],
             [
              1,
              "#f0f921"
             ]
            ],
            "type": "surface"
           }
          ],
          "table": [
           {
            "cells": {
             "fill": {
              "color": "#EBF0F8"
             },
             "line": {
              "color": "white"
             }
            },
            "header": {
             "fill": {
              "color": "#C8D4E3"
             },
             "line": {
              "color": "white"
             }
            },
            "type": "table"
           }
          ]
         },
         "layout": {
          "annotationdefaults": {
           "arrowcolor": "#2a3f5f",
           "arrowhead": 0,
           "arrowwidth": 1
          },
          "coloraxis": {
           "colorbar": {
            "outlinewidth": 0,
            "ticks": ""
           }
          },
          "colorscale": {
           "diverging": [
            [
             0,
             "#8e0152"
            ],
            [
             0.1,
             "#c51b7d"
            ],
            [
             0.2,
             "#de77ae"
            ],
            [
             0.3,
             "#f1b6da"
            ],
            [
             0.4,
             "#fde0ef"
            ],
            [
             0.5,
             "#f7f7f7"
            ],
            [
             0.6,
             "#e6f5d0"
            ],
            [
             0.7,
             "#b8e186"
            ],
            [
             0.8,
             "#7fbc41"
            ],
            [
             0.9,
             "#4d9221"
            ],
            [
             1,
             "#276419"
            ]
           ],
           "sequential": [
            [
             0,
             "#0d0887"
            ],
            [
             0.1111111111111111,
             "#46039f"
            ],
            [
             0.2222222222222222,
             "#7201a8"
            ],
            [
             0.3333333333333333,
             "#9c179e"
            ],
            [
             0.4444444444444444,
             "#bd3786"
            ],
            [
             0.5555555555555556,
             "#d8576b"
            ],
            [
             0.6666666666666666,
             "#ed7953"
            ],
            [
             0.7777777777777778,
             "#fb9f3a"
            ],
            [
             0.8888888888888888,
             "#fdca26"
            ],
            [
             1,
             "#f0f921"
            ]
           ],
           "sequentialminus": [
            [
             0,
             "#0d0887"
            ],
            [
             0.1111111111111111,
             "#46039f"
            ],
            [
             0.2222222222222222,
             "#7201a8"
            ],
            [
             0.3333333333333333,
             "#9c179e"
            ],
            [
             0.4444444444444444,
             "#bd3786"
            ],
            [
             0.5555555555555556,
             "#d8576b"
            ],
            [
             0.6666666666666666,
             "#ed7953"
            ],
            [
             0.7777777777777778,
             "#fb9f3a"
            ],
            [
             0.8888888888888888,
             "#fdca26"
            ],
            [
             1,
             "#f0f921"
            ]
           ]
          },
          "colorway": [
           "#636efa",
           "#EF553B",
           "#00cc96",
           "#ab63fa",
           "#FFA15A",
           "#19d3f3",
           "#FF6692",
           "#B6E880",
           "#FF97FF",
           "#FECB52"
          ],
          "font": {
           "color": "#2a3f5f"
          },
          "geo": {
           "bgcolor": "white",
           "lakecolor": "white",
           "landcolor": "#E5ECF6",
           "showlakes": true,
           "showland": true,
           "subunitcolor": "white"
          },
          "hoverlabel": {
           "align": "left"
          },
          "hovermode": "closest",
          "mapbox": {
           "style": "light"
          },
          "paper_bgcolor": "white",
          "plot_bgcolor": "#E5ECF6",
          "polar": {
           "angularaxis": {
            "gridcolor": "white",
            "linecolor": "white",
            "ticks": ""
           },
           "bgcolor": "#E5ECF6",
           "radialaxis": {
            "gridcolor": "white",
            "linecolor": "white",
            "ticks": ""
           }
          },
          "scene": {
           "xaxis": {
            "backgroundcolor": "#E5ECF6",
            "gridcolor": "white",
            "gridwidth": 2,
            "linecolor": "white",
            "showbackground": true,
            "ticks": "",
            "zerolinecolor": "white"
           },
           "yaxis": {
            "backgroundcolor": "#E5ECF6",
            "gridcolor": "white",
            "gridwidth": 2,
            "linecolor": "white",
            "showbackground": true,
            "ticks": "",
            "zerolinecolor": "white"
           },
           "zaxis": {
            "backgroundcolor": "#E5ECF6",
            "gridcolor": "white",
            "gridwidth": 2,
            "linecolor": "white",
            "showbackground": true,
            "ticks": "",
            "zerolinecolor": "white"
           }
          },
          "shapedefaults": {
           "line": {
            "color": "#2a3f5f"
           }
          },
          "ternary": {
           "aaxis": {
            "gridcolor": "white",
            "linecolor": "white",
            "ticks": ""
           },
           "baxis": {
            "gridcolor": "white",
            "linecolor": "white",
            "ticks": ""
           },
           "bgcolor": "#E5ECF6",
           "caxis": {
            "gridcolor": "white",
            "linecolor": "white",
            "ticks": ""
           }
          },
          "title": {
           "x": 0.05
          },
          "xaxis": {
           "automargin": true,
           "gridcolor": "white",
           "linecolor": "white",
           "ticks": "",
           "title": {
            "standoff": 15
           },
           "zerolinecolor": "white",
           "zerolinewidth": 2
          },
          "yaxis": {
           "automargin": true,
           "gridcolor": "white",
           "linecolor": "white",
           "ticks": "",
           "title": {
            "standoff": 15
           },
           "zerolinecolor": "white",
           "zerolinewidth": 2
          }
         }
        },
        "title": {
         "text": "F 20% Club: ST TOI% vs STSA/60"
        },
        "width": 800,
        "xaxis": {
         "anchor": "y",
         "domain": [
          0,
          1
         ],
         "title": {
          "text": "STSA/60"
         }
        },
        "yaxis": {
         "anchor": "x",
         "domain": [
          0,
          1
         ],
         "title": {
          "text": "ST TOI%"
         }
        }
       }
      },
      "text/html": [
       "<div>                            <div id=\"8fdc09cc-d9d0-40c3-8ce8-eac545b9f1cb\" class=\"plotly-graph-div\" style=\"height:800px; width:800px;\"></div>            <script type=\"text/javascript\">                require([\"plotly\"], function(Plotly) {                    window.PLOTLYENV=window.PLOTLYENV || {};                                    if (document.getElementById(\"8fdc09cc-d9d0-40c3-8ce8-eac545b9f1cb\")) {                    Plotly.newPlot(                        \"8fdc09cc-d9d0-40c3-8ce8-eac545b9f1cb\",                        [{\"customdata\": [[32.0, 45.2], [36.6, 59.2], [33.1, 39.4], [24.8, 39.6], [20.7, 60.0], [38.0, 59.4], [25.9, 25.8], [31.1, 56.3], [20.4, 43.3], [42.0, 31.8], [34.9, 50.8], [29.1, 60.1], [22.1, 60.1], [20.9, 50.5], [33.5, 40.9], [44.2, 42.2], [22.9, 42.9], [27.9, 32.4], [22.4, 53.1], [26.7, 56.3], [33.8, 59.0], [22.9, 53.2], [26.7, 53.3], [23.9, 35.0], [23.1, 41.4], [31.7, 53.8], [37.9, 59.1], [23.4, 45.2], [28.2, 53.0], [33.5, 45.7], [25.1, 43.9], [23.0, 41.0], [24.0, 47.1], [27.4, 30.6], [22.8, 32.5], [30.7, 38.6], [29.5, 28.4], [38.5, 44.7], [37.6, 40.5], [24.3, 45.5], [24.8, 49.8], [26.6, 28.7], [28.2, 45.2], [43.6, 41.4], [33.1, 49.8], [24.9, 47.5], [32.2, 48.9], [32.8, 41.5], [29.1, 20.5], [24.6, 39.9], [23.5, 35.2], [31.5, 50.0], [24.6, 61.2], [42.7, 50.1], [25.5, 46.6], [27.4, 39.7], [39.5, 31.1], [33.3, 30.8], [25.3, 27.8], [26.9, 41.1], [24.3, 45.7], [28.9, 44.9], [24.4, 41.2], [22.7, 23.0], [42.4, 23.7], [33.9, 21.9], [26.9, 45.5], [29.7, 40.8], [28.4, 34.0], [31.1, 31.5], [34.0, 21.4], [37.5, 34.2], [31.7, 20.2], [25.1, 34.3], [40.2, 32.3], [23.2, 26.7], [23.5, 35.8], [36.7, 30.7], [26.4, 31.5], [21.4, 24.0], [22.5, 32.5], [33.6, 21.9], [32.2, 20.7], [23.8, 21.9], [46.0, 26.4], [26.1, 30.7], [33.5, 22.2], [22.0, 27.3], [33.4, 29.1]], \"hovertemplate\": \"<b>%{hovertext}</b><br><br>STSA/60=%{x}<br>ST TOI%=%{y}<br>GP=%{marker.size}<br>SH TOI%=%{customdata[0]}<br>PP TOI%=%{customdata[1]}<extra></extra>\", \"hovertext\": [\"Brad Marchand\", \"Patrice Bergeron\", \"Troy Brouwer\", \"Ondrej Palat\", \"Jamie Benn\", \"Ryan O'Reilly\", \"Yanni Gourde\", \"Ryan Nugent-Hopkins\", \"David Backes\", \"Mark Letestu\", \"Alexander Steen\", \"Logan Couture\", \"Blake Wheeler\", \"Paul Stastny\", \"J.T. Compher\", \"Travis Zajac\", \"Tyler Johnson\", \"David Legwand\", \"Mark Stone\", \"Aleksander Barkov\", \"Jonathan Toews\", \"Mika Zibanejad\", \"Elias Lindholm\", \"Justin Abdelkader\", \"Antoine Vermette\", \"Mikko Koivu\", \"Anze Kopitar\", \"Alexander Wennberg\", \"Jeff Carter\", \"Mike Fisher\", \"Reilly Smith\", \"Alex Killorn\", \"Martin Hanzal\", \"Pavel Zacha\", \"Ryan Callahan\", \"Loui Eriksson\", \"Joel Ward\", \"Frans Nielsen\", \"Jordan Staal\", \"Bo Horvat\", \"Cam Atkinson\", \"Kevin Hayes\", \"Bryan Little\", \"Sean Couturier\", \"Derek Stepan\", \"Rick Nash\", \"Adam Henrique\", \"Marian Hossa\", \"Brian Boyle\", \"Dustin Brown\", \"Carl Soderberg\", \"Patrik Elias\", \"Ryan Getzlaf\", \"Ryan Kesler\", \"Vincent Trocheck\", \"Artem Anisimov\", \"Tomas Plekanec\", \"William Karlsson\", \"Joel Armia\", \"Milan Michalek\", \"Evander Kane\", \"Ryan Smyth\", \"Jussi Jokinen\", \"Evan Rodrigues\", \"Connor Brown\", \"Anton Lander\", \"Andrew Ladd\", \"Valtteri Filppula\", \"Brian Gionta\", \"Jakob Silfverberg\", \"Markus Granlund\", \"Mikael Backlund\", \"Tobias Rieder\", \"Derek Ryan\", \"Nick Bonino\", \"Nathan Gerbe\", \"Brandon Saad\", \"Brandon Dubinsky\", \"Alexandre Burrows\", \"Patrik Berglund\", \"Rich Peverley\", \"Matt Read\", \"Vladimir Sobotka\", \"Blake Lizotte\", \"Brandon Sutter\", \"Mike Richards\", \"Cody Eakin\", \"Tomas Fleischmann\", \"Chris Higgins\"], \"legendgroup\": \"\", \"marker\": {\"color\": \"#636efa\", \"opacity\": 0.75, \"size\": [533, 510, 484, 482, 551, 539, 254, 502, 456, 385, 481, 483, 559, 478, 223, 520, 520, 242, 445, 479, 535, 497, 525, 482, 376, 492, 551, 415, 476, 292, 537, 547, 282, 266, 352, 469, 373, 529, 482, 446, 509, 450, 439, 524, 527, 342, 548, 291, 496, 542, 546, 150, 497, 423, 427, 473, 403, 410, 295, 198, 452, 72, 372, 199, 324, 148, 418, 535, 331, 510, 335, 520, 434, 302, 514, 238, 540, 401, 344, 359, 62, 328, 228, 66, 393, 174, 508, 222, 188], \"sizemode\": \"area\", \"sizeref\": 5.59, \"symbol\": \"circle\"}, \"mode\": \"markers\", \"name\": \"\", \"orientation\": \"v\", \"showlegend\": false, \"type\": \"scatter\", \"x\": [6.38, 5.49, 2.49, 3.46, 2.44, 2.34, 4.44, 0.74, 2.5, 1.81, 2.27, 2.64, 2.16, 1.8, 1.11, 2.22, 2.12, 2.08, 2.26, 2.88, 0.66, 0.63, 1.57, 1.62, -0.69, -0.1, 0.44, 0.84, 0.76, 0.24, 1.61, 1.32, 0.17, 3.35, -0.29, 2.16, 1.87, -0.46, 0.3, -0.61, 2.13, 1.72, 0.01, -0.24, 0.9, 1.75, 1.71, 0.23, -0.16, 0.7, 1.06, 2.36, 0.64, -0.22, 0.33, -0.7, 0.07, 1.26, 1.0, 0.07, 3.24, 3.26, 0.25, -0.79, -0.6, -0.63, -1.39, -0.47, 0.5, 0.75, -1.63, 0.15, -1.24, 0.46, -1.47, 0.53, -0.5, -1.52, -1.64, -0.28, 2.17, -1.52, -2.1, -0.51, -0.77, -0.78, -3.04, -4.99, -2.7], \"xaxis\": \"x\", \"y\": [77.2, 95.8, 72.5, 64.4, 80.7, 97.4, 51.7, 87.4, 63.7, 73.8, 85.7, 89.2, 82.2, 71.4, 74.4, 86.4, 65.8, 60.3, 75.5, 83.0, 92.8, 76.1, 80.0, 58.9, 64.5, 85.5, 97.0, 68.6, 81.2, 79.2, 69.0, 64.0, 71.1, 58.0, 55.3, 69.3, 57.9, 83.2, 78.1, 69.8, 74.6, 55.3, 73.4, 85.0, 82.9, 72.4, 81.1, 74.3, 49.6, 64.5, 58.7, 81.5, 85.8, 92.8, 72.1, 67.1, 70.6, 64.1, 53.1, 68.0, 70.0, 73.8, 65.6, 45.7, 66.1, 55.8, 72.4, 70.5, 62.4, 62.6, 55.4, 71.7, 51.9, 59.4, 72.5, 49.9, 59.3, 67.4, 57.9, 45.4, 55.0, 55.5, 52.9, 45.7, 72.4, 56.8, 55.7, 49.3, 62.5], \"yaxis\": \"y\"}],                        {\"height\": 800, \"legend\": {\"itemsizing\": \"constant\", \"tracegroupgap\": 0}, \"shapes\": [{\"type\": \"line\", \"x0\": 0, \"x1\": 1, \"xref\": \"x domain\", \"y0\": 69.0, \"y1\": 69.0, \"yref\": \"y\"}, {\"type\": \"line\", \"x0\": 1.0, \"x1\": 1.0, \"xref\": \"x\", \"y0\": 0, \"y1\": 1, \"yref\": \"y domain\"}, {\"line\": {\"color\": \"red\", \"dash\": \"dash\"}, \"type\": \"line\", \"x0\": 3.3139999999999996, \"x1\": 3.3139999999999996, \"xref\": \"x\", \"y0\": 0, \"y1\": 1, \"yref\": \"y domain\"}], \"template\": {\"data\": {\"bar\": [{\"error_x\": {\"color\": \"#2a3f5f\"}, \"error_y\": {\"color\": \"#2a3f5f\"}, \"marker\": {\"line\": {\"color\": \"#E5ECF6\", \"width\": 0.5}}, \"type\": \"bar\"}], \"barpolar\": [{\"marker\": {\"line\": {\"color\": \"#E5ECF6\", \"width\": 0.5}}, \"type\": \"barpolar\"}], \"carpet\": [{\"aaxis\": {\"endlinecolor\": \"#2a3f5f\", \"gridcolor\": \"white\", \"linecolor\": \"white\", \"minorgridcolor\": \"white\", \"startlinecolor\": \"#2a3f5f\"}, \"baxis\": {\"endlinecolor\": \"#2a3f5f\", \"gridcolor\": \"white\", \"linecolor\": \"white\", \"minorgridcolor\": \"white\", \"startlinecolor\": \"#2a3f5f\"}, \"type\": \"carpet\"}], \"choropleth\": [{\"colorbar\": {\"outlinewidth\": 0, \"ticks\": \"\"}, \"type\": \"choropleth\"}], \"contour\": [{\"colorbar\": {\"outlinewidth\": 0, \"ticks\": \"\"}, \"colorscale\": [[0.0, \"#0d0887\"], [0.1111111111111111, \"#46039f\"], [0.2222222222222222, \"#7201a8\"], [0.3333333333333333, \"#9c179e\"], [0.4444444444444444, \"#bd3786\"], [0.5555555555555556, \"#d8576b\"], [0.6666666666666666, \"#ed7953\"], [0.7777777777777778, \"#fb9f3a\"], [0.8888888888888888, \"#fdca26\"], [1.0, \"#f0f921\"]], \"type\": \"contour\"}], \"contourcarpet\": [{\"colorbar\": {\"outlinewidth\": 0, \"ticks\": \"\"}, \"type\": \"contourcarpet\"}], \"heatmap\": [{\"colorbar\": {\"outlinewidth\": 0, \"ticks\": \"\"}, \"colorscale\": [[0.0, \"#0d0887\"], [0.1111111111111111, \"#46039f\"], [0.2222222222222222, \"#7201a8\"], [0.3333333333333333, \"#9c179e\"], [0.4444444444444444, \"#bd3786\"], [0.5555555555555556, \"#d8576b\"], [0.6666666666666666, \"#ed7953\"], [0.7777777777777778, \"#fb9f3a\"], [0.8888888888888888, \"#fdca26\"], [1.0, \"#f0f921\"]], \"type\": \"heatmap\"}], \"heatmapgl\": [{\"colorbar\": {\"outlinewidth\": 0, \"ticks\": \"\"}, \"colorscale\": [[0.0, \"#0d0887\"], [0.1111111111111111, \"#46039f\"], [0.2222222222222222, \"#7201a8\"], [0.3333333333333333, \"#9c179e\"], [0.4444444444444444, \"#bd3786\"], [0.5555555555555556, \"#d8576b\"], [0.6666666666666666, \"#ed7953\"], [0.7777777777777778, \"#fb9f3a\"], [0.8888888888888888, \"#fdca26\"], [1.0, \"#f0f921\"]], \"type\": \"heatmapgl\"}], \"histogram\": [{\"marker\": {\"colorbar\": {\"outlinewidth\": 0, \"ticks\": \"\"}}, \"type\": \"histogram\"}], \"histogram2d\": [{\"colorbar\": {\"outlinewidth\": 0, \"ticks\": \"\"}, \"colorscale\": [[0.0, \"#0d0887\"], [0.1111111111111111, \"#46039f\"], [0.2222222222222222, \"#7201a8\"], [0.3333333333333333, \"#9c179e\"], [0.4444444444444444, \"#bd3786\"], [0.5555555555555556, \"#d8576b\"], [0.6666666666666666, \"#ed7953\"], [0.7777777777777778, \"#fb9f3a\"], [0.8888888888888888, \"#fdca26\"], [1.0, \"#f0f921\"]], \"type\": \"histogram2d\"}], \"histogram2dcontour\": [{\"colorbar\": {\"outlinewidth\": 0, \"ticks\": \"\"}, \"colorscale\": [[0.0, \"#0d0887\"], [0.1111111111111111, \"#46039f\"], [0.2222222222222222, \"#7201a8\"], [0.3333333333333333, \"#9c179e\"], [0.4444444444444444, \"#bd3786\"], [0.5555555555555556, \"#d8576b\"], [0.6666666666666666, \"#ed7953\"], [0.7777777777777778, \"#fb9f3a\"], [0.8888888888888888, \"#fdca26\"], [1.0, \"#f0f921\"]], \"type\": \"histogram2dcontour\"}], \"mesh3d\": [{\"colorbar\": {\"outlinewidth\": 0, \"ticks\": \"\"}, \"type\": \"mesh3d\"}], \"parcoords\": [{\"line\": {\"colorbar\": {\"outlinewidth\": 0, \"ticks\": \"\"}}, \"type\": \"parcoords\"}], \"pie\": [{\"automargin\": true, \"type\": \"pie\"}], \"scatter\": [{\"marker\": {\"colorbar\": {\"outlinewidth\": 0, \"ticks\": \"\"}}, \"type\": \"scatter\"}], \"scatter3d\": [{\"line\": {\"colorbar\": {\"outlinewidth\": 0, \"ticks\": \"\"}}, \"marker\": {\"colorbar\": {\"outlinewidth\": 0, \"ticks\": \"\"}}, \"type\": \"scatter3d\"}], \"scattercarpet\": [{\"marker\": {\"colorbar\": {\"outlinewidth\": 0, \"ticks\": \"\"}}, \"type\": \"scattercarpet\"}], \"scattergeo\": [{\"marker\": {\"colorbar\": {\"outlinewidth\": 0, \"ticks\": \"\"}}, \"type\": \"scattergeo\"}], \"scattergl\": [{\"marker\": {\"colorbar\": {\"outlinewidth\": 0, \"ticks\": \"\"}}, \"type\": \"scattergl\"}], \"scattermapbox\": [{\"marker\": {\"colorbar\": {\"outlinewidth\": 0, \"ticks\": \"\"}}, \"type\": \"scattermapbox\"}], \"scatterpolar\": [{\"marker\": {\"colorbar\": {\"outlinewidth\": 0, \"ticks\": \"\"}}, \"type\": \"scatterpolar\"}], \"scatterpolargl\": [{\"marker\": {\"colorbar\": {\"outlinewidth\": 0, \"ticks\": \"\"}}, \"type\": \"scatterpolargl\"}], \"scatterternary\": [{\"marker\": {\"colorbar\": {\"outlinewidth\": 0, \"ticks\": \"\"}}, \"type\": \"scatterternary\"}], \"surface\": [{\"colorbar\": {\"outlinewidth\": 0, \"ticks\": \"\"}, \"colorscale\": [[0.0, \"#0d0887\"], [0.1111111111111111, \"#46039f\"], [0.2222222222222222, \"#7201a8\"], [0.3333333333333333, \"#9c179e\"], [0.4444444444444444, \"#bd3786\"], [0.5555555555555556, \"#d8576b\"], [0.6666666666666666, \"#ed7953\"], [0.7777777777777778, \"#fb9f3a\"], [0.8888888888888888, \"#fdca26\"], [1.0, \"#f0f921\"]], \"type\": \"surface\"}], \"table\": [{\"cells\": {\"fill\": {\"color\": \"#EBF0F8\"}, \"line\": {\"color\": \"white\"}}, \"header\": {\"fill\": {\"color\": \"#C8D4E3\"}, \"line\": {\"color\": \"white\"}}, \"type\": \"table\"}]}, \"layout\": {\"annotationdefaults\": {\"arrowcolor\": \"#2a3f5f\", \"arrowhead\": 0, \"arrowwidth\": 1}, \"coloraxis\": {\"colorbar\": {\"outlinewidth\": 0, \"ticks\": \"\"}}, \"colorscale\": {\"diverging\": [[0, \"#8e0152\"], [0.1, \"#c51b7d\"], [0.2, \"#de77ae\"], [0.3, \"#f1b6da\"], [0.4, \"#fde0ef\"], [0.5, \"#f7f7f7\"], [0.6, \"#e6f5d0\"], [0.7, \"#b8e186\"], [0.8, \"#7fbc41\"], [0.9, \"#4d9221\"], [1, \"#276419\"]], \"sequential\": [[0.0, \"#0d0887\"], [0.1111111111111111, \"#46039f\"], [0.2222222222222222, \"#7201a8\"], [0.3333333333333333, \"#9c179e\"], [0.4444444444444444, \"#bd3786\"], [0.5555555555555556, \"#d8576b\"], [0.6666666666666666, \"#ed7953\"], [0.7777777777777778, \"#fb9f3a\"], [0.8888888888888888, \"#fdca26\"], [1.0, \"#f0f921\"]], \"sequentialminus\": [[0.0, \"#0d0887\"], [0.1111111111111111, \"#46039f\"], [0.2222222222222222, \"#7201a8\"], [0.3333333333333333, \"#9c179e\"], [0.4444444444444444, \"#bd3786\"], [0.5555555555555556, \"#d8576b\"], [0.6666666666666666, \"#ed7953\"], [0.7777777777777778, \"#fb9f3a\"], [0.8888888888888888, \"#fdca26\"], [1.0, \"#f0f921\"]]}, \"colorway\": [\"#636efa\", \"#EF553B\", \"#00cc96\", \"#ab63fa\", \"#FFA15A\", \"#19d3f3\", \"#FF6692\", \"#B6E880\", \"#FF97FF\", \"#FECB52\"], \"font\": {\"color\": \"#2a3f5f\"}, \"geo\": {\"bgcolor\": \"white\", \"lakecolor\": \"white\", \"landcolor\": \"#E5ECF6\", \"showlakes\": true, \"showland\": true, \"subunitcolor\": \"white\"}, \"hoverlabel\": {\"align\": \"left\"}, \"hovermode\": \"closest\", \"mapbox\": {\"style\": \"light\"}, \"paper_bgcolor\": \"white\", \"plot_bgcolor\": \"#E5ECF6\", \"polar\": {\"angularaxis\": {\"gridcolor\": \"white\", \"linecolor\": \"white\", \"ticks\": \"\"}, \"bgcolor\": \"#E5ECF6\", \"radialaxis\": {\"gridcolor\": \"white\", \"linecolor\": \"white\", \"ticks\": \"\"}}, \"scene\": {\"xaxis\": {\"backgroundcolor\": \"#E5ECF6\", \"gridcolor\": \"white\", \"gridwidth\": 2, \"linecolor\": \"white\", \"showbackground\": true, \"ticks\": \"\", \"zerolinecolor\": \"white\"}, \"yaxis\": {\"backgroundcolor\": \"#E5ECF6\", \"gridcolor\": \"white\", \"gridwidth\": 2, \"linecolor\": \"white\", \"showbackground\": true, \"ticks\": \"\", \"zerolinecolor\": \"white\"}, \"zaxis\": {\"backgroundcolor\": \"#E5ECF6\", \"gridcolor\": \"white\", \"gridwidth\": 2, \"linecolor\": \"white\", \"showbackground\": true, \"ticks\": \"\", \"zerolinecolor\": \"white\"}}, \"shapedefaults\": {\"line\": {\"color\": \"#2a3f5f\"}}, \"ternary\": {\"aaxis\": {\"gridcolor\": \"white\", \"linecolor\": \"white\", \"ticks\": \"\"}, \"baxis\": {\"gridcolor\": \"white\", \"linecolor\": \"white\", \"ticks\": \"\"}, \"bgcolor\": \"#E5ECF6\", \"caxis\": {\"gridcolor\": \"white\", \"linecolor\": \"white\", \"ticks\": \"\"}}, \"title\": {\"x\": 0.05}, \"xaxis\": {\"automargin\": true, \"gridcolor\": \"white\", \"linecolor\": \"white\", \"ticks\": \"\", \"title\": {\"standoff\": 15}, \"zerolinecolor\": \"white\", \"zerolinewidth\": 2}, \"yaxis\": {\"automargin\": true, \"gridcolor\": \"white\", \"linecolor\": \"white\", \"ticks\": \"\", \"title\": {\"standoff\": 15}, \"zerolinecolor\": \"white\", \"zerolinewidth\": 2}}}, \"title\": {\"text\": \"F 20% Club: ST TOI% vs STSA/60\"}, \"width\": 800, \"xaxis\": {\"anchor\": \"y\", \"domain\": [0.0, 1.0], \"title\": {\"text\": \"STSA/60\"}}, \"yaxis\": {\"anchor\": \"x\", \"domain\": [0.0, 1.0], \"title\": {\"text\": \"ST TOI%\"}}},                        {\"responsive\": true}                    ).then(function(){\n",
       "                            \n",
       "var gd = document.getElementById('8fdc09cc-d9d0-40c3-8ce8-eac545b9f1cb');\n",
       "var x = new MutationObserver(function (mutations, observer) {{\n",
       "        var display = window.getComputedStyle(gd).display;\n",
       "        if (!display || display === 'none') {{\n",
       "            console.log([gd, 'removed!']);\n",
       "            Plotly.purge(gd);\n",
       "            observer.disconnect();\n",
       "        }}\n",
       "}});\n",
       "\n",
       "// Listen for the removal of the full notebook cells\n",
       "var notebookContainer = gd.closest('#notebook-container');\n",
       "if (notebookContainer) {{\n",
       "    x.observe(notebookContainer, {childList: true});\n",
       "}}\n",
       "\n",
       "// Listen for the clearing of the current output cell\n",
       "var outputEl = gd.closest('.output');\n",
       "if (outputEl) {{\n",
       "    x.observe(outputEl, {childList: true});\n",
       "}}\n",
       "\n",
       "                        })                };                });            </script>        </div>"
      ]
     },
     "metadata": {},
     "output_type": "display_data"
    }
   ],
   "source": [
    "#Finding top special teams forwards\n",
    "\n",
    "fig = px.scatter(Fdf, x=\"STSA/60\", y=\"ST TOI%\",hover_name=\"Player\", hover_data=['SH TOI%', 'PP TOI%'], \n",
    "                 title=\"F 20% Club: ST TOI% vs STSA/60\",\n",
    "                 width=800, height=800,size_max=10,size='GP',opacity=.75)\n",
    "\n",
    "x_mean = round(Fdf[\"STSA/60\"].mean(), 0)\n",
    "y_mean = round(Fdf[\"ST TOI%\"].mean(), 0)\n",
    "\n",
    "x_unicorn = np.percentile(Fdf[\"STSA/60\"], 95)\n",
    "y_unicorn = np.percentile(Fdf[\"ST TOI%\"], 95)\n",
    "\n",
    "print('midpoint',x_mean,y_mean)\n",
    "fig.add_hline(y=y_mean).add_vline(x=x_mean).add_vline(\n",
    "    x=x_unicorn, line_dash = 'dash', line_color = 'red')\n",
    "fig.write_html(\"F 20% Club - ST TOI% vs STSA per 60.html\")"
   ]
  },
  {
   "cell_type": "code",
   "execution_count": null,
   "metadata": {},
   "outputs": [],
   "source": []
  }
 ],
 "metadata": {
  "kernelspec": {
   "display_name": "Python 3",
   "language": "python",
   "name": "python3"
  },
  "language_info": {
   "codemirror_mode": {
    "name": "ipython",
    "version": 3
   },
   "file_extension": ".py",
   "mimetype": "text/x-python",
   "name": "python",
   "nbconvert_exporter": "python",
   "pygments_lexer": "ipython3",
   "version": "3.7.6"
  }
 },
 "nbformat": 4,
 "nbformat_minor": 4
}
