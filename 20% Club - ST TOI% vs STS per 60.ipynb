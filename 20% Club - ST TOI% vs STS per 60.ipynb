{
 "cells": [
  {
   "cell_type": "code",
   "execution_count": 1,
   "metadata": {},
   "outputs": [],
   "source": [
    "import pandas as pd\n",
    "import numpy as np\n",
    "import seaborn as sns\n",
    "import matplotlib as mpl\n",
    "import matplotlib.pyplot as plt\n",
    "%matplotlib inline\n",
    "import plotly.express as px\n",
    "\n",
    "from IPython.core.interactiveshell import InteractiveShell\n",
    "InteractiveShell.ast_node_interactivity = 'all'\n",
    "df = pd.read_csv('all_specialteams.csv')"
   ]
  },
  {
   "cell_type": "code",
   "execution_count": 2,
   "metadata": {},
   "outputs": [],
   "source": [
    "#Dropping players with less than 20% of SH TOI% and PP TOI%\n",
    "\n",
    "x = df[df['SH TOI%'] <= 20].index\n",
    "df.drop(x, inplace=True)\n",
    "x = df[df['PP TOI%'] <= 20].index\n",
    "df.drop(x, inplace=True)"
   ]
  },
  {
   "cell_type": "code",
   "execution_count": 4,
   "metadata": {},
   "outputs": [
    {
     "name": "stdout",
     "output_type": "stream",
     "text": [
      "midpoint -0.0 75.0\n"
     ]
    },
    {
     "data": {
      "application/vnd.plotly.v1+json": {
       "config": {
        "plotlyServerURL": "https://plot.ly"
       },
       "data": [
        {
         "customdata": [
          [
           "L",
           32,
           45.2
          ],
          [
           "C",
           36.6,
           59.2
          ],
          [
           "D",
           42.3,
           44.7
          ],
          [
           "R",
           33.1,
           39.4
          ],
          [
           "D",
           46.4,
           69
          ],
          [
           "D",
           41.1,
           48.9
          ],
          [
           "L",
           24.8,
           39.6
          ],
          [
           "L",
           20.7,
           60
          ],
          [
           "C",
           38,
           59.4
          ],
          [
           "D",
           41.7,
           53.8
          ],
          [
           "C",
           25.9,
           25.8
          ],
          [
           "C",
           31.1,
           56.3
          ],
          [
           "D",
           48.4,
           64.1
          ],
          [
           "R",
           20.4,
           43.3
          ],
          [
           "D",
           46.1,
           50.1
          ],
          [
           "C",
           42,
           31.8
          ],
          [
           "L",
           34.9,
           50.8
          ],
          [
           "C",
           29.1,
           60.1
          ],
          [
           "D",
           36.8,
           65
          ],
          [
           "R",
           22.1,
           60.1
          ],
          [
           "C",
           20.9,
           50.5
          ],
          [
           "L",
           33.5,
           40.9
          ],
          [
           "D",
           27.3,
           41.1
          ],
          [
           "D",
           44,
           33
          ],
          [
           "C",
           44.2,
           42.2
          ],
          [
           "C",
           22.9,
           42.9
          ],
          [
           "C",
           27.9,
           32.4
          ],
          [
           "R",
           22.4,
           53.1
          ],
          [
           "C",
           26.7,
           56.3
          ],
          [
           "D",
           47.2,
           43.5
          ],
          [
           "D",
           34.1,
           51.5
          ],
          [
           "D",
           48.1,
           56.1
          ],
          [
           "D",
           30.2,
           63.5
          ],
          [
           "C",
           33.8,
           59
          ],
          [
           "D",
           55.3,
           58.2
          ],
          [
           "C",
           22.9,
           53.2
          ],
          [
           "D",
           62.8,
           21.3
          ],
          [
           "C",
           26.7,
           53.3
          ],
          [
           "D",
           50,
           51.9
          ],
          [
           "D",
           32.8,
           60.4
          ],
          [
           "L",
           23.9,
           35
          ],
          [
           "C",
           23.1,
           41.4
          ],
          [
           "C",
           31.7,
           53.8
          ],
          [
           "C",
           37.9,
           59.1
          ],
          [
           "C",
           23.4,
           45.2
          ],
          [
           "C",
           28.2,
           53
          ],
          [
           "D",
           52.7,
           54.3
          ],
          [
           "C",
           33.5,
           45.7
          ],
          [
           "R",
           25.1,
           43.9
          ],
          [
           "L",
           23,
           41
          ],
          [
           "C",
           24,
           47.1
          ],
          [
           "C",
           27.4,
           30.6
          ],
          [
           "D",
           31.8,
           21.6
          ],
          [
           "R",
           22.8,
           32.5
          ],
          [
           "D",
           50.3,
           26.5
          ],
          [
           "D",
           34.1,
           51.3
          ],
          [
           "L",
           30.7,
           38.6
          ],
          [
           "D",
           32.8,
           31.3
          ],
          [
           "D",
           25.3,
           26.4
          ],
          [
           "R",
           29.5,
           28.4
          ],
          [
           "C",
           38.5,
           44.7
          ],
          [
           "C",
           37.6,
           40.5
          ],
          [
           "D",
           27.3,
           56.8
          ],
          [
           "D",
           36.5,
           57.8
          ],
          [
           "D",
           32,
           51.8
          ],
          [
           "C",
           24.3,
           45.5
          ],
          [
           "R",
           24.8,
           49.8
          ],
          [
           "D",
           42.2,
           42.9
          ],
          [
           "D",
           50.1,
           57.8
          ],
          [
           "C",
           26.6,
           28.7
          ],
          [
           "D",
           49.7,
           66
          ],
          [
           "D",
           57.1,
           59.8
          ],
          [
           "D",
           48.6,
           65
          ],
          [
           "D",
           43.3,
           66.2
          ],
          [
           "C",
           28.2,
           45.2
          ],
          [
           "D",
           36.8,
           35.8
          ],
          [
           "C",
           43.6,
           41.4
          ],
          [
           "C",
           33.1,
           49.8
          ],
          [
           "L",
           24.9,
           47.5
          ],
          [
           "D",
           34.9,
           63.3
          ],
          [
           "C",
           32.2,
           48.9
          ],
          [
           "R",
           32.8,
           41.5
          ],
          [
           "D",
           35.4,
           71.7
          ],
          [
           "D",
           55.9,
           38.2
          ],
          [
           "D",
           29.9,
           76.6
          ],
          [
           "C",
           29.1,
           20.5
          ],
          [
           "R",
           24.6,
           39.9
          ],
          [
           "D",
           29.5,
           43.1
          ],
          [
           "C",
           23.5,
           35.2
          ],
          [
           "C",
           31.5,
           50
          ],
          [
           "D",
           36,
           37.5
          ],
          [
           "C",
           24.6,
           61.2
          ],
          [
           "D",
           52.6,
           52.2
          ],
          [
           "D",
           34.5,
           23.9
          ],
          [
           "D",
           39.4,
           23.2
          ],
          [
           "D",
           23.6,
           42.8
          ],
          [
           "C",
           42.7,
           50.1
          ],
          [
           "C",
           25.5,
           46.6
          ],
          [
           "D",
           34.8,
           31
          ],
          [
           "C",
           27.4,
           39.7
          ],
          [
           "C",
           39.5,
           31.1
          ],
          [
           "D",
           39.6,
           36
          ],
          [
           "C",
           33.3,
           30.8
          ],
          [
           "D",
           47.8,
           21.4
          ],
          [
           "R",
           25.3,
           27.8
          ],
          [
           "D",
           49.6,
           33.1
          ],
          [
           "L",
           26.9,
           41.1
          ],
          [
           "D",
           35,
           47.1
          ],
          [
           "D",
           43.2,
           38.4
          ],
          [
           "L",
           24.3,
           45.7
          ],
          [
           "L",
           28.9,
           44.9
          ],
          [
           "L",
           24.4,
           41.2
          ],
          [
           "D",
           25.3,
           38.1
          ],
          [
           "D",
           38,
           36.6
          ],
          [
           "D",
           34.1,
           40.4
          ],
          [
           "D",
           40.4,
           26.3
          ],
          [
           "D",
           30.6,
           48.2
          ],
          [
           "D",
           52.7,
           25.9
          ],
          [
           "D",
           49.8,
           29.8
          ],
          [
           "C",
           22.7,
           23
          ],
          [
           "R",
           42.4,
           23.7
          ],
          [
           "C",
           33.9,
           21.9
          ],
          [
           "L",
           26.9,
           45.5
          ],
          [
           "D",
           39.8,
           48
          ],
          [
           "D",
           34.1,
           43.3
          ],
          [
           "C",
           29.7,
           40.8
          ],
          [
           "R",
           28.4,
           34
          ],
          [
           "D",
           41.5,
           37.7
          ],
          [
           "R",
           31.1,
           31.5
          ],
          [
           "D",
           47.2,
           41
          ],
          [
           "D",
           42.8,
           46.3
          ],
          [
           "D",
           42,
           22
          ],
          [
           "D",
           34.9,
           23.7
          ],
          [
           "D",
           43.3,
           36.1
          ],
          [
           "C",
           34,
           21.4
          ],
          [
           "C",
           37.5,
           34.2
          ],
          [
           "D",
           44.1,
           49
          ],
          [
           "D",
           47.3,
           22.2
          ],
          [
           "D",
           26.8,
           29.7
          ],
          [
           "D",
           21.5,
           36.9
          ],
          [
           "D",
           30.7,
           20.9
          ],
          [
           "C",
           31.7,
           20.2
          ],
          [
           "D",
           26.4,
           32.4
          ],
          [
           "C",
           25.1,
           34.3
          ],
          [
           "D",
           35,
           39.8
          ],
          [
           "D",
           52.8,
           22.7
          ],
          [
           "D",
           51.3,
           27.3
          ],
          [
           "C",
           40.2,
           32.3
          ],
          [
           "D",
           58.2,
           36.9
          ],
          [
           "D",
           41.1,
           25.9
          ],
          [
           "D",
           39.3,
           24.8
          ],
          [
           "D",
           32.1,
           37.9
          ],
          [
           "D",
           33.4,
           25.7
          ],
          [
           "C",
           23.2,
           26.7
          ],
          [
           "L",
           23.5,
           35.8
          ],
          [
           "D",
           34.8,
           47.3
          ],
          [
           "D",
           58.4,
           21.4
          ],
          [
           "C",
           36.7,
           30.7
          ],
          [
           "R",
           26.4,
           31.5
          ],
          [
           "C",
           21.4,
           24
          ],
          [
           "D",
           23.9,
           52.7
          ],
          [
           "C",
           22.5,
           32.5
          ],
          [
           "D",
           29.3,
           37.4
          ],
          [
           "R",
           33.6,
           21.9
          ],
          [
           "C",
           32.2,
           20.7
          ],
          [
           "C",
           23.8,
           21.9
          ],
          [
           "D",
           24,
           37.9
          ],
          [
           "C",
           46,
           26.4
          ],
          [
           "C",
           26.1,
           30.7
          ],
          [
           "C",
           33.5,
           22.2
          ],
          [
           "D",
           28.1,
           22.3
          ],
          [
           "D",
           23.3,
           23.3
          ],
          [
           "L",
           22,
           27.3
          ],
          [
           "L",
           33.4,
           29.1
          ]
         ],
         "hovertemplate": "<b>%{hovertext}</b><br><br>STS/60=%{x}<br>ST TOI%=%{y}<br>GP=%{marker.size}<br>Pos=%{customdata[0]}<br>SH TOI%=%{customdata[1]}<br>PP TOI%=%{customdata[2]}<extra></extra>",
         "hovertext": [
          "Brad Marchand",
          "Patrice Bergeron",
          "Neal Pionk",
          "Troy Brouwer",
          "Kris Letang",
          "Oscar Klefbom",
          "Ondrej Palat",
          "Jamie Benn",
          "Ryan O'Reilly",
          "Victor Hedman",
          "Yanni Gourde",
          "Ryan Nugent-Hopkins",
          "John Carlson",
          "David Backes",
          "Kimmo Timonen",
          "Mark Letestu",
          "Alexander Steen",
          "Logan Couture",
          "Brent Burns",
          "Blake Wheeler",
          "Paul Stastny",
          "J.T. Compher",
          "Morgan Rielly",
          "Matt Niskanen",
          "Travis Zajac",
          "Tyler Johnson",
          "David Legwand",
          "Mark Stone",
          "Aleksander Barkov",
          "Jared Spurgeon",
          "Niklas Kronwall",
          "Rasmus Ristolainen",
          "Dustin Byfuglien",
          "Jonathan Toews",
          "Mark Giordano",
          "Mika Zibanejad",
          "Zdeno Chara",
          "Elias Lindholm",
          "Alexander Edler",
          "James Wisniewski",
          "Justin Abdelkader",
          "Antoine Vermette",
          "Mikko Koivu",
          "Anze Kopitar",
          "Alexander Wennberg",
          "Jeff Carter",
          "Alex Pietrangelo",
          "Mike Fisher",
          "Reilly Smith",
          "Alex Killorn",
          "Martin Hanzal",
          "Pavel Zacha",
          "Ethan Bear",
          "Ryan Callahan",
          "Jack Johnson",
          "Justin Faulk",
          "Loui Eriksson",
          "Colton Parayko",
          "David Schlemko",
          "Joel Ward",
          "Frans Nielsen",
          "Jordan Staal",
          "Zach Werenski",
          "Cam Fowler",
          "Sami Vatanen",
          "Bo Horvat",
          "Cam Atkinson",
          "Brent Seabrook",
          "Roman Josi",
          "Kevin Hayes",
          "Drew Doughty",
          "Shea Weber",
          "Ryan Suter",
          "Andrei Markov",
          "Bryan Little",
          "Sami Salo",
          "Sean Couturier",
          "Derek Stepan",
          "Rick Nash",
          "P.K. Subban",
          "Adam Henrique",
          "Marian Hossa",
          "Oliver Ekman-Larsson",
          "Ryan McDonagh",
          "Erik Karlsson",
          "Brian Boyle",
          "Dustin Brown",
          "Aaron Ekblad",
          "Carl Soderberg",
          "Patrik Elias",
          "Alec Martinez",
          "Ryan Getzlaf",
          "Duncan Keith",
          "Michael Stone",
          "Kris Russell",
          "Cody Franson",
          "Ryan Kesler",
          "Vincent Trocheck",
          "Maxime Lajoie",
          "Artem Anisimov",
          "Tomas Plekanec",
          "Andrej Sekera",
          "William Karlsson",
          "Johnny Boychuk",
          "Joel Armia",
          "Jacob Trouba",
          "Milan Michalek",
          "Dennis Wideman",
          "Jeff Petry",
          "Evander Kane",
          "Ryan Smyth",
          "Jussi Jokinen",
          "Ryan Pulock",
          "Hampus Lindholm",
          "Jake Muzzin",
          "Ryan Murray",
          "Christian Ehrhoff",
          "Esa Lindell",
          "Erik Johnson",
          "Evan Rodrigues",
          "Connor Brown",
          "Anton Lander",
          "Andrew Ladd",
          "Dion Phaneuf",
          "Miro Heiskanen",
          "Valtteri Filppula",
          "Brian Gionta",
          "Tyler Myers",
          "Jakob Silfverberg",
          "Alex Goligoski",
          "Seth Jones",
          "Mattias Ekholm",
          "Jason Garrison",
          "TJ Brodie",
          "Markus Granlund",
          "Mikael Backlund",
          "Filip Hronek",
          "Anton Stralman",
          "Ben Hutton",
          "John-Michael Liles",
          "Michael Del Zotto",
          "Tobias Rieder",
          "Charlie McAvoy",
          "Derek Ryan",
          "Ryan Ellis",
          "Marc-Edouard Vlasic",
          "Francois Beauchemin",
          "Nick Bonino",
          "Ivan Provorov",
          "Trevor Daley",
          "Jason Demers",
          "Toby Enstrom",
          "Kevin Bieksa",
          "Nathan Gerbe",
          "Brandon Saad",
          "Slava Voynov",
          "Jaccob Slavin",
          "Brandon Dubinsky",
          "Alexandre Burrows",
          "Patrik Berglund",
          "Brian Campbell",
          "Rich Peverley",
          "Andre Benoit",
          "Matt Read",
          "Vladimir Sobotka",
          "Blake Lizotte",
          "Brandon Montour",
          "Brandon Sutter",
          "Mike Richards",
          "Cody Eakin",
          "Tom Gilbert",
          "Raphael Diaz",
          "Tomas Fleischmann",
          "Chris Higgins"
         ],
         "legendgroup": "",
         "marker": {
          "color": "#636efa",
          "opacity": 0.75,
          "size": [
           533,
           510,
           172,
           484,
           423,
           378,
           482,
           551,
           539,
           504,
           254,
           502,
           523,
           456,
           93,
           385,
           481,
           483,
           549,
           559,
           478,
           223,
           517,
           539,
           520,
           520,
           242,
           445,
           479,
           491,
           438,
           493,
           419,
           535,
           508,
           497,
           498,
           525,
           442,
           145,
           482,
           376,
           492,
           551,
           415,
           476,
           534,
           292,
           537,
           547,
           282,
           266,
           89,
           352,
           529,
           524,
           469,
           386,
           276,
           373,
           529,
           482,
           300,
           484,
           426,
           446,
           509,
           515,
           532,
           450,
           555,
           462,
           552,
           306,
           439,
           71,
           524,
           527,
           342,
           511,
           548,
           291,
           545,
           493,
           503,
           496,
           542,
           458,
           546,
           150,
           465,
           497,
           531,
           419,
           482,
           307,
           423,
           427,
           62,
           473,
           403,
           425,
           410,
           479,
           295,
           478,
           198,
           234,
           524,
           452,
           72,
           372,
           234,
           502,
           523,
           347,
           176,
           308,
           447,
           199,
           324,
           148,
           418,
           448,
           150,
           535,
           331,
           447,
           510,
           550,
           524,
           535,
           318,
           530,
           335,
           520,
           111,
           505,
           341,
           215,
           407,
           434,
           184,
           302,
           463,
           516,
           364,
           514,
           315,
           437,
           453,
           317,
           347,
           238,
           540,
           88,
           377,
           401,
           344,
           359,
           326,
           62,
           140,
           328,
           228,
           66,
           243,
           393,
           174,
           508,
           208,
           119,
           222,
           188
          ],
          "sizemode": "area",
          "sizeref": 5.59,
          "symbol": "circle"
         },
         "mode": "markers",
         "name": "",
         "orientation": "v",
         "showlegend": false,
         "type": "scatter",
         "x": [
          4.1800000000000015,
          4.07,
          -0.8599999999999994,
          2.079999999999999,
          2.22,
          1.0399999999999991,
          2.43,
          0.7999999999999989,
          1.5599999999999996,
          2.1000000000000005,
          3.0900000000000007,
          0.19000000000000128,
          1.9000000000000004,
          2.38,
          3.86,
          0.9000000000000004,
          1.79,
          1.3499999999999996,
          2.370000000000001,
          0.46,
          1.2300000000000004,
          -0.1200000000000001,
          -0.21,
          1.3999999999999997,
          1.54,
          1.29,
          1.3699999999999992,
          1.2800000000000002,
          2.01,
          0.17000000000000082,
          0.4900000000000002,
          -0.5800000000000001,
          0.1900000000000004,
          -0.5500000000000007,
          0.08999999999999986,
          -0.3700000000000001,
          0.6099999999999994,
          0.5800000000000001,
          -0.1899999999999995,
          0.71,
          1.4299999999999995,
          -1.2999999999999998,
          -0.8199999999999994,
          -0.05999999999999961,
          0.3300000000000001,
          -0.01999999999999957,
          0.4499999999999993,
          -0.009999999999999787,
          0.5699999999999994,
          0.7800000000000002,
          -0.14999999999999947,
          2.12,
          1.3099999999999996,
          -0.8700000000000001,
          -0.29000000000000004,
          0.39999999999999947,
          1.5199999999999996,
          1.8500000000000003,
          -1.2699999999999996,
          1.2199999999999998,
          -1.4300000000000006,
          -0.3799999999999999,
          0.7400000000000002,
          0.9500000000000002,
          1.1099999999999994,
          -1.3800000000000008,
          1.0099999999999998,
          -0.7699999999999996,
          -0.07000000000000027,
          -0.040000000000000036,
          -0.040000000000000036,
          -0.5899999999999999,
          -0.4500000000000002,
          0.5700000000000003,
          -0.7599999999999998,
          -0.16000000000000014,
          -0.75,
          -0.4300000000000006,
          0.16999999999999993,
          0.11999999999999922,
          0.71,
          -1.1599999999999993,
          -0.21999999999999972,
          0.16000000000000014,
          -1.29,
          -0.9000000000000004,
          0.2700000000000005,
          -1.1899999999999995,
          0.5300000000000002,
          0.5,
          0.6500000000000004,
          -0.05999999999999961,
          -0.9200000000000008,
          -1.4500000000000002,
          -0.9700000000000006,
          -0.21,
          -0.5100000000000007,
          -0.6699999999999999,
          -1.6499999999999997,
          -1.739999999999999,
          -0.5700000000000003,
          -0.5,
          -0.049999999999999815,
          -0.92,
          -0.9900000000000002,
          -1.1899999999999995,
          -0.1200000000000001,
          -0.3200000000000003,
          -0.4900000000000002,
          1.7400000000000002,
          3.26,
          -0.1299999999999999,
          -1.4500000000000002,
          -0.1299999999999999,
          0.3300000000000001,
          0.2400000000000002,
          0.020000000000000462,
          -1.6500000000000004,
          -1.6000000000000003,
          -1.6799999999999995,
          -1.3200000000000005,
          -0.6299999999999999,
          -2.27,
          -2.25,
          -0.6399999999999997,
          -0.8499999999999996,
          0.009999999999999787,
          -0.8200000000000003,
          -0.1899999999999995,
          -1.2699999999999996,
          -0.79,
          -0.7400000000000002,
          -1,
          -1.8600000000000003,
          -2.299999999999999,
          -1.16,
          -4.26,
          -0.5900000000000007,
          -0.8500000000000005,
          0.4199999999999999,
          -2.5699999999999994,
          -1.92,
          0.92,
          -0.8100000000000005,
          -0.5800000000000001,
          -1.66,
          -2.7600000000000007,
          -1.6400000000000006,
          -2.8400000000000007,
          -2.14,
          0.15000000000000036,
          -2.28,
          -0.01999999999999957,
          0,
          -1.29,
          1.4900000000000002,
          -2.06,
          -2.25,
          -2.04,
          -0.4199999999999999,
          -1.6300000000000008,
          0.4699999999999998,
          -3.5200000000000005,
          -2.1099999999999994,
          -2.59,
          -3.01,
          -2.6499999999999995,
          -1.59,
          -1.25,
          -4.04,
          -4.540000000000001,
          -0.08999999999999986,
          -5.4700000000000015,
          -3.04
         ],
         "xaxis": "x",
         "y": [
          77.2,
          95.8,
          87,
          72.5,
          115.4,
          90,
          64.4,
          80.7,
          97.4,
          95.5,
          51.7,
          87.4,
          112.5,
          63.7,
          96.2,
          73.8,
          85.7,
          89.2,
          101.8,
          82.2,
          71.4,
          74.4,
          68.4,
          77,
          86.4,
          65.8,
          60.3,
          75.5,
          83,
          90.7,
          85.6,
          104.2,
          93.7,
          92.8,
          113.5,
          76.1,
          84.1,
          80,
          101.9,
          93.2,
          58.9,
          64.5,
          85.5,
          97,
          68.6,
          81.2,
          107,
          79.2,
          69,
          64,
          71.1,
          58,
          53.4,
          55.3,
          76.8,
          85.4,
          69.3,
          64.1,
          51.7,
          57.9,
          83.2,
          78.1,
          84.1,
          94.3,
          83.8,
          69.8,
          74.6,
          85.1,
          107.9,
          55.3,
          115.7,
          116.9,
          113.6,
          109.5,
          73.4,
          72.6,
          85,
          82.9,
          72.4,
          98.2,
          81.1,
          74.3,
          107.1,
          94.1,
          106.5,
          49.6,
          64.5,
          72.6,
          58.7,
          81.5,
          73.5,
          85.8,
          104.8,
          58.4,
          62.6,
          66.4,
          92.8,
          72.1,
          65.8,
          67.1,
          70.6,
          75.6,
          64.1,
          69.2,
          53.1,
          82.7,
          68,
          82.1,
          81.6,
          70,
          73.8,
          65.6,
          63.4,
          74.6,
          74.5,
          66.7,
          78.8,
          78.6,
          79.6,
          45.7,
          66.1,
          55.8,
          72.4,
          87.8,
          77.4,
          70.5,
          62.4,
          79.2,
          62.6,
          88.2,
          89.1,
          64,
          58.6,
          79.4,
          55.4,
          71.7,
          93.1,
          69.5,
          56.5,
          58.4,
          51.6,
          51.9,
          58.8,
          59.4,
          74.8,
          75.5,
          78.6,
          72.5,
          95.1,
          67,
          64.1,
          70,
          59.1,
          49.9,
          59.3,
          82.1,
          79.8,
          67.4,
          57.9,
          45.4,
          76.6,
          55,
          66.7,
          55.5,
          52.9,
          45.7,
          61.9,
          72.4,
          56.8,
          55.7,
          50.4,
          46.6,
          49.3,
          62.5
         ],
         "yaxis": "y"
        }
       ],
       "layout": {
        "height": 800,
        "legend": {
         "itemsizing": "constant",
         "tracegroupgap": 0
        },
        "shapes": [
         {
          "type": "line",
          "x0": 0,
          "x1": 1,
          "xref": "x domain",
          "y0": 75,
          "y1": 75,
          "yref": "y"
         },
         {
          "type": "line",
          "x0": 0,
          "x1": 0,
          "xref": "x",
          "y0": 0,
          "y1": 1,
          "yref": "y domain"
         },
         {
          "line": {
           "color": "red",
           "dash": "dash"
          },
          "type": "line",
          "x0": 0,
          "x1": 1,
          "xref": "x domain",
          "y0": 107.035,
          "y1": 107.035,
          "yref": "y"
         },
         {
          "line": {
           "color": "red",
           "dash": "dash"
          },
          "type": "line",
          "x0": 2.1549999999999994,
          "x1": 2.1549999999999994,
          "xref": "x",
          "y0": 0,
          "y1": 1,
          "yref": "y domain"
         }
        ],
        "template": {
         "data": {
          "bar": [
           {
            "error_x": {
             "color": "#2a3f5f"
            },
            "error_y": {
             "color": "#2a3f5f"
            },
            "marker": {
             "line": {
              "color": "#E5ECF6",
              "width": 0.5
             }
            },
            "type": "bar"
           }
          ],
          "barpolar": [
           {
            "marker": {
             "line": {
              "color": "#E5ECF6",
              "width": 0.5
             }
            },
            "type": "barpolar"
           }
          ],
          "carpet": [
           {
            "aaxis": {
             "endlinecolor": "#2a3f5f",
             "gridcolor": "white",
             "linecolor": "white",
             "minorgridcolor": "white",
             "startlinecolor": "#2a3f5f"
            },
            "baxis": {
             "endlinecolor": "#2a3f5f",
             "gridcolor": "white",
             "linecolor": "white",
             "minorgridcolor": "white",
             "startlinecolor": "#2a3f5f"
            },
            "type": "carpet"
           }
          ],
          "choropleth": [
           {
            "colorbar": {
             "outlinewidth": 0,
             "ticks": ""
            },
            "type": "choropleth"
           }
          ],
          "contour": [
           {
            "colorbar": {
             "outlinewidth": 0,
             "ticks": ""
            },
            "colorscale": [
             [
              0,
              "#0d0887"
             ],
             [
              0.1111111111111111,
              "#46039f"
             ],
             [
              0.2222222222222222,
              "#7201a8"
             ],
             [
              0.3333333333333333,
              "#9c179e"
             ],
             [
              0.4444444444444444,
              "#bd3786"
             ],
             [
              0.5555555555555556,
              "#d8576b"
             ],
             [
              0.6666666666666666,
              "#ed7953"
             ],
             [
              0.7777777777777778,
              "#fb9f3a"
             ],
             [
              0.8888888888888888,
              "#fdca26"
             ],
             [
              1,
              "#f0f921"
             ]
            ],
            "type": "contour"
           }
          ],
          "contourcarpet": [
           {
            "colorbar": {
             "outlinewidth": 0,
             "ticks": ""
            },
            "type": "contourcarpet"
           }
          ],
          "heatmap": [
           {
            "colorbar": {
             "outlinewidth": 0,
             "ticks": ""
            },
            "colorscale": [
             [
              0,
              "#0d0887"
             ],
             [
              0.1111111111111111,
              "#46039f"
             ],
             [
              0.2222222222222222,
              "#7201a8"
             ],
             [
              0.3333333333333333,
              "#9c179e"
             ],
             [
              0.4444444444444444,
              "#bd3786"
             ],
             [
              0.5555555555555556,
              "#d8576b"
             ],
             [
              0.6666666666666666,
              "#ed7953"
             ],
             [
              0.7777777777777778,
              "#fb9f3a"
             ],
             [
              0.8888888888888888,
              "#fdca26"
             ],
             [
              1,
              "#f0f921"
             ]
            ],
            "type": "heatmap"
           }
          ],
          "heatmapgl": [
           {
            "colorbar": {
             "outlinewidth": 0,
             "ticks": ""
            },
            "colorscale": [
             [
              0,
              "#0d0887"
             ],
             [
              0.1111111111111111,
              "#46039f"
             ],
             [
              0.2222222222222222,
              "#7201a8"
             ],
             [
              0.3333333333333333,
              "#9c179e"
             ],
             [
              0.4444444444444444,
              "#bd3786"
             ],
             [
              0.5555555555555556,
              "#d8576b"
             ],
             [
              0.6666666666666666,
              "#ed7953"
             ],
             [
              0.7777777777777778,
              "#fb9f3a"
             ],
             [
              0.8888888888888888,
              "#fdca26"
             ],
             [
              1,
              "#f0f921"
             ]
            ],
            "type": "heatmapgl"
           }
          ],
          "histogram": [
           {
            "marker": {
             "colorbar": {
              "outlinewidth": 0,
              "ticks": ""
             }
            },
            "type": "histogram"
           }
          ],
          "histogram2d": [
           {
            "colorbar": {
             "outlinewidth": 0,
             "ticks": ""
            },
            "colorscale": [
             [
              0,
              "#0d0887"
             ],
             [
              0.1111111111111111,
              "#46039f"
             ],
             [
              0.2222222222222222,
              "#7201a8"
             ],
             [
              0.3333333333333333,
              "#9c179e"
             ],
             [
              0.4444444444444444,
              "#bd3786"
             ],
             [
              0.5555555555555556,
              "#d8576b"
             ],
             [
              0.6666666666666666,
              "#ed7953"
             ],
             [
              0.7777777777777778,
              "#fb9f3a"
             ],
             [
              0.8888888888888888,
              "#fdca26"
             ],
             [
              1,
              "#f0f921"
             ]
            ],
            "type": "histogram2d"
           }
          ],
          "histogram2dcontour": [
           {
            "colorbar": {
             "outlinewidth": 0,
             "ticks": ""
            },
            "colorscale": [
             [
              0,
              "#0d0887"
             ],
             [
              0.1111111111111111,
              "#46039f"
             ],
             [
              0.2222222222222222,
              "#7201a8"
             ],
             [
              0.3333333333333333,
              "#9c179e"
             ],
             [
              0.4444444444444444,
              "#bd3786"
             ],
             [
              0.5555555555555556,
              "#d8576b"
             ],
             [
              0.6666666666666666,
              "#ed7953"
             ],
             [
              0.7777777777777778,
              "#fb9f3a"
             ],
             [
              0.8888888888888888,
              "#fdca26"
             ],
             [
              1,
              "#f0f921"
             ]
            ],
            "type": "histogram2dcontour"
           }
          ],
          "mesh3d": [
           {
            "colorbar": {
             "outlinewidth": 0,
             "ticks": ""
            },
            "type": "mesh3d"
           }
          ],
          "parcoords": [
           {
            "line": {
             "colorbar": {
              "outlinewidth": 0,
              "ticks": ""
             }
            },
            "type": "parcoords"
           }
          ],
          "pie": [
           {
            "automargin": true,
            "type": "pie"
           }
          ],
          "scatter": [
           {
            "marker": {
             "colorbar": {
              "outlinewidth": 0,
              "ticks": ""
             }
            },
            "type": "scatter"
           }
          ],
          "scatter3d": [
           {
            "line": {
             "colorbar": {
              "outlinewidth": 0,
              "ticks": ""
             }
            },
            "marker": {
             "colorbar": {
              "outlinewidth": 0,
              "ticks": ""
             }
            },
            "type": "scatter3d"
           }
          ],
          "scattercarpet": [
           {
            "marker": {
             "colorbar": {
              "outlinewidth": 0,
              "ticks": ""
             }
            },
            "type": "scattercarpet"
           }
          ],
          "scattergeo": [
           {
            "marker": {
             "colorbar": {
              "outlinewidth": 0,
              "ticks": ""
             }
            },
            "type": "scattergeo"
           }
          ],
          "scattergl": [
           {
            "marker": {
             "colorbar": {
              "outlinewidth": 0,
              "ticks": ""
             }
            },
            "type": "scattergl"
           }
          ],
          "scattermapbox": [
           {
            "marker": {
             "colorbar": {
              "outlinewidth": 0,
              "ticks": ""
             }
            },
            "type": "scattermapbox"
           }
          ],
          "scatterpolar": [
           {
            "marker": {
             "colorbar": {
              "outlinewidth": 0,
              "ticks": ""
             }
            },
            "type": "scatterpolar"
           }
          ],
          "scatterpolargl": [
           {
            "marker": {
             "colorbar": {
              "outlinewidth": 0,
              "ticks": ""
             }
            },
            "type": "scatterpolargl"
           }
          ],
          "scatterternary": [
           {
            "marker": {
             "colorbar": {
              "outlinewidth": 0,
              "ticks": ""
             }
            },
            "type": "scatterternary"
           }
          ],
          "surface": [
           {
            "colorbar": {
             "outlinewidth": 0,
             "ticks": ""
            },
            "colorscale": [
             [
              0,
              "#0d0887"
             ],
             [
              0.1111111111111111,
              "#46039f"
             ],
             [
              0.2222222222222222,
              "#7201a8"
             ],
             [
              0.3333333333333333,
              "#9c179e"
             ],
             [
              0.4444444444444444,
              "#bd3786"
             ],
             [
              0.5555555555555556,
              "#d8576b"
             ],
             [
              0.6666666666666666,
              "#ed7953"
             ],
             [
              0.7777777777777778,
              "#fb9f3a"
             ],
             [
              0.8888888888888888,
              "#fdca26"
             ],
             [
              1,
              "#f0f921"
             ]
            ],
            "type": "surface"
           }
          ],
          "table": [
           {
            "cells": {
             "fill": {
              "color": "#EBF0F8"
             },
             "line": {
              "color": "white"
             }
            },
            "header": {
             "fill": {
              "color": "#C8D4E3"
             },
             "line": {
              "color": "white"
             }
            },
            "type": "table"
           }
          ]
         },
         "layout": {
          "annotationdefaults": {
           "arrowcolor": "#2a3f5f",
           "arrowhead": 0,
           "arrowwidth": 1
          },
          "coloraxis": {
           "colorbar": {
            "outlinewidth": 0,
            "ticks": ""
           }
          },
          "colorscale": {
           "diverging": [
            [
             0,
             "#8e0152"
            ],
            [
             0.1,
             "#c51b7d"
            ],
            [
             0.2,
             "#de77ae"
            ],
            [
             0.3,
             "#f1b6da"
            ],
            [
             0.4,
             "#fde0ef"
            ],
            [
             0.5,
             "#f7f7f7"
            ],
            [
             0.6,
             "#e6f5d0"
            ],
            [
             0.7,
             "#b8e186"
            ],
            [
             0.8,
             "#7fbc41"
            ],
            [
             0.9,
             "#4d9221"
            ],
            [
             1,
             "#276419"
            ]
           ],
           "sequential": [
            [
             0,
             "#0d0887"
            ],
            [
             0.1111111111111111,
             "#46039f"
            ],
            [
             0.2222222222222222,
             "#7201a8"
            ],
            [
             0.3333333333333333,
             "#9c179e"
            ],
            [
             0.4444444444444444,
             "#bd3786"
            ],
            [
             0.5555555555555556,
             "#d8576b"
            ],
            [
             0.6666666666666666,
             "#ed7953"
            ],
            [
             0.7777777777777778,
             "#fb9f3a"
            ],
            [
             0.8888888888888888,
             "#fdca26"
            ],
            [
             1,
             "#f0f921"
            ]
           ],
           "sequentialminus": [
            [
             0,
             "#0d0887"
            ],
            [
             0.1111111111111111,
             "#46039f"
            ],
            [
             0.2222222222222222,
             "#7201a8"
            ],
            [
             0.3333333333333333,
             "#9c179e"
            ],
            [
             0.4444444444444444,
             "#bd3786"
            ],
            [
             0.5555555555555556,
             "#d8576b"
            ],
            [
             0.6666666666666666,
             "#ed7953"
            ],
            [
             0.7777777777777778,
             "#fb9f3a"
            ],
            [
             0.8888888888888888,
             "#fdca26"
            ],
            [
             1,
             "#f0f921"
            ]
           ]
          },
          "colorway": [
           "#636efa",
           "#EF553B",
           "#00cc96",
           "#ab63fa",
           "#FFA15A",
           "#19d3f3",
           "#FF6692",
           "#B6E880",
           "#FF97FF",
           "#FECB52"
          ],
          "font": {
           "color": "#2a3f5f"
          },
          "geo": {
           "bgcolor": "white",
           "lakecolor": "white",
           "landcolor": "#E5ECF6",
           "showlakes": true,
           "showland": true,
           "subunitcolor": "white"
          },
          "hoverlabel": {
           "align": "left"
          },
          "hovermode": "closest",
          "mapbox": {
           "style": "light"
          },
          "paper_bgcolor": "white",
          "plot_bgcolor": "#E5ECF6",
          "polar": {
           "angularaxis": {
            "gridcolor": "white",
            "linecolor": "white",
            "ticks": ""
           },
           "bgcolor": "#E5ECF6",
           "radialaxis": {
            "gridcolor": "white",
            "linecolor": "white",
            "ticks": ""
           }
          },
          "scene": {
           "xaxis": {
            "backgroundcolor": "#E5ECF6",
            "gridcolor": "white",
            "gridwidth": 2,
            "linecolor": "white",
            "showbackground": true,
            "ticks": "",
            "zerolinecolor": "white"
           },
           "yaxis": {
            "backgroundcolor": "#E5ECF6",
            "gridcolor": "white",
            "gridwidth": 2,
            "linecolor": "white",
            "showbackground": true,
            "ticks": "",
            "zerolinecolor": "white"
           },
           "zaxis": {
            "backgroundcolor": "#E5ECF6",
            "gridcolor": "white",
            "gridwidth": 2,
            "linecolor": "white",
            "showbackground": true,
            "ticks": "",
            "zerolinecolor": "white"
           }
          },
          "shapedefaults": {
           "line": {
            "color": "#2a3f5f"
           }
          },
          "ternary": {
           "aaxis": {
            "gridcolor": "white",
            "linecolor": "white",
            "ticks": ""
           },
           "baxis": {
            "gridcolor": "white",
            "linecolor": "white",
            "ticks": ""
           },
           "bgcolor": "#E5ECF6",
           "caxis": {
            "gridcolor": "white",
            "linecolor": "white",
            "ticks": ""
           }
          },
          "title": {
           "x": 0.05
          },
          "xaxis": {
           "automargin": true,
           "gridcolor": "white",
           "linecolor": "white",
           "ticks": "",
           "title": {
            "standoff": 15
           },
           "zerolinecolor": "white",
           "zerolinewidth": 2
          },
          "yaxis": {
           "automargin": true,
           "gridcolor": "white",
           "linecolor": "white",
           "ticks": "",
           "title": {
            "standoff": 15
           },
           "zerolinecolor": "white",
           "zerolinewidth": 2
          }
         }
        },
        "title": {
         "text": "20% Club: ST TOI% vs STS/60"
        },
        "width": 800,
        "xaxis": {
         "anchor": "y",
         "domain": [
          0,
          1
         ],
         "title": {
          "text": "STS/60"
         }
        },
        "yaxis": {
         "anchor": "x",
         "domain": [
          0,
          1
         ],
         "title": {
          "text": "ST TOI%"
         }
        }
       }
      },
      "text/html": [
       "<div>                            <div id=\"b3cd7e14-e656-4f31-9d4c-4b0f89592d4b\" class=\"plotly-graph-div\" style=\"height:800px; width:800px;\"></div>            <script type=\"text/javascript\">                require([\"plotly\"], function(Plotly) {                    window.PLOTLYENV=window.PLOTLYENV || {};                                    if (document.getElementById(\"b3cd7e14-e656-4f31-9d4c-4b0f89592d4b\")) {                    Plotly.newPlot(                        \"b3cd7e14-e656-4f31-9d4c-4b0f89592d4b\",                        [{\"customdata\": [[\"L\", 32.0, 45.2], [\"C\", 36.6, 59.2], [\"D\", 42.3, 44.7], [\"R\", 33.1, 39.4], [\"D\", 46.4, 69.0], [\"D\", 41.1, 48.9], [\"L\", 24.8, 39.6], [\"L\", 20.7, 60.0], [\"C\", 38.0, 59.4], [\"D\", 41.7, 53.8], [\"C\", 25.9, 25.8], [\"C\", 31.1, 56.3], [\"D\", 48.4, 64.1], [\"R\", 20.4, 43.3], [\"D\", 46.1, 50.1], [\"C\", 42.0, 31.8], [\"L\", 34.9, 50.8], [\"C\", 29.1, 60.1], [\"D\", 36.8, 65.0], [\"R\", 22.1, 60.1], [\"C\", 20.9, 50.5], [\"L\", 33.5, 40.9], [\"D\", 27.3, 41.1], [\"D\", 44.0, 33.0], [\"C\", 44.2, 42.2], [\"C\", 22.9, 42.9], [\"C\", 27.9, 32.4], [\"R\", 22.4, 53.1], [\"C\", 26.7, 56.3], [\"D\", 47.2, 43.5], [\"D\", 34.1, 51.5], [\"D\", 48.1, 56.1], [\"D\", 30.2, 63.5], [\"C\", 33.8, 59.0], [\"D\", 55.3, 58.2], [\"C\", 22.9, 53.2], [\"D\", 62.8, 21.3], [\"C\", 26.7, 53.3], [\"D\", 50.0, 51.9], [\"D\", 32.8, 60.4], [\"L\", 23.9, 35.0], [\"C\", 23.1, 41.4], [\"C\", 31.7, 53.8], [\"C\", 37.9, 59.1], [\"C\", 23.4, 45.2], [\"C\", 28.2, 53.0], [\"D\", 52.7, 54.3], [\"C\", 33.5, 45.7], [\"R\", 25.1, 43.9], [\"L\", 23.0, 41.0], [\"C\", 24.0, 47.1], [\"C\", 27.4, 30.6], [\"D\", 31.8, 21.6], [\"R\", 22.8, 32.5], [\"D\", 50.3, 26.5], [\"D\", 34.1, 51.3], [\"L\", 30.7, 38.6], [\"D\", 32.8, 31.3], [\"D\", 25.3, 26.4], [\"R\", 29.5, 28.4], [\"C\", 38.5, 44.7], [\"C\", 37.6, 40.5], [\"D\", 27.3, 56.8], [\"D\", 36.5, 57.8], [\"D\", 32.0, 51.8], [\"C\", 24.3, 45.5], [\"R\", 24.8, 49.8], [\"D\", 42.2, 42.9], [\"D\", 50.1, 57.8], [\"C\", 26.6, 28.7], [\"D\", 49.7, 66.0], [\"D\", 57.1, 59.8], [\"D\", 48.6, 65.0], [\"D\", 43.3, 66.2], [\"C\", 28.2, 45.2], [\"D\", 36.8, 35.8], [\"C\", 43.6, 41.4], [\"C\", 33.1, 49.8], [\"L\", 24.9, 47.5], [\"D\", 34.9, 63.3], [\"C\", 32.2, 48.9], [\"R\", 32.8, 41.5], [\"D\", 35.4, 71.7], [\"D\", 55.9, 38.2], [\"D\", 29.9, 76.6], [\"C\", 29.1, 20.5], [\"R\", 24.6, 39.9], [\"D\", 29.5, 43.1], [\"C\", 23.5, 35.2], [\"C\", 31.5, 50.0], [\"D\", 36.0, 37.5], [\"C\", 24.6, 61.2], [\"D\", 52.6, 52.2], [\"D\", 34.5, 23.9], [\"D\", 39.4, 23.2], [\"D\", 23.6, 42.8], [\"C\", 42.7, 50.1], [\"C\", 25.5, 46.6], [\"D\", 34.8, 31.0], [\"C\", 27.4, 39.7], [\"C\", 39.5, 31.1], [\"D\", 39.6, 36.0], [\"C\", 33.3, 30.8], [\"D\", 47.8, 21.4], [\"R\", 25.3, 27.8], [\"D\", 49.6, 33.1], [\"L\", 26.9, 41.1], [\"D\", 35.0, 47.1], [\"D\", 43.2, 38.4], [\"L\", 24.3, 45.7], [\"L\", 28.9, 44.9], [\"L\", 24.4, 41.2], [\"D\", 25.3, 38.1], [\"D\", 38.0, 36.6], [\"D\", 34.1, 40.4], [\"D\", 40.4, 26.3], [\"D\", 30.6, 48.2], [\"D\", 52.7, 25.9], [\"D\", 49.8, 29.8], [\"C\", 22.7, 23.0], [\"R\", 42.4, 23.7], [\"C\", 33.9, 21.9], [\"L\", 26.9, 45.5], [\"D\", 39.8, 48.0], [\"D\", 34.1, 43.3], [\"C\", 29.7, 40.8], [\"R\", 28.4, 34.0], [\"D\", 41.5, 37.7], [\"R\", 31.1, 31.5], [\"D\", 47.2, 41.0], [\"D\", 42.8, 46.3], [\"D\", 42.0, 22.0], [\"D\", 34.9, 23.7], [\"D\", 43.3, 36.1], [\"C\", 34.0, 21.4], [\"C\", 37.5, 34.2], [\"D\", 44.1, 49.0], [\"D\", 47.3, 22.2], [\"D\", 26.8, 29.7], [\"D\", 21.5, 36.9], [\"D\", 30.7, 20.9], [\"C\", 31.7, 20.2], [\"D\", 26.4, 32.4], [\"C\", 25.1, 34.3], [\"D\", 35.0, 39.8], [\"D\", 52.8, 22.7], [\"D\", 51.3, 27.3], [\"C\", 40.2, 32.3], [\"D\", 58.2, 36.9], [\"D\", 41.1, 25.9], [\"D\", 39.3, 24.8], [\"D\", 32.1, 37.9], [\"D\", 33.4, 25.7], [\"C\", 23.2, 26.7], [\"L\", 23.5, 35.8], [\"D\", 34.8, 47.3], [\"D\", 58.4, 21.4], [\"C\", 36.7, 30.7], [\"R\", 26.4, 31.5], [\"C\", 21.4, 24.0], [\"D\", 23.9, 52.7], [\"C\", 22.5, 32.5], [\"D\", 29.3, 37.4], [\"R\", 33.6, 21.9], [\"C\", 32.2, 20.7], [\"C\", 23.8, 21.9], [\"D\", 24.0, 37.9], [\"C\", 46.0, 26.4], [\"C\", 26.1, 30.7], [\"C\", 33.5, 22.2], [\"D\", 28.1, 22.3], [\"D\", 23.3, 23.3], [\"L\", 22.0, 27.3], [\"L\", 33.4, 29.1]], \"hovertemplate\": \"<b>%{hovertext}</b><br><br>STS/60=%{x}<br>ST TOI%=%{y}<br>GP=%{marker.size}<br>Pos=%{customdata[0]}<br>SH TOI%=%{customdata[1]}<br>PP TOI%=%{customdata[2]}<extra></extra>\", \"hovertext\": [\"Brad Marchand\", \"Patrice Bergeron\", \"Neal Pionk\", \"Troy Brouwer\", \"Kris Letang\", \"Oscar Klefbom\", \"Ondrej Palat\", \"Jamie Benn\", \"Ryan O'Reilly\", \"Victor Hedman\", \"Yanni Gourde\", \"Ryan Nugent-Hopkins\", \"John Carlson\", \"David Backes\", \"Kimmo Timonen\", \"Mark Letestu\", \"Alexander Steen\", \"Logan Couture\", \"Brent Burns\", \"Blake Wheeler\", \"Paul Stastny\", \"J.T. Compher\", \"Morgan Rielly\", \"Matt Niskanen\", \"Travis Zajac\", \"Tyler Johnson\", \"David Legwand\", \"Mark Stone\", \"Aleksander Barkov\", \"Jared Spurgeon\", \"Niklas Kronwall\", \"Rasmus Ristolainen\", \"Dustin Byfuglien\", \"Jonathan Toews\", \"Mark Giordano\", \"Mika Zibanejad\", \"Zdeno Chara\", \"Elias Lindholm\", \"Alexander Edler\", \"James Wisniewski\", \"Justin Abdelkader\", \"Antoine Vermette\", \"Mikko Koivu\", \"Anze Kopitar\", \"Alexander Wennberg\", \"Jeff Carter\", \"Alex Pietrangelo\", \"Mike Fisher\", \"Reilly Smith\", \"Alex Killorn\", \"Martin Hanzal\", \"Pavel Zacha\", \"Ethan Bear\", \"Ryan Callahan\", \"Jack Johnson\", \"Justin Faulk\", \"Loui Eriksson\", \"Colton Parayko\", \"David Schlemko\", \"Joel Ward\", \"Frans Nielsen\", \"Jordan Staal\", \"Zach Werenski\", \"Cam Fowler\", \"Sami Vatanen\", \"Bo Horvat\", \"Cam Atkinson\", \"Brent Seabrook\", \"Roman Josi\", \"Kevin Hayes\", \"Drew Doughty\", \"Shea Weber\", \"Ryan Suter\", \"Andrei Markov\", \"Bryan Little\", \"Sami Salo\", \"Sean Couturier\", \"Derek Stepan\", \"Rick Nash\", \"P.K. Subban\", \"Adam Henrique\", \"Marian Hossa\", \"Oliver Ekman-Larsson\", \"Ryan McDonagh\", \"Erik Karlsson\", \"Brian Boyle\", \"Dustin Brown\", \"Aaron Ekblad\", \"Carl Soderberg\", \"Patrik Elias\", \"Alec Martinez\", \"Ryan Getzlaf\", \"Duncan Keith\", \"Michael Stone\", \"Kris Russell\", \"Cody Franson\", \"Ryan Kesler\", \"Vincent Trocheck\", \"Maxime Lajoie\", \"Artem Anisimov\", \"Tomas Plekanec\", \"Andrej Sekera\", \"William Karlsson\", \"Johnny Boychuk\", \"Joel Armia\", \"Jacob Trouba\", \"Milan Michalek\", \"Dennis Wideman\", \"Jeff Petry\", \"Evander Kane\", \"Ryan Smyth\", \"Jussi Jokinen\", \"Ryan Pulock\", \"Hampus Lindholm\", \"Jake Muzzin\", \"Ryan Murray\", \"Christian Ehrhoff\", \"Esa Lindell\", \"Erik Johnson\", \"Evan Rodrigues\", \"Connor Brown\", \"Anton Lander\", \"Andrew Ladd\", \"Dion Phaneuf\", \"Miro Heiskanen\", \"Valtteri Filppula\", \"Brian Gionta\", \"Tyler Myers\", \"Jakob Silfverberg\", \"Alex Goligoski\", \"Seth Jones\", \"Mattias Ekholm\", \"Jason Garrison\", \"TJ Brodie\", \"Markus Granlund\", \"Mikael Backlund\", \"Filip Hronek\", \"Anton Stralman\", \"Ben Hutton\", \"John-Michael Liles\", \"Michael Del Zotto\", \"Tobias Rieder\", \"Charlie McAvoy\", \"Derek Ryan\", \"Ryan Ellis\", \"Marc-Edouard Vlasic\", \"Francois Beauchemin\", \"Nick Bonino\", \"Ivan Provorov\", \"Trevor Daley\", \"Jason Demers\", \"Toby Enstrom\", \"Kevin Bieksa\", \"Nathan Gerbe\", \"Brandon Saad\", \"Slava Voynov\", \"Jaccob Slavin\", \"Brandon Dubinsky\", \"Alexandre Burrows\", \"Patrik Berglund\", \"Brian Campbell\", \"Rich Peverley\", \"Andre Benoit\", \"Matt Read\", \"Vladimir Sobotka\", \"Blake Lizotte\", \"Brandon Montour\", \"Brandon Sutter\", \"Mike Richards\", \"Cody Eakin\", \"Tom Gilbert\", \"Raphael Diaz\", \"Tomas Fleischmann\", \"Chris Higgins\"], \"legendgroup\": \"\", \"marker\": {\"color\": \"#636efa\", \"opacity\": 0.75, \"size\": [533, 510, 172, 484, 423, 378, 482, 551, 539, 504, 254, 502, 523, 456, 93, 385, 481, 483, 549, 559, 478, 223, 517, 539, 520, 520, 242, 445, 479, 491, 438, 493, 419, 535, 508, 497, 498, 525, 442, 145, 482, 376, 492, 551, 415, 476, 534, 292, 537, 547, 282, 266, 89, 352, 529, 524, 469, 386, 276, 373, 529, 482, 300, 484, 426, 446, 509, 515, 532, 450, 555, 462, 552, 306, 439, 71, 524, 527, 342, 511, 548, 291, 545, 493, 503, 496, 542, 458, 546, 150, 465, 497, 531, 419, 482, 307, 423, 427, 62, 473, 403, 425, 410, 479, 295, 478, 198, 234, 524, 452, 72, 372, 234, 502, 523, 347, 176, 308, 447, 199, 324, 148, 418, 448, 150, 535, 331, 447, 510, 550, 524, 535, 318, 530, 335, 520, 111, 505, 341, 215, 407, 434, 184, 302, 463, 516, 364, 514, 315, 437, 453, 317, 347, 238, 540, 88, 377, 401, 344, 359, 326, 62, 140, 328, 228, 66, 243, 393, 174, 508, 208, 119, 222, 188], \"sizemode\": \"area\", \"sizeref\": 5.59, \"symbol\": \"circle\"}, \"mode\": \"markers\", \"name\": \"\", \"orientation\": \"v\", \"showlegend\": false, \"type\": \"scatter\", \"x\": [4.1800000000000015, 4.07, -0.8599999999999994, 2.079999999999999, 2.22, 1.0399999999999991, 2.43, 0.7999999999999989, 1.5599999999999996, 2.1000000000000005, 3.0900000000000007, 0.19000000000000128, 1.9000000000000004, 2.38, 3.86, 0.9000000000000004, 1.79, 1.3499999999999996, 2.370000000000001, 0.46, 1.2300000000000004, -0.1200000000000001, -0.21, 1.3999999999999997, 1.54, 1.29, 1.3699999999999992, 1.2800000000000002, 2.01, 0.17000000000000082, 0.4900000000000002, -0.5800000000000001, 0.1900000000000004, -0.5500000000000007, 0.08999999999999986, -0.3700000000000001, 0.6099999999999994, 0.5800000000000001, -0.1899999999999995, 0.71, 1.4299999999999995, -1.2999999999999998, -0.8199999999999994, -0.05999999999999961, 0.3300000000000001, -0.01999999999999957, 0.4499999999999993, -0.009999999999999787, 0.5699999999999994, 0.7800000000000002, -0.14999999999999947, 2.12, 1.3099999999999996, -0.8700000000000001, -0.29000000000000004, 0.39999999999999947, 1.5199999999999996, 1.8500000000000003, -1.2699999999999996, 1.2199999999999998, -1.4300000000000006, -0.3799999999999999, 0.7400000000000002, 0.9500000000000002, 1.1099999999999994, -1.3800000000000008, 1.0099999999999998, -0.7699999999999996, -0.07000000000000027, -0.040000000000000036, -0.040000000000000036, -0.5899999999999999, -0.4500000000000002, 0.5700000000000003, -0.7599999999999998, -0.16000000000000014, -0.75, -0.4300000000000006, 0.16999999999999993, 0.11999999999999922, 0.71, -1.1599999999999993, -0.21999999999999972, 0.16000000000000014, -1.29, -0.9000000000000004, 0.2700000000000005, -1.1899999999999995, 0.5300000000000002, 0.5, 0.6500000000000004, -0.05999999999999961, -0.9200000000000008, -1.4500000000000002, -0.9700000000000006, -0.21, -0.5100000000000007, -0.6699999999999999, -1.6499999999999997, -1.739999999999999, -0.5700000000000003, -0.5, -0.049999999999999815, -0.92, -0.9900000000000002, -1.1899999999999995, -0.1200000000000001, -0.3200000000000003, -0.4900000000000002, 1.7400000000000002, 3.26, -0.1299999999999999, -1.4500000000000002, -0.1299999999999999, 0.3300000000000001, 0.2400000000000002, 0.020000000000000462, -1.6500000000000004, -1.6000000000000003, -1.6799999999999995, -1.3200000000000005, -0.6299999999999999, -2.27, -2.25, -0.6399999999999997, -0.8499999999999996, 0.009999999999999787, -0.8200000000000003, -0.1899999999999995, -1.2699999999999996, -0.79, -0.7400000000000002, -1.0, -1.8600000000000003, -2.299999999999999, -1.16, -4.26, -0.5900000000000007, -0.8500000000000005, 0.4199999999999999, -2.5699999999999994, -1.92, 0.92, -0.8100000000000005, -0.5800000000000001, -1.66, -2.7600000000000007, -1.6400000000000006, -2.8400000000000007, -2.14, 0.15000000000000036, -2.28, -0.01999999999999957, 0.0, -1.29, 1.4900000000000002, -2.06, -2.25, -2.04, -0.4199999999999999, -1.6300000000000008, 0.4699999999999998, -3.5200000000000005, -2.1099999999999994, -2.59, -3.01, -2.6499999999999995, -1.59, -1.25, -4.04, -4.540000000000001, -0.08999999999999986, -5.4700000000000015, -3.04], \"xaxis\": \"x\", \"y\": [77.2, 95.8, 87.0, 72.5, 115.4, 90.0, 64.4, 80.7, 97.4, 95.5, 51.7, 87.4, 112.5, 63.7, 96.2, 73.8, 85.7, 89.2, 101.8, 82.2, 71.4, 74.4, 68.4, 77.0, 86.4, 65.8, 60.3, 75.5, 83.0, 90.7, 85.6, 104.2, 93.7, 92.8, 113.5, 76.1, 84.1, 80.0, 101.9, 93.2, 58.9, 64.5, 85.5, 97.0, 68.6, 81.2, 107.0, 79.2, 69.0, 64.0, 71.1, 58.0, 53.4, 55.3, 76.8, 85.4, 69.3, 64.1, 51.7, 57.9, 83.2, 78.1, 84.1, 94.3, 83.8, 69.8, 74.6, 85.1, 107.9, 55.3, 115.7, 116.9, 113.6, 109.5, 73.4, 72.6, 85.0, 82.9, 72.4, 98.2, 81.1, 74.3, 107.1, 94.1, 106.5, 49.6, 64.5, 72.6, 58.7, 81.5, 73.5, 85.8, 104.8, 58.4, 62.6, 66.4, 92.8, 72.1, 65.8, 67.1, 70.6, 75.6, 64.1, 69.2, 53.1, 82.7, 68.0, 82.1, 81.6, 70.0, 73.8, 65.6, 63.4, 74.6, 74.5, 66.7, 78.8, 78.6, 79.6, 45.7, 66.1, 55.8, 72.4, 87.8, 77.4, 70.5, 62.4, 79.2, 62.6, 88.2, 89.1, 64.0, 58.6, 79.4, 55.4, 71.7, 93.1, 69.5, 56.5, 58.4, 51.6, 51.9, 58.8, 59.4, 74.8, 75.5, 78.6, 72.5, 95.1, 67.0, 64.1, 70.0, 59.1, 49.9, 59.3, 82.1, 79.8, 67.4, 57.9, 45.4, 76.6, 55.0, 66.7, 55.5, 52.9, 45.7, 61.9, 72.4, 56.8, 55.7, 50.4, 46.6, 49.3, 62.5], \"yaxis\": \"y\"}],                        {\"height\": 800, \"legend\": {\"itemsizing\": \"constant\", \"tracegroupgap\": 0}, \"shapes\": [{\"type\": \"line\", \"x0\": 0, \"x1\": 1, \"xref\": \"x domain\", \"y0\": 75.0, \"y1\": 75.0, \"yref\": \"y\"}, {\"type\": \"line\", \"x0\": -0.0, \"x1\": -0.0, \"xref\": \"x\", \"y0\": 0, \"y1\": 1, \"yref\": \"y domain\"}, {\"line\": {\"color\": \"red\", \"dash\": \"dash\"}, \"type\": \"line\", \"x0\": 0, \"x1\": 1, \"xref\": \"x domain\", \"y0\": 107.035, \"y1\": 107.035, \"yref\": \"y\"}, {\"line\": {\"color\": \"red\", \"dash\": \"dash\"}, \"type\": \"line\", \"x0\": 2.1549999999999994, \"x1\": 2.1549999999999994, \"xref\": \"x\", \"y0\": 0, \"y1\": 1, \"yref\": \"y domain\"}], \"template\": {\"data\": {\"bar\": [{\"error_x\": {\"color\": \"#2a3f5f\"}, \"error_y\": {\"color\": \"#2a3f5f\"}, \"marker\": {\"line\": {\"color\": \"#E5ECF6\", \"width\": 0.5}}, \"type\": \"bar\"}], \"barpolar\": [{\"marker\": {\"line\": {\"color\": \"#E5ECF6\", \"width\": 0.5}}, \"type\": \"barpolar\"}], \"carpet\": [{\"aaxis\": {\"endlinecolor\": \"#2a3f5f\", \"gridcolor\": \"white\", \"linecolor\": \"white\", \"minorgridcolor\": \"white\", \"startlinecolor\": \"#2a3f5f\"}, \"baxis\": {\"endlinecolor\": \"#2a3f5f\", \"gridcolor\": \"white\", \"linecolor\": \"white\", \"minorgridcolor\": \"white\", \"startlinecolor\": \"#2a3f5f\"}, \"type\": \"carpet\"}], \"choropleth\": [{\"colorbar\": {\"outlinewidth\": 0, \"ticks\": \"\"}, \"type\": \"choropleth\"}], \"contour\": [{\"colorbar\": {\"outlinewidth\": 0, \"ticks\": \"\"}, \"colorscale\": [[0.0, \"#0d0887\"], [0.1111111111111111, \"#46039f\"], [0.2222222222222222, \"#7201a8\"], [0.3333333333333333, \"#9c179e\"], [0.4444444444444444, \"#bd3786\"], [0.5555555555555556, \"#d8576b\"], [0.6666666666666666, \"#ed7953\"], [0.7777777777777778, \"#fb9f3a\"], [0.8888888888888888, \"#fdca26\"], [1.0, \"#f0f921\"]], \"type\": \"contour\"}], \"contourcarpet\": [{\"colorbar\": {\"outlinewidth\": 0, \"ticks\": \"\"}, \"type\": \"contourcarpet\"}], \"heatmap\": [{\"colorbar\": {\"outlinewidth\": 0, \"ticks\": \"\"}, \"colorscale\": [[0.0, \"#0d0887\"], [0.1111111111111111, \"#46039f\"], [0.2222222222222222, \"#7201a8\"], [0.3333333333333333, \"#9c179e\"], [0.4444444444444444, \"#bd3786\"], [0.5555555555555556, \"#d8576b\"], [0.6666666666666666, \"#ed7953\"], [0.7777777777777778, \"#fb9f3a\"], [0.8888888888888888, \"#fdca26\"], [1.0, \"#f0f921\"]], \"type\": \"heatmap\"}], \"heatmapgl\": [{\"colorbar\": {\"outlinewidth\": 0, \"ticks\": \"\"}, \"colorscale\": [[0.0, \"#0d0887\"], [0.1111111111111111, \"#46039f\"], [0.2222222222222222, \"#7201a8\"], [0.3333333333333333, \"#9c179e\"], [0.4444444444444444, \"#bd3786\"], [0.5555555555555556, \"#d8576b\"], [0.6666666666666666, \"#ed7953\"], [0.7777777777777778, \"#fb9f3a\"], [0.8888888888888888, \"#fdca26\"], [1.0, \"#f0f921\"]], \"type\": \"heatmapgl\"}], \"histogram\": [{\"marker\": {\"colorbar\": {\"outlinewidth\": 0, \"ticks\": \"\"}}, \"type\": \"histogram\"}], \"histogram2d\": [{\"colorbar\": {\"outlinewidth\": 0, \"ticks\": \"\"}, \"colorscale\": [[0.0, \"#0d0887\"], [0.1111111111111111, \"#46039f\"], [0.2222222222222222, \"#7201a8\"], [0.3333333333333333, \"#9c179e\"], [0.4444444444444444, \"#bd3786\"], [0.5555555555555556, \"#d8576b\"], [0.6666666666666666, \"#ed7953\"], [0.7777777777777778, \"#fb9f3a\"], [0.8888888888888888, \"#fdca26\"], [1.0, \"#f0f921\"]], \"type\": \"histogram2d\"}], \"histogram2dcontour\": [{\"colorbar\": {\"outlinewidth\": 0, \"ticks\": \"\"}, \"colorscale\": [[0.0, \"#0d0887\"], [0.1111111111111111, \"#46039f\"], [0.2222222222222222, \"#7201a8\"], [0.3333333333333333, \"#9c179e\"], [0.4444444444444444, \"#bd3786\"], [0.5555555555555556, \"#d8576b\"], [0.6666666666666666, \"#ed7953\"], [0.7777777777777778, \"#fb9f3a\"], [0.8888888888888888, \"#fdca26\"], [1.0, \"#f0f921\"]], \"type\": \"histogram2dcontour\"}], \"mesh3d\": [{\"colorbar\": {\"outlinewidth\": 0, \"ticks\": \"\"}, \"type\": \"mesh3d\"}], \"parcoords\": [{\"line\": {\"colorbar\": {\"outlinewidth\": 0, \"ticks\": \"\"}}, \"type\": \"parcoords\"}], \"pie\": [{\"automargin\": true, \"type\": \"pie\"}], \"scatter\": [{\"marker\": {\"colorbar\": {\"outlinewidth\": 0, \"ticks\": \"\"}}, \"type\": \"scatter\"}], \"scatter3d\": [{\"line\": {\"colorbar\": {\"outlinewidth\": 0, \"ticks\": \"\"}}, \"marker\": {\"colorbar\": {\"outlinewidth\": 0, \"ticks\": \"\"}}, \"type\": \"scatter3d\"}], \"scattercarpet\": [{\"marker\": {\"colorbar\": {\"outlinewidth\": 0, \"ticks\": \"\"}}, \"type\": \"scattercarpet\"}], \"scattergeo\": [{\"marker\": {\"colorbar\": {\"outlinewidth\": 0, \"ticks\": \"\"}}, \"type\": \"scattergeo\"}], \"scattergl\": [{\"marker\": {\"colorbar\": {\"outlinewidth\": 0, \"ticks\": \"\"}}, \"type\": \"scattergl\"}], \"scattermapbox\": [{\"marker\": {\"colorbar\": {\"outlinewidth\": 0, \"ticks\": \"\"}}, \"type\": \"scattermapbox\"}], \"scatterpolar\": [{\"marker\": {\"colorbar\": {\"outlinewidth\": 0, \"ticks\": \"\"}}, \"type\": \"scatterpolar\"}], \"scatterpolargl\": [{\"marker\": {\"colorbar\": {\"outlinewidth\": 0, \"ticks\": \"\"}}, \"type\": \"scatterpolargl\"}], \"scatterternary\": [{\"marker\": {\"colorbar\": {\"outlinewidth\": 0, \"ticks\": \"\"}}, \"type\": \"scatterternary\"}], \"surface\": [{\"colorbar\": {\"outlinewidth\": 0, \"ticks\": \"\"}, \"colorscale\": [[0.0, \"#0d0887\"], [0.1111111111111111, \"#46039f\"], [0.2222222222222222, \"#7201a8\"], [0.3333333333333333, \"#9c179e\"], [0.4444444444444444, \"#bd3786\"], [0.5555555555555556, \"#d8576b\"], [0.6666666666666666, \"#ed7953\"], [0.7777777777777778, \"#fb9f3a\"], [0.8888888888888888, \"#fdca26\"], [1.0, \"#f0f921\"]], \"type\": \"surface\"}], \"table\": [{\"cells\": {\"fill\": {\"color\": \"#EBF0F8\"}, \"line\": {\"color\": \"white\"}}, \"header\": {\"fill\": {\"color\": \"#C8D4E3\"}, \"line\": {\"color\": \"white\"}}, \"type\": \"table\"}]}, \"layout\": {\"annotationdefaults\": {\"arrowcolor\": \"#2a3f5f\", \"arrowhead\": 0, \"arrowwidth\": 1}, \"coloraxis\": {\"colorbar\": {\"outlinewidth\": 0, \"ticks\": \"\"}}, \"colorscale\": {\"diverging\": [[0, \"#8e0152\"], [0.1, \"#c51b7d\"], [0.2, \"#de77ae\"], [0.3, \"#f1b6da\"], [0.4, \"#fde0ef\"], [0.5, \"#f7f7f7\"], [0.6, \"#e6f5d0\"], [0.7, \"#b8e186\"], [0.8, \"#7fbc41\"], [0.9, \"#4d9221\"], [1, \"#276419\"]], \"sequential\": [[0.0, \"#0d0887\"], [0.1111111111111111, \"#46039f\"], [0.2222222222222222, \"#7201a8\"], [0.3333333333333333, \"#9c179e\"], [0.4444444444444444, \"#bd3786\"], [0.5555555555555556, \"#d8576b\"], [0.6666666666666666, \"#ed7953\"], [0.7777777777777778, \"#fb9f3a\"], [0.8888888888888888, \"#fdca26\"], [1.0, \"#f0f921\"]], \"sequentialminus\": [[0.0, \"#0d0887\"], [0.1111111111111111, \"#46039f\"], [0.2222222222222222, \"#7201a8\"], [0.3333333333333333, \"#9c179e\"], [0.4444444444444444, \"#bd3786\"], [0.5555555555555556, \"#d8576b\"], [0.6666666666666666, \"#ed7953\"], [0.7777777777777778, \"#fb9f3a\"], [0.8888888888888888, \"#fdca26\"], [1.0, \"#f0f921\"]]}, \"colorway\": [\"#636efa\", \"#EF553B\", \"#00cc96\", \"#ab63fa\", \"#FFA15A\", \"#19d3f3\", \"#FF6692\", \"#B6E880\", \"#FF97FF\", \"#FECB52\"], \"font\": {\"color\": \"#2a3f5f\"}, \"geo\": {\"bgcolor\": \"white\", \"lakecolor\": \"white\", \"landcolor\": \"#E5ECF6\", \"showlakes\": true, \"showland\": true, \"subunitcolor\": \"white\"}, \"hoverlabel\": {\"align\": \"left\"}, \"hovermode\": \"closest\", \"mapbox\": {\"style\": \"light\"}, \"paper_bgcolor\": \"white\", \"plot_bgcolor\": \"#E5ECF6\", \"polar\": {\"angularaxis\": {\"gridcolor\": \"white\", \"linecolor\": \"white\", \"ticks\": \"\"}, \"bgcolor\": \"#E5ECF6\", \"radialaxis\": {\"gridcolor\": \"white\", \"linecolor\": \"white\", \"ticks\": \"\"}}, \"scene\": {\"xaxis\": {\"backgroundcolor\": \"#E5ECF6\", \"gridcolor\": \"white\", \"gridwidth\": 2, \"linecolor\": \"white\", \"showbackground\": true, \"ticks\": \"\", \"zerolinecolor\": \"white\"}, \"yaxis\": {\"backgroundcolor\": \"#E5ECF6\", \"gridcolor\": \"white\", \"gridwidth\": 2, \"linecolor\": \"white\", \"showbackground\": true, \"ticks\": \"\", \"zerolinecolor\": \"white\"}, \"zaxis\": {\"backgroundcolor\": \"#E5ECF6\", \"gridcolor\": \"white\", \"gridwidth\": 2, \"linecolor\": \"white\", \"showbackground\": true, \"ticks\": \"\", \"zerolinecolor\": \"white\"}}, \"shapedefaults\": {\"line\": {\"color\": \"#2a3f5f\"}}, \"ternary\": {\"aaxis\": {\"gridcolor\": \"white\", \"linecolor\": \"white\", \"ticks\": \"\"}, \"baxis\": {\"gridcolor\": \"white\", \"linecolor\": \"white\", \"ticks\": \"\"}, \"bgcolor\": \"#E5ECF6\", \"caxis\": {\"gridcolor\": \"white\", \"linecolor\": \"white\", \"ticks\": \"\"}}, \"title\": {\"x\": 0.05}, \"xaxis\": {\"automargin\": true, \"gridcolor\": \"white\", \"linecolor\": \"white\", \"ticks\": \"\", \"title\": {\"standoff\": 15}, \"zerolinecolor\": \"white\", \"zerolinewidth\": 2}, \"yaxis\": {\"automargin\": true, \"gridcolor\": \"white\", \"linecolor\": \"white\", \"ticks\": \"\", \"title\": {\"standoff\": 15}, \"zerolinecolor\": \"white\", \"zerolinewidth\": 2}}}, \"title\": {\"text\": \"20% Club: ST TOI% vs STS/60\"}, \"width\": 800, \"xaxis\": {\"anchor\": \"y\", \"domain\": [0.0, 1.0], \"title\": {\"text\": \"STS/60\"}}, \"yaxis\": {\"anchor\": \"x\", \"domain\": [0.0, 1.0], \"title\": {\"text\": \"ST TOI%\"}}},                        {\"responsive\": true}                    ).then(function(){\n",
       "                            \n",
       "var gd = document.getElementById('b3cd7e14-e656-4f31-9d4c-4b0f89592d4b');\n",
       "var x = new MutationObserver(function (mutations, observer) {{\n",
       "        var display = window.getComputedStyle(gd).display;\n",
       "        if (!display || display === 'none') {{\n",
       "            console.log([gd, 'removed!']);\n",
       "            Plotly.purge(gd);\n",
       "            observer.disconnect();\n",
       "        }}\n",
       "}});\n",
       "\n",
       "// Listen for the removal of the full notebook cells\n",
       "var notebookContainer = gd.closest('#notebook-container');\n",
       "if (notebookContainer) {{\n",
       "    x.observe(notebookContainer, {childList: true});\n",
       "}}\n",
       "\n",
       "// Listen for the clearing of the current output cell\n",
       "var outputEl = gd.closest('.output');\n",
       "if (outputEl) {{\n",
       "    x.observe(outputEl, {childList: true});\n",
       "}}\n",
       "\n",
       "                        })                };                });            </script>        </div>"
      ]
     },
     "metadata": {},
     "output_type": "display_data"
    }
   ],
   "source": [
    "fig = px.scatter(df, x=\"STS/60\", y=\"ST TOI%\",hover_name=\"Player\", hover_data=['Pos', 'SH TOI%', 'PP TOI%'], \n",
    "                 title=\"20% Club: ST TOI% vs STS/60\",\n",
    "                 width=800, height=800,size_max=10,size='GP',opacity=.75)\n",
    "\n",
    "x_mean = round(df[\"STS/60\"].mean(), 0)\n",
    "y_mean = round(df[\"ST TOI%\"].mean(), 0)\n",
    "\n",
    "x_unicorn = np.percentile(df[\"STS/60\"], 95)\n",
    "y_unicorn = np.percentile(df[\"ST TOI%\"], 95)\n",
    "\n",
    "print('midpoint',x_mean,y_mean)\n",
    "fig.add_hline(y=y_mean).add_vline(x=x_mean).add_hline(\n",
    "    y=y_unicorn, line_dash = 'dash', line_color = 'red').add_vline(\n",
    "    x=x_unicorn, line_dash = 'dash', line_color = 'red')\n",
    "\n",
    "fig.write_html(\"20% Club - ST TOI% vs STS per 60.html\")"
   ]
  },
  {
   "cell_type": "code",
   "execution_count": null,
   "metadata": {},
   "outputs": [],
   "source": []
  }
 ],
 "metadata": {
  "kernelspec": {
   "display_name": "Python 3",
   "language": "python",
   "name": "python3"
  },
  "language_info": {
   "codemirror_mode": {
    "name": "ipython",
    "version": 3
   },
   "file_extension": ".py",
   "mimetype": "text/x-python",
   "name": "python",
   "nbconvert_exporter": "python",
   "pygments_lexer": "ipython3",
   "version": "3.7.6"
  }
 },
 "nbformat": 4,
 "nbformat_minor": 4
}
