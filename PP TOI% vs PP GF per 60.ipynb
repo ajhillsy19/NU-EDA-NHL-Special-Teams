{
 "cells": [
  {
   "cell_type": "code",
   "execution_count": 1,
   "metadata": {},
   "outputs": [],
   "source": [
    "import pandas as pd\n",
    "import numpy as np\n",
    "import seaborn as sns\n",
    "import matplotlib as mpl\n",
    "import matplotlib.pyplot as plt\n",
    "%matplotlib inline\n",
    "import plotly.express as px\n",
    "\n",
    "from IPython.core.interactiveshell import InteractiveShell\n",
    "InteractiveShell.ast_node_interactivity = 'all'\n",
    "df = pd.read_csv('all_specialteams.csv')"
   ]
  },
  {
   "cell_type": "code",
   "execution_count": 3,
   "metadata": {},
   "outputs": [
    {
     "name": "stdout",
     "output_type": "stream",
     "text": [
      "midpoint 6.0 31.0\n"
     ]
    },
    {
     "data": {
      "application/vnd.plotly.v1+json": {
       "config": {
        "plotlyServerURL": "https://plot.ly"
       },
       "data": [
        {
         "customdata": [
          [
           "R"
          ],
          [
           "C"
          ],
          [
           "D"
          ],
          [
           "L"
          ],
          [
           "D"
          ],
          [
           "C"
          ],
          [
           "C"
          ],
          [
           "C"
          ],
          [
           "C"
          ],
          [
           "C"
          ],
          [
           "C"
          ],
          [
           "R"
          ],
          [
           "D"
          ],
          [
           "R"
          ],
          [
           "C"
          ],
          [
           "D"
          ],
          [
           "C"
          ],
          [
           "C"
          ],
          [
           "R"
          ],
          [
           "D"
          ],
          [
           "D"
          ],
          [
           "D"
          ],
          [
           "D"
          ],
          [
           "D"
          ],
          [
           "D"
          ],
          [
           "L"
          ],
          [
           "C"
          ],
          [
           "L"
          ],
          [
           "C"
          ],
          [
           "C"
          ],
          [
           "D"
          ],
          [
           "C"
          ],
          [
           "D"
          ],
          [
           "R"
          ],
          [
           "L"
          ],
          [
           "R"
          ],
          [
           "C"
          ],
          [
           "C"
          ],
          [
           "C"
          ],
          [
           "D"
          ],
          [
           "C"
          ],
          [
           "C"
          ],
          [
           "R"
          ],
          [
           "C"
          ],
          [
           "D"
          ],
          [
           "L"
          ],
          [
           "C"
          ],
          [
           "C"
          ],
          [
           "D"
          ],
          [
           "C"
          ],
          [
           "C"
          ],
          [
           "L"
          ],
          [
           "C"
          ],
          [
           "C"
          ],
          [
           "D"
          ],
          [
           "C"
          ],
          [
           "L"
          ],
          [
           "R"
          ],
          [
           "C"
          ],
          [
           "R"
          ],
          [
           "D"
          ],
          [
           "C"
          ],
          [
           "R"
          ],
          [
           "C"
          ],
          [
           "C"
          ],
          [
           "L"
          ],
          [
           "D"
          ],
          [
           "C"
          ],
          [
           "L"
          ],
          [
           "C"
          ],
          [
           "D"
          ],
          [
           "L"
          ],
          [
           "C"
          ],
          [
           "C"
          ],
          [
           "R"
          ],
          [
           "D"
          ],
          [
           "D"
          ],
          [
           "C"
          ],
          [
           "R"
          ],
          [
           "C"
          ],
          [
           "C"
          ],
          [
           "D"
          ],
          [
           "D"
          ],
          [
           "L"
          ],
          [
           "D"
          ],
          [
           "R"
          ],
          [
           "D"
          ],
          [
           "D"
          ],
          [
           "L"
          ],
          [
           "R"
          ],
          [
           "C"
          ],
          [
           "L"
          ],
          [
           "D"
          ],
          [
           "L"
          ],
          [
           "C"
          ],
          [
           "L"
          ],
          [
           "L"
          ],
          [
           "L"
          ],
          [
           "C"
          ],
          [
           "R"
          ],
          [
           "D"
          ],
          [
           "C"
          ],
          [
           "D"
          ],
          [
           "C"
          ],
          [
           "R"
          ],
          [
           "D"
          ],
          [
           "D"
          ],
          [
           "C"
          ],
          [
           "D"
          ],
          [
           "D"
          ],
          [
           "L"
          ],
          [
           "D"
          ],
          [
           "C"
          ],
          [
           "C"
          ],
          [
           "L"
          ],
          [
           "C"
          ],
          [
           "C"
          ],
          [
           "C"
          ],
          [
           "D"
          ],
          [
           "D"
          ],
          [
           "L"
          ],
          [
           "L"
          ],
          [
           "C"
          ],
          [
           "C"
          ],
          [
           "R"
          ],
          [
           "L"
          ],
          [
           "C"
          ],
          [
           "D"
          ],
          [
           "D"
          ],
          [
           "D"
          ],
          [
           "R"
          ],
          [
           "D"
          ],
          [
           "L"
          ],
          [
           "C"
          ],
          [
           "C"
          ],
          [
           "R"
          ],
          [
           "L"
          ],
          [
           "L"
          ],
          [
           "D"
          ],
          [
           "C"
          ],
          [
           "C"
          ],
          [
           "D"
          ],
          [
           "L"
          ],
          [
           "D"
          ],
          [
           "R"
          ],
          [
           "D"
          ],
          [
           "D"
          ],
          [
           "L"
          ],
          [
           "D"
          ],
          [
           "D"
          ],
          [
           "D"
          ],
          [
           "L"
          ],
          [
           "R"
          ],
          [
           "C"
          ],
          [
           "C"
          ],
          [
           "D"
          ],
          [
           "D"
          ],
          [
           "D"
          ],
          [
           "C"
          ],
          [
           "C"
          ],
          [
           "C"
          ],
          [
           "L"
          ],
          [
           "R"
          ],
          [
           "D"
          ],
          [
           "D"
          ],
          [
           "D"
          ],
          [
           "D"
          ],
          [
           "C"
          ],
          [
           "D"
          ],
          [
           "D"
          ],
          [
           "D"
          ],
          [
           "D"
          ],
          [
           "D"
          ],
          [
           "C"
          ],
          [
           "C"
          ],
          [
           "R"
          ],
          [
           "D"
          ],
          [
           "L"
          ],
          [
           "L"
          ],
          [
           "C"
          ],
          [
           "C"
          ],
          [
           "L"
          ],
          [
           "C"
          ],
          [
           "C"
          ],
          [
           "L"
          ],
          [
           "D"
          ],
          [
           "D"
          ],
          [
           "D"
          ],
          [
           "C"
          ],
          [
           "R"
          ],
          [
           "C"
          ],
          [
           "C"
          ],
          [
           "R"
          ],
          [
           "L"
          ],
          [
           "D"
          ],
          [
           "D"
          ],
          [
           "R"
          ],
          [
           "D"
          ],
          [
           "D"
          ],
          [
           "D"
          ],
          [
           "D"
          ],
          [
           "C"
          ],
          [
           "C"
          ],
          [
           "C"
          ],
          [
           "D"
          ],
          [
           "D"
          ],
          [
           "C"
          ],
          [
           "L"
          ],
          [
           "C"
          ],
          [
           "C"
          ],
          [
           "D"
          ],
          [
           "R"
          ],
          [
           "D"
          ],
          [
           "C"
          ],
          [
           "C"
          ],
          [
           "D"
          ],
          [
           "C"
          ],
          [
           "D"
          ],
          [
           "D"
          ],
          [
           "D"
          ],
          [
           "D"
          ],
          [
           "R"
          ],
          [
           "R"
          ],
          [
           "D"
          ],
          [
           "C"
          ],
          [
           "C"
          ],
          [
           "C"
          ],
          [
           "D"
          ],
          [
           "D"
          ],
          [
           "R"
          ],
          [
           "C"
          ],
          [
           "C"
          ],
          [
           "D"
          ],
          [
           "C"
          ],
          [
           "D"
          ],
          [
           "D"
          ],
          [
           "C"
          ],
          [
           "C"
          ],
          [
           "D"
          ],
          [
           "C"
          ],
          [
           "D"
          ],
          [
           "R"
          ],
          [
           "R"
          ],
          [
           "C"
          ],
          [
           "D"
          ],
          [
           "D"
          ],
          [
           "L"
          ],
          [
           "D"
          ],
          [
           "L"
          ],
          [
           "D"
          ],
          [
           "R"
          ],
          [
           "C"
          ],
          [
           "D"
          ],
          [
           "C"
          ],
          [
           "D"
          ],
          [
           "D"
          ],
          [
           "C"
          ],
          [
           "C"
          ],
          [
           "D"
          ],
          [
           "L"
          ],
          [
           "C"
          ],
          [
           "L"
          ],
          [
           "L"
          ],
          [
           "D"
          ],
          [
           "D"
          ],
          [
           "R"
          ],
          [
           "C"
          ],
          [
           "D"
          ],
          [
           "D"
          ],
          [
           "L"
          ],
          [
           "L"
          ],
          [
           "D"
          ],
          [
           "L"
          ],
          [
           "C"
          ],
          [
           "D"
          ],
          [
           "D"
          ],
          [
           "D"
          ],
          [
           "D"
          ],
          [
           "L"
          ],
          [
           "L"
          ],
          [
           "L"
          ],
          [
           "D"
          ],
          [
           "L"
          ],
          [
           "C"
          ],
          [
           "C"
          ],
          [
           "R"
          ],
          [
           "R"
          ],
          [
           "C"
          ],
          [
           "L"
          ],
          [
           "L"
          ],
          [
           "D"
          ],
          [
           "D"
          ],
          [
           "C"
          ],
          [
           "D"
          ],
          [
           "L"
          ],
          [
           "C"
          ],
          [
           "C"
          ],
          [
           "D"
          ],
          [
           "C"
          ],
          [
           "R"
          ],
          [
           "D"
          ],
          [
           "D"
          ],
          [
           "C"
          ],
          [
           "D"
          ],
          [
           "R"
          ],
          [
           "R"
          ],
          [
           "L"
          ],
          [
           "D"
          ],
          [
           "D"
          ],
          [
           "C"
          ],
          [
           "L"
          ],
          [
           "D"
          ],
          [
           "C"
          ],
          [
           "C"
          ],
          [
           "D"
          ],
          [
           "D"
          ],
          [
           "C"
          ],
          [
           "C"
          ],
          [
           "R"
          ],
          [
           "C"
          ],
          [
           "L"
          ],
          [
           "L"
          ],
          [
           "C"
          ],
          [
           "D"
          ],
          [
           "C"
          ],
          [
           "R"
          ],
          [
           "C"
          ],
          [
           "L"
          ],
          [
           "C"
          ],
          [
           "D"
          ],
          [
           "C"
          ],
          [
           "C"
          ],
          [
           "D"
          ],
          [
           "D"
          ],
          [
           "D"
          ],
          [
           "D"
          ],
          [
           "C"
          ],
          [
           "D"
          ],
          [
           "D"
          ],
          [
           "D"
          ],
          [
           "L"
          ],
          [
           "L"
          ],
          [
           "C"
          ],
          [
           "D"
          ],
          [
           "C"
          ],
          [
           "D"
          ],
          [
           "D"
          ],
          [
           "L"
          ],
          [
           "C"
          ],
          [
           "C"
          ],
          [
           "D"
          ],
          [
           "D"
          ],
          [
           "C"
          ],
          [
           "D"
          ],
          [
           "C"
          ],
          [
           "D"
          ],
          [
           "C"
          ],
          [
           "L"
          ],
          [
           "D"
          ],
          [
           "D"
          ],
          [
           "C"
          ],
          [
           "L"
          ],
          [
           "D"
          ],
          [
           "D"
          ],
          [
           "C"
          ],
          [
           "D"
          ],
          [
           "R"
          ],
          [
           "C"
          ],
          [
           "D"
          ],
          [
           "C"
          ],
          [
           "D"
          ],
          [
           "D"
          ],
          [
           "D"
          ],
          [
           "D"
          ],
          [
           "C"
          ],
          [
           "R"
          ],
          [
           "C"
          ],
          [
           "C"
          ],
          [
           "C"
          ],
          [
           "L"
          ],
          [
           "D"
          ],
          [
           "L"
          ],
          [
           "D"
          ],
          [
           "R"
          ],
          [
           "D"
          ],
          [
           "D"
          ],
          [
           "D"
          ],
          [
           "C"
          ],
          [
           "R"
          ],
          [
           "C"
          ],
          [
           "D"
          ],
          [
           "L"
          ],
          [
           "D"
          ],
          [
           "C"
          ],
          [
           "D"
          ],
          [
           "C"
          ],
          [
           "C"
          ],
          [
           "D"
          ],
          [
           "R"
          ],
          [
           "R"
          ],
          [
           "C"
          ],
          [
           "R"
          ],
          [
           "L"
          ],
          [
           "R"
          ],
          [
           "D"
          ],
          [
           "C"
          ],
          [
           "C"
          ],
          [
           "C"
          ],
          [
           "D"
          ],
          [
           "R"
          ],
          [
           "R"
          ],
          [
           "R"
          ],
          [
           "C"
          ],
          [
           "C"
          ],
          [
           "D"
          ],
          [
           "C"
          ],
          [
           "C"
          ],
          [
           "L"
          ],
          [
           "D"
          ],
          [
           "D"
          ],
          [
           "D"
          ],
          [
           "D"
          ],
          [
           "D"
          ],
          [
           "R"
          ],
          [
           "C"
          ],
          [
           "C"
          ],
          [
           "L"
          ],
          [
           "D"
          ],
          [
           "D"
          ],
          [
           "D"
          ],
          [
           "D"
          ],
          [
           "D"
          ],
          [
           "C"
          ],
          [
           "D"
          ],
          [
           "C"
          ],
          [
           "C"
          ],
          [
           "C"
          ],
          [
           "C"
          ],
          [
           "L"
          ],
          [
           "D"
          ],
          [
           "L"
          ],
          [
           "C"
          ],
          [
           "D"
          ],
          [
           "C"
          ],
          [
           "L"
          ],
          [
           "C"
          ],
          [
           "D"
          ],
          [
           "L"
          ],
          [
           "D"
          ],
          [
           "D"
          ],
          [
           "R"
          ],
          [
           "R"
          ],
          [
           "R"
          ],
          [
           "D"
          ],
          [
           "C"
          ],
          [
           "C"
          ],
          [
           "D"
          ],
          [
           "R"
          ],
          [
           "C"
          ],
          [
           "D"
          ],
          [
           "D"
          ],
          [
           "D"
          ],
          [
           "D"
          ],
          [
           "D"
          ],
          [
           "D"
          ],
          [
           "D"
          ],
          [
           "D"
          ],
          [
           "R"
          ],
          [
           "C"
          ],
          [
           "D"
          ],
          [
           "D"
          ],
          [
           "D"
          ],
          [
           "D"
          ],
          [
           "L"
          ],
          [
           "D"
          ],
          [
           "R"
          ],
          [
           "L"
          ],
          [
           "L"
          ],
          [
           "C"
          ],
          [
           "D"
          ],
          [
           "D"
          ],
          [
           "D"
          ],
          [
           "D"
          ],
          [
           "C"
          ],
          [
           "D"
          ],
          [
           "R"
          ],
          [
           "L"
          ],
          [
           "D"
          ],
          [
           "C"
          ],
          [
           "D"
          ],
          [
           "C"
          ],
          [
           "D"
          ],
          [
           "D"
          ],
          [
           "L"
          ],
          [
           "L"
          ],
          [
           "R"
          ],
          [
           "L"
          ],
          [
           "C"
          ],
          [
           "R"
          ],
          [
           "R"
          ]
         ],
         "hovertemplate": "<b>%{hovertext}</b><br><br>PP GF/60=%{x}<br>PP TOI%=%{y}<br>GP=%{marker.size}<br>Pos=%{customdata[0]}<extra></extra>",
         "hovertext": [
          "Mitchell Marner",
          "Brayden Point",
          "Joe Morrow",
          "Brad Marchand",
          "Taylor Fedun",
          "Patrice Bergeron",
          "Sidney Crosby",
          "Nicklas Backstrom",
          "Blake Coleman",
          "Anthony Cirelli",
          "Connor McDavid",
          "Patrick Eaves",
          "Neal Pionk",
          "T.J. Oshie",
          "Steven Stamkos",
          "Niklas Hjalmarsson",
          "John Tavares",
          "Claude Giroux",
          "Troy Brouwer",
          "Chad Ruhwedel",
          "John Klingberg",
          "Kris Letang",
          "Torey Krug",
          "Oscar Klefbom",
          "Nikita Zaitsev",
          "Ondrej Palat",
          "Joe Pavelski",
          "Jamie Benn",
          "Ryan O'Reilly",
          "Jason Spezza",
          "Kevin Shattenkirk",
          "Tyler Seguin",
          "Victor Hedman",
          "Bryan Rust",
          "Kyle Connor",
          "Wayne Simmonds",
          "Yanni Gourde",
          "Ryan Nugent-Hopkins",
          "Leon Draisaitl",
          "John Carlson",
          "Johan Larsson",
          "Brayden Schenn",
          "David Backes",
          "Marcus Johansson",
          "Kimmo Timonen",
          "Darren Helm",
          "Mark Letestu",
          "Tyler Bozak",
          "Nate Schmidt",
          "J.T. Miller",
          "Casey Cizikas",
          "Alexander Steen",
          "Logan Couture",
          "Jack Eichel",
          "Brent Burns",
          "Dave Bolland",
          "Erik Haula",
          "Blake Wheeler",
          "Patrick Marleau",
          "Alex Chiasson",
          "Mike Matheson",
          "Sean Monahan",
          "Kyle Palmieri",
          "Nathan MacKinnon",
          "Paul Stastny",
          "J.T. Compher",
          "Morgan Rielly",
          "Nic Dowd",
          "Chris Kunitz",
          "Jacob Josefson",
          "Matt Niskanen",
          "James van Riemsdyk",
          "Travis Zajac",
          "Tyler Johnson",
          "Leo Komarov",
          "Mikhail Sergachev",
          "Keith Yandle",
          "David Legwand",
          "Mark Stone",
          "Aleksander Barkov",
          "Mark Scheifele",
          "Jared Spurgeon",
          "Niklas Kronwall",
          "Taylor Hall",
          "Rasmus Ristolainen",
          "Vladimir Tarasenko",
          "Sean Walker",
          "Dustin Byfuglien",
          "Jaden Schwartz",
          "Josh Jooris",
          "Jonathan Toews",
          "Gabriel Landeskog",
          "Mark Giordano",
          "Teuvo Teravainen",
          "David Krejci",
          "Jonathan Huberdeau",
          "Jake Guentzel",
          "David Perron",
          "Ryan Johansen",
          "Mats Zuccarello",
          "Chris Phillips",
          "Sebastian Aho",
          "Mark Streit",
          "Mika Zibanejad",
          "Shane Doan",
          "Yannick Weber",
          "Zdeno Chara",
          "Elias Lindholm",
          "Alexander Edler",
          "James Wisniewski",
          "Filip Forsberg",
          "Matt Grzelcyk",
          "Tomas Hertl",
          "Colton Sissons",
          "Justin Abdelkader",
          "Antoine Vermette",
          "Mikko Koivu",
          "Anze Kopitar",
          "Andy Greene",
          "Fedor Tyutin",
          "Max Pacioretty",
          "Jordan Greenway",
          "Alexander Wennberg",
          "Jeff Carter",
          "Corey Perry",
          "Clarke MacArthur",
          "Ryan White",
          "Alex Pietrangelo",
          "Tyson Barrie",
          "Justin Schultz",
          "Radim Vrbata",
          "Mike Green",
          "Nick Foligno",
          "Mike Fisher",
          "Henrik Sedin",
          "Reilly Smith",
          "Alex Killorn",
          "Jason Zucker",
          "Henri Jokiharju",
          "Martin Hanzal",
          "Pavel Zacha",
          "Steven Kampfer",
          "Rickard Rakell",
          "Ethan Bear",
          "Ryan Callahan",
          "Jack Johnson",
          "Justin Faulk",
          "Loui Eriksson",
          "Paul Martin",
          "Colton Parayko",
          "David Schlemko",
          "Daniel Sedin",
          "Joel Ward",
          "Frans Nielsen",
          "Jordan Staal",
          "Zach Werenski",
          "Cam Fowler",
          "Sami Vatanen",
          "Riley Sheahan",
          "Bo Horvat",
          "Mikael Granlund",
          "Zach Parise",
          "Cam Atkinson",
          "Shea Theodore",
          "Brent Seabrook",
          "Darnell Nurse",
          "Roman Josi",
          "Kevin Hayes",
          "Drew Doughty",
          "Shea Weber",
          "Ryan Suter",
          "Jakob Chychrun",
          "Andrei Markov",
          "Bryan Little",
          "Vladislav Namestnikov",
          "Viktor Arvidsson",
          "Sami Salo",
          "Lauri Korpikoski",
          "Paul Byron",
          "Kyle Turris",
          "Sean Couturier",
          "Tanner Pearson",
          "Derek Stepan",
          "Derick Brassard",
          "Rick Nash",
          "Dougie Hamilton",
          "David Savard",
          "P.K. Subban",
          "Adam Henrique",
          "Jordan Eberle",
          "Eric Staal",
          "Nick Schmaltz",
          "Marian Hossa",
          "Andreas Athanasiou",
          "Josh Morrissey",
          "Oliver Ekman-Larsson",
          "Justin Williams",
          "Ryan McDonagh",
          "Erik Karlsson",
          "Nick Holden",
          "Jay Harrison",
          "Victor Rask",
          "Matt Cullen",
          "Brian Boyle",
          "Matt Dumba",
          "Jake Gardiner",
          "Jori Lehtera",
          "Mikkel Boedker",
          "Mattias Janmark",
          "Riley Nash",
          "Nick Leddy",
          "Dustin Brown",
          "Aaron Ekblad",
          "Carl Soderberg",
          "Patrik Elias",
          "Alec Martinez",
          "Ryan Getzlaf",
          "Duncan Keith",
          "Michael Stone",
          "Kris Russell",
          "Andrew MacDonald",
          "Tyler Toffoli",
          "Timo Meier",
          "Cody Franson",
          "Alexander Burmistrov",
          "Ryan Kesler",
          "Vincent Trocheck",
          "Gustav Forsling",
          "Maxime Lajoie",
          "Logan Shaw",
          "Artem Anisimov",
          "Tomas Plekanec",
          "Andrej Sekera",
          "William Karlsson",
          "Olli Maatta",
          "Dan Girardi",
          "Boyd Gordon",
          "Barclay Goodrow",
          "Johnny Boychuk",
          "Calle Jarnkrok",
          "Jonas Brodin",
          "Andrew Shaw",
          "Joel Armia",
          "Adam Lowry",
          "Jacob Trouba",
          "Damon Severson",
          "Milan Michalek",
          "Brady Skjei",
          "Matt Beleskey",
          "Dennis Wideman",
          "Josh Bailey",
          "Vernon Fiddler",
          "Jamie McBain",
          "Ryan Strome",
          "Jeff Petry",
          "Dan Boyle",
          "Lucas Wallmark",
          "Brooks Laich",
          "Colin Miller",
          "Evander Kane",
          "Chris Tierney",
          "Ryan Smyth",
          "Jussi Jokinen",
          "Ryan Pulock",
          "Hampus Lindholm",
          "Tom Wilson",
          "Gustav Nyquist",
          "Jake Muzzin",
          "Ryan Murray",
          "Teddy Purcell",
          "Benoit Pouliot",
          "Christopher Tanev",
          "Nick Ritchie",
          "Matt Duchene",
          "Christian Ehrhoff",
          "Jon Merrill",
          "Oscar Fantenberg",
          "Esa Lindell",
          "Alex Tanguay",
          "Anthony Beauvillier",
          "Michael Cammalleri",
          "Erik Johnson",
          "Alex Iafallo",
          "Devin Shore",
          "Evan Rodrigues",
          "David Moss",
          "Connor Brown",
          "Anton Lander",
          "Andrew Ladd",
          "Jordan Martinook",
          "Dion Phaneuf",
          "Rasmus Andersson",
          "Brett Howden",
          "Miro Heiskanen",
          "Artturi Lehkonen",
          "Derek Grant",
          "Charlie Coyle",
          "Matt Hunwick",
          "Valtteri Filppula",
          "Brian Gionta",
          "Tyler Myers",
          "Noah Hanifin",
          "Drake Caggiula",
          "Brett Pesce",
          "Lee Stempniak",
          "Jakob Silfverberg",
          "Jesper Bratt",
          "Alex Goligoski",
          "Seth Jones",
          "R.J. Umberger",
          "Matt Calvert",
          "Mattias Ekholm",
          "Colton Sceviour",
          "Dylan Larkin",
          "Jason Garrison",
          "TJ Brodie",
          "Curtis Lazar",
          "Markus Granlund",
          "Martin St. Louis",
          "Nick Bjugstad",
          "Oscar Lindberg",
          "Zach Hyman",
          "Phillip Danault",
          "Thomas Chabot",
          "Nico Hischier",
          "Jason Pominville",
          "Mikael Backlund",
          "Jimmy Vesey",
          "Shawn Horcoff",
          "Filip Hronek",
          "Adrian Kempe",
          "Trevor Lewis",
          "Marcus Pettersson",
          "Anton Stralman",
          "Matt Irwin",
          "Ben Hutton",
          "Brock Nelson",
          "Nikita Zadorov",
          "John-Michael Liles",
          "Brayden McNabb",
          "Antoine Roussel",
          "Jason Chimera",
          "Chandler Stephenson",
          "Patrick Wiercioch",
          "Boone Jenner",
          "Marco Scandella",
          "Michael Del Zotto",
          "Scott Wilson",
          "Tobias Rieder",
          "Nick Spaling",
          "Charlie McAvoy",
          "Nathan Beaulieu",
          "Derek Ryan",
          "Ryan Ellis",
          "Frank Vatrano",
          "Marc-Edouard Vlasic",
          "John Mitchell",
          "Anthony Duclair",
          "Francois Beauchemin",
          "Dylan DeMelo",
          "Mike Santorelli",
          "Mason Raymond",
          "Jay Bouwmeester",
          "Matt Carle",
          "Nick Bonino",
          "Ivan Provorov",
          "Drew Stafford",
          "Oskar Sundqvist",
          "Trevor Daley",
          "Tommy Wingels",
          "Jason Demers",
          "Toby Enstrom",
          "Jordan Oesterle",
          "Kevin Bieksa",
          "Radek Faksa",
          "Vinnie Hinostroza",
          "Eric Fehr",
          "Christian Dvorak",
          "Nathan Gerbe",
          "Brandon Saad",
          "Slava Voynov",
          "Oskar Lindblom",
          "Jaccob Slavin",
          "Kasperi Kapanen",
          "Matt Benning",
          "Travis Hamonic",
          "Dmitry Kulikov",
          "Joe Colborne",
          "Josh Anderson",
          "Brandon Dubinsky",
          "Dmitry Orlov",
          "Jiri Tlusty",
          "Radko Gudas",
          "Colin Greening",
          "John Moore",
          "Sam Bennett",
          "Jarret Stoll",
          "Brendan Smith",
          "Alexandre Burrows",
          "Scottie Upshall",
          "Patrik Berglund",
          "Richard Panik",
          "Matt Nieto",
          "Martin Erat",
          "Brian Campbell",
          "Jean-Gabriel Pageau",
          "Luke Kunin",
          "Rich Peverley",
          "Andre Benoit",
          "Matt Read",
          "Michael Frolik",
          "Mark Arcobello",
          "Peter Holland",
          "Lars Eller",
          "Trevor van Riemsdyk",
          "Vladimir Sobotka",
          "Jared McCann",
          "Blake Comeau",
          "Kevin Connauton",
          "Connor Carrick",
          "Calvin de Haan",
          "Ian Cole",
          "Cody Ceci",
          "Nikita Soshnikov",
          "Zack Smith",
          "Blake Lizotte",
          "Matt Martin",
          "Travis Sanheim",
          "Brandon Montour",
          "Jake McCabe",
          "Troy Stecher",
          "Jordie Benn",
          "Olli Jokinen",
          "Victor Mete",
          "Brian Flynn",
          "Zemgus Girgensons",
          "Brandon Sutter",
          "Nicholas Shore",
          "Jujhar Khaira",
          "Marc Staal",
          "Zach Sanford",
          "Austin Czarnik",
          "Nikita Nikitin",
          "Mike Richards",
          "Marcus Foligno",
          "Cody Eakin",
          "Justin Braun",
          "Brock McGinn",
          "Mark Barberio",
          "Zach Trotman",
          "Zack Kassian",
          "Ryan Hartman",
          "Jannik Hansen",
          "Danny DeKeyser",
          "Steve Ott",
          "Sergey Kalinin",
          "Brian Dumoulin",
          "Dale Weise",
          "Mikhail Grigorenko",
          "Zach Bogosian",
          "Andrej Meszaros",
          "Alexei Emelin",
          "Ron Hainsey",
          "Stephen Johns",
          "Brandon Manning",
          "Tom Gilbert",
          "Erik Gudbranson",
          "Valeri Nichushkin",
          "Dainius Zubrus",
          "Grant Clitsome",
          "Adam Larsson",
          "MacKenzie Weegar",
          "Raphael Diaz",
          "Tomas Fleischmann",
          "Dan Hamhuis",
          "Justin Fontaine",
          "Michael Raffl",
          "Chris Higgins",
          "Marcel Goc",
          "Marc Methot",
          "Thomas Hickey",
          "Kevin Gravel",
          "Connor Murphy",
          "Mark Jankowski",
          "Mark Pysyk",
          "Cal Clutterbuck",
          "Dwight King",
          "Simon Despres",
          "Andrew Copp",
          "Michal Rozsival",
          "Melker Karlsson",
          "Josh Gorges",
          "Dennis Seidenberg",
          "Shawn Matthias",
          "Carl Hagelin",
          "Devante Smith-Pelly",
          "Cody McLeod",
          "Andrew Cogliano",
          "Tomas Kopecky",
          "Daniel Cleary"
         ],
         "legendgroup": "",
         "marker": {
          "color": "#636efa",
          "opacity": 0.75,
          "size": [
           300,
           295,
           162,
           533,
           127,
           510,
           514,
           543,
           246,
           168,
           351,
           219,
           172,
           511,
           430,
           474,
           523,
           556,
           484,
           163,
           425,
           423,
           520,
           378,
           281,
           482,
           551,
           551,
           539,
           512,
           478,
           538,
           504,
           308,
           249,
           542,
           254,
           502,
           422,
           523,
           392,
           548,
           456,
           465,
           93,
           448,
           385,
           495,
           396,
           478,
           474,
           481,
           483,
           354,
           549,
           101,
           405,
           559,
           558,
           512,
           299,
           541,
           491,
           525,
           478,
           223,
           517,
           251,
           441,
           224,
           539,
           497,
           520,
           520,
           415,
           228,
           563,
           242,
           445,
           479,
           508,
           491,
           438,
           456,
           493,
           469,
           109,
           419,
           468,
           213,
           535,
           515,
           508,
           428,
           487,
           488,
           243,
           510,
           553,
           509,
           106,
           310,
           295,
           497,
           294,
           382,
           498,
           525,
           442,
           145,
           453,
           197,
           453,
           322,
           482,
           376,
           492,
           551,
           538,
           266,
           517,
           154,
           415,
           476,
           471,
           149,
           224,
           534,
           512,
           434,
           345,
           447,
           512,
           292,
           390,
           537,
           547,
           445,
           107,
           282,
           266,
           150,
           443,
           89,
           352,
           529,
           524,
           469,
           286,
           386,
           276,
           400,
           373,
           529,
           482,
           300,
           484,
           426,
           511,
           446,
           513,
           465,
           509,
           264,
           515,
           350,
           532,
           450,
           555,
           462,
           552,
           234,
           306,
           439,
           425,
           335,
           71,
           273,
           414,
           492,
           524,
           457,
           527,
           530,
           342,
           510,
           522,
           511,
           548,
           529,
           550,
           249,
           291,
           303,
           288,
           545,
           509,
           493,
           503,
           489,
           123,
           405,
           443,
           496,
           411,
           532,
           307,
           453,
           297,
           504,
           544,
           542,
           458,
           546,
           150,
           465,
           497,
           531,
           419,
           482,
           354,
           515,
           263,
           307,
           154,
           423,
           427,
           122,
           62,
           215,
           473,
           403,
           425,
           410,
           427,
           439,
           220,
           276,
           479,
           459,
           510,
           445,
           295,
           408,
           478,
           430,
           198,
           314,
           268,
           234,
           536,
           297,
           142,
           491,
           524,
           214,
           167,
           210,
           301,
           452,
           436,
           72,
           372,
           234,
           502,
           522,
           530,
           523,
           347,
           251,
           334,
           422,
           294,
           527,
           176,
           356,
           124,
           308,
           166,
           286,
           300,
           447,
           227,
           288,
           199,
           139,
           324,
           148,
           418,
           374,
           448,
           160,
           136,
           150,
           291,
           259,
           533,
           244,
           535,
           331,
           447,
           389,
           222,
           350,
           347,
           510,
           185,
           550,
           524,
           180,
           451,
           535,
           452,
           389,
           318,
           530,
           284,
           335,
           155,
           428,
           252,
           302,
           339,
           205,
           209,
           472,
           520,
           304,
           212,
           111,
           256,
           471,
           175,
           505,
           321,
           341,
           548,
           356,
           215,
           441,
           480,
           397,
           209,
           218,
           489,
           491,
           407,
           193,
           434,
           211,
           184,
           364,
           302,
           463,
           274,
           516,
           279,
           353,
           364,
           269,
           198,
           172,
           476,
           211,
           514,
           315,
           398,
           201,
           437,
           368,
           453,
           317,
           209,
           347,
           351,
           246,
           346,
           246,
           238,
           540,
           88,
           134,
           377,
           202,
           248,
           454,
           445,
           279,
           267,
           401,
           451,
           170,
           457,
           133,
           433,
           364,
           231,
           430,
           344,
           345,
           359,
           444,
           472,
           149,
           326,
           426,
           131,
           62,
           140,
           328,
           501,
           138,
           241,
           545,
           364,
           228,
           310,
           491,
           314,
           230,
           406,
           474,
           496,
           87,
           462,
           66,
           491,
           200,
           243,
           340,
           286,
           488,
           144,
           171,
           249,
           489,
           393,
           299,
           218,
           504,
           157,
           121,
           119,
           174,
           504,
           508,
           534,
           308,
           270,
           91,
           442,
           314,
           308,
           430,
           234,
           121,
           347,
           395,
           192,
           347,
           112,
           351,
           541,
           167,
           245,
           208,
           414,
           288,
           206,
           56,
           445,
           172,
           119,
           222,
           472,
           197,
           470,
           188,
           148,
           302,
           410,
           109,
           444,
           208,
           398,
           478,
           285,
           142,
           356,
           180,
           396,
           289,
           278,
           298,
           492,
           339,
           380,
           554,
           113,
           69
          ],
          "sizemode": "area",
          "sizeref": 5.63,
          "symbol": "circle"
         },
         "mode": "markers",
         "name": "",
         "orientation": "v",
         "showlegend": false,
         "type": "scatter",
         "x": [
          10.27,
          10.18,
          10.03,
          9.99,
          9.98,
          9.98,
          9.55,
          9.49,
          9.43,
          9.4,
          9.31,
          9.26,
          9.21,
          9.12,
          9.04,
          9.01,
          8.9,
          8.89,
          8.87,
          8.83,
          8.82,
          8.78,
          8.77,
          8.77,
          8.76,
          8.67,
          8.63,
          8.62,
          8.59,
          8.58,
          8.56,
          8.55,
          8.55,
          8.52,
          8.48,
          8.48,
          8.47,
          8.46,
          8.44,
          8.41,
          8.35,
          8.34,
          8.33,
          8.23,
          8.2,
          8.14,
          8.13,
          8.13,
          8.11,
          8.09,
          8.09,
          8.08,
          8.08,
          8.06,
          8.05,
          8.05,
          8.04,
          8,
          7.96,
          7.96,
          7.95,
          7.95,
          7.94,
          7.93,
          7.9,
          7.87,
          7.87,
          7.85,
          7.85,
          7.84,
          7.84,
          7.82,
          7.82,
          7.81,
          7.81,
          7.8,
          7.77,
          7.77,
          7.75,
          7.74,
          7.73,
          7.73,
          7.7,
          7.68,
          7.67,
          7.67,
          7.67,
          7.65,
          7.62,
          7.59,
          7.59,
          7.54,
          7.54,
          7.53,
          7.49,
          7.49,
          7.48,
          7.47,
          7.46,
          7.43,
          7.4,
          7.37,
          7.36,
          7.36,
          7.36,
          7.34,
          7.34,
          7.34,
          7.32,
          7.31,
          7.3,
          7.3,
          7.3,
          7.3,
          7.29,
          7.28,
          7.28,
          7.28,
          7.27,
          7.24,
          7.23,
          7.23,
          7.23,
          7.19,
          7.19,
          7.19,
          7.18,
          7.18,
          7.15,
          7.15,
          7.14,
          7.14,
          7.13,
          7.12,
          7.11,
          7.1,
          7.09,
          7.08,
          7.08,
          7.07,
          7.07,
          7.05,
          7.05,
          7.05,
          7.05,
          7.04,
          7.02,
          7.01,
          6.99,
          6.99,
          6.99,
          6.97,
          6.96,
          6.96,
          6.95,
          6.94,
          6.94,
          6.93,
          6.93,
          6.93,
          6.92,
          6.92,
          6.92,
          6.91,
          6.91,
          6.9,
          6.89,
          6.88,
          6.88,
          6.88,
          6.88,
          6.87,
          6.87,
          6.86,
          6.86,
          6.85,
          6.85,
          6.84,
          6.83,
          6.83,
          6.82,
          6.8,
          6.8,
          6.8,
          6.79,
          6.77,
          6.77,
          6.77,
          6.76,
          6.76,
          6.75,
          6.74,
          6.73,
          6.73,
          6.72,
          6.71,
          6.7,
          6.7,
          6.69,
          6.69,
          6.69,
          6.67,
          6.64,
          6.64,
          6.62,
          6.62,
          6.62,
          6.61,
          6.6,
          6.6,
          6.59,
          6.58,
          6.58,
          6.55,
          6.55,
          6.53,
          6.53,
          6.52,
          6.52,
          6.51,
          6.51,
          6.5,
          6.49,
          6.49,
          6.48,
          6.47,
          6.46,
          6.46,
          6.46,
          6.46,
          6.46,
          6.43,
          6.42,
          6.41,
          6.41,
          6.39,
          6.39,
          6.38,
          6.37,
          6.36,
          6.35,
          6.34,
          6.33,
          6.33,
          6.33,
          6.31,
          6.3,
          6.3,
          6.3,
          6.29,
          6.28,
          6.28,
          6.26,
          6.26,
          6.25,
          6.24,
          6.24,
          6.24,
          6.24,
          6.23,
          6.23,
          6.21,
          6.2,
          6.2,
          6.2,
          6.18,
          6.17,
          6.17,
          6.16,
          6.15,
          6.14,
          6.13,
          6.13,
          6.13,
          6.12,
          6.1,
          6.1,
          6.09,
          6.09,
          6.09,
          6.07,
          6.06,
          6.04,
          6.04,
          6.03,
          6.02,
          6.01,
          6.01,
          6.01,
          6.01,
          5.99,
          5.98,
          5.97,
          5.95,
          5.94,
          5.91,
          5.9,
          5.9,
          5.9,
          5.89,
          5.89,
          5.89,
          5.87,
          5.86,
          5.82,
          5.82,
          5.8,
          5.79,
          5.79,
          5.78,
          5.77,
          5.77,
          5.77,
          5.76,
          5.75,
          5.75,
          5.74,
          5.74,
          5.73,
          5.73,
          5.73,
          5.73,
          5.73,
          5.73,
          5.72,
          5.7,
          5.7,
          5.7,
          5.69,
          5.68,
          5.68,
          5.66,
          5.64,
          5.64,
          5.63,
          5.63,
          5.61,
          5.56,
          5.53,
          5.51,
          5.51,
          5.51,
          5.5,
          5.5,
          5.49,
          5.48,
          5.46,
          5.45,
          5.43,
          5.41,
          5.39,
          5.39,
          5.38,
          5.35,
          5.32,
          5.32,
          5.31,
          5.31,
          5.3,
          5.28,
          5.28,
          5.27,
          5.27,
          5.26,
          5.26,
          5.21,
          5.21,
          5.17,
          5.16,
          5.16,
          5.15,
          5.14,
          5.13,
          5.12,
          5.12,
          5.12,
          5.11,
          5.1,
          5.09,
          5.09,
          5.08,
          5.07,
          5.07,
          5.07,
          5.06,
          5.06,
          5.06,
          5.05,
          5.04,
          5.03,
          5,
          4.99,
          4.99,
          4.96,
          4.96,
          4.95,
          4.94,
          4.93,
          4.91,
          4.91,
          4.89,
          4.86,
          4.82,
          4.78,
          4.77,
          4.74,
          4.74,
          4.72,
          4.71,
          4.69,
          4.67,
          4.65,
          4.64,
          4.62,
          4.62,
          4.61,
          4.6,
          4.59,
          4.59,
          4.58,
          4.56,
          4.54,
          4.53,
          4.52,
          4.52,
          4.5,
          4.48,
          4.48,
          4.48,
          4.47,
          4.47,
          4.46,
          4.46,
          4.45,
          4.41,
          4.37,
          4.33,
          4.31,
          4.27,
          4.27,
          4.25,
          4.22,
          4.18,
          4.15,
          4.14,
          4.13,
          4.13,
          4.12,
          4.08,
          4.06,
          4.06,
          4.03,
          4,
          3.97,
          3.97,
          3.97,
          3.95,
          3.92,
          3.9,
          3.9,
          3.66,
          3.57,
          3.54,
          3.51,
          3.49,
          3.32,
          3.32,
          3.31,
          3.29,
          3.27,
          3.27,
          3.18,
          3.16,
          3.1,
          3.1,
          3.07,
          3.07,
          3,
          2.96,
          2.93,
          2.92,
          2.89,
          2.88,
          2.85,
          2.72,
          2.72,
          2.64,
          2.61,
          2.45,
          2.44,
          2.38,
          2.38,
          2.35,
          2.28,
          2.18,
          2.15,
          2.12,
          2.02,
          1.57,
          0.75
         ],
         "xaxis": "x",
         "y": [
          56.2,
          55.2,
          9.3,
          45.2,
          11.2,
          59.2,
          71.9,
          68,
          7.4,
          10.7,
          69.5,
          39.1,
          44.7,
          59.7,
          64.6,
          2.1,
          66.1,
          64.7,
          39.4,
          7.5,
          62.5,
          69,
          66.3,
          48.9,
          14.7,
          39.6,
          63,
          60,
          59.4,
          52.7,
          56,
          63.4,
          53.8,
          16.1,
          59.4,
          59.2,
          25.8,
          56.3,
          63.6,
          64.1,
          8.2,
          56.5,
          43.3,
          54.9,
          50.1,
          10.7,
          31.8,
          50.1,
          17,
          40.4,
          2.1,
          50.8,
          60.1,
          67.8,
          65,
          19.9,
          17.4,
          60.1,
          54.1,
          34.8,
          12.9,
          56.9,
          48.2,
          58.1,
          50.5,
          40.9,
          41.1,
          9.1,
          35.8,
          19.2,
          33,
          55.1,
          42.2,
          42.9,
          18.9,
          33.5,
          69.1,
          32.4,
          53.1,
          56.3,
          55.1,
          43.5,
          51.5,
          57.5,
          56.1,
          55.6,
          12.8,
          63.5,
          49,
          5,
          59,
          56.2,
          58.2,
          48.1,
          50.9,
          54.2,
          42.2,
          48.8,
          54.2,
          52.9,
          17.4,
          55,
          51.4,
          53.2,
          47.2,
          14.6,
          21.3,
          53.3,
          51.9,
          60.4,
          51.8,
          28.8,
          40.9,
          15.4,
          35,
          41.4,
          53.8,
          59.1,
          13.1,
          10.2,
          55.4,
          9.7,
          45.2,
          53,
          56.6,
          48.3,
          8.2,
          54.3,
          59.6,
          52.3,
          51.6,
          50.6,
          46.7,
          45.7,
          62,
          43.9,
          41,
          28.4,
          9.5,
          47.1,
          30.6,
          7.6,
          46.8,
          21.6,
          32.5,
          26.5,
          51.3,
          38.6,
          18.7,
          31.3,
          26.4,
          62.3,
          28.4,
          44.7,
          40.5,
          56.8,
          57.8,
          51.8,
          19.2,
          45.5,
          47.9,
          58,
          49.8,
          56.4,
          42.9,
          17.6,
          57.8,
          28.7,
          66,
          59.8,
          65,
          35.2,
          66.2,
          45.2,
          35.2,
          38.8,
          35.8,
          13.6,
          13.2,
          49.4,
          41.4,
          30.5,
          49.8,
          49,
          47.5,
          47,
          15.3,
          63.3,
          48.9,
          51.5,
          52.7,
          42.4,
          41.5,
          33.2,
          19.8,
          71.7,
          42.4,
          38.2,
          76.6,
          16,
          14.4,
          40.7,
          11.7,
          20.5,
          44.8,
          44.1,
          28.9,
          41.9,
          16.8,
          11.2,
          52.7,
          39.9,
          43.1,
          35.2,
          50,
          37.5,
          61.2,
          52.2,
          23.9,
          23.2,
          18.4,
          39.9,
          31.3,
          42.8,
          18.1,
          50.1,
          46.6,
          14.3,
          31,
          6,
          39.7,
          31.1,
          36,
          30.8,
          15.7,
          12,
          6.2,
          5.8,
          21.4,
          16,
          15.3,
          46.1,
          27.8,
          11.7,
          33.1,
          39.5,
          41.1,
          15.5,
          25.7,
          47.1,
          44.1,
          5.2,
          38.9,
          43,
          38.4,
          56.7,
          21.4,
          10.6,
          38.7,
          45.7,
          16.1,
          44.9,
          41.2,
          38.1,
          36.6,
          9.3,
          52.2,
          40.4,
          26.3,
          49,
          29.4,
          8.4,
          20.6,
          51,
          48.2,
          10.8,
          11.2,
          25.9,
          45.5,
          26,
          48.9,
          29.8,
          33.4,
          31.7,
          23,
          8.5,
          23.7,
          21.9,
          45.5,
          4.1,
          48,
          25.2,
          16.7,
          43.3,
          18.3,
          9.2,
          35.7,
          4,
          40.8,
          34,
          37.7,
          35.2,
          17.9,
          9.6,
          30.8,
          31.5,
          39.1,
          41,
          46.3,
          26.7,
          8.3,
          22,
          9.8,
          46.8,
          23.7,
          36.1,
          5.5,
          21.4,
          59.8,
          35.3,
          7.7,
          7.6,
          16.3,
          56.1,
          47.4,
          43,
          34.2,
          27.7,
          19.4,
          49,
          32.8,
          5.4,
          18.2,
          22.2,
          11.8,
          29.7,
          42,
          7.7,
          36.9,
          6.5,
          8.7,
          11.2,
          5.5,
          30.3,
          31.3,
          9.8,
          20.9,
          6.9,
          20.2,
          9.8,
          32.4,
          18.2,
          34.3,
          39.8,
          25.8,
          22.7,
          13.9,
          38.7,
          27.3,
          14.4,
          13,
          34.7,
          14.1,
          15.1,
          32.3,
          36.9,
          36.6,
          6.3,
          25.9,
          13.6,
          24.8,
          37.9,
          26.6,
          25.7,
          14,
          14.8,
          5.3,
          38.6,
          26.7,
          35.8,
          47.3,
          27.5,
          21.4,
          18.7,
          11.9,
          12.2,
          19.6,
          27.8,
          20.1,
          30.7,
          17.9,
          29.1,
          3.3,
          14.8,
          18.2,
          26.6,
          15.8,
          5.2,
          31.5,
          8.9,
          24,
          23.8,
          6.5,
          28.1,
          52.7,
          15.7,
          17.3,
          32.5,
          37.4,
          21.9,
          14.5,
          21,
          23.2,
          18.8,
          5.8,
          20.7,
          20.2,
          10.7,
          14.1,
          9.1,
          7.5,
          3.6,
          14.3,
          13,
          16.2,
          21.9,
          2.2,
          15.5,
          37.9,
          7.7,
          19.3,
          7.1,
          22.6,
          11.1,
          5.2,
          9.3,
          26.4,
          4.9,
          5.7,
          2.3,
          9.4,
          27.2,
          20.1,
          30.7,
          7.5,
          22.2,
          7.2,
          3.8,
          10.3,
          13.7,
          6.4,
          7.2,
          8.5,
          14.1,
          13.5,
          18.8,
          7.7,
          9.5,
          27.9,
          18.2,
          25.7,
          3.6,
          5.1,
          8,
          3.9,
          22.3,
          7.3,
          20.2,
          5.4,
          17.9,
          3.5,
          6.4,
          23.3,
          27.3,
          19.6,
          9.4,
          6.8,
          29.1,
          10,
          3.9,
          5.8,
          11.8,
          5.3,
          7.7,
          5.3,
          10.2,
          7.7,
          9.4,
          5.3,
          8.1,
          5,
          5.1,
          4,
          4.9,
          2.2,
          11.1,
          2.8,
          2.1,
          12.5,
          20.4
         ],
         "yaxis": "y"
        }
       ],
       "layout": {
        "height": 800,
        "legend": {
         "itemsizing": "constant",
         "tracegroupgap": 0
        },
        "shapes": [
         {
          "type": "line",
          "x0": 0,
          "x1": 1,
          "xref": "x domain",
          "y0": 31,
          "y1": 31,
          "yref": "y"
         },
         {
          "type": "line",
          "x0": 6,
          "x1": 6,
          "xref": "x",
          "y0": 0,
          "y1": 1,
          "yref": "y domain"
         },
         {
          "line": {
           "color": "red",
           "dash": "dash"
          },
          "type": "line",
          "x0": 0,
          "x1": 1,
          "xref": "x domain",
          "y0": 61.23999999999997,
          "y1": 61.23999999999997,
          "yref": "y"
         },
         {
          "line": {
           "color": "red",
           "dash": "dash"
          },
          "type": "line",
          "x0": 8.674499999999995,
          "x1": 8.674499999999995,
          "xref": "x",
          "y0": 0,
          "y1": 1,
          "yref": "y domain"
         }
        ],
        "template": {
         "data": {
          "bar": [
           {
            "error_x": {
             "color": "#2a3f5f"
            },
            "error_y": {
             "color": "#2a3f5f"
            },
            "marker": {
             "line": {
              "color": "#E5ECF6",
              "width": 0.5
             }
            },
            "type": "bar"
           }
          ],
          "barpolar": [
           {
            "marker": {
             "line": {
              "color": "#E5ECF6",
              "width": 0.5
             }
            },
            "type": "barpolar"
           }
          ],
          "carpet": [
           {
            "aaxis": {
             "endlinecolor": "#2a3f5f",
             "gridcolor": "white",
             "linecolor": "white",
             "minorgridcolor": "white",
             "startlinecolor": "#2a3f5f"
            },
            "baxis": {
             "endlinecolor": "#2a3f5f",
             "gridcolor": "white",
             "linecolor": "white",
             "minorgridcolor": "white",
             "startlinecolor": "#2a3f5f"
            },
            "type": "carpet"
           }
          ],
          "choropleth": [
           {
            "colorbar": {
             "outlinewidth": 0,
             "ticks": ""
            },
            "type": "choropleth"
           }
          ],
          "contour": [
           {
            "colorbar": {
             "outlinewidth": 0,
             "ticks": ""
            },
            "colorscale": [
             [
              0,
              "#0d0887"
             ],
             [
              0.1111111111111111,
              "#46039f"
             ],
             [
              0.2222222222222222,
              "#7201a8"
             ],
             [
              0.3333333333333333,
              "#9c179e"
             ],
             [
              0.4444444444444444,
              "#bd3786"
             ],
             [
              0.5555555555555556,
              "#d8576b"
             ],
             [
              0.6666666666666666,
              "#ed7953"
             ],
             [
              0.7777777777777778,
              "#fb9f3a"
             ],
             [
              0.8888888888888888,
              "#fdca26"
             ],
             [
              1,
              "#f0f921"
             ]
            ],
            "type": "contour"
           }
          ],
          "contourcarpet": [
           {
            "colorbar": {
             "outlinewidth": 0,
             "ticks": ""
            },
            "type": "contourcarpet"
           }
          ],
          "heatmap": [
           {
            "colorbar": {
             "outlinewidth": 0,
             "ticks": ""
            },
            "colorscale": [
             [
              0,
              "#0d0887"
             ],
             [
              0.1111111111111111,
              "#46039f"
             ],
             [
              0.2222222222222222,
              "#7201a8"
             ],
             [
              0.3333333333333333,
              "#9c179e"
             ],
             [
              0.4444444444444444,
              "#bd3786"
             ],
             [
              0.5555555555555556,
              "#d8576b"
             ],
             [
              0.6666666666666666,
              "#ed7953"
             ],
             [
              0.7777777777777778,
              "#fb9f3a"
             ],
             [
              0.8888888888888888,
              "#fdca26"
             ],
             [
              1,
              "#f0f921"
             ]
            ],
            "type": "heatmap"
           }
          ],
          "heatmapgl": [
           {
            "colorbar": {
             "outlinewidth": 0,
             "ticks": ""
            },
            "colorscale": [
             [
              0,
              "#0d0887"
             ],
             [
              0.1111111111111111,
              "#46039f"
             ],
             [
              0.2222222222222222,
              "#7201a8"
             ],
             [
              0.3333333333333333,
              "#9c179e"
             ],
             [
              0.4444444444444444,
              "#bd3786"
             ],
             [
              0.5555555555555556,
              "#d8576b"
             ],
             [
              0.6666666666666666,
              "#ed7953"
             ],
             [
              0.7777777777777778,
              "#fb9f3a"
             ],
             [
              0.8888888888888888,
              "#fdca26"
             ],
             [
              1,
              "#f0f921"
             ]
            ],
            "type": "heatmapgl"
           }
          ],
          "histogram": [
           {
            "marker": {
             "colorbar": {
              "outlinewidth": 0,
              "ticks": ""
             }
            },
            "type": "histogram"
           }
          ],
          "histogram2d": [
           {
            "colorbar": {
             "outlinewidth": 0,
             "ticks": ""
            },
            "colorscale": [
             [
              0,
              "#0d0887"
             ],
             [
              0.1111111111111111,
              "#46039f"
             ],
             [
              0.2222222222222222,
              "#7201a8"
             ],
             [
              0.3333333333333333,
              "#9c179e"
             ],
             [
              0.4444444444444444,
              "#bd3786"
             ],
             [
              0.5555555555555556,
              "#d8576b"
             ],
             [
              0.6666666666666666,
              "#ed7953"
             ],
             [
              0.7777777777777778,
              "#fb9f3a"
             ],
             [
              0.8888888888888888,
              "#fdca26"
             ],
             [
              1,
              "#f0f921"
             ]
            ],
            "type": "histogram2d"
           }
          ],
          "histogram2dcontour": [
           {
            "colorbar": {
             "outlinewidth": 0,
             "ticks": ""
            },
            "colorscale": [
             [
              0,
              "#0d0887"
             ],
             [
              0.1111111111111111,
              "#46039f"
             ],
             [
              0.2222222222222222,
              "#7201a8"
             ],
             [
              0.3333333333333333,
              "#9c179e"
             ],
             [
              0.4444444444444444,
              "#bd3786"
             ],
             [
              0.5555555555555556,
              "#d8576b"
             ],
             [
              0.6666666666666666,
              "#ed7953"
             ],
             [
              0.7777777777777778,
              "#fb9f3a"
             ],
             [
              0.8888888888888888,
              "#fdca26"
             ],
             [
              1,
              "#f0f921"
             ]
            ],
            "type": "histogram2dcontour"
           }
          ],
          "mesh3d": [
           {
            "colorbar": {
             "outlinewidth": 0,
             "ticks": ""
            },
            "type": "mesh3d"
           }
          ],
          "parcoords": [
           {
            "line": {
             "colorbar": {
              "outlinewidth": 0,
              "ticks": ""
             }
            },
            "type": "parcoords"
           }
          ],
          "pie": [
           {
            "automargin": true,
            "type": "pie"
           }
          ],
          "scatter": [
           {
            "marker": {
             "colorbar": {
              "outlinewidth": 0,
              "ticks": ""
             }
            },
            "type": "scatter"
           }
          ],
          "scatter3d": [
           {
            "line": {
             "colorbar": {
              "outlinewidth": 0,
              "ticks": ""
             }
            },
            "marker": {
             "colorbar": {
              "outlinewidth": 0,
              "ticks": ""
             }
            },
            "type": "scatter3d"
           }
          ],
          "scattercarpet": [
           {
            "marker": {
             "colorbar": {
              "outlinewidth": 0,
              "ticks": ""
             }
            },
            "type": "scattercarpet"
           }
          ],
          "scattergeo": [
           {
            "marker": {
             "colorbar": {
              "outlinewidth": 0,
              "ticks": ""
             }
            },
            "type": "scattergeo"
           }
          ],
          "scattergl": [
           {
            "marker": {
             "colorbar": {
              "outlinewidth": 0,
              "ticks": ""
             }
            },
            "type": "scattergl"
           }
          ],
          "scattermapbox": [
           {
            "marker": {
             "colorbar": {
              "outlinewidth": 0,
              "ticks": ""
             }
            },
            "type": "scattermapbox"
           }
          ],
          "scatterpolar": [
           {
            "marker": {
             "colorbar": {
              "outlinewidth": 0,
              "ticks": ""
             }
            },
            "type": "scatterpolar"
           }
          ],
          "scatterpolargl": [
           {
            "marker": {
             "colorbar": {
              "outlinewidth": 0,
              "ticks": ""
             }
            },
            "type": "scatterpolargl"
           }
          ],
          "scatterternary": [
           {
            "marker": {
             "colorbar": {
              "outlinewidth": 0,
              "ticks": ""
             }
            },
            "type": "scatterternary"
           }
          ],
          "surface": [
           {
            "colorbar": {
             "outlinewidth": 0,
             "ticks": ""
            },
            "colorscale": [
             [
              0,
              "#0d0887"
             ],
             [
              0.1111111111111111,
              "#46039f"
             ],
             [
              0.2222222222222222,
              "#7201a8"
             ],
             [
              0.3333333333333333,
              "#9c179e"
             ],
             [
              0.4444444444444444,
              "#bd3786"
             ],
             [
              0.5555555555555556,
              "#d8576b"
             ],
             [
              0.6666666666666666,
              "#ed7953"
             ],
             [
              0.7777777777777778,
              "#fb9f3a"
             ],
             [
              0.8888888888888888,
              "#fdca26"
             ],
             [
              1,
              "#f0f921"
             ]
            ],
            "type": "surface"
           }
          ],
          "table": [
           {
            "cells": {
             "fill": {
              "color": "#EBF0F8"
             },
             "line": {
              "color": "white"
             }
            },
            "header": {
             "fill": {
              "color": "#C8D4E3"
             },
             "line": {
              "color": "white"
             }
            },
            "type": "table"
           }
          ]
         },
         "layout": {
          "annotationdefaults": {
           "arrowcolor": "#2a3f5f",
           "arrowhead": 0,
           "arrowwidth": 1
          },
          "coloraxis": {
           "colorbar": {
            "outlinewidth": 0,
            "ticks": ""
           }
          },
          "colorscale": {
           "diverging": [
            [
             0,
             "#8e0152"
            ],
            [
             0.1,
             "#c51b7d"
            ],
            [
             0.2,
             "#de77ae"
            ],
            [
             0.3,
             "#f1b6da"
            ],
            [
             0.4,
             "#fde0ef"
            ],
            [
             0.5,
             "#f7f7f7"
            ],
            [
             0.6,
             "#e6f5d0"
            ],
            [
             0.7,
             "#b8e186"
            ],
            [
             0.8,
             "#7fbc41"
            ],
            [
             0.9,
             "#4d9221"
            ],
            [
             1,
             "#276419"
            ]
           ],
           "sequential": [
            [
             0,
             "#0d0887"
            ],
            [
             0.1111111111111111,
             "#46039f"
            ],
            [
             0.2222222222222222,
             "#7201a8"
            ],
            [
             0.3333333333333333,
             "#9c179e"
            ],
            [
             0.4444444444444444,
             "#bd3786"
            ],
            [
             0.5555555555555556,
             "#d8576b"
            ],
            [
             0.6666666666666666,
             "#ed7953"
            ],
            [
             0.7777777777777778,
             "#fb9f3a"
            ],
            [
             0.8888888888888888,
             "#fdca26"
            ],
            [
             1,
             "#f0f921"
            ]
           ],
           "sequentialminus": [
            [
             0,
             "#0d0887"
            ],
            [
             0.1111111111111111,
             "#46039f"
            ],
            [
             0.2222222222222222,
             "#7201a8"
            ],
            [
             0.3333333333333333,
             "#9c179e"
            ],
            [
             0.4444444444444444,
             "#bd3786"
            ],
            [
             0.5555555555555556,
             "#d8576b"
            ],
            [
             0.6666666666666666,
             "#ed7953"
            ],
            [
             0.7777777777777778,
             "#fb9f3a"
            ],
            [
             0.8888888888888888,
             "#fdca26"
            ],
            [
             1,
             "#f0f921"
            ]
           ]
          },
          "colorway": [
           "#636efa",
           "#EF553B",
           "#00cc96",
           "#ab63fa",
           "#FFA15A",
           "#19d3f3",
           "#FF6692",
           "#B6E880",
           "#FF97FF",
           "#FECB52"
          ],
          "font": {
           "color": "#2a3f5f"
          },
          "geo": {
           "bgcolor": "white",
           "lakecolor": "white",
           "landcolor": "#E5ECF6",
           "showlakes": true,
           "showland": true,
           "subunitcolor": "white"
          },
          "hoverlabel": {
           "align": "left"
          },
          "hovermode": "closest",
          "mapbox": {
           "style": "light"
          },
          "paper_bgcolor": "white",
          "plot_bgcolor": "#E5ECF6",
          "polar": {
           "angularaxis": {
            "gridcolor": "white",
            "linecolor": "white",
            "ticks": ""
           },
           "bgcolor": "#E5ECF6",
           "radialaxis": {
            "gridcolor": "white",
            "linecolor": "white",
            "ticks": ""
           }
          },
          "scene": {
           "xaxis": {
            "backgroundcolor": "#E5ECF6",
            "gridcolor": "white",
            "gridwidth": 2,
            "linecolor": "white",
            "showbackground": true,
            "ticks": "",
            "zerolinecolor": "white"
           },
           "yaxis": {
            "backgroundcolor": "#E5ECF6",
            "gridcolor": "white",
            "gridwidth": 2,
            "linecolor": "white",
            "showbackground": true,
            "ticks": "",
            "zerolinecolor": "white"
           },
           "zaxis": {
            "backgroundcolor": "#E5ECF6",
            "gridcolor": "white",
            "gridwidth": 2,
            "linecolor": "white",
            "showbackground": true,
            "ticks": "",
            "zerolinecolor": "white"
           }
          },
          "shapedefaults": {
           "line": {
            "color": "#2a3f5f"
           }
          },
          "ternary": {
           "aaxis": {
            "gridcolor": "white",
            "linecolor": "white",
            "ticks": ""
           },
           "baxis": {
            "gridcolor": "white",
            "linecolor": "white",
            "ticks": ""
           },
           "bgcolor": "#E5ECF6",
           "caxis": {
            "gridcolor": "white",
            "linecolor": "white",
            "ticks": ""
           }
          },
          "title": {
           "x": 0.05
          },
          "xaxis": {
           "automargin": true,
           "gridcolor": "white",
           "linecolor": "white",
           "ticks": "",
           "title": {
            "standoff": 15
           },
           "zerolinecolor": "white",
           "zerolinewidth": 2
          },
          "yaxis": {
           "automargin": true,
           "gridcolor": "white",
           "linecolor": "white",
           "ticks": "",
           "title": {
            "standoff": 15
           },
           "zerolinecolor": "white",
           "zerolinewidth": 2
          }
         }
        },
        "title": {
         "text": "PP TOI% vs PP GF/60"
        },
        "width": 800,
        "xaxis": {
         "anchor": "y",
         "domain": [
          0,
          1
         ],
         "title": {
          "text": "PP GF/60"
         }
        },
        "yaxis": {
         "anchor": "x",
         "domain": [
          0,
          1
         ],
         "title": {
          "text": "PP TOI%"
         }
        }
       }
      },
      "text/html": [
       "<div>                            <div id=\"f26bdf60-3c26-445e-93af-8a1bb49032e2\" class=\"plotly-graph-div\" style=\"height:800px; width:800px;\"></div>            <script type=\"text/javascript\">                require([\"plotly\"], function(Plotly) {                    window.PLOTLYENV=window.PLOTLYENV || {};                                    if (document.getElementById(\"f26bdf60-3c26-445e-93af-8a1bb49032e2\")) {                    Plotly.newPlot(                        \"f26bdf60-3c26-445e-93af-8a1bb49032e2\",                        [{\"customdata\": [[\"R\"], [\"C\"], [\"D\"], [\"L\"], [\"D\"], [\"C\"], [\"C\"], [\"C\"], [\"C\"], [\"C\"], [\"C\"], [\"R\"], [\"D\"], [\"R\"], [\"C\"], [\"D\"], [\"C\"], [\"C\"], [\"R\"], [\"D\"], [\"D\"], [\"D\"], [\"D\"], [\"D\"], [\"D\"], [\"L\"], [\"C\"], [\"L\"], [\"C\"], [\"C\"], [\"D\"], [\"C\"], [\"D\"], [\"R\"], [\"L\"], [\"R\"], [\"C\"], [\"C\"], [\"C\"], [\"D\"], [\"C\"], [\"C\"], [\"R\"], [\"C\"], [\"D\"], [\"L\"], [\"C\"], [\"C\"], [\"D\"], [\"C\"], [\"C\"], [\"L\"], [\"C\"], [\"C\"], [\"D\"], [\"C\"], [\"L\"], [\"R\"], [\"C\"], [\"R\"], [\"D\"], [\"C\"], [\"R\"], [\"C\"], [\"C\"], [\"L\"], [\"D\"], [\"C\"], [\"L\"], [\"C\"], [\"D\"], [\"L\"], [\"C\"], [\"C\"], [\"R\"], [\"D\"], [\"D\"], [\"C\"], [\"R\"], [\"C\"], [\"C\"], [\"D\"], [\"D\"], [\"L\"], [\"D\"], [\"R\"], [\"D\"], [\"D\"], [\"L\"], [\"R\"], [\"C\"], [\"L\"], [\"D\"], [\"L\"], [\"C\"], [\"L\"], [\"L\"], [\"L\"], [\"C\"], [\"R\"], [\"D\"], [\"C\"], [\"D\"], [\"C\"], [\"R\"], [\"D\"], [\"D\"], [\"C\"], [\"D\"], [\"D\"], [\"L\"], [\"D\"], [\"C\"], [\"C\"], [\"L\"], [\"C\"], [\"C\"], [\"C\"], [\"D\"], [\"D\"], [\"L\"], [\"L\"], [\"C\"], [\"C\"], [\"R\"], [\"L\"], [\"C\"], [\"D\"], [\"D\"], [\"D\"], [\"R\"], [\"D\"], [\"L\"], [\"C\"], [\"C\"], [\"R\"], [\"L\"], [\"L\"], [\"D\"], [\"C\"], [\"C\"], [\"D\"], [\"L\"], [\"D\"], [\"R\"], [\"D\"], [\"D\"], [\"L\"], [\"D\"], [\"D\"], [\"D\"], [\"L\"], [\"R\"], [\"C\"], [\"C\"], [\"D\"], [\"D\"], [\"D\"], [\"C\"], [\"C\"], [\"C\"], [\"L\"], [\"R\"], [\"D\"], [\"D\"], [\"D\"], [\"D\"], [\"C\"], [\"D\"], [\"D\"], [\"D\"], [\"D\"], [\"D\"], [\"C\"], [\"C\"], [\"R\"], [\"D\"], [\"L\"], [\"L\"], [\"C\"], [\"C\"], [\"L\"], [\"C\"], [\"C\"], [\"L\"], [\"D\"], [\"D\"], [\"D\"], [\"C\"], [\"R\"], [\"C\"], [\"C\"], [\"R\"], [\"L\"], [\"D\"], [\"D\"], [\"R\"], [\"D\"], [\"D\"], [\"D\"], [\"D\"], [\"C\"], [\"C\"], [\"C\"], [\"D\"], [\"D\"], [\"C\"], [\"L\"], [\"C\"], [\"C\"], [\"D\"], [\"R\"], [\"D\"], [\"C\"], [\"C\"], [\"D\"], [\"C\"], [\"D\"], [\"D\"], [\"D\"], [\"D\"], [\"R\"], [\"R\"], [\"D\"], [\"C\"], [\"C\"], [\"C\"], [\"D\"], [\"D\"], [\"R\"], [\"C\"], [\"C\"], [\"D\"], [\"C\"], [\"D\"], [\"D\"], [\"C\"], [\"C\"], [\"D\"], [\"C\"], [\"D\"], [\"R\"], [\"R\"], [\"C\"], [\"D\"], [\"D\"], [\"L\"], [\"D\"], [\"L\"], [\"D\"], [\"R\"], [\"C\"], [\"D\"], [\"C\"], [\"D\"], [\"D\"], [\"C\"], [\"C\"], [\"D\"], [\"L\"], [\"C\"], [\"L\"], [\"L\"], [\"D\"], [\"D\"], [\"R\"], [\"C\"], [\"D\"], [\"D\"], [\"L\"], [\"L\"], [\"D\"], [\"L\"], [\"C\"], [\"D\"], [\"D\"], [\"D\"], [\"D\"], [\"L\"], [\"L\"], [\"L\"], [\"D\"], [\"L\"], [\"C\"], [\"C\"], [\"R\"], [\"R\"], [\"C\"], [\"L\"], [\"L\"], [\"D\"], [\"D\"], [\"C\"], [\"D\"], [\"L\"], [\"C\"], [\"C\"], [\"D\"], [\"C\"], [\"R\"], [\"D\"], [\"D\"], [\"C\"], [\"D\"], [\"R\"], [\"R\"], [\"L\"], [\"D\"], [\"D\"], [\"C\"], [\"L\"], [\"D\"], [\"C\"], [\"C\"], [\"D\"], [\"D\"], [\"C\"], [\"C\"], [\"R\"], [\"C\"], [\"L\"], [\"L\"], [\"C\"], [\"D\"], [\"C\"], [\"R\"], [\"C\"], [\"L\"], [\"C\"], [\"D\"], [\"C\"], [\"C\"], [\"D\"], [\"D\"], [\"D\"], [\"D\"], [\"C\"], [\"D\"], [\"D\"], [\"D\"], [\"L\"], [\"L\"], [\"C\"], [\"D\"], [\"C\"], [\"D\"], [\"D\"], [\"L\"], [\"C\"], [\"C\"], [\"D\"], [\"D\"], [\"C\"], [\"D\"], [\"C\"], [\"D\"], [\"C\"], [\"L\"], [\"D\"], [\"D\"], [\"C\"], [\"L\"], [\"D\"], [\"D\"], [\"C\"], [\"D\"], [\"R\"], [\"C\"], [\"D\"], [\"C\"], [\"D\"], [\"D\"], [\"D\"], [\"D\"], [\"C\"], [\"R\"], [\"C\"], [\"C\"], [\"C\"], [\"L\"], [\"D\"], [\"L\"], [\"D\"], [\"R\"], [\"D\"], [\"D\"], [\"D\"], [\"C\"], [\"R\"], [\"C\"], [\"D\"], [\"L\"], [\"D\"], [\"C\"], [\"D\"], [\"C\"], [\"C\"], [\"D\"], [\"R\"], [\"R\"], [\"C\"], [\"R\"], [\"L\"], [\"R\"], [\"D\"], [\"C\"], [\"C\"], [\"C\"], [\"D\"], [\"R\"], [\"R\"], [\"R\"], [\"C\"], [\"C\"], [\"D\"], [\"C\"], [\"C\"], [\"L\"], [\"D\"], [\"D\"], [\"D\"], [\"D\"], [\"D\"], [\"R\"], [\"C\"], [\"C\"], [\"L\"], [\"D\"], [\"D\"], [\"D\"], [\"D\"], [\"D\"], [\"C\"], [\"D\"], [\"C\"], [\"C\"], [\"C\"], [\"C\"], [\"L\"], [\"D\"], [\"L\"], [\"C\"], [\"D\"], [\"C\"], [\"L\"], [\"C\"], [\"D\"], [\"L\"], [\"D\"], [\"D\"], [\"R\"], [\"R\"], [\"R\"], [\"D\"], [\"C\"], [\"C\"], [\"D\"], [\"R\"], [\"C\"], [\"D\"], [\"D\"], [\"D\"], [\"D\"], [\"D\"], [\"D\"], [\"D\"], [\"D\"], [\"R\"], [\"C\"], [\"D\"], [\"D\"], [\"D\"], [\"D\"], [\"L\"], [\"D\"], [\"R\"], [\"L\"], [\"L\"], [\"C\"], [\"D\"], [\"D\"], [\"D\"], [\"D\"], [\"C\"], [\"D\"], [\"R\"], [\"L\"], [\"D\"], [\"C\"], [\"D\"], [\"C\"], [\"D\"], [\"D\"], [\"L\"], [\"L\"], [\"R\"], [\"L\"], [\"C\"], [\"R\"], [\"R\"]], \"hovertemplate\": \"<b>%{hovertext}</b><br><br>PP GF/60=%{x}<br>PP TOI%=%{y}<br>GP=%{marker.size}<br>Pos=%{customdata[0]}<extra></extra>\", \"hovertext\": [\"Mitchell Marner\", \"Brayden Point\", \"Joe Morrow\", \"Brad Marchand\", \"Taylor Fedun\", \"Patrice Bergeron\", \"Sidney Crosby\", \"Nicklas Backstrom\", \"Blake Coleman\", \"Anthony Cirelli\", \"Connor McDavid\", \"Patrick Eaves\", \"Neal Pionk\", \"T.J. Oshie\", \"Steven Stamkos\", \"Niklas Hjalmarsson\", \"John Tavares\", \"Claude Giroux\", \"Troy Brouwer\", \"Chad Ruhwedel\", \"John Klingberg\", \"Kris Letang\", \"Torey Krug\", \"Oscar Klefbom\", \"Nikita Zaitsev\", \"Ondrej Palat\", \"Joe Pavelski\", \"Jamie Benn\", \"Ryan O'Reilly\", \"Jason Spezza\", \"Kevin Shattenkirk\", \"Tyler Seguin\", \"Victor Hedman\", \"Bryan Rust\", \"Kyle Connor\", \"Wayne Simmonds\", \"Yanni Gourde\", \"Ryan Nugent-Hopkins\", \"Leon Draisaitl\", \"John Carlson\", \"Johan Larsson\", \"Brayden Schenn\", \"David Backes\", \"Marcus Johansson\", \"Kimmo Timonen\", \"Darren Helm\", \"Mark Letestu\", \"Tyler Bozak\", \"Nate Schmidt\", \"J.T. Miller\", \"Casey Cizikas\", \"Alexander Steen\", \"Logan Couture\", \"Jack Eichel\", \"Brent Burns\", \"Dave Bolland\", \"Erik Haula\", \"Blake Wheeler\", \"Patrick Marleau\", \"Alex Chiasson\", \"Mike Matheson\", \"Sean Monahan\", \"Kyle Palmieri\", \"Nathan MacKinnon\", \"Paul Stastny\", \"J.T. Compher\", \"Morgan Rielly\", \"Nic Dowd\", \"Chris Kunitz\", \"Jacob Josefson\", \"Matt Niskanen\", \"James van Riemsdyk\", \"Travis Zajac\", \"Tyler Johnson\", \"Leo Komarov\", \"Mikhail Sergachev\", \"Keith Yandle\", \"David Legwand\", \"Mark Stone\", \"Aleksander Barkov\", \"Mark Scheifele\", \"Jared Spurgeon\", \"Niklas Kronwall\", \"Taylor Hall\", \"Rasmus Ristolainen\", \"Vladimir Tarasenko\", \"Sean Walker\", \"Dustin Byfuglien\", \"Jaden Schwartz\", \"Josh Jooris\", \"Jonathan Toews\", \"Gabriel Landeskog\", \"Mark Giordano\", \"Teuvo Teravainen\", \"David Krejci\", \"Jonathan Huberdeau\", \"Jake Guentzel\", \"David Perron\", \"Ryan Johansen\", \"Mats Zuccarello\", \"Chris Phillips\", \"Sebastian Aho\", \"Mark Streit\", \"Mika Zibanejad\", \"Shane Doan\", \"Yannick Weber\", \"Zdeno Chara\", \"Elias Lindholm\", \"Alexander Edler\", \"James Wisniewski\", \"Filip Forsberg\", \"Matt Grzelcyk\", \"Tomas Hertl\", \"Colton Sissons\", \"Justin Abdelkader\", \"Antoine Vermette\", \"Mikko Koivu\", \"Anze Kopitar\", \"Andy Greene\", \"Fedor Tyutin\", \"Max Pacioretty\", \"Jordan Greenway\", \"Alexander Wennberg\", \"Jeff Carter\", \"Corey Perry\", \"Clarke MacArthur\", \"Ryan White\", \"Alex Pietrangelo\", \"Tyson Barrie\", \"Justin Schultz\", \"Radim Vrbata\", \"Mike Green\", \"Nick Foligno\", \"Mike Fisher\", \"Henrik Sedin\", \"Reilly Smith\", \"Alex Killorn\", \"Jason Zucker\", \"Henri Jokiharju\", \"Martin Hanzal\", \"Pavel Zacha\", \"Steven Kampfer\", \"Rickard Rakell\", \"Ethan Bear\", \"Ryan Callahan\", \"Jack Johnson\", \"Justin Faulk\", \"Loui Eriksson\", \"Paul Martin\", \"Colton Parayko\", \"David Schlemko\", \"Daniel Sedin\", \"Joel Ward\", \"Frans Nielsen\", \"Jordan Staal\", \"Zach Werenski\", \"Cam Fowler\", \"Sami Vatanen\", \"Riley Sheahan\", \"Bo Horvat\", \"Mikael Granlund\", \"Zach Parise\", \"Cam Atkinson\", \"Shea Theodore\", \"Brent Seabrook\", \"Darnell Nurse\", \"Roman Josi\", \"Kevin Hayes\", \"Drew Doughty\", \"Shea Weber\", \"Ryan Suter\", \"Jakob Chychrun\", \"Andrei Markov\", \"Bryan Little\", \"Vladislav Namestnikov\", \"Viktor Arvidsson\", \"Sami Salo\", \"Lauri Korpikoski\", \"Paul Byron\", \"Kyle Turris\", \"Sean Couturier\", \"Tanner Pearson\", \"Derek Stepan\", \"Derick Brassard\", \"Rick Nash\", \"Dougie Hamilton\", \"David Savard\", \"P.K. Subban\", \"Adam Henrique\", \"Jordan Eberle\", \"Eric Staal\", \"Nick Schmaltz\", \"Marian Hossa\", \"Andreas Athanasiou\", \"Josh Morrissey\", \"Oliver Ekman-Larsson\", \"Justin Williams\", \"Ryan McDonagh\", \"Erik Karlsson\", \"Nick Holden\", \"Jay Harrison\", \"Victor Rask\", \"Matt Cullen\", \"Brian Boyle\", \"Matt Dumba\", \"Jake Gardiner\", \"Jori Lehtera\", \"Mikkel Boedker\", \"Mattias Janmark\", \"Riley Nash\", \"Nick Leddy\", \"Dustin Brown\", \"Aaron Ekblad\", \"Carl Soderberg\", \"Patrik Elias\", \"Alec Martinez\", \"Ryan Getzlaf\", \"Duncan Keith\", \"Michael Stone\", \"Kris Russell\", \"Andrew MacDonald\", \"Tyler Toffoli\", \"Timo Meier\", \"Cody Franson\", \"Alexander Burmistrov\", \"Ryan Kesler\", \"Vincent Trocheck\", \"Gustav Forsling\", \"Maxime Lajoie\", \"Logan Shaw\", \"Artem Anisimov\", \"Tomas Plekanec\", \"Andrej Sekera\", \"William Karlsson\", \"Olli Maatta\", \"Dan Girardi\", \"Boyd Gordon\", \"Barclay Goodrow\", \"Johnny Boychuk\", \"Calle Jarnkrok\", \"Jonas Brodin\", \"Andrew Shaw\", \"Joel Armia\", \"Adam Lowry\", \"Jacob Trouba\", \"Damon Severson\", \"Milan Michalek\", \"Brady Skjei\", \"Matt Beleskey\", \"Dennis Wideman\", \"Josh Bailey\", \"Vernon Fiddler\", \"Jamie McBain\", \"Ryan Strome\", \"Jeff Petry\", \"Dan Boyle\", \"Lucas Wallmark\", \"Brooks Laich\", \"Colin Miller\", \"Evander Kane\", \"Chris Tierney\", \"Ryan Smyth\", \"Jussi Jokinen\", \"Ryan Pulock\", \"Hampus Lindholm\", \"Tom Wilson\", \"Gustav Nyquist\", \"Jake Muzzin\", \"Ryan Murray\", \"Teddy Purcell\", \"Benoit Pouliot\", \"Christopher Tanev\", \"Nick Ritchie\", \"Matt Duchene\", \"Christian Ehrhoff\", \"Jon Merrill\", \"Oscar Fantenberg\", \"Esa Lindell\", \"Alex Tanguay\", \"Anthony Beauvillier\", \"Michael Cammalleri\", \"Erik Johnson\", \"Alex Iafallo\", \"Devin Shore\", \"Evan Rodrigues\", \"David Moss\", \"Connor Brown\", \"Anton Lander\", \"Andrew Ladd\", \"Jordan Martinook\", \"Dion Phaneuf\", \"Rasmus Andersson\", \"Brett Howden\", \"Miro Heiskanen\", \"Artturi Lehkonen\", \"Derek Grant\", \"Charlie Coyle\", \"Matt Hunwick\", \"Valtteri Filppula\", \"Brian Gionta\", \"Tyler Myers\", \"Noah Hanifin\", \"Drake Caggiula\", \"Brett Pesce\", \"Lee Stempniak\", \"Jakob Silfverberg\", \"Jesper Bratt\", \"Alex Goligoski\", \"Seth Jones\", \"R.J. Umberger\", \"Matt Calvert\", \"Mattias Ekholm\", \"Colton Sceviour\", \"Dylan Larkin\", \"Jason Garrison\", \"TJ Brodie\", \"Curtis Lazar\", \"Markus Granlund\", \"Martin St. Louis\", \"Nick Bjugstad\", \"Oscar Lindberg\", \"Zach Hyman\", \"Phillip Danault\", \"Thomas Chabot\", \"Nico Hischier\", \"Jason Pominville\", \"Mikael Backlund\", \"Jimmy Vesey\", \"Shawn Horcoff\", \"Filip Hronek\", \"Adrian Kempe\", \"Trevor Lewis\", \"Marcus Pettersson\", \"Anton Stralman\", \"Matt Irwin\", \"Ben Hutton\", \"Brock Nelson\", \"Nikita Zadorov\", \"John-Michael Liles\", \"Brayden McNabb\", \"Antoine Roussel\", \"Jason Chimera\", \"Chandler Stephenson\", \"Patrick Wiercioch\", \"Boone Jenner\", \"Marco Scandella\", \"Michael Del Zotto\", \"Scott Wilson\", \"Tobias Rieder\", \"Nick Spaling\", \"Charlie McAvoy\", \"Nathan Beaulieu\", \"Derek Ryan\", \"Ryan Ellis\", \"Frank Vatrano\", \"Marc-Edouard Vlasic\", \"John Mitchell\", \"Anthony Duclair\", \"Francois Beauchemin\", \"Dylan DeMelo\", \"Mike Santorelli\", \"Mason Raymond\", \"Jay Bouwmeester\", \"Matt Carle\", \"Nick Bonino\", \"Ivan Provorov\", \"Drew Stafford\", \"Oskar Sundqvist\", \"Trevor Daley\", \"Tommy Wingels\", \"Jason Demers\", \"Toby Enstrom\", \"Jordan Oesterle\", \"Kevin Bieksa\", \"Radek Faksa\", \"Vinnie Hinostroza\", \"Eric Fehr\", \"Christian Dvorak\", \"Nathan Gerbe\", \"Brandon Saad\", \"Slava Voynov\", \"Oskar Lindblom\", \"Jaccob Slavin\", \"Kasperi Kapanen\", \"Matt Benning\", \"Travis Hamonic\", \"Dmitry Kulikov\", \"Joe Colborne\", \"Josh Anderson\", \"Brandon Dubinsky\", \"Dmitry Orlov\", \"Jiri Tlusty\", \"Radko Gudas\", \"Colin Greening\", \"John Moore\", \"Sam Bennett\", \"Jarret Stoll\", \"Brendan Smith\", \"Alexandre Burrows\", \"Scottie Upshall\", \"Patrik Berglund\", \"Richard Panik\", \"Matt Nieto\", \"Martin Erat\", \"Brian Campbell\", \"Jean-Gabriel Pageau\", \"Luke Kunin\", \"Rich Peverley\", \"Andre Benoit\", \"Matt Read\", \"Michael Frolik\", \"Mark Arcobello\", \"Peter Holland\", \"Lars Eller\", \"Trevor van Riemsdyk\", \"Vladimir Sobotka\", \"Jared McCann\", \"Blake Comeau\", \"Kevin Connauton\", \"Connor Carrick\", \"Calvin de Haan\", \"Ian Cole\", \"Cody Ceci\", \"Nikita Soshnikov\", \"Zack Smith\", \"Blake Lizotte\", \"Matt Martin\", \"Travis Sanheim\", \"Brandon Montour\", \"Jake McCabe\", \"Troy Stecher\", \"Jordie Benn\", \"Olli Jokinen\", \"Victor Mete\", \"Brian Flynn\", \"Zemgus Girgensons\", \"Brandon Sutter\", \"Nicholas Shore\", \"Jujhar Khaira\", \"Marc Staal\", \"Zach Sanford\", \"Austin Czarnik\", \"Nikita Nikitin\", \"Mike Richards\", \"Marcus Foligno\", \"Cody Eakin\", \"Justin Braun\", \"Brock McGinn\", \"Mark Barberio\", \"Zach Trotman\", \"Zack Kassian\", \"Ryan Hartman\", \"Jannik Hansen\", \"Danny DeKeyser\", \"Steve Ott\", \"Sergey Kalinin\", \"Brian Dumoulin\", \"Dale Weise\", \"Mikhail Grigorenko\", \"Zach Bogosian\", \"Andrej Meszaros\", \"Alexei Emelin\", \"Ron Hainsey\", \"Stephen Johns\", \"Brandon Manning\", \"Tom Gilbert\", \"Erik Gudbranson\", \"Valeri Nichushkin\", \"Dainius Zubrus\", \"Grant Clitsome\", \"Adam Larsson\", \"MacKenzie Weegar\", \"Raphael Diaz\", \"Tomas Fleischmann\", \"Dan Hamhuis\", \"Justin Fontaine\", \"Michael Raffl\", \"Chris Higgins\", \"Marcel Goc\", \"Marc Methot\", \"Thomas Hickey\", \"Kevin Gravel\", \"Connor Murphy\", \"Mark Jankowski\", \"Mark Pysyk\", \"Cal Clutterbuck\", \"Dwight King\", \"Simon Despres\", \"Andrew Copp\", \"Michal Rozsival\", \"Melker Karlsson\", \"Josh Gorges\", \"Dennis Seidenberg\", \"Shawn Matthias\", \"Carl Hagelin\", \"Devante Smith-Pelly\", \"Cody McLeod\", \"Andrew Cogliano\", \"Tomas Kopecky\", \"Daniel Cleary\"], \"legendgroup\": \"\", \"marker\": {\"color\": \"#636efa\", \"opacity\": 0.75, \"size\": [300, 295, 162, 533, 127, 510, 514, 543, 246, 168, 351, 219, 172, 511, 430, 474, 523, 556, 484, 163, 425, 423, 520, 378, 281, 482, 551, 551, 539, 512, 478, 538, 504, 308, 249, 542, 254, 502, 422, 523, 392, 548, 456, 465, 93, 448, 385, 495, 396, 478, 474, 481, 483, 354, 549, 101, 405, 559, 558, 512, 299, 541, 491, 525, 478, 223, 517, 251, 441, 224, 539, 497, 520, 520, 415, 228, 563, 242, 445, 479, 508, 491, 438, 456, 493, 469, 109, 419, 468, 213, 535, 515, 508, 428, 487, 488, 243, 510, 553, 509, 106, 310, 295, 497, 294, 382, 498, 525, 442, 145, 453, 197, 453, 322, 482, 376, 492, 551, 538, 266, 517, 154, 415, 476, 471, 149, 224, 534, 512, 434, 345, 447, 512, 292, 390, 537, 547, 445, 107, 282, 266, 150, 443, 89, 352, 529, 524, 469, 286, 386, 276, 400, 373, 529, 482, 300, 484, 426, 511, 446, 513, 465, 509, 264, 515, 350, 532, 450, 555, 462, 552, 234, 306, 439, 425, 335, 71, 273, 414, 492, 524, 457, 527, 530, 342, 510, 522, 511, 548, 529, 550, 249, 291, 303, 288, 545, 509, 493, 503, 489, 123, 405, 443, 496, 411, 532, 307, 453, 297, 504, 544, 542, 458, 546, 150, 465, 497, 531, 419, 482, 354, 515, 263, 307, 154, 423, 427, 122, 62, 215, 473, 403, 425, 410, 427, 439, 220, 276, 479, 459, 510, 445, 295, 408, 478, 430, 198, 314, 268, 234, 536, 297, 142, 491, 524, 214, 167, 210, 301, 452, 436, 72, 372, 234, 502, 522, 530, 523, 347, 251, 334, 422, 294, 527, 176, 356, 124, 308, 166, 286, 300, 447, 227, 288, 199, 139, 324, 148, 418, 374, 448, 160, 136, 150, 291, 259, 533, 244, 535, 331, 447, 389, 222, 350, 347, 510, 185, 550, 524, 180, 451, 535, 452, 389, 318, 530, 284, 335, 155, 428, 252, 302, 339, 205, 209, 472, 520, 304, 212, 111, 256, 471, 175, 505, 321, 341, 548, 356, 215, 441, 480, 397, 209, 218, 489, 491, 407, 193, 434, 211, 184, 364, 302, 463, 274, 516, 279, 353, 364, 269, 198, 172, 476, 211, 514, 315, 398, 201, 437, 368, 453, 317, 209, 347, 351, 246, 346, 246, 238, 540, 88, 134, 377, 202, 248, 454, 445, 279, 267, 401, 451, 170, 457, 133, 433, 364, 231, 430, 344, 345, 359, 444, 472, 149, 326, 426, 131, 62, 140, 328, 501, 138, 241, 545, 364, 228, 310, 491, 314, 230, 406, 474, 496, 87, 462, 66, 491, 200, 243, 340, 286, 488, 144, 171, 249, 489, 393, 299, 218, 504, 157, 121, 119, 174, 504, 508, 534, 308, 270, 91, 442, 314, 308, 430, 234, 121, 347, 395, 192, 347, 112, 351, 541, 167, 245, 208, 414, 288, 206, 56, 445, 172, 119, 222, 472, 197, 470, 188, 148, 302, 410, 109, 444, 208, 398, 478, 285, 142, 356, 180, 396, 289, 278, 298, 492, 339, 380, 554, 113, 69], \"sizemode\": \"area\", \"sizeref\": 5.63, \"symbol\": \"circle\"}, \"mode\": \"markers\", \"name\": \"\", \"orientation\": \"v\", \"showlegend\": false, \"type\": \"scatter\", \"x\": [10.27, 10.18, 10.03, 9.99, 9.98, 9.98, 9.55, 9.49, 9.43, 9.4, 9.31, 9.26, 9.21, 9.12, 9.04, 9.01, 8.9, 8.89, 8.87, 8.83, 8.82, 8.78, 8.77, 8.77, 8.76, 8.67, 8.63, 8.62, 8.59, 8.58, 8.56, 8.55, 8.55, 8.52, 8.48, 8.48, 8.47, 8.46, 8.44, 8.41, 8.35, 8.34, 8.33, 8.23, 8.2, 8.14, 8.13, 8.13, 8.11, 8.09, 8.09, 8.08, 8.08, 8.06, 8.05, 8.05, 8.04, 8.0, 7.96, 7.96, 7.95, 7.95, 7.94, 7.93, 7.9, 7.87, 7.87, 7.85, 7.85, 7.84, 7.84, 7.82, 7.82, 7.81, 7.81, 7.8, 7.77, 7.77, 7.75, 7.74, 7.73, 7.73, 7.7, 7.68, 7.67, 7.67, 7.67, 7.65, 7.62, 7.59, 7.59, 7.54, 7.54, 7.53, 7.49, 7.49, 7.48, 7.47, 7.46, 7.43, 7.4, 7.37, 7.36, 7.36, 7.36, 7.34, 7.34, 7.34, 7.32, 7.31, 7.3, 7.3, 7.3, 7.3, 7.29, 7.28, 7.28, 7.28, 7.27, 7.24, 7.23, 7.23, 7.23, 7.19, 7.19, 7.19, 7.18, 7.18, 7.15, 7.15, 7.14, 7.14, 7.13, 7.12, 7.11, 7.1, 7.09, 7.08, 7.08, 7.07, 7.07, 7.05, 7.05, 7.05, 7.05, 7.04, 7.02, 7.01, 6.99, 6.99, 6.99, 6.97, 6.96, 6.96, 6.95, 6.94, 6.94, 6.93, 6.93, 6.93, 6.92, 6.92, 6.92, 6.91, 6.91, 6.9, 6.89, 6.88, 6.88, 6.88, 6.88, 6.87, 6.87, 6.86, 6.86, 6.85, 6.85, 6.84, 6.83, 6.83, 6.82, 6.8, 6.8, 6.8, 6.79, 6.77, 6.77, 6.77, 6.76, 6.76, 6.75, 6.74, 6.73, 6.73, 6.72, 6.71, 6.7, 6.7, 6.69, 6.69, 6.69, 6.67, 6.64, 6.64, 6.62, 6.62, 6.62, 6.61, 6.6, 6.6, 6.59, 6.58, 6.58, 6.55, 6.55, 6.53, 6.53, 6.52, 6.52, 6.51, 6.51, 6.5, 6.49, 6.49, 6.48, 6.47, 6.46, 6.46, 6.46, 6.46, 6.46, 6.43, 6.42, 6.41, 6.41, 6.39, 6.39, 6.38, 6.37, 6.36, 6.35, 6.34, 6.33, 6.33, 6.33, 6.31, 6.3, 6.3, 6.3, 6.29, 6.28, 6.28, 6.26, 6.26, 6.25, 6.24, 6.24, 6.24, 6.24, 6.23, 6.23, 6.21, 6.2, 6.2, 6.2, 6.18, 6.17, 6.17, 6.16, 6.15, 6.14, 6.13, 6.13, 6.13, 6.12, 6.1, 6.1, 6.09, 6.09, 6.09, 6.07, 6.06, 6.04, 6.04, 6.03, 6.02, 6.01, 6.01, 6.01, 6.01, 5.99, 5.98, 5.97, 5.95, 5.94, 5.91, 5.9, 5.9, 5.9, 5.89, 5.89, 5.89, 5.87, 5.86, 5.82, 5.82, 5.8, 5.79, 5.79, 5.78, 5.77, 5.77, 5.77, 5.76, 5.75, 5.75, 5.74, 5.74, 5.73, 5.73, 5.73, 5.73, 5.73, 5.73, 5.72, 5.7, 5.7, 5.7, 5.69, 5.68, 5.68, 5.66, 5.64, 5.64, 5.63, 5.63, 5.61, 5.56, 5.53, 5.51, 5.51, 5.51, 5.5, 5.5, 5.49, 5.48, 5.46, 5.45, 5.43, 5.41, 5.39, 5.39, 5.38, 5.35, 5.32, 5.32, 5.31, 5.31, 5.3, 5.28, 5.28, 5.27, 5.27, 5.26, 5.26, 5.21, 5.21, 5.17, 5.16, 5.16, 5.15, 5.14, 5.13, 5.12, 5.12, 5.12, 5.11, 5.1, 5.09, 5.09, 5.08, 5.07, 5.07, 5.07, 5.06, 5.06, 5.06, 5.05, 5.04, 5.03, 5.0, 4.99, 4.99, 4.96, 4.96, 4.95, 4.94, 4.93, 4.91, 4.91, 4.89, 4.86, 4.82, 4.78, 4.77, 4.74, 4.74, 4.72, 4.71, 4.69, 4.67, 4.65, 4.64, 4.62, 4.62, 4.61, 4.6, 4.59, 4.59, 4.58, 4.56, 4.54, 4.53, 4.52, 4.52, 4.5, 4.48, 4.48, 4.48, 4.47, 4.47, 4.46, 4.46, 4.45, 4.41, 4.37, 4.33, 4.31, 4.27, 4.27, 4.25, 4.22, 4.18, 4.15, 4.14, 4.13, 4.13, 4.12, 4.08, 4.06, 4.06, 4.03, 4.0, 3.97, 3.97, 3.97, 3.95, 3.92, 3.9, 3.9, 3.66, 3.57, 3.54, 3.51, 3.49, 3.32, 3.32, 3.31, 3.29, 3.27, 3.27, 3.18, 3.16, 3.1, 3.1, 3.07, 3.07, 3.0, 2.96, 2.93, 2.92, 2.89, 2.88, 2.85, 2.72, 2.72, 2.64, 2.61, 2.45, 2.44, 2.38, 2.38, 2.35, 2.28, 2.18, 2.15, 2.12, 2.02, 1.57, 0.75], \"xaxis\": \"x\", \"y\": [56.2, 55.2, 9.3, 45.2, 11.2, 59.2, 71.9, 68.0, 7.4, 10.7, 69.5, 39.1, 44.7, 59.7, 64.6, 2.1, 66.1, 64.7, 39.4, 7.5, 62.5, 69.0, 66.3, 48.9, 14.7, 39.6, 63.0, 60.0, 59.4, 52.7, 56.0, 63.4, 53.8, 16.1, 59.4, 59.2, 25.8, 56.3, 63.6, 64.1, 8.2, 56.5, 43.3, 54.9, 50.1, 10.7, 31.8, 50.1, 17.0, 40.4, 2.1, 50.8, 60.1, 67.8, 65.0, 19.9, 17.4, 60.1, 54.1, 34.8, 12.9, 56.9, 48.2, 58.1, 50.5, 40.9, 41.1, 9.1, 35.8, 19.2, 33.0, 55.1, 42.2, 42.9, 18.9, 33.5, 69.1, 32.4, 53.1, 56.3, 55.1, 43.5, 51.5, 57.5, 56.1, 55.6, 12.8, 63.5, 49.0, 5.0, 59.0, 56.2, 58.2, 48.1, 50.9, 54.2, 42.2, 48.8, 54.2, 52.9, 17.4, 55.0, 51.4, 53.2, 47.2, 14.6, 21.3, 53.3, 51.9, 60.4, 51.8, 28.8, 40.9, 15.4, 35.0, 41.4, 53.8, 59.1, 13.1, 10.2, 55.4, 9.7, 45.2, 53.0, 56.6, 48.3, 8.2, 54.3, 59.6, 52.3, 51.6, 50.6, 46.7, 45.7, 62.0, 43.9, 41.0, 28.4, 9.5, 47.1, 30.6, 7.6, 46.8, 21.6, 32.5, 26.5, 51.3, 38.6, 18.7, 31.3, 26.4, 62.3, 28.4, 44.7, 40.5, 56.8, 57.8, 51.8, 19.2, 45.5, 47.9, 58.0, 49.8, 56.4, 42.9, 17.6, 57.8, 28.7, 66.0, 59.8, 65.0, 35.2, 66.2, 45.2, 35.2, 38.8, 35.8, 13.6, 13.2, 49.4, 41.4, 30.5, 49.8, 49.0, 47.5, 47.0, 15.3, 63.3, 48.9, 51.5, 52.7, 42.4, 41.5, 33.2, 19.8, 71.7, 42.4, 38.2, 76.6, 16.0, 14.4, 40.7, 11.7, 20.5, 44.8, 44.1, 28.9, 41.9, 16.8, 11.2, 52.7, 39.9, 43.1, 35.2, 50.0, 37.5, 61.2, 52.2, 23.9, 23.2, 18.4, 39.9, 31.3, 42.8, 18.1, 50.1, 46.6, 14.3, 31.0, 6.0, 39.7, 31.1, 36.0, 30.8, 15.7, 12.0, 6.2, 5.8, 21.4, 16.0, 15.3, 46.1, 27.8, 11.7, 33.1, 39.5, 41.1, 15.5, 25.7, 47.1, 44.1, 5.2, 38.9, 43.0, 38.4, 56.7, 21.4, 10.6, 38.7, 45.7, 16.1, 44.9, 41.2, 38.1, 36.6, 9.3, 52.2, 40.4, 26.3, 49.0, 29.4, 8.4, 20.6, 51.0, 48.2, 10.8, 11.2, 25.9, 45.5, 26.0, 48.9, 29.8, 33.4, 31.7, 23.0, 8.5, 23.7, 21.9, 45.5, 4.1, 48.0, 25.2, 16.7, 43.3, 18.3, 9.2, 35.7, 4.0, 40.8, 34.0, 37.7, 35.2, 17.9, 9.6, 30.8, 31.5, 39.1, 41.0, 46.3, 26.7, 8.3, 22.0, 9.8, 46.8, 23.7, 36.1, 5.5, 21.4, 59.8, 35.3, 7.7, 7.6, 16.3, 56.1, 47.4, 43.0, 34.2, 27.7, 19.4, 49.0, 32.8, 5.4, 18.2, 22.2, 11.8, 29.7, 42.0, 7.7, 36.9, 6.5, 8.7, 11.2, 5.5, 30.3, 31.3, 9.8, 20.9, 6.9, 20.2, 9.8, 32.4, 18.2, 34.3, 39.8, 25.8, 22.7, 13.9, 38.7, 27.3, 14.4, 13.0, 34.7, 14.1, 15.1, 32.3, 36.9, 36.6, 6.3, 25.9, 13.6, 24.8, 37.9, 26.6, 25.7, 14.0, 14.8, 5.3, 38.6, 26.7, 35.8, 47.3, 27.5, 21.4, 18.7, 11.9, 12.2, 19.6, 27.8, 20.1, 30.7, 17.9, 29.1, 3.3, 14.8, 18.2, 26.6, 15.8, 5.2, 31.5, 8.9, 24.0, 23.8, 6.5, 28.1, 52.7, 15.7, 17.3, 32.5, 37.4, 21.9, 14.5, 21.0, 23.2, 18.8, 5.8, 20.7, 20.2, 10.7, 14.1, 9.1, 7.5, 3.6, 14.3, 13.0, 16.2, 21.9, 2.2, 15.5, 37.9, 7.7, 19.3, 7.1, 22.6, 11.1, 5.2, 9.3, 26.4, 4.9, 5.7, 2.3, 9.4, 27.2, 20.1, 30.7, 7.5, 22.2, 7.2, 3.8, 10.3, 13.7, 6.4, 7.2, 8.5, 14.1, 13.5, 18.8, 7.7, 9.5, 27.9, 18.2, 25.7, 3.6, 5.1, 8.0, 3.9, 22.3, 7.3, 20.2, 5.4, 17.9, 3.5, 6.4, 23.3, 27.3, 19.6, 9.4, 6.8, 29.1, 10.0, 3.9, 5.8, 11.8, 5.3, 7.7, 5.3, 10.2, 7.7, 9.4, 5.3, 8.1, 5.0, 5.1, 4.0, 4.9, 2.2, 11.1, 2.8, 2.1, 12.5, 20.4], \"yaxis\": \"y\"}],                        {\"height\": 800, \"legend\": {\"itemsizing\": \"constant\", \"tracegroupgap\": 0}, \"shapes\": [{\"type\": \"line\", \"x0\": 0, \"x1\": 1, \"xref\": \"x domain\", \"y0\": 31.0, \"y1\": 31.0, \"yref\": \"y\"}, {\"type\": \"line\", \"x0\": 6.0, \"x1\": 6.0, \"xref\": \"x\", \"y0\": 0, \"y1\": 1, \"yref\": \"y domain\"}, {\"line\": {\"color\": \"red\", \"dash\": \"dash\"}, \"type\": \"line\", \"x0\": 0, \"x1\": 1, \"xref\": \"x domain\", \"y0\": 61.23999999999997, \"y1\": 61.23999999999997, \"yref\": \"y\"}, {\"line\": {\"color\": \"red\", \"dash\": \"dash\"}, \"type\": \"line\", \"x0\": 8.674499999999995, \"x1\": 8.674499999999995, \"xref\": \"x\", \"y0\": 0, \"y1\": 1, \"yref\": \"y domain\"}], \"template\": {\"data\": {\"bar\": [{\"error_x\": {\"color\": \"#2a3f5f\"}, \"error_y\": {\"color\": \"#2a3f5f\"}, \"marker\": {\"line\": {\"color\": \"#E5ECF6\", \"width\": 0.5}}, \"type\": \"bar\"}], \"barpolar\": [{\"marker\": {\"line\": {\"color\": \"#E5ECF6\", \"width\": 0.5}}, \"type\": \"barpolar\"}], \"carpet\": [{\"aaxis\": {\"endlinecolor\": \"#2a3f5f\", \"gridcolor\": \"white\", \"linecolor\": \"white\", \"minorgridcolor\": \"white\", \"startlinecolor\": \"#2a3f5f\"}, \"baxis\": {\"endlinecolor\": \"#2a3f5f\", \"gridcolor\": \"white\", \"linecolor\": \"white\", \"minorgridcolor\": \"white\", \"startlinecolor\": \"#2a3f5f\"}, \"type\": \"carpet\"}], \"choropleth\": [{\"colorbar\": {\"outlinewidth\": 0, \"ticks\": \"\"}, \"type\": \"choropleth\"}], \"contour\": [{\"colorbar\": {\"outlinewidth\": 0, \"ticks\": \"\"}, \"colorscale\": [[0.0, \"#0d0887\"], [0.1111111111111111, \"#46039f\"], [0.2222222222222222, \"#7201a8\"], [0.3333333333333333, \"#9c179e\"], [0.4444444444444444, \"#bd3786\"], [0.5555555555555556, \"#d8576b\"], [0.6666666666666666, \"#ed7953\"], [0.7777777777777778, \"#fb9f3a\"], [0.8888888888888888, \"#fdca26\"], [1.0, \"#f0f921\"]], \"type\": \"contour\"}], \"contourcarpet\": [{\"colorbar\": {\"outlinewidth\": 0, \"ticks\": \"\"}, \"type\": \"contourcarpet\"}], \"heatmap\": [{\"colorbar\": {\"outlinewidth\": 0, \"ticks\": \"\"}, \"colorscale\": [[0.0, \"#0d0887\"], [0.1111111111111111, \"#46039f\"], [0.2222222222222222, \"#7201a8\"], [0.3333333333333333, \"#9c179e\"], [0.4444444444444444, \"#bd3786\"], [0.5555555555555556, \"#d8576b\"], [0.6666666666666666, \"#ed7953\"], [0.7777777777777778, \"#fb9f3a\"], [0.8888888888888888, \"#fdca26\"], [1.0, \"#f0f921\"]], \"type\": \"heatmap\"}], \"heatmapgl\": [{\"colorbar\": {\"outlinewidth\": 0, \"ticks\": \"\"}, \"colorscale\": [[0.0, \"#0d0887\"], [0.1111111111111111, \"#46039f\"], [0.2222222222222222, \"#7201a8\"], [0.3333333333333333, \"#9c179e\"], [0.4444444444444444, \"#bd3786\"], [0.5555555555555556, \"#d8576b\"], [0.6666666666666666, \"#ed7953\"], [0.7777777777777778, \"#fb9f3a\"], [0.8888888888888888, \"#fdca26\"], [1.0, \"#f0f921\"]], \"type\": \"heatmapgl\"}], \"histogram\": [{\"marker\": {\"colorbar\": {\"outlinewidth\": 0, \"ticks\": \"\"}}, \"type\": \"histogram\"}], \"histogram2d\": [{\"colorbar\": {\"outlinewidth\": 0, \"ticks\": \"\"}, \"colorscale\": [[0.0, \"#0d0887\"], [0.1111111111111111, \"#46039f\"], [0.2222222222222222, \"#7201a8\"], [0.3333333333333333, \"#9c179e\"], [0.4444444444444444, \"#bd3786\"], [0.5555555555555556, \"#d8576b\"], [0.6666666666666666, \"#ed7953\"], [0.7777777777777778, \"#fb9f3a\"], [0.8888888888888888, \"#fdca26\"], [1.0, \"#f0f921\"]], \"type\": \"histogram2d\"}], \"histogram2dcontour\": [{\"colorbar\": {\"outlinewidth\": 0, \"ticks\": \"\"}, \"colorscale\": [[0.0, \"#0d0887\"], [0.1111111111111111, \"#46039f\"], [0.2222222222222222, \"#7201a8\"], [0.3333333333333333, \"#9c179e\"], [0.4444444444444444, \"#bd3786\"], [0.5555555555555556, \"#d8576b\"], [0.6666666666666666, \"#ed7953\"], [0.7777777777777778, \"#fb9f3a\"], [0.8888888888888888, \"#fdca26\"], [1.0, \"#f0f921\"]], \"type\": \"histogram2dcontour\"}], \"mesh3d\": [{\"colorbar\": {\"outlinewidth\": 0, \"ticks\": \"\"}, \"type\": \"mesh3d\"}], \"parcoords\": [{\"line\": {\"colorbar\": {\"outlinewidth\": 0, \"ticks\": \"\"}}, \"type\": \"parcoords\"}], \"pie\": [{\"automargin\": true, \"type\": \"pie\"}], \"scatter\": [{\"marker\": {\"colorbar\": {\"outlinewidth\": 0, \"ticks\": \"\"}}, \"type\": \"scatter\"}], \"scatter3d\": [{\"line\": {\"colorbar\": {\"outlinewidth\": 0, \"ticks\": \"\"}}, \"marker\": {\"colorbar\": {\"outlinewidth\": 0, \"ticks\": \"\"}}, \"type\": \"scatter3d\"}], \"scattercarpet\": [{\"marker\": {\"colorbar\": {\"outlinewidth\": 0, \"ticks\": \"\"}}, \"type\": \"scattercarpet\"}], \"scattergeo\": [{\"marker\": {\"colorbar\": {\"outlinewidth\": 0, \"ticks\": \"\"}}, \"type\": \"scattergeo\"}], \"scattergl\": [{\"marker\": {\"colorbar\": {\"outlinewidth\": 0, \"ticks\": \"\"}}, \"type\": \"scattergl\"}], \"scattermapbox\": [{\"marker\": {\"colorbar\": {\"outlinewidth\": 0, \"ticks\": \"\"}}, \"type\": \"scattermapbox\"}], \"scatterpolar\": [{\"marker\": {\"colorbar\": {\"outlinewidth\": 0, \"ticks\": \"\"}}, \"type\": \"scatterpolar\"}], \"scatterpolargl\": [{\"marker\": {\"colorbar\": {\"outlinewidth\": 0, \"ticks\": \"\"}}, \"type\": \"scatterpolargl\"}], \"scatterternary\": [{\"marker\": {\"colorbar\": {\"outlinewidth\": 0, \"ticks\": \"\"}}, \"type\": \"scatterternary\"}], \"surface\": [{\"colorbar\": {\"outlinewidth\": 0, \"ticks\": \"\"}, \"colorscale\": [[0.0, \"#0d0887\"], [0.1111111111111111, \"#46039f\"], [0.2222222222222222, \"#7201a8\"], [0.3333333333333333, \"#9c179e\"], [0.4444444444444444, \"#bd3786\"], [0.5555555555555556, \"#d8576b\"], [0.6666666666666666, \"#ed7953\"], [0.7777777777777778, \"#fb9f3a\"], [0.8888888888888888, \"#fdca26\"], [1.0, \"#f0f921\"]], \"type\": \"surface\"}], \"table\": [{\"cells\": {\"fill\": {\"color\": \"#EBF0F8\"}, \"line\": {\"color\": \"white\"}}, \"header\": {\"fill\": {\"color\": \"#C8D4E3\"}, \"line\": {\"color\": \"white\"}}, \"type\": \"table\"}]}, \"layout\": {\"annotationdefaults\": {\"arrowcolor\": \"#2a3f5f\", \"arrowhead\": 0, \"arrowwidth\": 1}, \"coloraxis\": {\"colorbar\": {\"outlinewidth\": 0, \"ticks\": \"\"}}, \"colorscale\": {\"diverging\": [[0, \"#8e0152\"], [0.1, \"#c51b7d\"], [0.2, \"#de77ae\"], [0.3, \"#f1b6da\"], [0.4, \"#fde0ef\"], [0.5, \"#f7f7f7\"], [0.6, \"#e6f5d0\"], [0.7, \"#b8e186\"], [0.8, \"#7fbc41\"], [0.9, \"#4d9221\"], [1, \"#276419\"]], \"sequential\": [[0.0, \"#0d0887\"], [0.1111111111111111, \"#46039f\"], [0.2222222222222222, \"#7201a8\"], [0.3333333333333333, \"#9c179e\"], [0.4444444444444444, \"#bd3786\"], [0.5555555555555556, \"#d8576b\"], [0.6666666666666666, \"#ed7953\"], [0.7777777777777778, \"#fb9f3a\"], [0.8888888888888888, \"#fdca26\"], [1.0, \"#f0f921\"]], \"sequentialminus\": [[0.0, \"#0d0887\"], [0.1111111111111111, \"#46039f\"], [0.2222222222222222, \"#7201a8\"], [0.3333333333333333, \"#9c179e\"], [0.4444444444444444, \"#bd3786\"], [0.5555555555555556, \"#d8576b\"], [0.6666666666666666, \"#ed7953\"], [0.7777777777777778, \"#fb9f3a\"], [0.8888888888888888, \"#fdca26\"], [1.0, \"#f0f921\"]]}, \"colorway\": [\"#636efa\", \"#EF553B\", \"#00cc96\", \"#ab63fa\", \"#FFA15A\", \"#19d3f3\", \"#FF6692\", \"#B6E880\", \"#FF97FF\", \"#FECB52\"], \"font\": {\"color\": \"#2a3f5f\"}, \"geo\": {\"bgcolor\": \"white\", \"lakecolor\": \"white\", \"landcolor\": \"#E5ECF6\", \"showlakes\": true, \"showland\": true, \"subunitcolor\": \"white\"}, \"hoverlabel\": {\"align\": \"left\"}, \"hovermode\": \"closest\", \"mapbox\": {\"style\": \"light\"}, \"paper_bgcolor\": \"white\", \"plot_bgcolor\": \"#E5ECF6\", \"polar\": {\"angularaxis\": {\"gridcolor\": \"white\", \"linecolor\": \"white\", \"ticks\": \"\"}, \"bgcolor\": \"#E5ECF6\", \"radialaxis\": {\"gridcolor\": \"white\", \"linecolor\": \"white\", \"ticks\": \"\"}}, \"scene\": {\"xaxis\": {\"backgroundcolor\": \"#E5ECF6\", \"gridcolor\": \"white\", \"gridwidth\": 2, \"linecolor\": \"white\", \"showbackground\": true, \"ticks\": \"\", \"zerolinecolor\": \"white\"}, \"yaxis\": {\"backgroundcolor\": \"#E5ECF6\", \"gridcolor\": \"white\", \"gridwidth\": 2, \"linecolor\": \"white\", \"showbackground\": true, \"ticks\": \"\", \"zerolinecolor\": \"white\"}, \"zaxis\": {\"backgroundcolor\": \"#E5ECF6\", \"gridcolor\": \"white\", \"gridwidth\": 2, \"linecolor\": \"white\", \"showbackground\": true, \"ticks\": \"\", \"zerolinecolor\": \"white\"}}, \"shapedefaults\": {\"line\": {\"color\": \"#2a3f5f\"}}, \"ternary\": {\"aaxis\": {\"gridcolor\": \"white\", \"linecolor\": \"white\", \"ticks\": \"\"}, \"baxis\": {\"gridcolor\": \"white\", \"linecolor\": \"white\", \"ticks\": \"\"}, \"bgcolor\": \"#E5ECF6\", \"caxis\": {\"gridcolor\": \"white\", \"linecolor\": \"white\", \"ticks\": \"\"}}, \"title\": {\"x\": 0.05}, \"xaxis\": {\"automargin\": true, \"gridcolor\": \"white\", \"linecolor\": \"white\", \"ticks\": \"\", \"title\": {\"standoff\": 15}, \"zerolinecolor\": \"white\", \"zerolinewidth\": 2}, \"yaxis\": {\"automargin\": true, \"gridcolor\": \"white\", \"linecolor\": \"white\", \"ticks\": \"\", \"title\": {\"standoff\": 15}, \"zerolinecolor\": \"white\", \"zerolinewidth\": 2}}}, \"title\": {\"text\": \"PP TOI% vs PP GF/60\"}, \"width\": 800, \"xaxis\": {\"anchor\": \"y\", \"domain\": [0.0, 1.0], \"title\": {\"text\": \"PP GF/60\"}}, \"yaxis\": {\"anchor\": \"x\", \"domain\": [0.0, 1.0], \"title\": {\"text\": \"PP TOI%\"}}},                        {\"responsive\": true}                    ).then(function(){\n",
       "                            \n",
       "var gd = document.getElementById('f26bdf60-3c26-445e-93af-8a1bb49032e2');\n",
       "var x = new MutationObserver(function (mutations, observer) {{\n",
       "        var display = window.getComputedStyle(gd).display;\n",
       "        if (!display || display === 'none') {{\n",
       "            console.log([gd, 'removed!']);\n",
       "            Plotly.purge(gd);\n",
       "            observer.disconnect();\n",
       "        }}\n",
       "}});\n",
       "\n",
       "// Listen for the removal of the full notebook cells\n",
       "var notebookContainer = gd.closest('#notebook-container');\n",
       "if (notebookContainer) {{\n",
       "    x.observe(notebookContainer, {childList: true});\n",
       "}}\n",
       "\n",
       "// Listen for the clearing of the current output cell\n",
       "var outputEl = gd.closest('.output');\n",
       "if (outputEl) {{\n",
       "    x.observe(outputEl, {childList: true});\n",
       "}}\n",
       "\n",
       "                        })                };                });            </script>        </div>"
      ]
     },
     "metadata": {},
     "output_type": "display_data"
    }
   ],
   "source": [
    "#Finding the top power play players from the remaining players of our data set. \n",
    "\n",
    "fig = px.scatter(df, x=\"PP GF/60\", y=\"PP TOI%\",hover_name=\"Player\", hover_data=['Pos'], title=\"PP TOI% vs PP GF/60\",\n",
    "                 width=800, height=800,size_max=10,size='GP',opacity=.75)  \n",
    "\n",
    "x_mean = round(df[\"PP GF/60\"].mean(), 0)\n",
    "y_mean = round(df[\"PP TOI%\"].mean(), 0)\n",
    "\n",
    "x_unicorn = np.percentile(df[\"PP GF/60\"], 95)\n",
    "y_unicorn = np.percentile(df[\"PP TOI%\"], 95)\n",
    "\n",
    "print('midpoint',x_mean,y_mean)\n",
    "fig.add_hline(y=y_mean).add_vline(x=x_mean).add_hline(\n",
    "    y=y_unicorn, line_dash = 'dash', line_color = 'red').add_vline(\n",
    "    x=x_unicorn, line_dash = 'dash', line_color = 'red')\n",
    "\n",
    "fig.write_html(\"PP TOI% vs PP GF per 60.html\")"
   ]
  },
  {
   "cell_type": "code",
   "execution_count": null,
   "metadata": {},
   "outputs": [],
   "source": []
  }
 ],
 "metadata": {
  "kernelspec": {
   "display_name": "Python 3",
   "language": "python",
   "name": "python3"
  },
  "language_info": {
   "codemirror_mode": {
    "name": "ipython",
    "version": 3
   },
   "file_extension": ".py",
   "mimetype": "text/x-python",
   "name": "python",
   "nbconvert_exporter": "python",
   "pygments_lexer": "ipython3",
   "version": "3.7.6"
  }
 },
 "nbformat": 4,
 "nbformat_minor": 4
}
