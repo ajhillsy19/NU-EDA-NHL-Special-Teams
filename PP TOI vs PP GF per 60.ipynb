{
 "cells": [
  {
   "cell_type": "code",
   "execution_count": 6,
   "metadata": {},
   "outputs": [],
   "source": [
    "import pandas as pd\n",
    "import numpy as np\n",
    "import seaborn as sns\n",
    "import matplotlib as mpl\n",
    "import matplotlib.pyplot as plt\n",
    "%matplotlib inline\n",
    "import plotly.express as px\n",
    "\n",
    "from IPython.core.interactiveshell import InteractiveShell\n",
    "InteractiveShell.ast_node_interactivity = 'all'\n",
    "df = pd.read_csv('all_specialteams.csv')"
   ]
  },
  {
   "cell_type": "code",
   "execution_count": 11,
   "metadata": {},
   "outputs": [
    {
     "name": "stdout",
     "output_type": "stream",
     "text": [
      "midpoint 6.0 619.0\n"
     ]
    },
    {
     "data": {
      "application/vnd.plotly.v1+json": {
       "config": {
        "plotlyServerURL": "https://plot.ly"
       },
       "data": [
        {
         "customdata": [
          [
           "R"
          ],
          [
           "C"
          ],
          [
           "D"
          ],
          [
           "L"
          ],
          [
           "D"
          ],
          [
           "C"
          ],
          [
           "C"
          ],
          [
           "C"
          ],
          [
           "C"
          ],
          [
           "C"
          ],
          [
           "C"
          ],
          [
           "R"
          ],
          [
           "D"
          ],
          [
           "R"
          ],
          [
           "C"
          ],
          [
           "D"
          ],
          [
           "C"
          ],
          [
           "C"
          ],
          [
           "R"
          ],
          [
           "D"
          ],
          [
           "D"
          ],
          [
           "D"
          ],
          [
           "D"
          ],
          [
           "D"
          ],
          [
           "D"
          ],
          [
           "L"
          ],
          [
           "C"
          ],
          [
           "L"
          ],
          [
           "C"
          ],
          [
           "C"
          ],
          [
           "D"
          ],
          [
           "C"
          ],
          [
           "D"
          ],
          [
           "R"
          ],
          [
           "L"
          ],
          [
           "R"
          ],
          [
           "C"
          ],
          [
           "C"
          ],
          [
           "C"
          ],
          [
           "D"
          ],
          [
           "C"
          ],
          [
           "C"
          ],
          [
           "R"
          ],
          [
           "C"
          ],
          [
           "D"
          ],
          [
           "L"
          ],
          [
           "C"
          ],
          [
           "C"
          ],
          [
           "D"
          ],
          [
           "C"
          ],
          [
           "C"
          ],
          [
           "L"
          ],
          [
           "C"
          ],
          [
           "C"
          ],
          [
           "D"
          ],
          [
           "C"
          ],
          [
           "L"
          ],
          [
           "R"
          ],
          [
           "C"
          ],
          [
           "R"
          ],
          [
           "D"
          ],
          [
           "C"
          ],
          [
           "R"
          ],
          [
           "C"
          ],
          [
           "C"
          ],
          [
           "L"
          ],
          [
           "D"
          ],
          [
           "C"
          ],
          [
           "L"
          ],
          [
           "C"
          ],
          [
           "D"
          ],
          [
           "L"
          ],
          [
           "C"
          ],
          [
           "C"
          ],
          [
           "R"
          ],
          [
           "D"
          ],
          [
           "D"
          ],
          [
           "C"
          ],
          [
           "R"
          ],
          [
           "C"
          ],
          [
           "C"
          ],
          [
           "D"
          ],
          [
           "D"
          ],
          [
           "L"
          ],
          [
           "D"
          ],
          [
           "R"
          ],
          [
           "D"
          ],
          [
           "D"
          ],
          [
           "L"
          ],
          [
           "R"
          ],
          [
           "C"
          ],
          [
           "L"
          ],
          [
           "D"
          ],
          [
           "L"
          ],
          [
           "C"
          ],
          [
           "L"
          ],
          [
           "L"
          ],
          [
           "L"
          ],
          [
           "C"
          ],
          [
           "R"
          ],
          [
           "D"
          ],
          [
           "C"
          ],
          [
           "D"
          ],
          [
           "C"
          ],
          [
           "R"
          ],
          [
           "D"
          ],
          [
           "D"
          ],
          [
           "C"
          ],
          [
           "D"
          ],
          [
           "D"
          ],
          [
           "L"
          ],
          [
           "D"
          ],
          [
           "C"
          ],
          [
           "C"
          ],
          [
           "L"
          ],
          [
           "C"
          ],
          [
           "C"
          ],
          [
           "C"
          ],
          [
           "D"
          ],
          [
           "D"
          ],
          [
           "L"
          ],
          [
           "L"
          ],
          [
           "C"
          ],
          [
           "C"
          ],
          [
           "R"
          ],
          [
           "L"
          ],
          [
           "C"
          ],
          [
           "D"
          ],
          [
           "D"
          ],
          [
           "D"
          ],
          [
           "R"
          ],
          [
           "D"
          ],
          [
           "L"
          ],
          [
           "C"
          ],
          [
           "C"
          ],
          [
           "R"
          ],
          [
           "L"
          ],
          [
           "L"
          ],
          [
           "D"
          ],
          [
           "C"
          ],
          [
           "C"
          ],
          [
           "D"
          ],
          [
           "L"
          ],
          [
           "D"
          ],
          [
           "R"
          ],
          [
           "D"
          ],
          [
           "D"
          ],
          [
           "L"
          ],
          [
           "D"
          ],
          [
           "D"
          ],
          [
           "D"
          ],
          [
           "L"
          ],
          [
           "R"
          ],
          [
           "C"
          ],
          [
           "C"
          ],
          [
           "D"
          ],
          [
           "D"
          ],
          [
           "D"
          ],
          [
           "C"
          ],
          [
           "C"
          ],
          [
           "C"
          ],
          [
           "L"
          ],
          [
           "R"
          ],
          [
           "D"
          ],
          [
           "D"
          ],
          [
           "D"
          ],
          [
           "D"
          ],
          [
           "C"
          ],
          [
           "D"
          ],
          [
           "D"
          ],
          [
           "D"
          ],
          [
           "D"
          ],
          [
           "D"
          ],
          [
           "C"
          ],
          [
           "C"
          ],
          [
           "R"
          ],
          [
           "D"
          ],
          [
           "L"
          ],
          [
           "L"
          ],
          [
           "C"
          ],
          [
           "C"
          ],
          [
           "L"
          ],
          [
           "C"
          ],
          [
           "C"
          ],
          [
           "L"
          ],
          [
           "D"
          ],
          [
           "D"
          ],
          [
           "D"
          ],
          [
           "C"
          ],
          [
           "R"
          ],
          [
           "C"
          ],
          [
           "C"
          ],
          [
           "R"
          ],
          [
           "L"
          ],
          [
           "D"
          ],
          [
           "D"
          ],
          [
           "R"
          ],
          [
           "D"
          ],
          [
           "D"
          ],
          [
           "D"
          ],
          [
           "D"
          ],
          [
           "C"
          ],
          [
           "C"
          ],
          [
           "C"
          ],
          [
           "D"
          ],
          [
           "D"
          ],
          [
           "C"
          ],
          [
           "L"
          ],
          [
           "C"
          ],
          [
           "C"
          ],
          [
           "D"
          ],
          [
           "R"
          ],
          [
           "D"
          ],
          [
           "C"
          ],
          [
           "C"
          ],
          [
           "D"
          ],
          [
           "C"
          ],
          [
           "D"
          ],
          [
           "D"
          ],
          [
           "D"
          ],
          [
           "D"
          ],
          [
           "R"
          ],
          [
           "R"
          ],
          [
           "D"
          ],
          [
           "C"
          ],
          [
           "C"
          ],
          [
           "C"
          ],
          [
           "D"
          ],
          [
           "D"
          ],
          [
           "R"
          ],
          [
           "C"
          ],
          [
           "C"
          ],
          [
           "D"
          ],
          [
           "C"
          ],
          [
           "D"
          ],
          [
           "D"
          ],
          [
           "C"
          ],
          [
           "C"
          ],
          [
           "D"
          ],
          [
           "C"
          ],
          [
           "D"
          ],
          [
           "R"
          ],
          [
           "R"
          ],
          [
           "C"
          ],
          [
           "D"
          ],
          [
           "D"
          ],
          [
           "L"
          ],
          [
           "D"
          ],
          [
           "L"
          ],
          [
           "D"
          ],
          [
           "R"
          ],
          [
           "C"
          ],
          [
           "D"
          ],
          [
           "C"
          ],
          [
           "D"
          ],
          [
           "D"
          ],
          [
           "C"
          ],
          [
           "C"
          ],
          [
           "D"
          ],
          [
           "L"
          ],
          [
           "C"
          ],
          [
           "L"
          ],
          [
           "L"
          ],
          [
           "D"
          ],
          [
           "D"
          ],
          [
           "R"
          ],
          [
           "C"
          ],
          [
           "D"
          ],
          [
           "D"
          ],
          [
           "L"
          ],
          [
           "L"
          ],
          [
           "D"
          ],
          [
           "L"
          ],
          [
           "C"
          ],
          [
           "D"
          ],
          [
           "D"
          ],
          [
           "D"
          ],
          [
           "D"
          ],
          [
           "L"
          ],
          [
           "L"
          ],
          [
           "L"
          ],
          [
           "D"
          ],
          [
           "L"
          ],
          [
           "C"
          ],
          [
           "C"
          ],
          [
           "R"
          ],
          [
           "R"
          ],
          [
           "C"
          ],
          [
           "L"
          ],
          [
           "L"
          ],
          [
           "D"
          ],
          [
           "D"
          ],
          [
           "C"
          ],
          [
           "D"
          ],
          [
           "L"
          ],
          [
           "C"
          ],
          [
           "C"
          ],
          [
           "D"
          ],
          [
           "C"
          ],
          [
           "R"
          ],
          [
           "D"
          ],
          [
           "D"
          ],
          [
           "C"
          ],
          [
           "D"
          ],
          [
           "R"
          ],
          [
           "R"
          ],
          [
           "L"
          ],
          [
           "D"
          ],
          [
           "D"
          ],
          [
           "C"
          ],
          [
           "L"
          ],
          [
           "D"
          ],
          [
           "C"
          ],
          [
           "C"
          ],
          [
           "D"
          ],
          [
           "D"
          ],
          [
           "C"
          ],
          [
           "C"
          ],
          [
           "R"
          ],
          [
           "C"
          ],
          [
           "L"
          ],
          [
           "L"
          ],
          [
           "C"
          ],
          [
           "D"
          ],
          [
           "C"
          ],
          [
           "R"
          ],
          [
           "C"
          ],
          [
           "L"
          ],
          [
           "C"
          ],
          [
           "D"
          ],
          [
           "C"
          ],
          [
           "C"
          ],
          [
           "D"
          ],
          [
           "D"
          ],
          [
           "D"
          ],
          [
           "D"
          ],
          [
           "C"
          ],
          [
           "D"
          ],
          [
           "D"
          ],
          [
           "D"
          ],
          [
           "L"
          ],
          [
           "L"
          ],
          [
           "C"
          ],
          [
           "D"
          ],
          [
           "C"
          ],
          [
           "D"
          ],
          [
           "D"
          ],
          [
           "L"
          ],
          [
           "C"
          ],
          [
           "C"
          ],
          [
           "D"
          ],
          [
           "D"
          ],
          [
           "C"
          ],
          [
           "D"
          ],
          [
           "C"
          ],
          [
           "D"
          ],
          [
           "C"
          ],
          [
           "L"
          ],
          [
           "D"
          ],
          [
           "D"
          ],
          [
           "C"
          ],
          [
           "L"
          ],
          [
           "D"
          ],
          [
           "D"
          ],
          [
           "C"
          ],
          [
           "D"
          ],
          [
           "R"
          ],
          [
           "C"
          ],
          [
           "D"
          ],
          [
           "C"
          ],
          [
           "D"
          ],
          [
           "D"
          ],
          [
           "D"
          ],
          [
           "D"
          ],
          [
           "C"
          ],
          [
           "R"
          ],
          [
           "C"
          ],
          [
           "C"
          ],
          [
           "C"
          ],
          [
           "L"
          ],
          [
           "D"
          ],
          [
           "L"
          ],
          [
           "D"
          ],
          [
           "R"
          ],
          [
           "D"
          ],
          [
           "D"
          ],
          [
           "D"
          ],
          [
           "C"
          ],
          [
           "R"
          ],
          [
           "C"
          ],
          [
           "D"
          ],
          [
           "L"
          ],
          [
           "D"
          ],
          [
           "C"
          ],
          [
           "D"
          ],
          [
           "C"
          ],
          [
           "C"
          ],
          [
           "D"
          ],
          [
           "R"
          ],
          [
           "R"
          ],
          [
           "C"
          ],
          [
           "R"
          ],
          [
           "L"
          ],
          [
           "R"
          ],
          [
           "D"
          ],
          [
           "C"
          ],
          [
           "C"
          ],
          [
           "C"
          ],
          [
           "D"
          ],
          [
           "R"
          ],
          [
           "R"
          ],
          [
           "R"
          ],
          [
           "C"
          ],
          [
           "C"
          ],
          [
           "D"
          ],
          [
           "C"
          ],
          [
           "C"
          ],
          [
           "L"
          ],
          [
           "D"
          ],
          [
           "D"
          ],
          [
           "D"
          ],
          [
           "D"
          ],
          [
           "D"
          ],
          [
           "R"
          ],
          [
           "C"
          ],
          [
           "C"
          ],
          [
           "L"
          ],
          [
           "D"
          ],
          [
           "D"
          ],
          [
           "D"
          ],
          [
           "D"
          ],
          [
           "D"
          ],
          [
           "C"
          ],
          [
           "D"
          ],
          [
           "C"
          ],
          [
           "C"
          ],
          [
           "C"
          ],
          [
           "C"
          ],
          [
           "L"
          ],
          [
           "D"
          ],
          [
           "L"
          ],
          [
           "C"
          ],
          [
           "D"
          ],
          [
           "C"
          ],
          [
           "L"
          ],
          [
           "C"
          ],
          [
           "D"
          ],
          [
           "L"
          ],
          [
           "D"
          ],
          [
           "D"
          ],
          [
           "R"
          ],
          [
           "R"
          ],
          [
           "R"
          ],
          [
           "D"
          ],
          [
           "C"
          ],
          [
           "C"
          ],
          [
           "D"
          ],
          [
           "R"
          ],
          [
           "C"
          ],
          [
           "D"
          ],
          [
           "D"
          ],
          [
           "D"
          ],
          [
           "D"
          ],
          [
           "D"
          ],
          [
           "D"
          ],
          [
           "D"
          ],
          [
           "D"
          ],
          [
           "R"
          ],
          [
           "C"
          ],
          [
           "D"
          ],
          [
           "D"
          ],
          [
           "D"
          ],
          [
           "D"
          ],
          [
           "L"
          ],
          [
           "D"
          ],
          [
           "R"
          ],
          [
           "L"
          ],
          [
           "L"
          ],
          [
           "C"
          ],
          [
           "D"
          ],
          [
           "D"
          ],
          [
           "D"
          ],
          [
           "D"
          ],
          [
           "C"
          ],
          [
           "D"
          ],
          [
           "R"
          ],
          [
           "L"
          ],
          [
           "D"
          ],
          [
           "C"
          ],
          [
           "D"
          ],
          [
           "C"
          ],
          [
           "D"
          ],
          [
           "D"
          ],
          [
           "L"
          ],
          [
           "L"
          ],
          [
           "R"
          ],
          [
           "L"
          ],
          [
           "C"
          ],
          [
           "R"
          ],
          [
           "R"
          ]
         ],
         "hovertemplate": "<b>%{hovertext}</b><br><br>PP GF/60=%{x}<br>PP_TOI=%{y}<br>GP=%{marker.size}<br>Pos=%{customdata[0]}<extra></extra>",
         "hovertext": [
          "Mitchell Marner",
          "Brayden Point",
          "Joe Morrow",
          "Brad Marchand",
          "Taylor Fedun",
          "Patrice Bergeron",
          "Sidney Crosby",
          "Nicklas Backstrom",
          "Blake Coleman",
          "Anthony Cirelli",
          "Connor McDavid",
          "Patrick Eaves",
          "Neal Pionk",
          "T.J. Oshie",
          "Steven Stamkos",
          "Niklas Hjalmarsson",
          "John Tavares",
          "Claude Giroux",
          "Troy Brouwer",
          "Chad Ruhwedel",
          "John Klingberg",
          "Kris Letang",
          "Torey Krug",
          "Oscar Klefbom",
          "Nikita Zaitsev",
          "Ondrej Palat",
          "Joe Pavelski",
          "Jamie Benn",
          "Ryan O'Reilly",
          "Jason Spezza",
          "Kevin Shattenkirk",
          "Tyler Seguin",
          "Victor Hedman",
          "Bryan Rust",
          "Kyle Connor",
          "Wayne Simmonds",
          "Yanni Gourde",
          "Ryan Nugent-Hopkins",
          "Leon Draisaitl",
          "John Carlson",
          "Johan Larsson",
          "Brayden Schenn",
          "David Backes",
          "Marcus Johansson",
          "Kimmo Timonen",
          "Darren Helm",
          "Mark Letestu",
          "Tyler Bozak",
          "Nate Schmidt",
          "J.T. Miller",
          "Casey Cizikas",
          "Alexander Steen",
          "Logan Couture",
          "Jack Eichel",
          "Brent Burns",
          "Dave Bolland",
          "Erik Haula",
          "Blake Wheeler",
          "Patrick Marleau",
          "Alex Chiasson",
          "Mike Matheson",
          "Sean Monahan",
          "Kyle Palmieri",
          "Nathan MacKinnon",
          "Paul Stastny",
          "J.T. Compher",
          "Morgan Rielly",
          "Nic Dowd",
          "Chris Kunitz",
          "Jacob Josefson",
          "Matt Niskanen",
          "James van Riemsdyk",
          "Travis Zajac",
          "Tyler Johnson",
          "Leo Komarov",
          "Mikhail Sergachev",
          "Keith Yandle",
          "David Legwand",
          "Mark Stone",
          "Aleksander Barkov",
          "Mark Scheifele",
          "Jared Spurgeon",
          "Niklas Kronwall",
          "Taylor Hall",
          "Rasmus Ristolainen",
          "Vladimir Tarasenko",
          "Sean Walker",
          "Dustin Byfuglien",
          "Jaden Schwartz",
          "Josh Jooris",
          "Jonathan Toews",
          "Gabriel Landeskog",
          "Mark Giordano",
          "Teuvo Teravainen",
          "David Krejci",
          "Jonathan Huberdeau",
          "Jake Guentzel",
          "David Perron",
          "Ryan Johansen",
          "Mats Zuccarello",
          "Chris Phillips",
          "Sebastian Aho",
          "Mark Streit",
          "Mika Zibanejad",
          "Shane Doan",
          "Yannick Weber",
          "Zdeno Chara",
          "Elias Lindholm",
          "Alexander Edler",
          "James Wisniewski",
          "Filip Forsberg",
          "Matt Grzelcyk",
          "Tomas Hertl",
          "Colton Sissons",
          "Justin Abdelkader",
          "Antoine Vermette",
          "Mikko Koivu",
          "Anze Kopitar",
          "Andy Greene",
          "Fedor Tyutin",
          "Max Pacioretty",
          "Jordan Greenway",
          "Alexander Wennberg",
          "Jeff Carter",
          "Corey Perry",
          "Clarke MacArthur",
          "Ryan White",
          "Alex Pietrangelo",
          "Tyson Barrie",
          "Justin Schultz",
          "Radim Vrbata",
          "Mike Green",
          "Nick Foligno",
          "Mike Fisher",
          "Henrik Sedin",
          "Reilly Smith",
          "Alex Killorn",
          "Jason Zucker",
          "Henri Jokiharju",
          "Martin Hanzal",
          "Pavel Zacha",
          "Steven Kampfer",
          "Rickard Rakell",
          "Ethan Bear",
          "Ryan Callahan",
          "Jack Johnson",
          "Justin Faulk",
          "Loui Eriksson",
          "Paul Martin",
          "Colton Parayko",
          "David Schlemko",
          "Daniel Sedin",
          "Joel Ward",
          "Frans Nielsen",
          "Jordan Staal",
          "Zach Werenski",
          "Cam Fowler",
          "Sami Vatanen",
          "Riley Sheahan",
          "Bo Horvat",
          "Mikael Granlund",
          "Zach Parise",
          "Cam Atkinson",
          "Shea Theodore",
          "Brent Seabrook",
          "Darnell Nurse",
          "Roman Josi",
          "Kevin Hayes",
          "Drew Doughty",
          "Shea Weber",
          "Ryan Suter",
          "Jakob Chychrun",
          "Andrei Markov",
          "Bryan Little",
          "Vladislav Namestnikov",
          "Viktor Arvidsson",
          "Sami Salo",
          "Lauri Korpikoski",
          "Paul Byron",
          "Kyle Turris",
          "Sean Couturier",
          "Tanner Pearson",
          "Derek Stepan",
          "Derick Brassard",
          "Rick Nash",
          "Dougie Hamilton",
          "David Savard",
          "P.K. Subban",
          "Adam Henrique",
          "Jordan Eberle",
          "Eric Staal",
          "Nick Schmaltz",
          "Marian Hossa",
          "Andreas Athanasiou",
          "Josh Morrissey",
          "Oliver Ekman-Larsson",
          "Justin Williams",
          "Ryan McDonagh",
          "Erik Karlsson",
          "Nick Holden",
          "Jay Harrison",
          "Victor Rask",
          "Matt Cullen",
          "Brian Boyle",
          "Matt Dumba",
          "Jake Gardiner",
          "Jori Lehtera",
          "Mikkel Boedker",
          "Mattias Janmark",
          "Riley Nash",
          "Nick Leddy",
          "Dustin Brown",
          "Aaron Ekblad",
          "Carl Soderberg",
          "Patrik Elias",
          "Alec Martinez",
          "Ryan Getzlaf",
          "Duncan Keith",
          "Michael Stone",
          "Kris Russell",
          "Andrew MacDonald",
          "Tyler Toffoli",
          "Timo Meier",
          "Cody Franson",
          "Alexander Burmistrov",
          "Ryan Kesler",
          "Vincent Trocheck",
          "Gustav Forsling",
          "Maxime Lajoie",
          "Logan Shaw",
          "Artem Anisimov",
          "Tomas Plekanec",
          "Andrej Sekera",
          "William Karlsson",
          "Olli Maatta",
          "Dan Girardi",
          "Boyd Gordon",
          "Barclay Goodrow",
          "Johnny Boychuk",
          "Calle Jarnkrok",
          "Jonas Brodin",
          "Andrew Shaw",
          "Joel Armia",
          "Adam Lowry",
          "Jacob Trouba",
          "Damon Severson",
          "Milan Michalek",
          "Brady Skjei",
          "Matt Beleskey",
          "Dennis Wideman",
          "Josh Bailey",
          "Vernon Fiddler",
          "Jamie McBain",
          "Ryan Strome",
          "Jeff Petry",
          "Dan Boyle",
          "Lucas Wallmark",
          "Brooks Laich",
          "Colin Miller",
          "Evander Kane",
          "Chris Tierney",
          "Ryan Smyth",
          "Jussi Jokinen",
          "Ryan Pulock",
          "Hampus Lindholm",
          "Tom Wilson",
          "Gustav Nyquist",
          "Jake Muzzin",
          "Ryan Murray",
          "Teddy Purcell",
          "Benoit Pouliot",
          "Christopher Tanev",
          "Nick Ritchie",
          "Matt Duchene",
          "Christian Ehrhoff",
          "Jon Merrill",
          "Oscar Fantenberg",
          "Esa Lindell",
          "Alex Tanguay",
          "Anthony Beauvillier",
          "Michael Cammalleri",
          "Erik Johnson",
          "Alex Iafallo",
          "Devin Shore",
          "Evan Rodrigues",
          "David Moss",
          "Connor Brown",
          "Anton Lander",
          "Andrew Ladd",
          "Jordan Martinook",
          "Dion Phaneuf",
          "Rasmus Andersson",
          "Brett Howden",
          "Miro Heiskanen",
          "Artturi Lehkonen",
          "Derek Grant",
          "Charlie Coyle",
          "Matt Hunwick",
          "Valtteri Filppula",
          "Brian Gionta",
          "Tyler Myers",
          "Noah Hanifin",
          "Drake Caggiula",
          "Brett Pesce",
          "Lee Stempniak",
          "Jakob Silfverberg",
          "Jesper Bratt",
          "Alex Goligoski",
          "Seth Jones",
          "R.J. Umberger",
          "Matt Calvert",
          "Mattias Ekholm",
          "Colton Sceviour",
          "Dylan Larkin",
          "Jason Garrison",
          "TJ Brodie",
          "Curtis Lazar",
          "Markus Granlund",
          "Martin St. Louis",
          "Nick Bjugstad",
          "Oscar Lindberg",
          "Zach Hyman",
          "Phillip Danault",
          "Thomas Chabot",
          "Nico Hischier",
          "Jason Pominville",
          "Mikael Backlund",
          "Jimmy Vesey",
          "Shawn Horcoff",
          "Filip Hronek",
          "Adrian Kempe",
          "Trevor Lewis",
          "Marcus Pettersson",
          "Anton Stralman",
          "Matt Irwin",
          "Ben Hutton",
          "Brock Nelson",
          "Nikita Zadorov",
          "John-Michael Liles",
          "Brayden McNabb",
          "Antoine Roussel",
          "Jason Chimera",
          "Chandler Stephenson",
          "Patrick Wiercioch",
          "Boone Jenner",
          "Marco Scandella",
          "Michael Del Zotto",
          "Scott Wilson",
          "Tobias Rieder",
          "Nick Spaling",
          "Charlie McAvoy",
          "Nathan Beaulieu",
          "Derek Ryan",
          "Ryan Ellis",
          "Frank Vatrano",
          "Marc-Edouard Vlasic",
          "John Mitchell",
          "Anthony Duclair",
          "Francois Beauchemin",
          "Dylan DeMelo",
          "Mike Santorelli",
          "Mason Raymond",
          "Jay Bouwmeester",
          "Matt Carle",
          "Nick Bonino",
          "Ivan Provorov",
          "Drew Stafford",
          "Oskar Sundqvist",
          "Trevor Daley",
          "Tommy Wingels",
          "Jason Demers",
          "Toby Enstrom",
          "Jordan Oesterle",
          "Kevin Bieksa",
          "Radek Faksa",
          "Vinnie Hinostroza",
          "Eric Fehr",
          "Christian Dvorak",
          "Nathan Gerbe",
          "Brandon Saad",
          "Slava Voynov",
          "Oskar Lindblom",
          "Jaccob Slavin",
          "Kasperi Kapanen",
          "Matt Benning",
          "Travis Hamonic",
          "Dmitry Kulikov",
          "Joe Colborne",
          "Josh Anderson",
          "Brandon Dubinsky",
          "Dmitry Orlov",
          "Jiri Tlusty",
          "Radko Gudas",
          "Colin Greening",
          "John Moore",
          "Sam Bennett",
          "Jarret Stoll",
          "Brendan Smith",
          "Alexandre Burrows",
          "Scottie Upshall",
          "Patrik Berglund",
          "Richard Panik",
          "Matt Nieto",
          "Martin Erat",
          "Brian Campbell",
          "Jean-Gabriel Pageau",
          "Luke Kunin",
          "Rich Peverley",
          "Andre Benoit",
          "Matt Read",
          "Michael Frolik",
          "Mark Arcobello",
          "Peter Holland",
          "Lars Eller",
          "Trevor van Riemsdyk",
          "Vladimir Sobotka",
          "Jared McCann",
          "Blake Comeau",
          "Kevin Connauton",
          "Connor Carrick",
          "Calvin de Haan",
          "Ian Cole",
          "Cody Ceci",
          "Nikita Soshnikov",
          "Zack Smith",
          "Blake Lizotte",
          "Matt Martin",
          "Travis Sanheim",
          "Brandon Montour",
          "Jake McCabe",
          "Troy Stecher",
          "Jordie Benn",
          "Olli Jokinen",
          "Victor Mete",
          "Brian Flynn",
          "Zemgus Girgensons",
          "Brandon Sutter",
          "Nicholas Shore",
          "Jujhar Khaira",
          "Marc Staal",
          "Zach Sanford",
          "Austin Czarnik",
          "Nikita Nikitin",
          "Mike Richards",
          "Marcus Foligno",
          "Cody Eakin",
          "Justin Braun",
          "Brock McGinn",
          "Mark Barberio",
          "Zach Trotman",
          "Zack Kassian",
          "Ryan Hartman",
          "Jannik Hansen",
          "Danny DeKeyser",
          "Steve Ott",
          "Sergey Kalinin",
          "Brian Dumoulin",
          "Dale Weise",
          "Mikhail Grigorenko",
          "Zach Bogosian",
          "Andrej Meszaros",
          "Alexei Emelin",
          "Ron Hainsey",
          "Stephen Johns",
          "Brandon Manning",
          "Tom Gilbert",
          "Erik Gudbranson",
          "Valeri Nichushkin",
          "Dainius Zubrus",
          "Grant Clitsome",
          "Adam Larsson",
          "MacKenzie Weegar",
          "Raphael Diaz",
          "Tomas Fleischmann",
          "Dan Hamhuis",
          "Justin Fontaine",
          "Michael Raffl",
          "Chris Higgins",
          "Marcel Goc",
          "Marc Methot",
          "Thomas Hickey",
          "Kevin Gravel",
          "Connor Murphy",
          "Mark Jankowski",
          "Mark Pysyk",
          "Cal Clutterbuck",
          "Dwight King",
          "Simon Despres",
          "Andrew Copp",
          "Michal Rozsival",
          "Melker Karlsson",
          "Josh Gorges",
          "Dennis Seidenberg",
          "Shawn Matthias",
          "Carl Hagelin",
          "Devante Smith-Pelly",
          "Cody McLeod",
          "Andrew Cogliano",
          "Tomas Kopecky",
          "Daniel Cleary"
         ],
         "legendgroup": "",
         "marker": {
          "color": "#636efa",
          "opacity": 0.75,
          "size": [
           300,
           295,
           162,
           533,
           127,
           510,
           514,
           543,
           246,
           168,
           351,
           219,
           172,
           511,
           430,
           474,
           523,
           556,
           484,
           163,
           425,
           423,
           520,
           378,
           281,
           482,
           551,
           551,
           539,
           512,
           478,
           538,
           504,
           308,
           249,
           542,
           254,
           502,
           422,
           523,
           392,
           548,
           456,
           465,
           93,
           448,
           385,
           495,
           396,
           478,
           474,
           481,
           483,
           354,
           549,
           101,
           405,
           559,
           558,
           512,
           299,
           541,
           491,
           525,
           478,
           223,
           517,
           251,
           441,
           224,
           539,
           497,
           520,
           520,
           415,
           228,
           563,
           242,
           445,
           479,
           508,
           491,
           438,
           456,
           493,
           469,
           109,
           419,
           468,
           213,
           535,
           515,
           508,
           428,
           487,
           488,
           243,
           510,
           553,
           509,
           106,
           310,
           295,
           497,
           294,
           382,
           498,
           525,
           442,
           145,
           453,
           197,
           453,
           322,
           482,
           376,
           492,
           551,
           538,
           266,
           517,
           154,
           415,
           476,
           471,
           149,
           224,
           534,
           512,
           434,
           345,
           447,
           512,
           292,
           390,
           537,
           547,
           445,
           107,
           282,
           266,
           150,
           443,
           89,
           352,
           529,
           524,
           469,
           286,
           386,
           276,
           400,
           373,
           529,
           482,
           300,
           484,
           426,
           511,
           446,
           513,
           465,
           509,
           264,
           515,
           350,
           532,
           450,
           555,
           462,
           552,
           234,
           306,
           439,
           425,
           335,
           71,
           273,
           414,
           492,
           524,
           457,
           527,
           530,
           342,
           510,
           522,
           511,
           548,
           529,
           550,
           249,
           291,
           303,
           288,
           545,
           509,
           493,
           503,
           489,
           123,
           405,
           443,
           496,
           411,
           532,
           307,
           453,
           297,
           504,
           544,
           542,
           458,
           546,
           150,
           465,
           497,
           531,
           419,
           482,
           354,
           515,
           263,
           307,
           154,
           423,
           427,
           122,
           62,
           215,
           473,
           403,
           425,
           410,
           427,
           439,
           220,
           276,
           479,
           459,
           510,
           445,
           295,
           408,
           478,
           430,
           198,
           314,
           268,
           234,
           536,
           297,
           142,
           491,
           524,
           214,
           167,
           210,
           301,
           452,
           436,
           72,
           372,
           234,
           502,
           522,
           530,
           523,
           347,
           251,
           334,
           422,
           294,
           527,
           176,
           356,
           124,
           308,
           166,
           286,
           300,
           447,
           227,
           288,
           199,
           139,
           324,
           148,
           418,
           374,
           448,
           160,
           136,
           150,
           291,
           259,
           533,
           244,
           535,
           331,
           447,
           389,
           222,
           350,
           347,
           510,
           185,
           550,
           524,
           180,
           451,
           535,
           452,
           389,
           318,
           530,
           284,
           335,
           155,
           428,
           252,
           302,
           339,
           205,
           209,
           472,
           520,
           304,
           212,
           111,
           256,
           471,
           175,
           505,
           321,
           341,
           548,
           356,
           215,
           441,
           480,
           397,
           209,
           218,
           489,
           491,
           407,
           193,
           434,
           211,
           184,
           364,
           302,
           463,
           274,
           516,
           279,
           353,
           364,
           269,
           198,
           172,
           476,
           211,
           514,
           315,
           398,
           201,
           437,
           368,
           453,
           317,
           209,
           347,
           351,
           246,
           346,
           246,
           238,
           540,
           88,
           134,
           377,
           202,
           248,
           454,
           445,
           279,
           267,
           401,
           451,
           170,
           457,
           133,
           433,
           364,
           231,
           430,
           344,
           345,
           359,
           444,
           472,
           149,
           326,
           426,
           131,
           62,
           140,
           328,
           501,
           138,
           241,
           545,
           364,
           228,
           310,
           491,
           314,
           230,
           406,
           474,
           496,
           87,
           462,
           66,
           491,
           200,
           243,
           340,
           286,
           488,
           144,
           171,
           249,
           489,
           393,
           299,
           218,
           504,
           157,
           121,
           119,
           174,
           504,
           508,
           534,
           308,
           270,
           91,
           442,
           314,
           308,
           430,
           234,
           121,
           347,
           395,
           192,
           347,
           112,
           351,
           541,
           167,
           245,
           208,
           414,
           288,
           206,
           56,
           445,
           172,
           119,
           222,
           472,
           197,
           470,
           188,
           148,
           302,
           410,
           109,
           444,
           208,
           398,
           478,
           285,
           142,
           356,
           180,
           396,
           289,
           278,
           298,
           492,
           339,
           380,
           554,
           113,
           69
          ],
          "sizemode": "area",
          "sizeref": 5.63,
          "symbol": "circle"
         },
         "mode": "markers",
         "name": "",
         "orientation": "v",
         "showlegend": false,
         "type": "scatter",
         "x": [
          10.27,
          10.18,
          10.03,
          9.99,
          9.98,
          9.98,
          9.55,
          9.49,
          9.43,
          9.4,
          9.31,
          9.26,
          9.21,
          9.12,
          9.04,
          9.01,
          8.9,
          8.89,
          8.87,
          8.83,
          8.82,
          8.78,
          8.77,
          8.77,
          8.76,
          8.67,
          8.63,
          8.62,
          8.59,
          8.58,
          8.56,
          8.55,
          8.55,
          8.52,
          8.48,
          8.48,
          8.47,
          8.46,
          8.44,
          8.41,
          8.35,
          8.34,
          8.33,
          8.23,
          8.2,
          8.14,
          8.13,
          8.13,
          8.11,
          8.09,
          8.09,
          8.08,
          8.08,
          8.06,
          8.05,
          8.05,
          8.04,
          8,
          7.96,
          7.96,
          7.95,
          7.95,
          7.94,
          7.93,
          7.9,
          7.87,
          7.87,
          7.85,
          7.85,
          7.84,
          7.84,
          7.82,
          7.82,
          7.81,
          7.81,
          7.8,
          7.77,
          7.77,
          7.75,
          7.74,
          7.73,
          7.73,
          7.7,
          7.68,
          7.67,
          7.67,
          7.67,
          7.65,
          7.62,
          7.59,
          7.59,
          7.54,
          7.54,
          7.53,
          7.49,
          7.49,
          7.48,
          7.47,
          7.46,
          7.43,
          7.4,
          7.37,
          7.36,
          7.36,
          7.36,
          7.34,
          7.34,
          7.34,
          7.32,
          7.31,
          7.3,
          7.3,
          7.3,
          7.3,
          7.29,
          7.28,
          7.28,
          7.28,
          7.27,
          7.24,
          7.23,
          7.23,
          7.23,
          7.19,
          7.19,
          7.19,
          7.18,
          7.18,
          7.15,
          7.15,
          7.14,
          7.14,
          7.13,
          7.12,
          7.11,
          7.1,
          7.09,
          7.08,
          7.08,
          7.07,
          7.07,
          7.05,
          7.05,
          7.05,
          7.05,
          7.04,
          7.02,
          7.01,
          6.99,
          6.99,
          6.99,
          6.97,
          6.96,
          6.96,
          6.95,
          6.94,
          6.94,
          6.93,
          6.93,
          6.93,
          6.92,
          6.92,
          6.92,
          6.91,
          6.91,
          6.9,
          6.89,
          6.88,
          6.88,
          6.88,
          6.88,
          6.87,
          6.87,
          6.86,
          6.86,
          6.85,
          6.85,
          6.84,
          6.83,
          6.83,
          6.82,
          6.8,
          6.8,
          6.8,
          6.79,
          6.77,
          6.77,
          6.77,
          6.76,
          6.76,
          6.75,
          6.74,
          6.73,
          6.73,
          6.72,
          6.71,
          6.7,
          6.7,
          6.69,
          6.69,
          6.69,
          6.67,
          6.64,
          6.64,
          6.62,
          6.62,
          6.62,
          6.61,
          6.6,
          6.6,
          6.59,
          6.58,
          6.58,
          6.55,
          6.55,
          6.53,
          6.53,
          6.52,
          6.52,
          6.51,
          6.51,
          6.5,
          6.49,
          6.49,
          6.48,
          6.47,
          6.46,
          6.46,
          6.46,
          6.46,
          6.46,
          6.43,
          6.42,
          6.41,
          6.41,
          6.39,
          6.39,
          6.38,
          6.37,
          6.36,
          6.35,
          6.34,
          6.33,
          6.33,
          6.33,
          6.31,
          6.3,
          6.3,
          6.3,
          6.29,
          6.28,
          6.28,
          6.26,
          6.26,
          6.25,
          6.24,
          6.24,
          6.24,
          6.24,
          6.23,
          6.23,
          6.21,
          6.2,
          6.2,
          6.2,
          6.18,
          6.17,
          6.17,
          6.16,
          6.15,
          6.14,
          6.13,
          6.13,
          6.13,
          6.12,
          6.1,
          6.1,
          6.09,
          6.09,
          6.09,
          6.07,
          6.06,
          6.04,
          6.04,
          6.03,
          6.02,
          6.01,
          6.01,
          6.01,
          6.01,
          5.99,
          5.98,
          5.97,
          5.95,
          5.94,
          5.91,
          5.9,
          5.9,
          5.9,
          5.89,
          5.89,
          5.89,
          5.87,
          5.86,
          5.82,
          5.82,
          5.8,
          5.79,
          5.79,
          5.78,
          5.77,
          5.77,
          5.77,
          5.76,
          5.75,
          5.75,
          5.74,
          5.74,
          5.73,
          5.73,
          5.73,
          5.73,
          5.73,
          5.73,
          5.72,
          5.7,
          5.7,
          5.7,
          5.69,
          5.68,
          5.68,
          5.66,
          5.64,
          5.64,
          5.63,
          5.63,
          5.61,
          5.56,
          5.53,
          5.51,
          5.51,
          5.51,
          5.5,
          5.5,
          5.49,
          5.48,
          5.46,
          5.45,
          5.43,
          5.41,
          5.39,
          5.39,
          5.38,
          5.35,
          5.32,
          5.32,
          5.31,
          5.31,
          5.3,
          5.28,
          5.28,
          5.27,
          5.27,
          5.26,
          5.26,
          5.21,
          5.21,
          5.17,
          5.16,
          5.16,
          5.15,
          5.14,
          5.13,
          5.12,
          5.12,
          5.12,
          5.11,
          5.1,
          5.09,
          5.09,
          5.08,
          5.07,
          5.07,
          5.07,
          5.06,
          5.06,
          5.06,
          5.05,
          5.04,
          5.03,
          5,
          4.99,
          4.99,
          4.96,
          4.96,
          4.95,
          4.94,
          4.93,
          4.91,
          4.91,
          4.89,
          4.86,
          4.82,
          4.78,
          4.77,
          4.74,
          4.74,
          4.72,
          4.71,
          4.69,
          4.67,
          4.65,
          4.64,
          4.62,
          4.62,
          4.61,
          4.6,
          4.59,
          4.59,
          4.58,
          4.56,
          4.54,
          4.53,
          4.52,
          4.52,
          4.5,
          4.48,
          4.48,
          4.48,
          4.47,
          4.47,
          4.46,
          4.46,
          4.45,
          4.41,
          4.37,
          4.33,
          4.31,
          4.27,
          4.27,
          4.25,
          4.22,
          4.18,
          4.15,
          4.14,
          4.13,
          4.13,
          4.12,
          4.08,
          4.06,
          4.06,
          4.03,
          4,
          3.97,
          3.97,
          3.97,
          3.95,
          3.92,
          3.9,
          3.9,
          3.66,
          3.57,
          3.54,
          3.51,
          3.49,
          3.32,
          3.32,
          3.31,
          3.29,
          3.27,
          3.27,
          3.18,
          3.16,
          3.1,
          3.1,
          3.07,
          3.07,
          3,
          2.96,
          2.93,
          2.92,
          2.89,
          2.88,
          2.85,
          2.72,
          2.72,
          2.64,
          2.61,
          2.45,
          2.44,
          2.38,
          2.38,
          2.35,
          2.28,
          2.18,
          2.15,
          2.12,
          2.02,
          1.57,
          0.75
         ],
         "xaxis": "x",
         "y": [
          765.62,
          842.43,
          71.77,
          1164.63,
          66.15,
          1443.6,
          1897.62,
          1846.1,
          95.47,
          89.38,
          1141.13,
          479.73,
          351.87,
          1552.4,
          1513.03,
          53.25,
          1698.63,
          1970.52,
          967.7,
          61.17,
          1326.05,
          1502.73,
          1669.27,
          862.47,
          191.85,
          1024.8,
          1786.68,
          1712.55,
          1600.33,
          1336.2,
          1339.1,
          1754.52,
          1474.45,
          246.53,
          750.07,
          1755.63,
          333.08,
          1375.85,
          1258.7,
          1683.62,
          165.25,
          1639.9,
          979.28,
          1289.63,
          270.72,
          250.75,
          612.55,
          1240.57,
          325.72,
          956.67,
          51.92,
          1210.25,
          1515.07,
          1213.08,
          1826.45,
          104.4,
          358.27,
          1754.2,
          1507.65,
          920.05,
          203.65,
          1622.73,
          1238.88,
          1672.25,
          1146.63,
          533.37,
          1052.38,
          114.63,
          825.63,
          214.35,
          888.05,
          1388.2,
          1105.53,
          1198.12,
          384.17,
          392.12,
          1992.77,
          424.87,
          1200.4,
          1449.33,
          1474.05,
          1095.03,
          1160.82,
          1359.22,
          1384.33,
          1298.78,
          62.6,
          1411.22,
          1150.25,
          55.3,
          1636.12,
          1559.68,
          1560.6,
          996.3,
          1185.85,
          1410.6,
          497.6,
          1276.95,
          1584,
          1315.78,
          105.4,
          830.28,
          864.17,
          1345.4,
          742.17,
          294.27,
          514.97,
          1389.65,
          1147.25,
          484.08,
          1257.33,
          279.47,
          961.93,
          263.17,
          888.92,
          815.77,
          1351.42,
          1607.87,
          363.1,
          140.95,
          1426.4,
          74.67,
          887.75,
          1259.48,
          1310.67,
          400.77,
          100.3,
          1438.02,
          1643.8,
          1174.27,
          907.63,
          1151.97,
          1161.75,
          690.68,
          1207.03,
          1157.6,
          1209.45,
          643.95,
          50.85,
          712.72,
          432.85,
          59.55,
          953.05,
          85.15,
          630.17,
          682.2,
          1332.43,
          890.55,
          283.15,
          583.47,
          360.47,
          1247.73,
          543.17,
          1199.05,
          966.92,
          777.73,
          1358.13,
          1169.12,
          502.3,
          1030.92,
          1247.67,
          1369.27,
          1240.4,
          694.55,
          1128.7,
          286.8,
          1627.95,
          627.87,
          1814.17,
          1360.8,
          1823.68,
          410.22,
          1056.97,
          1048.8,
          786.87,
          683.28,
          140.17,
          193.05,
          272.3,
          1300.23,
          1178.42,
          705.45,
          1305.3,
          1253.52,
          804,
          1205.48,
          390.03,
          1747.05,
          1268.32,
          1348.93,
          1458.4,
          551.63,
          614.95,
          481.45,
          294.48,
          2040.05,
          1102.02,
          931.92,
          1963.47,
          394.55,
          98.65,
          818.87,
          262,
          542.4,
          924,
          1178.75,
          444.3,
          998.97,
          236.45,
          281.98,
          1393.12,
          1066.43,
          1048.58,
          998.62,
          357.47,
          853.95,
          1470.17,
          1425.97,
          533.95,
          543.4,
          359.3,
          996.18,
          397.42,
          702.47,
          148.08,
          1038.75,
          1067.33,
          92.83,
          92.85,
          65.03,
          957.35,
          643.4,
          747.75,
          599.1,
          346.45,
          263.07,
          75.17,
          75.23,
          489.97,
          386.85,
          396.92,
          1021.88,
          407.3,
          255.75,
          834.17,
          874.12,
          447.58,
          238.12,
          352.58,
          601.27,
          1155.17,
          86.05,
          278.07,
          1016.7,
          1007.27,
          605.42,
          173.07,
          115.4,
          577.32,
          1030.38,
          356.4,
          183.63,
          793.77,
          406.58,
          890.87,
          242.8,
          1429.6,
          1040.83,
          457.43,
          634.55,
          507.78,
          185.93,
          283.88,
          1370.92,
          450.83,
          186.73,
          68.82,
          374.43,
          394.23,
          354.95,
          711.55,
          742.6,
          347.48,
          417.22,
          228.8,
          59.85,
          359.33,
          159.72,
          989.1,
          79.93,
          1121.33,
          200.73,
          110.6,
          292.2,
          252.6,
          111.6,
          955.35,
          50.85,
          1190.62,
          580.68,
          896.5,
          672.78,
          194.27,
          163.7,
          525.7,
          783.5,
          383.02,
          1202.35,
          1192.22,
          259.43,
          197.62,
          624.3,
          239.32,
          906.02,
          417.42,
          1012.37,
          83.58,
          387.08,
          481.32,
          816.23,
          94.18,
          104.65,
          261.75,
          555.18,
          524.5,
          1051.92,
          926.08,
          400.22,
          231.87,
          264.3,
          391.17,
          127.25,
          148.92,
          606.55,
          202.57,
          512,
          1134.05,
          150.95,
          401.57,
          141.45,
          228.67,
          217.95,
          54.5,
          349.28,
          743.6,
          252.05,
          439.55,
          66.02,
          430.63,
          110.9,
          300.65,
          334.12,
          502,
          964.35,
          349.42,
          598.2,
          203.4,
          712.52,
          509.63,
          193.28,
          136.45,
          318.78,
          330.37,
          182.63,
          878.95,
          621.77,
          749.05,
          58.03,
          592.78,
          279.2,
          605.35,
          641.65,
          280.63,
          444.9,
          234.35,
          187.67,
          93.98,
          470.42,
          318.2,
          979.28,
          248.08,
          189.23,
          390.57,
          165.83,
          130.38,
          284.48,
          462.73,
          403.62,
          249.83,
          596.18,
          407.62,
          264.27,
          84.13,
          108.82,
          399.33,
          509.47,
          194.22,
          121.7,
          561.92,
          158.92,
          441.5,
          568.12,
          174.15,
          213.57,
          917.45,
          341.43,
          113.92,
          127.1,
          267.3,
          396.83,
          385.05,
          154.8,
          297.65,
          532.28,
          104,
          247.32,
          325.93,
          274.33,
          235.33,
          104.7,
          157.82,
          92.43,
          357.53,
          53.07,
          384.92,
          66.63,
          53.52,
          160.8,
          415.5,
          134.12,
          281.75,
          188.28,
          175.05,
          94.33,
          67.97,
          233.27,
          540.57,
          69.63,
          56.22,
          56.22,
          70.53,
          170.48,
          129.33,
          303.35,
          188.58,
          595.12,
          203.5,
          58.2,
          147.1,
          59.12,
          133.03,
          119.15,
          135,
          317.27,
          166.25,
          121.05,
          136.62,
          198.83,
          277.12,
          323.42,
          147.55,
          67.2,
          135.73,
          68.35,
          51.58,
          252.65,
          162.77,
          307.77,
          54.67,
          54.98,
          73.4,
          56.62,
          152.1,
          328.55,
          483.73,
          97.77,
          176.08,
          280.4,
          80.98,
          61.5,
          123.47,
          62.2,
          124.93,
          84.2,
          110.2,
          243.05,
          113.63,
          68.85,
          97.82,
          73.68,
          100.75,
          75.78,
          51.07,
          78.78,
          55.07,
          195.75,
          56.52,
          59.48,
          76.63,
          79.62
         ],
         "yaxis": "y"
        }
       ],
       "layout": {
        "height": 800,
        "legend": {
         "itemsizing": "constant",
         "tracegroupgap": 0
        },
        "shapes": [
         {
          "type": "line",
          "x0": 0,
          "x1": 1,
          "xref": "x domain",
          "y0": 619,
          "y1": 619,
          "yref": "y"
         },
         {
          "type": "line",
          "x0": 6,
          "x1": 6,
          "xref": "x",
          "y0": 0,
          "y1": 1,
          "yref": "y domain"
         },
         {
          "line": {
           "color": "red",
           "dash": "dash"
          },
          "type": "line",
          "x0": 0,
          "x1": 1,
          "xref": "x domain",
          "y0": 1600.7069999999997,
          "y1": 1600.7069999999997,
          "yref": "y"
         },
         {
          "line": {
           "color": "red",
           "dash": "dash"
          },
          "type": "line",
          "x0": 8.674499999999995,
          "x1": 8.674499999999995,
          "xref": "x",
          "y0": 0,
          "y1": 1,
          "yref": "y domain"
         }
        ],
        "template": {
         "data": {
          "bar": [
           {
            "error_x": {
             "color": "#2a3f5f"
            },
            "error_y": {
             "color": "#2a3f5f"
            },
            "marker": {
             "line": {
              "color": "#E5ECF6",
              "width": 0.5
             }
            },
            "type": "bar"
           }
          ],
          "barpolar": [
           {
            "marker": {
             "line": {
              "color": "#E5ECF6",
              "width": 0.5
             }
            },
            "type": "barpolar"
           }
          ],
          "carpet": [
           {
            "aaxis": {
             "endlinecolor": "#2a3f5f",
             "gridcolor": "white",
             "linecolor": "white",
             "minorgridcolor": "white",
             "startlinecolor": "#2a3f5f"
            },
            "baxis": {
             "endlinecolor": "#2a3f5f",
             "gridcolor": "white",
             "linecolor": "white",
             "minorgridcolor": "white",
             "startlinecolor": "#2a3f5f"
            },
            "type": "carpet"
           }
          ],
          "choropleth": [
           {
            "colorbar": {
             "outlinewidth": 0,
             "ticks": ""
            },
            "type": "choropleth"
           }
          ],
          "contour": [
           {
            "colorbar": {
             "outlinewidth": 0,
             "ticks": ""
            },
            "colorscale": [
             [
              0,
              "#0d0887"
             ],
             [
              0.1111111111111111,
              "#46039f"
             ],
             [
              0.2222222222222222,
              "#7201a8"
             ],
             [
              0.3333333333333333,
              "#9c179e"
             ],
             [
              0.4444444444444444,
              "#bd3786"
             ],
             [
              0.5555555555555556,
              "#d8576b"
             ],
             [
              0.6666666666666666,
              "#ed7953"
             ],
             [
              0.7777777777777778,
              "#fb9f3a"
             ],
             [
              0.8888888888888888,
              "#fdca26"
             ],
             [
              1,
              "#f0f921"
             ]
            ],
            "type": "contour"
           }
          ],
          "contourcarpet": [
           {
            "colorbar": {
             "outlinewidth": 0,
             "ticks": ""
            },
            "type": "contourcarpet"
           }
          ],
          "heatmap": [
           {
            "colorbar": {
             "outlinewidth": 0,
             "ticks": ""
            },
            "colorscale": [
             [
              0,
              "#0d0887"
             ],
             [
              0.1111111111111111,
              "#46039f"
             ],
             [
              0.2222222222222222,
              "#7201a8"
             ],
             [
              0.3333333333333333,
              "#9c179e"
             ],
             [
              0.4444444444444444,
              "#bd3786"
             ],
             [
              0.5555555555555556,
              "#d8576b"
             ],
             [
              0.6666666666666666,
              "#ed7953"
             ],
             [
              0.7777777777777778,
              "#fb9f3a"
             ],
             [
              0.8888888888888888,
              "#fdca26"
             ],
             [
              1,
              "#f0f921"
             ]
            ],
            "type": "heatmap"
           }
          ],
          "heatmapgl": [
           {
            "colorbar": {
             "outlinewidth": 0,
             "ticks": ""
            },
            "colorscale": [
             [
              0,
              "#0d0887"
             ],
             [
              0.1111111111111111,
              "#46039f"
             ],
             [
              0.2222222222222222,
              "#7201a8"
             ],
             [
              0.3333333333333333,
              "#9c179e"
             ],
             [
              0.4444444444444444,
              "#bd3786"
             ],
             [
              0.5555555555555556,
              "#d8576b"
             ],
             [
              0.6666666666666666,
              "#ed7953"
             ],
             [
              0.7777777777777778,
              "#fb9f3a"
             ],
             [
              0.8888888888888888,
              "#fdca26"
             ],
             [
              1,
              "#f0f921"
             ]
            ],
            "type": "heatmapgl"
           }
          ],
          "histogram": [
           {
            "marker": {
             "colorbar": {
              "outlinewidth": 0,
              "ticks": ""
             }
            },
            "type": "histogram"
           }
          ],
          "histogram2d": [
           {
            "colorbar": {
             "outlinewidth": 0,
             "ticks": ""
            },
            "colorscale": [
             [
              0,
              "#0d0887"
             ],
             [
              0.1111111111111111,
              "#46039f"
             ],
             [
              0.2222222222222222,
              "#7201a8"
             ],
             [
              0.3333333333333333,
              "#9c179e"
             ],
             [
              0.4444444444444444,
              "#bd3786"
             ],
             [
              0.5555555555555556,
              "#d8576b"
             ],
             [
              0.6666666666666666,
              "#ed7953"
             ],
             [
              0.7777777777777778,
              "#fb9f3a"
             ],
             [
              0.8888888888888888,
              "#fdca26"
             ],
             [
              1,
              "#f0f921"
             ]
            ],
            "type": "histogram2d"
           }
          ],
          "histogram2dcontour": [
           {
            "colorbar": {
             "outlinewidth": 0,
             "ticks": ""
            },
            "colorscale": [
             [
              0,
              "#0d0887"
             ],
             [
              0.1111111111111111,
              "#46039f"
             ],
             [
              0.2222222222222222,
              "#7201a8"
             ],
             [
              0.3333333333333333,
              "#9c179e"
             ],
             [
              0.4444444444444444,
              "#bd3786"
             ],
             [
              0.5555555555555556,
              "#d8576b"
             ],
             [
              0.6666666666666666,
              "#ed7953"
             ],
             [
              0.7777777777777778,
              "#fb9f3a"
             ],
             [
              0.8888888888888888,
              "#fdca26"
             ],
             [
              1,
              "#f0f921"
             ]
            ],
            "type": "histogram2dcontour"
           }
          ],
          "mesh3d": [
           {
            "colorbar": {
             "outlinewidth": 0,
             "ticks": ""
            },
            "type": "mesh3d"
           }
          ],
          "parcoords": [
           {
            "line": {
             "colorbar": {
              "outlinewidth": 0,
              "ticks": ""
             }
            },
            "type": "parcoords"
           }
          ],
          "pie": [
           {
            "automargin": true,
            "type": "pie"
           }
          ],
          "scatter": [
           {
            "marker": {
             "colorbar": {
              "outlinewidth": 0,
              "ticks": ""
             }
            },
            "type": "scatter"
           }
          ],
          "scatter3d": [
           {
            "line": {
             "colorbar": {
              "outlinewidth": 0,
              "ticks": ""
             }
            },
            "marker": {
             "colorbar": {
              "outlinewidth": 0,
              "ticks": ""
             }
            },
            "type": "scatter3d"
           }
          ],
          "scattercarpet": [
           {
            "marker": {
             "colorbar": {
              "outlinewidth": 0,
              "ticks": ""
             }
            },
            "type": "scattercarpet"
           }
          ],
          "scattergeo": [
           {
            "marker": {
             "colorbar": {
              "outlinewidth": 0,
              "ticks": ""
             }
            },
            "type": "scattergeo"
           }
          ],
          "scattergl": [
           {
            "marker": {
             "colorbar": {
              "outlinewidth": 0,
              "ticks": ""
             }
            },
            "type": "scattergl"
           }
          ],
          "scattermapbox": [
           {
            "marker": {
             "colorbar": {
              "outlinewidth": 0,
              "ticks": ""
             }
            },
            "type": "scattermapbox"
           }
          ],
          "scatterpolar": [
           {
            "marker": {
             "colorbar": {
              "outlinewidth": 0,
              "ticks": ""
             }
            },
            "type": "scatterpolar"
           }
          ],
          "scatterpolargl": [
           {
            "marker": {
             "colorbar": {
              "outlinewidth": 0,
              "ticks": ""
             }
            },
            "type": "scatterpolargl"
           }
          ],
          "scatterternary": [
           {
            "marker": {
             "colorbar": {
              "outlinewidth": 0,
              "ticks": ""
             }
            },
            "type": "scatterternary"
           }
          ],
          "surface": [
           {
            "colorbar": {
             "outlinewidth": 0,
             "ticks": ""
            },
            "colorscale": [
             [
              0,
              "#0d0887"
             ],
             [
              0.1111111111111111,
              "#46039f"
             ],
             [
              0.2222222222222222,
              "#7201a8"
             ],
             [
              0.3333333333333333,
              "#9c179e"
             ],
             [
              0.4444444444444444,
              "#bd3786"
             ],
             [
              0.5555555555555556,
              "#d8576b"
             ],
             [
              0.6666666666666666,
              "#ed7953"
             ],
             [
              0.7777777777777778,
              "#fb9f3a"
             ],
             [
              0.8888888888888888,
              "#fdca26"
             ],
             [
              1,
              "#f0f921"
             ]
            ],
            "type": "surface"
           }
          ],
          "table": [
           {
            "cells": {
             "fill": {
              "color": "#EBF0F8"
             },
             "line": {
              "color": "white"
             }
            },
            "header": {
             "fill": {
              "color": "#C8D4E3"
             },
             "line": {
              "color": "white"
             }
            },
            "type": "table"
           }
          ]
         },
         "layout": {
          "annotationdefaults": {
           "arrowcolor": "#2a3f5f",
           "arrowhead": 0,
           "arrowwidth": 1
          },
          "coloraxis": {
           "colorbar": {
            "outlinewidth": 0,
            "ticks": ""
           }
          },
          "colorscale": {
           "diverging": [
            [
             0,
             "#8e0152"
            ],
            [
             0.1,
             "#c51b7d"
            ],
            [
             0.2,
             "#de77ae"
            ],
            [
             0.3,
             "#f1b6da"
            ],
            [
             0.4,
             "#fde0ef"
            ],
            [
             0.5,
             "#f7f7f7"
            ],
            [
             0.6,
             "#e6f5d0"
            ],
            [
             0.7,
             "#b8e186"
            ],
            [
             0.8,
             "#7fbc41"
            ],
            [
             0.9,
             "#4d9221"
            ],
            [
             1,
             "#276419"
            ]
           ],
           "sequential": [
            [
             0,
             "#0d0887"
            ],
            [
             0.1111111111111111,
             "#46039f"
            ],
            [
             0.2222222222222222,
             "#7201a8"
            ],
            [
             0.3333333333333333,
             "#9c179e"
            ],
            [
             0.4444444444444444,
             "#bd3786"
            ],
            [
             0.5555555555555556,
             "#d8576b"
            ],
            [
             0.6666666666666666,
             "#ed7953"
            ],
            [
             0.7777777777777778,
             "#fb9f3a"
            ],
            [
             0.8888888888888888,
             "#fdca26"
            ],
            [
             1,
             "#f0f921"
            ]
           ],
           "sequentialminus": [
            [
             0,
             "#0d0887"
            ],
            [
             0.1111111111111111,
             "#46039f"
            ],
            [
             0.2222222222222222,
             "#7201a8"
            ],
            [
             0.3333333333333333,
             "#9c179e"
            ],
            [
             0.4444444444444444,
             "#bd3786"
            ],
            [
             0.5555555555555556,
             "#d8576b"
            ],
            [
             0.6666666666666666,
             "#ed7953"
            ],
            [
             0.7777777777777778,
             "#fb9f3a"
            ],
            [
             0.8888888888888888,
             "#fdca26"
            ],
            [
             1,
             "#f0f921"
            ]
           ]
          },
          "colorway": [
           "#636efa",
           "#EF553B",
           "#00cc96",
           "#ab63fa",
           "#FFA15A",
           "#19d3f3",
           "#FF6692",
           "#B6E880",
           "#FF97FF",
           "#FECB52"
          ],
          "font": {
           "color": "#2a3f5f"
          },
          "geo": {
           "bgcolor": "white",
           "lakecolor": "white",
           "landcolor": "#E5ECF6",
           "showlakes": true,
           "showland": true,
           "subunitcolor": "white"
          },
          "hoverlabel": {
           "align": "left"
          },
          "hovermode": "closest",
          "mapbox": {
           "style": "light"
          },
          "paper_bgcolor": "white",
          "plot_bgcolor": "#E5ECF6",
          "polar": {
           "angularaxis": {
            "gridcolor": "white",
            "linecolor": "white",
            "ticks": ""
           },
           "bgcolor": "#E5ECF6",
           "radialaxis": {
            "gridcolor": "white",
            "linecolor": "white",
            "ticks": ""
           }
          },
          "scene": {
           "xaxis": {
            "backgroundcolor": "#E5ECF6",
            "gridcolor": "white",
            "gridwidth": 2,
            "linecolor": "white",
            "showbackground": true,
            "ticks": "",
            "zerolinecolor": "white"
           },
           "yaxis": {
            "backgroundcolor": "#E5ECF6",
            "gridcolor": "white",
            "gridwidth": 2,
            "linecolor": "white",
            "showbackground": true,
            "ticks": "",
            "zerolinecolor": "white"
           },
           "zaxis": {
            "backgroundcolor": "#E5ECF6",
            "gridcolor": "white",
            "gridwidth": 2,
            "linecolor": "white",
            "showbackground": true,
            "ticks": "",
            "zerolinecolor": "white"
           }
          },
          "shapedefaults": {
           "line": {
            "color": "#2a3f5f"
           }
          },
          "ternary": {
           "aaxis": {
            "gridcolor": "white",
            "linecolor": "white",
            "ticks": ""
           },
           "baxis": {
            "gridcolor": "white",
            "linecolor": "white",
            "ticks": ""
           },
           "bgcolor": "#E5ECF6",
           "caxis": {
            "gridcolor": "white",
            "linecolor": "white",
            "ticks": ""
           }
          },
          "title": {
           "x": 0.05
          },
          "xaxis": {
           "automargin": true,
           "gridcolor": "white",
           "linecolor": "white",
           "ticks": "",
           "title": {
            "standoff": 15
           },
           "zerolinecolor": "white",
           "zerolinewidth": 2
          },
          "yaxis": {
           "automargin": true,
           "gridcolor": "white",
           "linecolor": "white",
           "ticks": "",
           "title": {
            "standoff": 15
           },
           "zerolinecolor": "white",
           "zerolinewidth": 2
          }
         }
        },
        "title": {
         "text": "PP TOI vs PP GF/60"
        },
        "width": 800,
        "xaxis": {
         "anchor": "y",
         "domain": [
          0,
          1
         ],
         "title": {
          "text": "PP GF/60"
         }
        },
        "yaxis": {
         "anchor": "x",
         "domain": [
          0,
          1
         ],
         "title": {
          "text": "PP_TOI"
         }
        }
       }
      },
      "text/html": [
       "<div>                            <div id=\"a2f7fdc7-0622-4e46-9d0b-8cf89169dfe5\" class=\"plotly-graph-div\" style=\"height:800px; width:800px;\"></div>            <script type=\"text/javascript\">                require([\"plotly\"], function(Plotly) {                    window.PLOTLYENV=window.PLOTLYENV || {};                                    if (document.getElementById(\"a2f7fdc7-0622-4e46-9d0b-8cf89169dfe5\")) {                    Plotly.newPlot(                        \"a2f7fdc7-0622-4e46-9d0b-8cf89169dfe5\",                        [{\"customdata\": [[\"R\"], [\"C\"], [\"D\"], [\"L\"], [\"D\"], [\"C\"], [\"C\"], [\"C\"], [\"C\"], [\"C\"], [\"C\"], [\"R\"], [\"D\"], [\"R\"], [\"C\"], [\"D\"], [\"C\"], [\"C\"], [\"R\"], [\"D\"], [\"D\"], [\"D\"], [\"D\"], [\"D\"], [\"D\"], [\"L\"], [\"C\"], [\"L\"], [\"C\"], [\"C\"], [\"D\"], [\"C\"], [\"D\"], [\"R\"], [\"L\"], [\"R\"], [\"C\"], [\"C\"], [\"C\"], [\"D\"], [\"C\"], [\"C\"], [\"R\"], [\"C\"], [\"D\"], [\"L\"], [\"C\"], [\"C\"], [\"D\"], [\"C\"], [\"C\"], [\"L\"], [\"C\"], [\"C\"], [\"D\"], [\"C\"], [\"L\"], [\"R\"], [\"C\"], [\"R\"], [\"D\"], [\"C\"], [\"R\"], [\"C\"], [\"C\"], [\"L\"], [\"D\"], [\"C\"], [\"L\"], [\"C\"], [\"D\"], [\"L\"], [\"C\"], [\"C\"], [\"R\"], [\"D\"], [\"D\"], [\"C\"], [\"R\"], [\"C\"], [\"C\"], [\"D\"], [\"D\"], [\"L\"], [\"D\"], [\"R\"], [\"D\"], [\"D\"], [\"L\"], [\"R\"], [\"C\"], [\"L\"], [\"D\"], [\"L\"], [\"C\"], [\"L\"], [\"L\"], [\"L\"], [\"C\"], [\"R\"], [\"D\"], [\"C\"], [\"D\"], [\"C\"], [\"R\"], [\"D\"], [\"D\"], [\"C\"], [\"D\"], [\"D\"], [\"L\"], [\"D\"], [\"C\"], [\"C\"], [\"L\"], [\"C\"], [\"C\"], [\"C\"], [\"D\"], [\"D\"], [\"L\"], [\"L\"], [\"C\"], [\"C\"], [\"R\"], [\"L\"], [\"C\"], [\"D\"], [\"D\"], [\"D\"], [\"R\"], [\"D\"], [\"L\"], [\"C\"], [\"C\"], [\"R\"], [\"L\"], [\"L\"], [\"D\"], [\"C\"], [\"C\"], [\"D\"], [\"L\"], [\"D\"], [\"R\"], [\"D\"], [\"D\"], [\"L\"], [\"D\"], [\"D\"], [\"D\"], [\"L\"], [\"R\"], [\"C\"], [\"C\"], [\"D\"], [\"D\"], [\"D\"], [\"C\"], [\"C\"], [\"C\"], [\"L\"], [\"R\"], [\"D\"], [\"D\"], [\"D\"], [\"D\"], [\"C\"], [\"D\"], [\"D\"], [\"D\"], [\"D\"], [\"D\"], [\"C\"], [\"C\"], [\"R\"], [\"D\"], [\"L\"], [\"L\"], [\"C\"], [\"C\"], [\"L\"], [\"C\"], [\"C\"], [\"L\"], [\"D\"], [\"D\"], [\"D\"], [\"C\"], [\"R\"], [\"C\"], [\"C\"], [\"R\"], [\"L\"], [\"D\"], [\"D\"], [\"R\"], [\"D\"], [\"D\"], [\"D\"], [\"D\"], [\"C\"], [\"C\"], [\"C\"], [\"D\"], [\"D\"], [\"C\"], [\"L\"], [\"C\"], [\"C\"], [\"D\"], [\"R\"], [\"D\"], [\"C\"], [\"C\"], [\"D\"], [\"C\"], [\"D\"], [\"D\"], [\"D\"], [\"D\"], [\"R\"], [\"R\"], [\"D\"], [\"C\"], [\"C\"], [\"C\"], [\"D\"], [\"D\"], [\"R\"], [\"C\"], [\"C\"], [\"D\"], [\"C\"], [\"D\"], [\"D\"], [\"C\"], [\"C\"], [\"D\"], [\"C\"], [\"D\"], [\"R\"], [\"R\"], [\"C\"], [\"D\"], [\"D\"], [\"L\"], [\"D\"], [\"L\"], [\"D\"], [\"R\"], [\"C\"], [\"D\"], [\"C\"], [\"D\"], [\"D\"], [\"C\"], [\"C\"], [\"D\"], [\"L\"], [\"C\"], [\"L\"], [\"L\"], [\"D\"], [\"D\"], [\"R\"], [\"C\"], [\"D\"], [\"D\"], [\"L\"], [\"L\"], [\"D\"], [\"L\"], [\"C\"], [\"D\"], [\"D\"], [\"D\"], [\"D\"], [\"L\"], [\"L\"], [\"L\"], [\"D\"], [\"L\"], [\"C\"], [\"C\"], [\"R\"], [\"R\"], [\"C\"], [\"L\"], [\"L\"], [\"D\"], [\"D\"], [\"C\"], [\"D\"], [\"L\"], [\"C\"], [\"C\"], [\"D\"], [\"C\"], [\"R\"], [\"D\"], [\"D\"], [\"C\"], [\"D\"], [\"R\"], [\"R\"], [\"L\"], [\"D\"], [\"D\"], [\"C\"], [\"L\"], [\"D\"], [\"C\"], [\"C\"], [\"D\"], [\"D\"], [\"C\"], [\"C\"], [\"R\"], [\"C\"], [\"L\"], [\"L\"], [\"C\"], [\"D\"], [\"C\"], [\"R\"], [\"C\"], [\"L\"], [\"C\"], [\"D\"], [\"C\"], [\"C\"], [\"D\"], [\"D\"], [\"D\"], [\"D\"], [\"C\"], [\"D\"], [\"D\"], [\"D\"], [\"L\"], [\"L\"], [\"C\"], [\"D\"], [\"C\"], [\"D\"], [\"D\"], [\"L\"], [\"C\"], [\"C\"], [\"D\"], [\"D\"], [\"C\"], [\"D\"], [\"C\"], [\"D\"], [\"C\"], [\"L\"], [\"D\"], [\"D\"], [\"C\"], [\"L\"], [\"D\"], [\"D\"], [\"C\"], [\"D\"], [\"R\"], [\"C\"], [\"D\"], [\"C\"], [\"D\"], [\"D\"], [\"D\"], [\"D\"], [\"C\"], [\"R\"], [\"C\"], [\"C\"], [\"C\"], [\"L\"], [\"D\"], [\"L\"], [\"D\"], [\"R\"], [\"D\"], [\"D\"], [\"D\"], [\"C\"], [\"R\"], [\"C\"], [\"D\"], [\"L\"], [\"D\"], [\"C\"], [\"D\"], [\"C\"], [\"C\"], [\"D\"], [\"R\"], [\"R\"], [\"C\"], [\"R\"], [\"L\"], [\"R\"], [\"D\"], [\"C\"], [\"C\"], [\"C\"], [\"D\"], [\"R\"], [\"R\"], [\"R\"], [\"C\"], [\"C\"], [\"D\"], [\"C\"], [\"C\"], [\"L\"], [\"D\"], [\"D\"], [\"D\"], [\"D\"], [\"D\"], [\"R\"], [\"C\"], [\"C\"], [\"L\"], [\"D\"], [\"D\"], [\"D\"], [\"D\"], [\"D\"], [\"C\"], [\"D\"], [\"C\"], [\"C\"], [\"C\"], [\"C\"], [\"L\"], [\"D\"], [\"L\"], [\"C\"], [\"D\"], [\"C\"], [\"L\"], [\"C\"], [\"D\"], [\"L\"], [\"D\"], [\"D\"], [\"R\"], [\"R\"], [\"R\"], [\"D\"], [\"C\"], [\"C\"], [\"D\"], [\"R\"], [\"C\"], [\"D\"], [\"D\"], [\"D\"], [\"D\"], [\"D\"], [\"D\"], [\"D\"], [\"D\"], [\"R\"], [\"C\"], [\"D\"], [\"D\"], [\"D\"], [\"D\"], [\"L\"], [\"D\"], [\"R\"], [\"L\"], [\"L\"], [\"C\"], [\"D\"], [\"D\"], [\"D\"], [\"D\"], [\"C\"], [\"D\"], [\"R\"], [\"L\"], [\"D\"], [\"C\"], [\"D\"], [\"C\"], [\"D\"], [\"D\"], [\"L\"], [\"L\"], [\"R\"], [\"L\"], [\"C\"], [\"R\"], [\"R\"]], \"hovertemplate\": \"<b>%{hovertext}</b><br><br>PP GF/60=%{x}<br>PP_TOI=%{y}<br>GP=%{marker.size}<br>Pos=%{customdata[0]}<extra></extra>\", \"hovertext\": [\"Mitchell Marner\", \"Brayden Point\", \"Joe Morrow\", \"Brad Marchand\", \"Taylor Fedun\", \"Patrice Bergeron\", \"Sidney Crosby\", \"Nicklas Backstrom\", \"Blake Coleman\", \"Anthony Cirelli\", \"Connor McDavid\", \"Patrick Eaves\", \"Neal Pionk\", \"T.J. Oshie\", \"Steven Stamkos\", \"Niklas Hjalmarsson\", \"John Tavares\", \"Claude Giroux\", \"Troy Brouwer\", \"Chad Ruhwedel\", \"John Klingberg\", \"Kris Letang\", \"Torey Krug\", \"Oscar Klefbom\", \"Nikita Zaitsev\", \"Ondrej Palat\", \"Joe Pavelski\", \"Jamie Benn\", \"Ryan O'Reilly\", \"Jason Spezza\", \"Kevin Shattenkirk\", \"Tyler Seguin\", \"Victor Hedman\", \"Bryan Rust\", \"Kyle Connor\", \"Wayne Simmonds\", \"Yanni Gourde\", \"Ryan Nugent-Hopkins\", \"Leon Draisaitl\", \"John Carlson\", \"Johan Larsson\", \"Brayden Schenn\", \"David Backes\", \"Marcus Johansson\", \"Kimmo Timonen\", \"Darren Helm\", \"Mark Letestu\", \"Tyler Bozak\", \"Nate Schmidt\", \"J.T. Miller\", \"Casey Cizikas\", \"Alexander Steen\", \"Logan Couture\", \"Jack Eichel\", \"Brent Burns\", \"Dave Bolland\", \"Erik Haula\", \"Blake Wheeler\", \"Patrick Marleau\", \"Alex Chiasson\", \"Mike Matheson\", \"Sean Monahan\", \"Kyle Palmieri\", \"Nathan MacKinnon\", \"Paul Stastny\", \"J.T. Compher\", \"Morgan Rielly\", \"Nic Dowd\", \"Chris Kunitz\", \"Jacob Josefson\", \"Matt Niskanen\", \"James van Riemsdyk\", \"Travis Zajac\", \"Tyler Johnson\", \"Leo Komarov\", \"Mikhail Sergachev\", \"Keith Yandle\", \"David Legwand\", \"Mark Stone\", \"Aleksander Barkov\", \"Mark Scheifele\", \"Jared Spurgeon\", \"Niklas Kronwall\", \"Taylor Hall\", \"Rasmus Ristolainen\", \"Vladimir Tarasenko\", \"Sean Walker\", \"Dustin Byfuglien\", \"Jaden Schwartz\", \"Josh Jooris\", \"Jonathan Toews\", \"Gabriel Landeskog\", \"Mark Giordano\", \"Teuvo Teravainen\", \"David Krejci\", \"Jonathan Huberdeau\", \"Jake Guentzel\", \"David Perron\", \"Ryan Johansen\", \"Mats Zuccarello\", \"Chris Phillips\", \"Sebastian Aho\", \"Mark Streit\", \"Mika Zibanejad\", \"Shane Doan\", \"Yannick Weber\", \"Zdeno Chara\", \"Elias Lindholm\", \"Alexander Edler\", \"James Wisniewski\", \"Filip Forsberg\", \"Matt Grzelcyk\", \"Tomas Hertl\", \"Colton Sissons\", \"Justin Abdelkader\", \"Antoine Vermette\", \"Mikko Koivu\", \"Anze Kopitar\", \"Andy Greene\", \"Fedor Tyutin\", \"Max Pacioretty\", \"Jordan Greenway\", \"Alexander Wennberg\", \"Jeff Carter\", \"Corey Perry\", \"Clarke MacArthur\", \"Ryan White\", \"Alex Pietrangelo\", \"Tyson Barrie\", \"Justin Schultz\", \"Radim Vrbata\", \"Mike Green\", \"Nick Foligno\", \"Mike Fisher\", \"Henrik Sedin\", \"Reilly Smith\", \"Alex Killorn\", \"Jason Zucker\", \"Henri Jokiharju\", \"Martin Hanzal\", \"Pavel Zacha\", \"Steven Kampfer\", \"Rickard Rakell\", \"Ethan Bear\", \"Ryan Callahan\", \"Jack Johnson\", \"Justin Faulk\", \"Loui Eriksson\", \"Paul Martin\", \"Colton Parayko\", \"David Schlemko\", \"Daniel Sedin\", \"Joel Ward\", \"Frans Nielsen\", \"Jordan Staal\", \"Zach Werenski\", \"Cam Fowler\", \"Sami Vatanen\", \"Riley Sheahan\", \"Bo Horvat\", \"Mikael Granlund\", \"Zach Parise\", \"Cam Atkinson\", \"Shea Theodore\", \"Brent Seabrook\", \"Darnell Nurse\", \"Roman Josi\", \"Kevin Hayes\", \"Drew Doughty\", \"Shea Weber\", \"Ryan Suter\", \"Jakob Chychrun\", \"Andrei Markov\", \"Bryan Little\", \"Vladislav Namestnikov\", \"Viktor Arvidsson\", \"Sami Salo\", \"Lauri Korpikoski\", \"Paul Byron\", \"Kyle Turris\", \"Sean Couturier\", \"Tanner Pearson\", \"Derek Stepan\", \"Derick Brassard\", \"Rick Nash\", \"Dougie Hamilton\", \"David Savard\", \"P.K. Subban\", \"Adam Henrique\", \"Jordan Eberle\", \"Eric Staal\", \"Nick Schmaltz\", \"Marian Hossa\", \"Andreas Athanasiou\", \"Josh Morrissey\", \"Oliver Ekman-Larsson\", \"Justin Williams\", \"Ryan McDonagh\", \"Erik Karlsson\", \"Nick Holden\", \"Jay Harrison\", \"Victor Rask\", \"Matt Cullen\", \"Brian Boyle\", \"Matt Dumba\", \"Jake Gardiner\", \"Jori Lehtera\", \"Mikkel Boedker\", \"Mattias Janmark\", \"Riley Nash\", \"Nick Leddy\", \"Dustin Brown\", \"Aaron Ekblad\", \"Carl Soderberg\", \"Patrik Elias\", \"Alec Martinez\", \"Ryan Getzlaf\", \"Duncan Keith\", \"Michael Stone\", \"Kris Russell\", \"Andrew MacDonald\", \"Tyler Toffoli\", \"Timo Meier\", \"Cody Franson\", \"Alexander Burmistrov\", \"Ryan Kesler\", \"Vincent Trocheck\", \"Gustav Forsling\", \"Maxime Lajoie\", \"Logan Shaw\", \"Artem Anisimov\", \"Tomas Plekanec\", \"Andrej Sekera\", \"William Karlsson\", \"Olli Maatta\", \"Dan Girardi\", \"Boyd Gordon\", \"Barclay Goodrow\", \"Johnny Boychuk\", \"Calle Jarnkrok\", \"Jonas Brodin\", \"Andrew Shaw\", \"Joel Armia\", \"Adam Lowry\", \"Jacob Trouba\", \"Damon Severson\", \"Milan Michalek\", \"Brady Skjei\", \"Matt Beleskey\", \"Dennis Wideman\", \"Josh Bailey\", \"Vernon Fiddler\", \"Jamie McBain\", \"Ryan Strome\", \"Jeff Petry\", \"Dan Boyle\", \"Lucas Wallmark\", \"Brooks Laich\", \"Colin Miller\", \"Evander Kane\", \"Chris Tierney\", \"Ryan Smyth\", \"Jussi Jokinen\", \"Ryan Pulock\", \"Hampus Lindholm\", \"Tom Wilson\", \"Gustav Nyquist\", \"Jake Muzzin\", \"Ryan Murray\", \"Teddy Purcell\", \"Benoit Pouliot\", \"Christopher Tanev\", \"Nick Ritchie\", \"Matt Duchene\", \"Christian Ehrhoff\", \"Jon Merrill\", \"Oscar Fantenberg\", \"Esa Lindell\", \"Alex Tanguay\", \"Anthony Beauvillier\", \"Michael Cammalleri\", \"Erik Johnson\", \"Alex Iafallo\", \"Devin Shore\", \"Evan Rodrigues\", \"David Moss\", \"Connor Brown\", \"Anton Lander\", \"Andrew Ladd\", \"Jordan Martinook\", \"Dion Phaneuf\", \"Rasmus Andersson\", \"Brett Howden\", \"Miro Heiskanen\", \"Artturi Lehkonen\", \"Derek Grant\", \"Charlie Coyle\", \"Matt Hunwick\", \"Valtteri Filppula\", \"Brian Gionta\", \"Tyler Myers\", \"Noah Hanifin\", \"Drake Caggiula\", \"Brett Pesce\", \"Lee Stempniak\", \"Jakob Silfverberg\", \"Jesper Bratt\", \"Alex Goligoski\", \"Seth Jones\", \"R.J. Umberger\", \"Matt Calvert\", \"Mattias Ekholm\", \"Colton Sceviour\", \"Dylan Larkin\", \"Jason Garrison\", \"TJ Brodie\", \"Curtis Lazar\", \"Markus Granlund\", \"Martin St. Louis\", \"Nick Bjugstad\", \"Oscar Lindberg\", \"Zach Hyman\", \"Phillip Danault\", \"Thomas Chabot\", \"Nico Hischier\", \"Jason Pominville\", \"Mikael Backlund\", \"Jimmy Vesey\", \"Shawn Horcoff\", \"Filip Hronek\", \"Adrian Kempe\", \"Trevor Lewis\", \"Marcus Pettersson\", \"Anton Stralman\", \"Matt Irwin\", \"Ben Hutton\", \"Brock Nelson\", \"Nikita Zadorov\", \"John-Michael Liles\", \"Brayden McNabb\", \"Antoine Roussel\", \"Jason Chimera\", \"Chandler Stephenson\", \"Patrick Wiercioch\", \"Boone Jenner\", \"Marco Scandella\", \"Michael Del Zotto\", \"Scott Wilson\", \"Tobias Rieder\", \"Nick Spaling\", \"Charlie McAvoy\", \"Nathan Beaulieu\", \"Derek Ryan\", \"Ryan Ellis\", \"Frank Vatrano\", \"Marc-Edouard Vlasic\", \"John Mitchell\", \"Anthony Duclair\", \"Francois Beauchemin\", \"Dylan DeMelo\", \"Mike Santorelli\", \"Mason Raymond\", \"Jay Bouwmeester\", \"Matt Carle\", \"Nick Bonino\", \"Ivan Provorov\", \"Drew Stafford\", \"Oskar Sundqvist\", \"Trevor Daley\", \"Tommy Wingels\", \"Jason Demers\", \"Toby Enstrom\", \"Jordan Oesterle\", \"Kevin Bieksa\", \"Radek Faksa\", \"Vinnie Hinostroza\", \"Eric Fehr\", \"Christian Dvorak\", \"Nathan Gerbe\", \"Brandon Saad\", \"Slava Voynov\", \"Oskar Lindblom\", \"Jaccob Slavin\", \"Kasperi Kapanen\", \"Matt Benning\", \"Travis Hamonic\", \"Dmitry Kulikov\", \"Joe Colborne\", \"Josh Anderson\", \"Brandon Dubinsky\", \"Dmitry Orlov\", \"Jiri Tlusty\", \"Radko Gudas\", \"Colin Greening\", \"John Moore\", \"Sam Bennett\", \"Jarret Stoll\", \"Brendan Smith\", \"Alexandre Burrows\", \"Scottie Upshall\", \"Patrik Berglund\", \"Richard Panik\", \"Matt Nieto\", \"Martin Erat\", \"Brian Campbell\", \"Jean-Gabriel Pageau\", \"Luke Kunin\", \"Rich Peverley\", \"Andre Benoit\", \"Matt Read\", \"Michael Frolik\", \"Mark Arcobello\", \"Peter Holland\", \"Lars Eller\", \"Trevor van Riemsdyk\", \"Vladimir Sobotka\", \"Jared McCann\", \"Blake Comeau\", \"Kevin Connauton\", \"Connor Carrick\", \"Calvin de Haan\", \"Ian Cole\", \"Cody Ceci\", \"Nikita Soshnikov\", \"Zack Smith\", \"Blake Lizotte\", \"Matt Martin\", \"Travis Sanheim\", \"Brandon Montour\", \"Jake McCabe\", \"Troy Stecher\", \"Jordie Benn\", \"Olli Jokinen\", \"Victor Mete\", \"Brian Flynn\", \"Zemgus Girgensons\", \"Brandon Sutter\", \"Nicholas Shore\", \"Jujhar Khaira\", \"Marc Staal\", \"Zach Sanford\", \"Austin Czarnik\", \"Nikita Nikitin\", \"Mike Richards\", \"Marcus Foligno\", \"Cody Eakin\", \"Justin Braun\", \"Brock McGinn\", \"Mark Barberio\", \"Zach Trotman\", \"Zack Kassian\", \"Ryan Hartman\", \"Jannik Hansen\", \"Danny DeKeyser\", \"Steve Ott\", \"Sergey Kalinin\", \"Brian Dumoulin\", \"Dale Weise\", \"Mikhail Grigorenko\", \"Zach Bogosian\", \"Andrej Meszaros\", \"Alexei Emelin\", \"Ron Hainsey\", \"Stephen Johns\", \"Brandon Manning\", \"Tom Gilbert\", \"Erik Gudbranson\", \"Valeri Nichushkin\", \"Dainius Zubrus\", \"Grant Clitsome\", \"Adam Larsson\", \"MacKenzie Weegar\", \"Raphael Diaz\", \"Tomas Fleischmann\", \"Dan Hamhuis\", \"Justin Fontaine\", \"Michael Raffl\", \"Chris Higgins\", \"Marcel Goc\", \"Marc Methot\", \"Thomas Hickey\", \"Kevin Gravel\", \"Connor Murphy\", \"Mark Jankowski\", \"Mark Pysyk\", \"Cal Clutterbuck\", \"Dwight King\", \"Simon Despres\", \"Andrew Copp\", \"Michal Rozsival\", \"Melker Karlsson\", \"Josh Gorges\", \"Dennis Seidenberg\", \"Shawn Matthias\", \"Carl Hagelin\", \"Devante Smith-Pelly\", \"Cody McLeod\", \"Andrew Cogliano\", \"Tomas Kopecky\", \"Daniel Cleary\"], \"legendgroup\": \"\", \"marker\": {\"color\": \"#636efa\", \"opacity\": 0.75, \"size\": [300, 295, 162, 533, 127, 510, 514, 543, 246, 168, 351, 219, 172, 511, 430, 474, 523, 556, 484, 163, 425, 423, 520, 378, 281, 482, 551, 551, 539, 512, 478, 538, 504, 308, 249, 542, 254, 502, 422, 523, 392, 548, 456, 465, 93, 448, 385, 495, 396, 478, 474, 481, 483, 354, 549, 101, 405, 559, 558, 512, 299, 541, 491, 525, 478, 223, 517, 251, 441, 224, 539, 497, 520, 520, 415, 228, 563, 242, 445, 479, 508, 491, 438, 456, 493, 469, 109, 419, 468, 213, 535, 515, 508, 428, 487, 488, 243, 510, 553, 509, 106, 310, 295, 497, 294, 382, 498, 525, 442, 145, 453, 197, 453, 322, 482, 376, 492, 551, 538, 266, 517, 154, 415, 476, 471, 149, 224, 534, 512, 434, 345, 447, 512, 292, 390, 537, 547, 445, 107, 282, 266, 150, 443, 89, 352, 529, 524, 469, 286, 386, 276, 400, 373, 529, 482, 300, 484, 426, 511, 446, 513, 465, 509, 264, 515, 350, 532, 450, 555, 462, 552, 234, 306, 439, 425, 335, 71, 273, 414, 492, 524, 457, 527, 530, 342, 510, 522, 511, 548, 529, 550, 249, 291, 303, 288, 545, 509, 493, 503, 489, 123, 405, 443, 496, 411, 532, 307, 453, 297, 504, 544, 542, 458, 546, 150, 465, 497, 531, 419, 482, 354, 515, 263, 307, 154, 423, 427, 122, 62, 215, 473, 403, 425, 410, 427, 439, 220, 276, 479, 459, 510, 445, 295, 408, 478, 430, 198, 314, 268, 234, 536, 297, 142, 491, 524, 214, 167, 210, 301, 452, 436, 72, 372, 234, 502, 522, 530, 523, 347, 251, 334, 422, 294, 527, 176, 356, 124, 308, 166, 286, 300, 447, 227, 288, 199, 139, 324, 148, 418, 374, 448, 160, 136, 150, 291, 259, 533, 244, 535, 331, 447, 389, 222, 350, 347, 510, 185, 550, 524, 180, 451, 535, 452, 389, 318, 530, 284, 335, 155, 428, 252, 302, 339, 205, 209, 472, 520, 304, 212, 111, 256, 471, 175, 505, 321, 341, 548, 356, 215, 441, 480, 397, 209, 218, 489, 491, 407, 193, 434, 211, 184, 364, 302, 463, 274, 516, 279, 353, 364, 269, 198, 172, 476, 211, 514, 315, 398, 201, 437, 368, 453, 317, 209, 347, 351, 246, 346, 246, 238, 540, 88, 134, 377, 202, 248, 454, 445, 279, 267, 401, 451, 170, 457, 133, 433, 364, 231, 430, 344, 345, 359, 444, 472, 149, 326, 426, 131, 62, 140, 328, 501, 138, 241, 545, 364, 228, 310, 491, 314, 230, 406, 474, 496, 87, 462, 66, 491, 200, 243, 340, 286, 488, 144, 171, 249, 489, 393, 299, 218, 504, 157, 121, 119, 174, 504, 508, 534, 308, 270, 91, 442, 314, 308, 430, 234, 121, 347, 395, 192, 347, 112, 351, 541, 167, 245, 208, 414, 288, 206, 56, 445, 172, 119, 222, 472, 197, 470, 188, 148, 302, 410, 109, 444, 208, 398, 478, 285, 142, 356, 180, 396, 289, 278, 298, 492, 339, 380, 554, 113, 69], \"sizemode\": \"area\", \"sizeref\": 5.63, \"symbol\": \"circle\"}, \"mode\": \"markers\", \"name\": \"\", \"orientation\": \"v\", \"showlegend\": false, \"type\": \"scatter\", \"x\": [10.27, 10.18, 10.03, 9.99, 9.98, 9.98, 9.55, 9.49, 9.43, 9.4, 9.31, 9.26, 9.21, 9.12, 9.04, 9.01, 8.9, 8.89, 8.87, 8.83, 8.82, 8.78, 8.77, 8.77, 8.76, 8.67, 8.63, 8.62, 8.59, 8.58, 8.56, 8.55, 8.55, 8.52, 8.48, 8.48, 8.47, 8.46, 8.44, 8.41, 8.35, 8.34, 8.33, 8.23, 8.2, 8.14, 8.13, 8.13, 8.11, 8.09, 8.09, 8.08, 8.08, 8.06, 8.05, 8.05, 8.04, 8.0, 7.96, 7.96, 7.95, 7.95, 7.94, 7.93, 7.9, 7.87, 7.87, 7.85, 7.85, 7.84, 7.84, 7.82, 7.82, 7.81, 7.81, 7.8, 7.77, 7.77, 7.75, 7.74, 7.73, 7.73, 7.7, 7.68, 7.67, 7.67, 7.67, 7.65, 7.62, 7.59, 7.59, 7.54, 7.54, 7.53, 7.49, 7.49, 7.48, 7.47, 7.46, 7.43, 7.4, 7.37, 7.36, 7.36, 7.36, 7.34, 7.34, 7.34, 7.32, 7.31, 7.3, 7.3, 7.3, 7.3, 7.29, 7.28, 7.28, 7.28, 7.27, 7.24, 7.23, 7.23, 7.23, 7.19, 7.19, 7.19, 7.18, 7.18, 7.15, 7.15, 7.14, 7.14, 7.13, 7.12, 7.11, 7.1, 7.09, 7.08, 7.08, 7.07, 7.07, 7.05, 7.05, 7.05, 7.05, 7.04, 7.02, 7.01, 6.99, 6.99, 6.99, 6.97, 6.96, 6.96, 6.95, 6.94, 6.94, 6.93, 6.93, 6.93, 6.92, 6.92, 6.92, 6.91, 6.91, 6.9, 6.89, 6.88, 6.88, 6.88, 6.88, 6.87, 6.87, 6.86, 6.86, 6.85, 6.85, 6.84, 6.83, 6.83, 6.82, 6.8, 6.8, 6.8, 6.79, 6.77, 6.77, 6.77, 6.76, 6.76, 6.75, 6.74, 6.73, 6.73, 6.72, 6.71, 6.7, 6.7, 6.69, 6.69, 6.69, 6.67, 6.64, 6.64, 6.62, 6.62, 6.62, 6.61, 6.6, 6.6, 6.59, 6.58, 6.58, 6.55, 6.55, 6.53, 6.53, 6.52, 6.52, 6.51, 6.51, 6.5, 6.49, 6.49, 6.48, 6.47, 6.46, 6.46, 6.46, 6.46, 6.46, 6.43, 6.42, 6.41, 6.41, 6.39, 6.39, 6.38, 6.37, 6.36, 6.35, 6.34, 6.33, 6.33, 6.33, 6.31, 6.3, 6.3, 6.3, 6.29, 6.28, 6.28, 6.26, 6.26, 6.25, 6.24, 6.24, 6.24, 6.24, 6.23, 6.23, 6.21, 6.2, 6.2, 6.2, 6.18, 6.17, 6.17, 6.16, 6.15, 6.14, 6.13, 6.13, 6.13, 6.12, 6.1, 6.1, 6.09, 6.09, 6.09, 6.07, 6.06, 6.04, 6.04, 6.03, 6.02, 6.01, 6.01, 6.01, 6.01, 5.99, 5.98, 5.97, 5.95, 5.94, 5.91, 5.9, 5.9, 5.9, 5.89, 5.89, 5.89, 5.87, 5.86, 5.82, 5.82, 5.8, 5.79, 5.79, 5.78, 5.77, 5.77, 5.77, 5.76, 5.75, 5.75, 5.74, 5.74, 5.73, 5.73, 5.73, 5.73, 5.73, 5.73, 5.72, 5.7, 5.7, 5.7, 5.69, 5.68, 5.68, 5.66, 5.64, 5.64, 5.63, 5.63, 5.61, 5.56, 5.53, 5.51, 5.51, 5.51, 5.5, 5.5, 5.49, 5.48, 5.46, 5.45, 5.43, 5.41, 5.39, 5.39, 5.38, 5.35, 5.32, 5.32, 5.31, 5.31, 5.3, 5.28, 5.28, 5.27, 5.27, 5.26, 5.26, 5.21, 5.21, 5.17, 5.16, 5.16, 5.15, 5.14, 5.13, 5.12, 5.12, 5.12, 5.11, 5.1, 5.09, 5.09, 5.08, 5.07, 5.07, 5.07, 5.06, 5.06, 5.06, 5.05, 5.04, 5.03, 5.0, 4.99, 4.99, 4.96, 4.96, 4.95, 4.94, 4.93, 4.91, 4.91, 4.89, 4.86, 4.82, 4.78, 4.77, 4.74, 4.74, 4.72, 4.71, 4.69, 4.67, 4.65, 4.64, 4.62, 4.62, 4.61, 4.6, 4.59, 4.59, 4.58, 4.56, 4.54, 4.53, 4.52, 4.52, 4.5, 4.48, 4.48, 4.48, 4.47, 4.47, 4.46, 4.46, 4.45, 4.41, 4.37, 4.33, 4.31, 4.27, 4.27, 4.25, 4.22, 4.18, 4.15, 4.14, 4.13, 4.13, 4.12, 4.08, 4.06, 4.06, 4.03, 4.0, 3.97, 3.97, 3.97, 3.95, 3.92, 3.9, 3.9, 3.66, 3.57, 3.54, 3.51, 3.49, 3.32, 3.32, 3.31, 3.29, 3.27, 3.27, 3.18, 3.16, 3.1, 3.1, 3.07, 3.07, 3.0, 2.96, 2.93, 2.92, 2.89, 2.88, 2.85, 2.72, 2.72, 2.64, 2.61, 2.45, 2.44, 2.38, 2.38, 2.35, 2.28, 2.18, 2.15, 2.12, 2.02, 1.57, 0.75], \"xaxis\": \"x\", \"y\": [765.62, 842.43, 71.77, 1164.63, 66.15, 1443.6, 1897.62, 1846.1, 95.47, 89.38, 1141.13, 479.73, 351.87, 1552.4, 1513.03, 53.25, 1698.63, 1970.52, 967.7, 61.17, 1326.05, 1502.73, 1669.27, 862.47, 191.85, 1024.8, 1786.68, 1712.55, 1600.33, 1336.2, 1339.1, 1754.52, 1474.45, 246.53, 750.07, 1755.63, 333.08, 1375.85, 1258.7, 1683.62, 165.25, 1639.9, 979.28, 1289.63, 270.72, 250.75, 612.55, 1240.57, 325.72, 956.67, 51.92, 1210.25, 1515.07, 1213.08, 1826.45, 104.4, 358.27, 1754.2, 1507.65, 920.05, 203.65, 1622.73, 1238.88, 1672.25, 1146.63, 533.37, 1052.38, 114.63, 825.63, 214.35, 888.05, 1388.2, 1105.53, 1198.12, 384.17, 392.12, 1992.77, 424.87, 1200.4, 1449.33, 1474.05, 1095.03, 1160.82, 1359.22, 1384.33, 1298.78, 62.6, 1411.22, 1150.25, 55.3, 1636.12, 1559.68, 1560.6, 996.3, 1185.85, 1410.6, 497.6, 1276.95, 1584.0, 1315.78, 105.4, 830.28, 864.17, 1345.4, 742.17, 294.27, 514.97, 1389.65, 1147.25, 484.08, 1257.33, 279.47, 961.93, 263.17, 888.92, 815.77, 1351.42, 1607.87, 363.1, 140.95, 1426.4, 74.67, 887.75, 1259.48, 1310.67, 400.77, 100.3, 1438.02, 1643.8, 1174.27, 907.63, 1151.97, 1161.75, 690.68, 1207.03, 1157.6, 1209.45, 643.95, 50.85, 712.72, 432.85, 59.55, 953.05, 85.15, 630.17, 682.2, 1332.43, 890.55, 283.15, 583.47, 360.47, 1247.73, 543.17, 1199.05, 966.92, 777.73, 1358.13, 1169.12, 502.3, 1030.92, 1247.67, 1369.27, 1240.4, 694.55, 1128.7, 286.8, 1627.95, 627.87, 1814.17, 1360.8, 1823.68, 410.22, 1056.97, 1048.8, 786.87, 683.28, 140.17, 193.05, 272.3, 1300.23, 1178.42, 705.45, 1305.3, 1253.52, 804.0, 1205.48, 390.03, 1747.05, 1268.32, 1348.93, 1458.4, 551.63, 614.95, 481.45, 294.48, 2040.05, 1102.02, 931.92, 1963.47, 394.55, 98.65, 818.87, 262.0, 542.4, 924.0, 1178.75, 444.3, 998.97, 236.45, 281.98, 1393.12, 1066.43, 1048.58, 998.62, 357.47, 853.95, 1470.17, 1425.97, 533.95, 543.4, 359.3, 996.18, 397.42, 702.47, 148.08, 1038.75, 1067.33, 92.83, 92.85, 65.03, 957.35, 643.4, 747.75, 599.1, 346.45, 263.07, 75.17, 75.23, 489.97, 386.85, 396.92, 1021.88, 407.3, 255.75, 834.17, 874.12, 447.58, 238.12, 352.58, 601.27, 1155.17, 86.05, 278.07, 1016.7, 1007.27, 605.42, 173.07, 115.4, 577.32, 1030.38, 356.4, 183.63, 793.77, 406.58, 890.87, 242.8, 1429.6, 1040.83, 457.43, 634.55, 507.78, 185.93, 283.88, 1370.92, 450.83, 186.73, 68.82, 374.43, 394.23, 354.95, 711.55, 742.6, 347.48, 417.22, 228.8, 59.85, 359.33, 159.72, 989.1, 79.93, 1121.33, 200.73, 110.6, 292.2, 252.6, 111.6, 955.35, 50.85, 1190.62, 580.68, 896.5, 672.78, 194.27, 163.7, 525.7, 783.5, 383.02, 1202.35, 1192.22, 259.43, 197.62, 624.3, 239.32, 906.02, 417.42, 1012.37, 83.58, 387.08, 481.32, 816.23, 94.18, 104.65, 261.75, 555.18, 524.5, 1051.92, 926.08, 400.22, 231.87, 264.3, 391.17, 127.25, 148.92, 606.55, 202.57, 512.0, 1134.05, 150.95, 401.57, 141.45, 228.67, 217.95, 54.5, 349.28, 743.6, 252.05, 439.55, 66.02, 430.63, 110.9, 300.65, 334.12, 502.0, 964.35, 349.42, 598.2, 203.4, 712.52, 509.63, 193.28, 136.45, 318.78, 330.37, 182.63, 878.95, 621.77, 749.05, 58.03, 592.78, 279.2, 605.35, 641.65, 280.63, 444.9, 234.35, 187.67, 93.98, 470.42, 318.2, 979.28, 248.08, 189.23, 390.57, 165.83, 130.38, 284.48, 462.73, 403.62, 249.83, 596.18, 407.62, 264.27, 84.13, 108.82, 399.33, 509.47, 194.22, 121.7, 561.92, 158.92, 441.5, 568.12, 174.15, 213.57, 917.45, 341.43, 113.92, 127.1, 267.3, 396.83, 385.05, 154.8, 297.65, 532.28, 104.0, 247.32, 325.93, 274.33, 235.33, 104.7, 157.82, 92.43, 357.53, 53.07, 384.92, 66.63, 53.52, 160.8, 415.5, 134.12, 281.75, 188.28, 175.05, 94.33, 67.97, 233.27, 540.57, 69.63, 56.22, 56.22, 70.53, 170.48, 129.33, 303.35, 188.58, 595.12, 203.5, 58.2, 147.1, 59.12, 133.03, 119.15, 135.0, 317.27, 166.25, 121.05, 136.62, 198.83, 277.12, 323.42, 147.55, 67.2, 135.73, 68.35, 51.58, 252.65, 162.77, 307.77, 54.67, 54.98, 73.4, 56.62, 152.1, 328.55, 483.73, 97.77, 176.08, 280.4, 80.98, 61.5, 123.47, 62.2, 124.93, 84.2, 110.2, 243.05, 113.63, 68.85, 97.82, 73.68, 100.75, 75.78, 51.07, 78.78, 55.07, 195.75, 56.52, 59.48, 76.63, 79.62], \"yaxis\": \"y\"}],                        {\"height\": 800, \"legend\": {\"itemsizing\": \"constant\", \"tracegroupgap\": 0}, \"shapes\": [{\"type\": \"line\", \"x0\": 0, \"x1\": 1, \"xref\": \"x domain\", \"y0\": 619.0, \"y1\": 619.0, \"yref\": \"y\"}, {\"type\": \"line\", \"x0\": 6.0, \"x1\": 6.0, \"xref\": \"x\", \"y0\": 0, \"y1\": 1, \"yref\": \"y domain\"}, {\"line\": {\"color\": \"red\", \"dash\": \"dash\"}, \"type\": \"line\", \"x0\": 0, \"x1\": 1, \"xref\": \"x domain\", \"y0\": 1600.7069999999997, \"y1\": 1600.7069999999997, \"yref\": \"y\"}, {\"line\": {\"color\": \"red\", \"dash\": \"dash\"}, \"type\": \"line\", \"x0\": 8.674499999999995, \"x1\": 8.674499999999995, \"xref\": \"x\", \"y0\": 0, \"y1\": 1, \"yref\": \"y domain\"}], \"template\": {\"data\": {\"bar\": [{\"error_x\": {\"color\": \"#2a3f5f\"}, \"error_y\": {\"color\": \"#2a3f5f\"}, \"marker\": {\"line\": {\"color\": \"#E5ECF6\", \"width\": 0.5}}, \"type\": \"bar\"}], \"barpolar\": [{\"marker\": {\"line\": {\"color\": \"#E5ECF6\", \"width\": 0.5}}, \"type\": \"barpolar\"}], \"carpet\": [{\"aaxis\": {\"endlinecolor\": \"#2a3f5f\", \"gridcolor\": \"white\", \"linecolor\": \"white\", \"minorgridcolor\": \"white\", \"startlinecolor\": \"#2a3f5f\"}, \"baxis\": {\"endlinecolor\": \"#2a3f5f\", \"gridcolor\": \"white\", \"linecolor\": \"white\", \"minorgridcolor\": \"white\", \"startlinecolor\": \"#2a3f5f\"}, \"type\": \"carpet\"}], \"choropleth\": [{\"colorbar\": {\"outlinewidth\": 0, \"ticks\": \"\"}, \"type\": \"choropleth\"}], \"contour\": [{\"colorbar\": {\"outlinewidth\": 0, \"ticks\": \"\"}, \"colorscale\": [[0.0, \"#0d0887\"], [0.1111111111111111, \"#46039f\"], [0.2222222222222222, \"#7201a8\"], [0.3333333333333333, \"#9c179e\"], [0.4444444444444444, \"#bd3786\"], [0.5555555555555556, \"#d8576b\"], [0.6666666666666666, \"#ed7953\"], [0.7777777777777778, \"#fb9f3a\"], [0.8888888888888888, \"#fdca26\"], [1.0, \"#f0f921\"]], \"type\": \"contour\"}], \"contourcarpet\": [{\"colorbar\": {\"outlinewidth\": 0, \"ticks\": \"\"}, \"type\": \"contourcarpet\"}], \"heatmap\": [{\"colorbar\": {\"outlinewidth\": 0, \"ticks\": \"\"}, \"colorscale\": [[0.0, \"#0d0887\"], [0.1111111111111111, \"#46039f\"], [0.2222222222222222, \"#7201a8\"], [0.3333333333333333, \"#9c179e\"], [0.4444444444444444, \"#bd3786\"], [0.5555555555555556, \"#d8576b\"], [0.6666666666666666, \"#ed7953\"], [0.7777777777777778, \"#fb9f3a\"], [0.8888888888888888, \"#fdca26\"], [1.0, \"#f0f921\"]], \"type\": \"heatmap\"}], \"heatmapgl\": [{\"colorbar\": {\"outlinewidth\": 0, \"ticks\": \"\"}, \"colorscale\": [[0.0, \"#0d0887\"], [0.1111111111111111, \"#46039f\"], [0.2222222222222222, \"#7201a8\"], [0.3333333333333333, \"#9c179e\"], [0.4444444444444444, \"#bd3786\"], [0.5555555555555556, \"#d8576b\"], [0.6666666666666666, \"#ed7953\"], [0.7777777777777778, \"#fb9f3a\"], [0.8888888888888888, \"#fdca26\"], [1.0, \"#f0f921\"]], \"type\": \"heatmapgl\"}], \"histogram\": [{\"marker\": {\"colorbar\": {\"outlinewidth\": 0, \"ticks\": \"\"}}, \"type\": \"histogram\"}], \"histogram2d\": [{\"colorbar\": {\"outlinewidth\": 0, \"ticks\": \"\"}, \"colorscale\": [[0.0, \"#0d0887\"], [0.1111111111111111, \"#46039f\"], [0.2222222222222222, \"#7201a8\"], [0.3333333333333333, \"#9c179e\"], [0.4444444444444444, \"#bd3786\"], [0.5555555555555556, \"#d8576b\"], [0.6666666666666666, \"#ed7953\"], [0.7777777777777778, \"#fb9f3a\"], [0.8888888888888888, \"#fdca26\"], [1.0, \"#f0f921\"]], \"type\": \"histogram2d\"}], \"histogram2dcontour\": [{\"colorbar\": {\"outlinewidth\": 0, \"ticks\": \"\"}, \"colorscale\": [[0.0, \"#0d0887\"], [0.1111111111111111, \"#46039f\"], [0.2222222222222222, \"#7201a8\"], [0.3333333333333333, \"#9c179e\"], [0.4444444444444444, \"#bd3786\"], [0.5555555555555556, \"#d8576b\"], [0.6666666666666666, \"#ed7953\"], [0.7777777777777778, \"#fb9f3a\"], [0.8888888888888888, \"#fdca26\"], [1.0, \"#f0f921\"]], \"type\": \"histogram2dcontour\"}], \"mesh3d\": [{\"colorbar\": {\"outlinewidth\": 0, \"ticks\": \"\"}, \"type\": \"mesh3d\"}], \"parcoords\": [{\"line\": {\"colorbar\": {\"outlinewidth\": 0, \"ticks\": \"\"}}, \"type\": \"parcoords\"}], \"pie\": [{\"automargin\": true, \"type\": \"pie\"}], \"scatter\": [{\"marker\": {\"colorbar\": {\"outlinewidth\": 0, \"ticks\": \"\"}}, \"type\": \"scatter\"}], \"scatter3d\": [{\"line\": {\"colorbar\": {\"outlinewidth\": 0, \"ticks\": \"\"}}, \"marker\": {\"colorbar\": {\"outlinewidth\": 0, \"ticks\": \"\"}}, \"type\": \"scatter3d\"}], \"scattercarpet\": [{\"marker\": {\"colorbar\": {\"outlinewidth\": 0, \"ticks\": \"\"}}, \"type\": \"scattercarpet\"}], \"scattergeo\": [{\"marker\": {\"colorbar\": {\"outlinewidth\": 0, \"ticks\": \"\"}}, \"type\": \"scattergeo\"}], \"scattergl\": [{\"marker\": {\"colorbar\": {\"outlinewidth\": 0, \"ticks\": \"\"}}, \"type\": \"scattergl\"}], \"scattermapbox\": [{\"marker\": {\"colorbar\": {\"outlinewidth\": 0, \"ticks\": \"\"}}, \"type\": \"scattermapbox\"}], \"scatterpolar\": [{\"marker\": {\"colorbar\": {\"outlinewidth\": 0, \"ticks\": \"\"}}, \"type\": \"scatterpolar\"}], \"scatterpolargl\": [{\"marker\": {\"colorbar\": {\"outlinewidth\": 0, \"ticks\": \"\"}}, \"type\": \"scatterpolargl\"}], \"scatterternary\": [{\"marker\": {\"colorbar\": {\"outlinewidth\": 0, \"ticks\": \"\"}}, \"type\": \"scatterternary\"}], \"surface\": [{\"colorbar\": {\"outlinewidth\": 0, \"ticks\": \"\"}, \"colorscale\": [[0.0, \"#0d0887\"], [0.1111111111111111, \"#46039f\"], [0.2222222222222222, \"#7201a8\"], [0.3333333333333333, \"#9c179e\"], [0.4444444444444444, \"#bd3786\"], [0.5555555555555556, \"#d8576b\"], [0.6666666666666666, \"#ed7953\"], [0.7777777777777778, \"#fb9f3a\"], [0.8888888888888888, \"#fdca26\"], [1.0, \"#f0f921\"]], \"type\": \"surface\"}], \"table\": [{\"cells\": {\"fill\": {\"color\": \"#EBF0F8\"}, \"line\": {\"color\": \"white\"}}, \"header\": {\"fill\": {\"color\": \"#C8D4E3\"}, \"line\": {\"color\": \"white\"}}, \"type\": \"table\"}]}, \"layout\": {\"annotationdefaults\": {\"arrowcolor\": \"#2a3f5f\", \"arrowhead\": 0, \"arrowwidth\": 1}, \"coloraxis\": {\"colorbar\": {\"outlinewidth\": 0, \"ticks\": \"\"}}, \"colorscale\": {\"diverging\": [[0, \"#8e0152\"], [0.1, \"#c51b7d\"], [0.2, \"#de77ae\"], [0.3, \"#f1b6da\"], [0.4, \"#fde0ef\"], [0.5, \"#f7f7f7\"], [0.6, \"#e6f5d0\"], [0.7, \"#b8e186\"], [0.8, \"#7fbc41\"], [0.9, \"#4d9221\"], [1, \"#276419\"]], \"sequential\": [[0.0, \"#0d0887\"], [0.1111111111111111, \"#46039f\"], [0.2222222222222222, \"#7201a8\"], [0.3333333333333333, \"#9c179e\"], [0.4444444444444444, \"#bd3786\"], [0.5555555555555556, \"#d8576b\"], [0.6666666666666666, \"#ed7953\"], [0.7777777777777778, \"#fb9f3a\"], [0.8888888888888888, \"#fdca26\"], [1.0, \"#f0f921\"]], \"sequentialminus\": [[0.0, \"#0d0887\"], [0.1111111111111111, \"#46039f\"], [0.2222222222222222, \"#7201a8\"], [0.3333333333333333, \"#9c179e\"], [0.4444444444444444, \"#bd3786\"], [0.5555555555555556, \"#d8576b\"], [0.6666666666666666, \"#ed7953\"], [0.7777777777777778, \"#fb9f3a\"], [0.8888888888888888, \"#fdca26\"], [1.0, \"#f0f921\"]]}, \"colorway\": [\"#636efa\", \"#EF553B\", \"#00cc96\", \"#ab63fa\", \"#FFA15A\", \"#19d3f3\", \"#FF6692\", \"#B6E880\", \"#FF97FF\", \"#FECB52\"], \"font\": {\"color\": \"#2a3f5f\"}, \"geo\": {\"bgcolor\": \"white\", \"lakecolor\": \"white\", \"landcolor\": \"#E5ECF6\", \"showlakes\": true, \"showland\": true, \"subunitcolor\": \"white\"}, \"hoverlabel\": {\"align\": \"left\"}, \"hovermode\": \"closest\", \"mapbox\": {\"style\": \"light\"}, \"paper_bgcolor\": \"white\", \"plot_bgcolor\": \"#E5ECF6\", \"polar\": {\"angularaxis\": {\"gridcolor\": \"white\", \"linecolor\": \"white\", \"ticks\": \"\"}, \"bgcolor\": \"#E5ECF6\", \"radialaxis\": {\"gridcolor\": \"white\", \"linecolor\": \"white\", \"ticks\": \"\"}}, \"scene\": {\"xaxis\": {\"backgroundcolor\": \"#E5ECF6\", \"gridcolor\": \"white\", \"gridwidth\": 2, \"linecolor\": \"white\", \"showbackground\": true, \"ticks\": \"\", \"zerolinecolor\": \"white\"}, \"yaxis\": {\"backgroundcolor\": \"#E5ECF6\", \"gridcolor\": \"white\", \"gridwidth\": 2, \"linecolor\": \"white\", \"showbackground\": true, \"ticks\": \"\", \"zerolinecolor\": \"white\"}, \"zaxis\": {\"backgroundcolor\": \"#E5ECF6\", \"gridcolor\": \"white\", \"gridwidth\": 2, \"linecolor\": \"white\", \"showbackground\": true, \"ticks\": \"\", \"zerolinecolor\": \"white\"}}, \"shapedefaults\": {\"line\": {\"color\": \"#2a3f5f\"}}, \"ternary\": {\"aaxis\": {\"gridcolor\": \"white\", \"linecolor\": \"white\", \"ticks\": \"\"}, \"baxis\": {\"gridcolor\": \"white\", \"linecolor\": \"white\", \"ticks\": \"\"}, \"bgcolor\": \"#E5ECF6\", \"caxis\": {\"gridcolor\": \"white\", \"linecolor\": \"white\", \"ticks\": \"\"}}, \"title\": {\"x\": 0.05}, \"xaxis\": {\"automargin\": true, \"gridcolor\": \"white\", \"linecolor\": \"white\", \"ticks\": \"\", \"title\": {\"standoff\": 15}, \"zerolinecolor\": \"white\", \"zerolinewidth\": 2}, \"yaxis\": {\"automargin\": true, \"gridcolor\": \"white\", \"linecolor\": \"white\", \"ticks\": \"\", \"title\": {\"standoff\": 15}, \"zerolinecolor\": \"white\", \"zerolinewidth\": 2}}}, \"title\": {\"text\": \"PP TOI vs PP GF/60\"}, \"width\": 800, \"xaxis\": {\"anchor\": \"y\", \"domain\": [0.0, 1.0], \"title\": {\"text\": \"PP GF/60\"}}, \"yaxis\": {\"anchor\": \"x\", \"domain\": [0.0, 1.0], \"title\": {\"text\": \"PP_TOI\"}}},                        {\"responsive\": true}                    ).then(function(){\n",
       "                            \n",
       "var gd = document.getElementById('a2f7fdc7-0622-4e46-9d0b-8cf89169dfe5');\n",
       "var x = new MutationObserver(function (mutations, observer) {{\n",
       "        var display = window.getComputedStyle(gd).display;\n",
       "        if (!display || display === 'none') {{\n",
       "            console.log([gd, 'removed!']);\n",
       "            Plotly.purge(gd);\n",
       "            observer.disconnect();\n",
       "        }}\n",
       "}});\n",
       "\n",
       "// Listen for the removal of the full notebook cells\n",
       "var notebookContainer = gd.closest('#notebook-container');\n",
       "if (notebookContainer) {{\n",
       "    x.observe(notebookContainer, {childList: true});\n",
       "}}\n",
       "\n",
       "// Listen for the clearing of the current output cell\n",
       "var outputEl = gd.closest('.output');\n",
       "if (outputEl) {{\n",
       "    x.observe(outputEl, {childList: true});\n",
       "}}\n",
       "\n",
       "                        })                };                });            </script>        </div>"
      ]
     },
     "metadata": {},
     "output_type": "display_data"
    }
   ],
   "source": [
    "#Finding the top power play players from the remaining players of our data set. \n",
    "\n",
    "fig = px.scatter(df, x=\"PP GF/60\", y=\"PP_TOI\",hover_name=\"Player\", hover_data=['Pos'], title=\"PP TOI vs PP GF/60\",\n",
    "                 width=800, height=800,size_max=10,size='GP',opacity=.75)  \n",
    "\n",
    "x_mean = round(df[\"PP GF/60\"].mean(), 0)\n",
    "y_mean = round(df[\"PP_TOI\"].mean(), 0)\n",
    "\n",
    "x_unicorn = np.percentile(df[\"PP GF/60\"], 95)\n",
    "y_unicorn = np.percentile(df[\"PP_TOI\"], 95)\n",
    "\n",
    "print('midpoint',x_mean,y_mean)\n",
    "fig.add_hline(y=y_mean).add_vline(x=x_mean).add_hline(\n",
    "    y=y_unicorn, line_dash = 'dash', line_color = 'red').add_vline(\n",
    "    x=x_unicorn, line_dash = 'dash', line_color = 'red')\n",
    "\n",
    "fig.write_html(\"PP TOI vs PP GF per 60.html\")"
   ]
  },
  {
   "cell_type": "code",
   "execution_count": null,
   "metadata": {},
   "outputs": [],
   "source": []
  }
 ],
 "metadata": {
  "kernelspec": {
   "display_name": "Python 3",
   "language": "python",
   "name": "python3"
  },
  "language_info": {
   "codemirror_mode": {
    "name": "ipython",
    "version": 3
   },
   "file_extension": ".py",
   "mimetype": "text/x-python",
   "name": "python",
   "nbconvert_exporter": "python",
   "pygments_lexer": "ipython3",
   "version": "3.7.6"
  }
 },
 "nbformat": 4,
 "nbformat_minor": 4
}
